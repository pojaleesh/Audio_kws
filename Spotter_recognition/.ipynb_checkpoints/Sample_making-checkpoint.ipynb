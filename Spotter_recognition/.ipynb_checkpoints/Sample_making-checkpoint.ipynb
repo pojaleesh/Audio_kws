{
 "cells": [
  {
   "cell_type": "code",
   "execution_count": 1,
   "metadata": {},
   "outputs": [
    {
     "name": "stderr",
     "output_type": "stream",
     "text": [
      "C:\\Users\\Mi Notebook\\Anaconda3\\lib\\site-packages\\pydub\\utils.py:170: RuntimeWarning: Couldn't find ffmpeg or avconv - defaulting to ffmpeg, but may not work\n",
      "  warn(\"Couldn't find ffmpeg or avconv - defaulting to ffmpeg, but may not work\", RuntimeWarning)\n"
     ]
    }
   ],
   "source": [
    "import keras\n",
    "from keras import regularizers\n",
    "from keras.preprocessing import sequence\n",
    "from keras.preprocessing.text import Tokenizer\n",
    "from keras.preprocessing.sequence import pad_sequences\n",
    "from keras.models import Sequential, Model, model_from_json\n",
    "from keras.layers import Dense, Embedding, LSTM\n",
    "from keras.layers import Input, Flatten, Dropout, Activation, BatchNormalization\n",
    "from keras.layers import Conv1D, MaxPooling1D, AveragePooling1D\n",
    "from keras.utils import np_utils, to_categorical\n",
    "from keras.callbacks import ModelCheckpoint\n",
    "\n",
    "from sklearn.metrics import confusion_matrix, accuracy_score, classification_report\n",
    "from sklearn.model_selection import train_test_split\n",
    "from sklearn.preprocessing import LabelEncoder\n",
    "\n",
    "import librosa\n",
    "import librosa.display\n",
    "import json\n",
    "import numpy as np\n",
    "import matplotlib.pyplot as plt\n",
    "import tensorflow as tf\n",
    "from matplotlib.pyplot import specgram\n",
    "import pandas as pd\n",
    "import seaborn as sns\n",
    "import glob \n",
    "import os\n",
    "import pickle\n",
    "import IPython.display as ipd\n",
    "import random\n",
    "from pydub import AudioSegment"
   ]
  },
  {
   "cell_type": "code",
   "execution_count": 2,
   "metadata": {},
   "outputs": [],
   "source": [
    "spotter_data = \"../../spotter_data/\"\n",
    "background_data = \"../../spotter_data/_background_noise_/\"\n",
    "\n",
    "noise_len = 10000\n",
    "Tx_spectogram = 5511\n",
    "Tx_mfcc = 216\n",
    "n_freq = 101\n",
    "Ty = 1375"
   ]
  },
  {
   "cell_type": "code",
   "execution_count": 3,
   "metadata": {},
   "outputs": [],
   "source": [
    "df_target = pd.read_csv('../../Target_words_dataframe')\n",
    "df_unknown = pd.read_csv('../../Unknown_words_dataframe')"
   ]
  },
  {
   "cell_type": "code",
   "execution_count": 4,
   "metadata": {},
   "outputs": [],
   "source": [
    "df_target = df_target.drop(columns=['Unnamed: 0'], axis=1)\n",
    "df_unknown = df_unknown.drop(columns=['Unnamed: 0'], axis=1)"
   ]
  },
  {
   "cell_type": "code",
   "execution_count": 5,
   "metadata": {},
   "outputs": [],
   "source": [
    "background_dir = os.listdir(background_data)"
   ]
  },
  {
   "cell_type": "code",
   "execution_count": 6,
   "metadata": {},
   "outputs": [
    {
     "data": {
      "text/plain": [
       "['doing_the_dishes.wav',\n",
       " 'dude_miaowing.wav',\n",
       " 'exercise_bike.wav',\n",
       " 'pink_noise.wav',\n",
       " 'running_tap.wav',\n",
       " 'white_noise.wav']"
      ]
     },
     "execution_count": 6,
     "metadata": {},
     "output_type": "execute_result"
    }
   ],
   "source": [
    "background_dir"
   ]
  },
  {
   "cell_type": "code",
   "execution_count": 7,
   "metadata": {},
   "outputs": [],
   "source": [
    "def pick_random_background(background_dir):\n",
    "    \n",
    "    return random.choice(background_dir)"
   ]
  },
  {
   "cell_type": "code",
   "execution_count": 8,
   "metadata": {},
   "outputs": [],
   "source": [
    "def pick_random_target_word():\n",
    "    \n",
    "    return random.choice(range(0, df_target.shape[0]))"
   ]
  },
  {
   "cell_type": "code",
   "execution_count": 9,
   "metadata": {},
   "outputs": [],
   "source": [
    "def pick_random_unknown_word():\n",
    "    \n",
    "    return random.choice(range(0, df_unknown.shape[0]))"
   ]
  },
  {
   "cell_type": "code",
   "execution_count": 10,
   "metadata": {},
   "outputs": [],
   "source": [
    "def get_background_segment(audio_clip, noise_len):\n",
    "    \n",
    "    start_ms = 0\n",
    "    \n",
    "    while True:\n",
    "        \n",
    "        ind = random.choice(range(0, len(audio_clip)))\n",
    "        \n",
    "        if ind + noise_len < len(audio_clip):\n",
    "            \n",
    "            return audio_clip[ind: ind + noise_len]"
   ]
  },
  {
   "cell_type": "code",
   "execution_count": 11,
   "metadata": {},
   "outputs": [],
   "source": [
    "def get_random_time_segment(background_len, audio_clip_len):\n",
    "    \n",
    "    start_segment = random.choice(range(0, background_len - audio_clip_len))\n",
    "    \n",
    "    return (start_segment, start_segment + audio_clip_len - 1)"
   ]
  },
  {
   "cell_type": "code",
   "execution_count": 12,
   "metadata": {},
   "outputs": [],
   "source": [
    "def is_intersect(segments, new_segment):\n",
    "    \n",
    "    is_overlapping = False\n",
    "    \n",
    "    segment_start, segment_end = new_segment\n",
    "    \n",
    "    for previous_start, previous_end in segments:\n",
    "        \n",
    "        if segment_start <= previous_end and segment_end >= previous_start:\n",
    "            is_overlapping = True\n",
    "\n",
    "    return is_overlapping"
   ]
  },
  {
   "cell_type": "code",
   "execution_count": 13,
   "metadata": {},
   "outputs": [],
   "source": [
    "def graph_spectogram(path):\n",
    "    \n",
    "    nfft = 200 \n",
    "    fs = 8000 \n",
    "    noverlap = 120 \n",
    "    \n",
    "    data, sample_rate = librosa.load(path, sr=44100)\n",
    "    pxx, freqs, bins, im = plt.specgram(data, nfft, fs, noverlap = noverlap)\n",
    "    \n",
    "    return pxx;"
   ]
  },
  {
   "cell_type": "code",
   "execution_count": 14,
   "metadata": {},
   "outputs": [],
   "source": [
    "def match_target_amplitude(sound, target_dBFS):\n",
    "    \n",
    "    change_in_dBFS = target_dBFS - sound.dBFS\n",
    "    \n",
    "    return sound.apply_gain(change_in_dBFS)"
   ]
  },
  {
   "cell_type": "code",
   "execution_count": 15,
   "metadata": {},
   "outputs": [],
   "source": [
    "def make_sample_1(data_type, noise_len):\n",
    "    \n",
    "    noise = pick_random_background(background_dir)\n",
    "    \n",
    "    data = AudioSegment.from_wav(background_data + noise)\n",
    "    data = data - 20\n",
    "    \n",
    "    X = get_background_segment(data, noise_len)\n",
    "    y = np.zeros((1, Ty))\n",
    "    \n",
    "    segments = []\n",
    "    \n",
    "    cnt = 0\n",
    "    \n",
    "    while (cnt < 3):\n",
    "        \n",
    "        target_word_index = pick_random_target_word()\n",
    "        target_word_path = df_target['path'][target_word_index]\n",
    "        target_word_data = AudioSegment.from_wav(target_word_path)\n",
    "        target_word_segment = get_random_time_segment(len(X), len(target_word_data))\n",
    "        \n",
    "        start_x = target_word_segment[0]\n",
    "        end_x = target_word_segment[1]\n",
    "        end_y = int(end_x * Ty / 10000.0)\n",
    "        \n",
    "        if is_intersect(segments, target_word_segment) == False:\n",
    "            \n",
    "            cnt += 1\n",
    "            segments.append(target_word_segment)\n",
    "            \n",
    "            for j in range(end_y + 1, end_y + 51):\n",
    "                if j < Ty:\n",
    "                    y[0, j] = 1\n",
    "                \n",
    "            X = X.overlay(target_word_data, position = start_x)\n",
    "    \n",
    "    cnt = 0\n",
    "    \n",
    "    while (cnt < 2):\n",
    "        \n",
    "        unknown_word_index = pick_random_unknown_word()\n",
    "        unknown_word_path = df_unknown['path'][unknown_word_index]\n",
    "        unknown_word_data = AudioSegment.from_wav(unknown_word_path)\n",
    "        unknown_word_segment = get_random_time_segment(len(X), len(unknown_word_data))\n",
    "        \n",
    "        start_x = unknown_word_segment[0]\n",
    "        end_x = unknown_word_segment[1]\n",
    "        end_y = int(end_x * Ty / 10000.0)\n",
    "        \n",
    "        if is_intersect(segments, unknown_word_segment) == False:\n",
    "            \n",
    "            cnt += 1\n",
    "            segments.append(unknown_word_segment)\n",
    "            \n",
    "            for j in range(end_y + 1, end_y + 51):\n",
    "                if j < Ty:\n",
    "                    y[0, j] = 1\n",
    "                \n",
    "            X = X.overlay(unknown_word_data, position = start_x)\n",
    "\n",
    "    X = match_target_amplitude(X, -20.0)\n",
    "    save_name = \"train.wav\"\n",
    "    save_path = X.export(save_name, format=\"wav\")\n",
    "    \n",
    "    if data_type == \"spectogram\":\n",
    "    \n",
    "        X = graph_spectogram(save_name)\n",
    "        return X, y\n",
    "    \n",
    "    elif data_type == \"mfcc\":\n",
    "        \n",
    "        X, sample_rate = librosa.load(save_name, res_type='kaiser_fast',duration=10,sr=22050*2,offset=0.5)  \n",
    "        mfcc = librosa.feature.mfcc(y=X, sr=sample_rate, n_mfcc=13)\n",
    "    \n",
    "        return mfcc, y\n",
    "    \n",
    "    else:\n",
    "        \n",
    "        raise TypeError(\"Unknown audio type\")"
   ]
  },
  {
   "cell_type": "code",
   "execution_count": 16,
   "metadata": {},
   "outputs": [],
   "source": [
    "def make_batch_sample_1(count, data_type):\n",
    "    \n",
    "    X, Y = make_sample(data_type)\n",
    "    X = X.T\n",
    "    Y = Y.T\n",
    "    X = np.expand_dims(X, axis=0)\n",
    "    Y = np.expand_dims(Y, axis=0)\n",
    "    \n",
    "    for i in range(0, count - 1):\n",
    "        \n",
    "        newX, newY = make_sample(data_type)\n",
    "        newX = newX.T\n",
    "        newY = newY.T\n",
    "        newX = np.expand_dims(newX, axis=0)\n",
    "        newY = np.expand_dims(newY, axis=0)\n",
    "        \n",
    "        X = np.concatenate((X, newX), axis=0)\n",
    "        Y = np.concatenate((Y, newY), axis=0)\n",
    "    \n",
    "    return X, Y"
   ]
  },
  {
   "cell_type": "code",
   "execution_count": 17,
   "metadata": {},
   "outputs": [],
   "source": [
    "def make_sample_2(noise_len, type_word):\n",
    "    noise = pick_random_background(background_dir)\n",
    "    \n",
    "    data = AudioSegment.from_wav(background_data + noise)\n",
    "    data = data - 20\n",
    "    \n",
    "    X = get_background_segment(data, noise_len)\n",
    "    Y = pd.Series()\n",
    "    \n",
    "    if type_word == \"TARGET\":\n",
    "        \n",
    "        target_word_index = pick_random_target_word()\n",
    "        target_word_path = df_target['path'][target_word_index]\n",
    "        target_word_data = AudioSegment.from_wav(target_word_path)\n",
    "        target_word_segment = get_random_time_segment(len(X), len(target_word_data))\n",
    "        \n",
    "        start_x = target_word_segment[0]\n",
    "        end_x = target_word_segment[1]\n",
    "        \n",
    "        X = X.overlay(target_word_data, position = start_x)\n",
    "        Y = df_target['word'][target_word_index]\n",
    "        \n",
    "    elif type_word == \"UNKNOWN\":\n",
    "        \n",
    "        unknown_word_index = pick_random_unknown_word()\n",
    "        unknown_word_path = df_unknown['path'][unknown_word_index]\n",
    "        unknown_word_data = AudioSegment.from_wav(unknown_word_path)\n",
    "        unknown_word_segment = get_random_time_segment(len(X), len(unknown_word_data))\n",
    "        \n",
    "        start_x = unknown_word_segment[0]\n",
    "        end_x = unknown_word_segment[1]\n",
    "        \n",
    "        X = X.overlay(unknown_word_data, position = start_x)\n",
    "        Y = df_unknown['word'][unknown_word_index]\n",
    "        \n",
    "    else:\n",
    "        \n",
    "        raise TypeError(\"Unknown word type\") \n",
    "        \n",
    "    X = match_target_amplitude(X, -20.0)\n",
    "    save_name = \"train.wav\"\n",
    "    save_path = X.export(save_name, format=\"wav\")\n",
    "    X, sample_rate = librosa.load(save_name, res_type='kaiser_fast',duration=1.1,sr=22050*2,offset=0.5)  \n",
    "    mfcc = librosa.feature.mfcc(y=X, sr=sample_rate, n_mfcc=13)\n",
    "    \n",
    "    return mfcc, Y\n",
    "    "
   ]
  }
 ],
 "metadata": {
  "kernelspec": {
   "display_name": "Python 3",
   "language": "python",
   "name": "python3"
  },
  "language_info": {
   "codemirror_mode": {
    "name": "ipython",
    "version": 3
   },
   "file_extension": ".py",
   "mimetype": "text/x-python",
   "name": "python",
   "nbconvert_exporter": "python",
   "pygments_lexer": "ipython3",
   "version": "3.7.3"
  }
 },
 "nbformat": 4,
 "nbformat_minor": 4
}
