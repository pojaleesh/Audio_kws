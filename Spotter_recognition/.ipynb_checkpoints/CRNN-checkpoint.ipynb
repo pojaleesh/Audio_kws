{
 "cells": [
  {
   "cell_type": "code",
   "execution_count": 27,
   "metadata": {},
   "outputs": [],
   "source": [
    "import keras\n",
    "from keras import regularizers\n",
    "from keras.preprocessing import sequence\n",
    "from keras import optimizers\n",
    "from keras.preprocessing.text import Tokenizer\n",
    "from keras.preprocessing.sequence import pad_sequences\n",
    "from keras.models import Sequential, Model, model_from_json\n",
    "from keras.layers import Dense, Embedding, LSTM, GRU, TimeDistributed\n",
    "from keras.layers import Input, Flatten, Dropout, Activation, BatchNormalization\n",
    "from keras.layers import Convolution2D, MaxPooling2D, AveragePooling2D, ZeroPadding2D, Dropout, MaxPool2D\n",
    "from keras.utils import np_utils, to_categorical\n",
    "from keras.callbacks import ModelCheckpoint\n",
    "\n",
    "import sklearn\n",
    "from sklearn.metrics import confusion_matrix, accuracy_score, classification_report\n",
    "from sklearn.model_selection import train_test_split\n",
    "from sklearn.preprocessing import LabelEncoder\n",
    "\n",
    "import librosa\n",
    "import librosa.display\n",
    "import json\n",
    "import numpy as np\n",
    "import matplotlib.pyplot as plt\n",
    "import tensorflow as tf\n",
    "from matplotlib.pyplot import specgram\n",
    "import pandas as pd\n",
    "import seaborn as sns\n",
    "import glob \n",
    "import os\n",
    "import pickle\n",
    "import IPython.display as ipd\n",
    "import random\n",
    "import import_ipynb\n",
    "import Sample_making\n",
    "from models.cnn import CNN_model"
   ]
  },
  {
   "cell_type": "code",
   "execution_count": 6,
   "metadata": {},
   "outputs": [],
   "source": [
    "df_target = pd.read_csv('../../Target_words_dataframe')\n",
    "df_unknown = pd.read_csv('../../Unknown_words_dataframe')\n",
    "df = pd.read_csv('../../full_df')"
   ]
  },
  {
   "cell_type": "code",
   "execution_count": 7,
   "metadata": {},
   "outputs": [],
   "source": [
    "df_target = df_target.drop(columns=['Unnamed: 0'], axis=1)\n",
    "df_unknown = df_unknown.drop(columns=['Unnamed: 0'], axis=1)"
   ]
  },
  {
   "cell_type": "code",
   "execution_count": 8,
   "metadata": {},
   "outputs": [
    {
     "data": {
      "text/html": [
       "<div>\n",
       "<style scoped>\n",
       "    .dataframe tbody tr th:only-of-type {\n",
       "        vertical-align: middle;\n",
       "    }\n",
       "\n",
       "    .dataframe tbody tr th {\n",
       "        vertical-align: top;\n",
       "    }\n",
       "\n",
       "    .dataframe thead th {\n",
       "        text-align: right;\n",
       "    }\n",
       "</style>\n",
       "<table border=\"1\" class=\"dataframe\">\n",
       "  <thead>\n",
       "    <tr style=\"text-align: right;\">\n",
       "      <th></th>\n",
       "      <th>word</th>\n",
       "      <th>path</th>\n",
       "    </tr>\n",
       "  </thead>\n",
       "  <tbody>\n",
       "    <tr>\n",
       "      <th>0</th>\n",
       "      <td>yes</td>\n",
       "      <td>C:/Users/Mi Notebook/Desktop/PavlodarCapture/s...</td>\n",
       "    </tr>\n",
       "    <tr>\n",
       "      <th>1</th>\n",
       "      <td>yes</td>\n",
       "      <td>C:/Users/Mi Notebook/Desktop/PavlodarCapture/s...</td>\n",
       "    </tr>\n",
       "    <tr>\n",
       "      <th>2</th>\n",
       "      <td>yes</td>\n",
       "      <td>C:/Users/Mi Notebook/Desktop/PavlodarCapture/s...</td>\n",
       "    </tr>\n",
       "    <tr>\n",
       "      <th>3</th>\n",
       "      <td>yes</td>\n",
       "      <td>C:/Users/Mi Notebook/Desktop/PavlodarCapture/s...</td>\n",
       "    </tr>\n",
       "    <tr>\n",
       "      <th>4</th>\n",
       "      <td>yes</td>\n",
       "      <td>C:/Users/Mi Notebook/Desktop/PavlodarCapture/s...</td>\n",
       "    </tr>\n",
       "    <tr>\n",
       "      <th>...</th>\n",
       "      <td>...</td>\n",
       "      <td>...</td>\n",
       "    </tr>\n",
       "    <tr>\n",
       "      <th>64716</th>\n",
       "      <td>unknown</td>\n",
       "      <td>C:/Users/Mi Notebook/Desktop/PavlodarCapture/s...</td>\n",
       "    </tr>\n",
       "    <tr>\n",
       "      <th>64717</th>\n",
       "      <td>unknown</td>\n",
       "      <td>C:/Users/Mi Notebook/Desktop/PavlodarCapture/s...</td>\n",
       "    </tr>\n",
       "    <tr>\n",
       "      <th>64718</th>\n",
       "      <td>unknown</td>\n",
       "      <td>C:/Users/Mi Notebook/Desktop/PavlodarCapture/s...</td>\n",
       "    </tr>\n",
       "    <tr>\n",
       "      <th>64719</th>\n",
       "      <td>unknown</td>\n",
       "      <td>C:/Users/Mi Notebook/Desktop/PavlodarCapture/s...</td>\n",
       "    </tr>\n",
       "    <tr>\n",
       "      <th>64720</th>\n",
       "      <td>unknown</td>\n",
       "      <td>C:/Users/Mi Notebook/Desktop/PavlodarCapture/s...</td>\n",
       "    </tr>\n",
       "  </tbody>\n",
       "</table>\n",
       "<p>64721 rows × 2 columns</p>\n",
       "</div>"
      ],
      "text/plain": [
       "          word                                               path\n",
       "0          yes  C:/Users/Mi Notebook/Desktop/PavlodarCapture/s...\n",
       "1          yes  C:/Users/Mi Notebook/Desktop/PavlodarCapture/s...\n",
       "2          yes  C:/Users/Mi Notebook/Desktop/PavlodarCapture/s...\n",
       "3          yes  C:/Users/Mi Notebook/Desktop/PavlodarCapture/s...\n",
       "4          yes  C:/Users/Mi Notebook/Desktop/PavlodarCapture/s...\n",
       "...        ...                                                ...\n",
       "64716  unknown  C:/Users/Mi Notebook/Desktop/PavlodarCapture/s...\n",
       "64717  unknown  C:/Users/Mi Notebook/Desktop/PavlodarCapture/s...\n",
       "64718  unknown  C:/Users/Mi Notebook/Desktop/PavlodarCapture/s...\n",
       "64719  unknown  C:/Users/Mi Notebook/Desktop/PavlodarCapture/s...\n",
       "64720  unknown  C:/Users/Mi Notebook/Desktop/PavlodarCapture/s...\n",
       "\n",
       "[64721 rows x 2 columns]"
      ]
     },
     "execution_count": 8,
     "metadata": {},
     "output_type": "execute_result"
    }
   ],
   "source": [
    "df"
   ]
  },
  {
   "cell_type": "code",
   "execution_count": 9,
   "metadata": {},
   "outputs": [],
   "source": [
    "filename = 'Data_spotter_mfcc'\n",
    "outfile = open(filename,'rb')\n",
    "X = pickle.load(outfile)\n",
    "outfile.close()"
   ]
  },
  {
   "cell_type": "code",
   "execution_count": 10,
   "metadata": {},
   "outputs": [],
   "source": [
    "def save_model(Model, model_name):\n",
    "    save_dir = os.path.join(os.getcwd(), 'saved_models')\n",
    "\n",
    "    if not os.path.isdir(save_dir):\n",
    "        os.makedirs(save_dir)\n",
    "    model_path = os.path.join(save_dir, model_name)\n",
    "    Model.save(model_path)\n",
    "    print('Save model and weights at %s ' % model_path)\n",
    "\n",
    "    model_json = Model.to_json()\n",
    "    with open(\"model_json.json\", \"w\") as json_file:\n",
    "        json_file.write(model_json)"
   ]
  },
  {
   "cell_type": "code",
   "execution_count": 11,
   "metadata": {},
   "outputs": [],
   "source": [
    "def save_model_history(model_history, model_history_name):\n",
    "    filename = 'saved_models_history/' + model_history_name\n",
    "    outfile = open(filename,'wb')\n",
    "    pickle.dump(model_history, outfile)\n",
    "    outfile.close()"
   ]
  },
  {
   "cell_type": "code",
   "execution_count": 28,
   "metadata": {},
   "outputs": [],
   "source": [
    "def report(model, X, y, classes):\n",
    "    model_predictions = model.predict(X).argmax(axis=1)\n",
    "    true_predictions = y.argmax(axis=1)\n",
    "    return sklearn.metrics.classification_report(true_predictions, model_predictions, target_names=classes)"
   ]
  },
  {
   "cell_type": "code",
   "execution_count": 12,
   "metadata": {},
   "outputs": [],
   "source": [
    "X_train, X_test, Y_train, Y_test = train_test_split(X\n",
    "                                                    , df.word\n",
    "                                                    , test_size=0.1\n",
    "                                                    , shuffle=True\n",
    "                                                    , random_state=42)"
   ]
  },
  {
   "cell_type": "code",
   "execution_count": 13,
   "metadata": {},
   "outputs": [
    {
     "name": "stdout",
     "output_type": "stream",
     "text": [
      "X_train size = (58248, 30, 61)\n",
      "Y_train size = (58248,)\n",
      "X_test size = (6473, 30, 61)\n",
      "Y_test size = (6473,)\n"
     ]
    }
   ],
   "source": [
    "print(f'X_train size = {X_train.shape}')\n",
    "print(f'Y_train size = {Y_train.shape}')\n",
    "print(f'X_test size = {X_test.shape}')\n",
    "print(f'Y_test size = {Y_test.shape}')"
   ]
  },
  {
   "cell_type": "code",
   "execution_count": 14,
   "metadata": {},
   "outputs": [],
   "source": [
    "mean = np.mean(X_train, axis=0)\n",
    "std = np.std(X_train, axis=0)\n",
    "\n",
    "X_train = (X_train - mean) / std\n",
    "X_test = (X_test - mean) / std"
   ]
  },
  {
   "cell_type": "code",
   "execution_count": 15,
   "metadata": {},
   "outputs": [],
   "source": [
    "X_train = np.array(X_train)\n",
    "Y_train = np.array(Y_train)\n",
    "X_test = np.array(X_test)\n",
    "Y_test = np.array(Y_test)"
   ]
  },
  {
   "cell_type": "code",
   "execution_count": 16,
   "metadata": {},
   "outputs": [
    {
     "name": "stdout",
     "output_type": "stream",
     "text": [
      "['down' 'go' 'left' 'no' 'off' 'on' 'right' 'stop' 'unknown' 'up' 'yes']\n"
     ]
    }
   ],
   "source": [
    "lb = LabelEncoder()\n",
    "Y_train = np_utils.to_categorical(lb.fit_transform(Y_train))\n",
    "Y_test = np_utils.to_categorical(lb.fit_transform(Y_test))\n",
    "print(lb.classes_)"
   ]
  },
  {
   "cell_type": "code",
   "execution_count": 17,
   "metadata": {},
   "outputs": [
    {
     "name": "stdout",
     "output_type": "stream",
     "text": [
      "X_train size = (58248, 30, 61, 1)\n",
      "X_test size = (6473, 30, 61, 1)\n"
     ]
    }
   ],
   "source": [
    "X_train = X_train.reshape((X_train.shape[0], X_train.shape[1], X_train.shape[2], 1))\n",
    "X_test = X_test.reshape((X_test.shape[0], X_test.shape[1], X_test.shape[2], 1))\n",
    "print(f'X_train size = {X_train.shape}')\n",
    "print(f'X_test size = {X_test.shape}')"
   ]
  },
  {
   "cell_type": "code",
   "execution_count": 18,
   "metadata": {},
   "outputs": [],
   "source": [
    "def AT_RNN_model(input_shape, nclass):\n",
    "    \n",
    "    input_ = Input(input_shape)\n",
    "    \n",
    "    X = Convolution2D(16, (3, 3), activation=\"relu\", dilation_rate=(1, 1), strides=(1, 1), padding=\"same\")(input_)\n",
    "    X = Convolution2D(16, (5, 3), activation=\"relu\", dilation_rate=(1, 1), strides=(1, 1), padding=\"same\")(X)\n",
    "    \n",
    "    X = GRU(units = 256)(X)\n",
    "    \n",
    "    X = Flatten()(X)\n",
    "    X = Dropout(rate=0.1)(X)\n",
    "    \n",
    "    X = Dense(128, activation=\"linear\")(X)\n",
    "    X = Dense(256, activation=\"relu\")(X)\n",
    "    \n",
    "    output_ = Dense(nclass, activation='softmax')(X)\n",
    "    \n",
    "    ret_model = Model(inputs = input_, outputs=output_)\n",
    "    \n",
    "    return ret_model"
   ]
  },
  {
   "cell_type": "code",
   "execution_count": 19,
   "metadata": {},
   "outputs": [],
   "source": [
    "model = CNN_model((30, 61, 1), len(lb.classes_))"
   ]
  },
  {
   "cell_type": "code",
   "execution_count": 20,
   "metadata": {},
   "outputs": [
    {
     "name": "stdout",
     "output_type": "stream",
     "text": [
      "Model: \"model\"\n",
      "_________________________________________________________________\n",
      "Layer (type)                 Output Shape              Param #   \n",
      "=================================================================\n",
      "input_1 (InputLayer)         [(None, 30, 61, 1)]       0         \n",
      "_________________________________________________________________\n",
      "conv2d (Conv2D)              (None, 30, 61, 64)        640       \n",
      "_________________________________________________________________\n",
      "conv2d_1 (Conv2D)            (None, 30, 61, 64)        61504     \n",
      "_________________________________________________________________\n",
      "conv2d_2 (Conv2D)            (None, 30, 61, 64)        61504     \n",
      "_________________________________________________________________\n",
      "conv2d_3 (Conv2D)            (None, 30, 61, 64)        61504     \n",
      "_________________________________________________________________\n",
      "conv2d_4 (Conv2D)            (None, 30, 61, 128)       82048     \n",
      "_________________________________________________________________\n",
      "conv2d_5 (Conv2D)            (None, 30, 61, 64)        41024     \n",
      "_________________________________________________________________\n",
      "conv2d_6 (Conv2D)            (None, 30, 61, 128)       82048     \n",
      "_________________________________________________________________\n",
      "flatten (Flatten)            (None, 234240)            0         \n",
      "_________________________________________________________________\n",
      "dropout (Dropout)            (None, 234240)            0         \n",
      "_________________________________________________________________\n",
      "dense (Dense)                (None, 128)               29982848  \n",
      "_________________________________________________________________\n",
      "dense_1 (Dense)              (None, 256)               33024     \n",
      "_________________________________________________________________\n",
      "dense_2 (Dense)              (None, 11)                2827      \n",
      "=================================================================\n",
      "Total params: 30,408,971\n",
      "Trainable params: 30,408,971\n",
      "Non-trainable params: 0\n",
      "_________________________________________________________________\n"
     ]
    }
   ],
   "source": [
    "model.summary()"
   ]
  },
  {
   "cell_type": "code",
   "execution_count": 21,
   "metadata": {},
   "outputs": [
    {
     "name": "stdout",
     "output_type": "stream",
     "text": [
      "Epoch 1/5\n",
      "3641/3641 [==============================] - 2782s 764ms/step - loss: 0.1563 - accuracy: 0.6960 - val_loss: 0.0682 - val_accuracy: 0.8620\n",
      "Epoch 2/5\n",
      "3641/3641 [==============================] - 2821s 775ms/step - loss: 0.0565 - accuracy: 0.8862 - val_loss: 0.0501 - val_accuracy: 0.9068\n",
      "Epoch 3/5\n",
      "3641/3641 [==============================] - 2811s 772ms/step - loss: 0.0376 - accuracy: 0.9261 - val_loss: 0.0474 - val_accuracy: 0.9135\n",
      "Epoch 4/5\n",
      "3641/3641 [==============================] - 2815s 773ms/step - loss: 0.0282 - accuracy: 0.9459 - val_loss: 0.0530 - val_accuracy: 0.9048\n",
      "Epoch 5/5\n",
      "3641/3641 [==============================] - 2804s 770ms/step - loss: 0.0237 - accuracy: 0.9544 - val_loss: 0.0541 - val_accuracy: 0.9124\n"
     ]
    }
   ],
   "source": [
    "opt = optimizers.Adam(0.001)\n",
    "model.compile(optimizer = opt, loss = 'binary_crossentropy', metrics = [\"accuracy\"])\n",
    "\n",
    "model_history = model.fit(x = X_train, y = Y_train, epochs = 5, batch_size = 16, validation_data=(X_test, Y_test))"
   ]
  },
  {
   "cell_type": "code",
   "execution_count": 22,
   "metadata": {},
   "outputs": [
    {
     "name": "stdout",
     "output_type": "stream",
     "text": [
      "INFO:tensorflow:Assets written to: C:\\Users\\Mi Notebook\\Desktop\\Audio_project\\audio_project\\Spotter_recognition\\saved_models\\CRNN\\assets\n",
      "Save model and weights at C:\\Users\\Mi Notebook\\Desktop\\Audio_project\\audio_project\\Spotter_recognition\\saved_models\\CRNN \n"
     ]
    }
   ],
   "source": [
    "save_model(model, \"CRNN\")"
   ]
  },
  {
   "cell_type": "code",
   "execution_count": 23,
   "metadata": {},
   "outputs": [],
   "source": [
    "save_model_history(model_history.history, \"CRNN\")"
   ]
  },
  {
   "cell_type": "code",
   "execution_count": 24,
   "metadata": {},
   "outputs": [
    {
     "data": {
      "image/png": "[encoded data removed]",
      "text/plain": [
       "<Figure size 576x576 with 1 Axes>"
      ]
     },
     "metadata": {
      "needs_background": "light"
     },
     "output_type": "display_data"
    }
   ],
   "source": [
    "plt.figure(figsize=(8,8))\n",
    "plt.plot(model_history.history['accuracy'], \n",
    "         color=\"red\")\n",
    "plt.plot(model_history.history['val_accuracy'], \n",
    "         color=\"black\", \n",
    "         linestyle=\"dashed\")\n",
    "plt.title('CRNN accuracy')\n",
    "plt.ylabel('accuracy')\n",
    "plt.xlabel('epoch')\n",
    "plt.savefig(\"CRNN\")\n",
    "plt.show()"
   ]
  },
  {
   "cell_type": "code",
   "execution_count": 29,
   "metadata": {},
   "outputs": [
    {
     "name": "stdout",
     "output_type": "stream",
     "text": [
      "              precision    recall  f1-score   support\n",
      "\n",
      "        down       0.87      0.78      0.82       254\n",
      "          go       0.93      0.83      0.88       229\n",
      "        left       0.90      0.81      0.86       236\n",
      "          no       0.87      0.75      0.81       242\n",
      "         off       0.86      0.80      0.83       226\n",
      "          on       0.83      0.77      0.80       229\n",
      "       right       0.89      0.81      0.85       252\n",
      "        stop       0.95      0.84      0.89       235\n",
      "     unknown       0.92      0.97      0.95      4081\n",
      "          up       0.89      0.78      0.84       250\n",
      "         yes       0.98      0.89      0.93       239\n",
      "\n",
      "    accuracy                           0.91      6473\n",
      "   macro avg       0.90      0.82      0.86      6473\n",
      "weighted avg       0.91      0.91      0.91      6473\n",
      "\n"
     ]
    }
   ],
   "source": [
    "print(report(model, X_test, Y_test, lb.classes_))"
   ]
  },
  {
   "cell_type": "code",
   "execution_count": null,
   "metadata": {},
   "outputs": [],
   "source": []
  }
 ],
 "metadata": {
  "kernelspec": {
   "display_name": "Python 3",
   "language": "python",
   "name": "python3"
  },
  "language_info": {
   "codemirror_mode": {
    "name": "ipython",
    "version": 3
   },
   "file_extension": ".py",
   "mimetype": "text/x-python",
   "name": "python",
   "nbconvert_exporter": "python",
   "pygments_lexer": "ipython3",
   "version": "3.7.3"
  }
 },
 "nbformat": 4,
 "nbformat_minor": 4
}
