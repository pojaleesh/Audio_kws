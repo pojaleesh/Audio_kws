{
 "cells": [
  {
   "cell_type": "code",
   "execution_count": 29,
   "metadata": {},
   "outputs": [],
   "source": [
    "import keras\n",
    "from keras import regularizers\n",
    "from keras.preprocessing import sequence\n",
    "from keras import optimizers\n",
    "from keras.preprocessing.text import Tokenizer\n",
    "from keras.preprocessing.sequence import pad_sequences\n",
    "from keras.models import Sequential, Model, model_from_json\n",
    "from keras.layers import Dense, Embedding, LSTM, GRU, TimeDistributed\n",
    "from keras.layers import Input, Flatten, Dropout, Activation, BatchNormalization\n",
    "from keras.layers import Convolution2D, MaxPooling2D, AveragePooling2D, ZeroPadding2D, Dropout, MaxPool2D, MaxPool1D\n",
    "from keras.backend import expand_dims, squeeze\n",
    "from keras.utils import np_utils, to_categorical\n",
    "from keras.callbacks import ModelCheckpoint\n",
    "\n",
    "import sklearn\n",
    "from sklearn.metrics import confusion_matrix, accuracy_score, classification_report\n",
    "from sklearn.model_selection import train_test_split\n",
    "from sklearn.preprocessing import LabelEncoder\n",
    "\n",
    "import librosa\n",
    "import librosa.display\n",
    "import json\n",
    "import numpy as np\n",
    "import matplotlib.pyplot as plt\n",
    "import tensorflow as tf\n",
    "from matplotlib.pyplot import specgram\n",
    "import pandas as pd\n",
    "import seaborn as sns\n",
    "import glob \n",
    "import os\n",
    "import pickle\n",
    "import IPython.display as ipd\n",
    "import random\n",
    "import import_ipynb\n",
    "import Sample_making"
   ]
  },
  {
   "cell_type": "code",
   "execution_count": 30,
   "metadata": {},
   "outputs": [],
   "source": [
    "df_target = pd.read_csv('../../Target_words_dataframe')\n",
    "df_unknown = pd.read_csv('../../Unknown_words_dataframe')\n",
    "df = pd.read_csv('../../full_df')"
   ]
  },
  {
   "cell_type": "code",
   "execution_count": 31,
   "metadata": {},
   "outputs": [],
   "source": [
    "df_target = df_target.drop(columns=['Unnamed: 0'], axis=1)\n",
    "df_unknown = df_unknown.drop(columns=['Unnamed: 0'], axis=1)"
   ]
  },
  {
   "cell_type": "code",
   "execution_count": 32,
   "metadata": {},
   "outputs": [],
   "source": [
    "filename = 'Data_spotter_mfcc_40'\n",
    "outfile = open(filename,'rb')\n",
    "X = pickle.load(outfile)\n",
    "outfile.close()"
   ]
  },
  {
   "cell_type": "code",
   "execution_count": 33,
   "metadata": {},
   "outputs": [],
   "source": [
    "def save_model(Model, model_name):\n",
    "    save_dir = os.path.join(os.getcwd(), 'saved_models')\n",
    "\n",
    "    if not os.path.isdir(save_dir):\n",
    "        os.makedirs(save_dir)\n",
    "    model_path = os.path.join(save_dir, model_name)\n",
    "    Model.save(model_path)\n",
    "    print('Save model and weights at %s ' % model_path)\n",
    "\n",
    "    model_json = Model.to_json()\n",
    "    with open(\"model_json.json\", \"w\") as json_file:\n",
    "        json_file.write(model_json)"
   ]
  },
  {
   "cell_type": "code",
   "execution_count": 34,
   "metadata": {},
   "outputs": [],
   "source": [
    "def save_model_history(model_history, model_history_name):\n",
    "    filename = 'saved_models_history/' + model_history_name\n",
    "    outfile = open(filename,'wb')\n",
    "    pickle.dump(model_history, outfile)\n",
    "    outfile.close()"
   ]
  },
  {
   "cell_type": "code",
   "execution_count": 35,
   "metadata": {},
   "outputs": [],
   "source": [
    "def report(model, X, y, classes):\n",
    "    model_predictions = model.predict(X).argmax(axis=1)\n",
    "    true_predictions = y.argmax(axis=1)\n",
    "    return sklearn.metrics.classification_report(true_predictions, model_predictions, target_names=classes)"
   ]
  },
  {
   "cell_type": "code",
   "execution_count": 36,
   "metadata": {},
   "outputs": [],
   "source": [
    "X_train, X_test, Y_train, Y_test = train_test_split(X\n",
    "                                                    , df.word\n",
    "                                                    , test_size=0.1\n",
    "                                                    , shuffle=True\n",
    "                                                    , random_state=42)"
   ]
  },
  {
   "cell_type": "code",
   "execution_count": 37,
   "metadata": {},
   "outputs": [
    {
     "name": "stdout",
     "output_type": "stream",
     "text": [
      "X_train size = (58248, 40, 61)\n",
      "Y_train size = (58248,)\n",
      "X_test size = (6473, 40, 61)\n",
      "Y_test size = (6473,)\n"
     ]
    }
   ],
   "source": [
    "print(f'X_train size = {X_train.shape}')\n",
    "print(f'Y_train size = {Y_train.shape}')\n",
    "print(f'X_test size = {X_test.shape}')\n",
    "print(f'Y_test size = {Y_test.shape}')"
   ]
  },
  {
   "cell_type": "code",
   "execution_count": 38,
   "metadata": {},
   "outputs": [],
   "source": [
    "mean = np.mean(X_train, axis=0)\n",
    "std = np.std(X_train, axis=0)\n",
    "\n",
    "X_train = (X_train - mean) / std\n",
    "X_test = (X_test - mean) / std"
   ]
  },
  {
   "cell_type": "code",
   "execution_count": 39,
   "metadata": {},
   "outputs": [],
   "source": [
    "X_train = np.array(X_train)\n",
    "Y_train = np.array(Y_train)\n",
    "X_test = np.array(X_test)\n",
    "Y_test = np.array(Y_test)"
   ]
  },
  {
   "cell_type": "code",
   "execution_count": 40,
   "metadata": {},
   "outputs": [
    {
     "name": "stdout",
     "output_type": "stream",
     "text": [
      "['down' 'go' 'left' 'no' 'off' 'on' 'right' 'stop' 'unknown' 'up' 'yes']\n"
     ]
    }
   ],
   "source": [
    "lb = LabelEncoder()\n",
    "Y_train = np_utils.to_categorical(lb.fit_transform(Y_train))\n",
    "Y_test = np_utils.to_categorical(lb.fit_transform(Y_test))\n",
    "print(lb.classes_)"
   ]
  },
  {
   "cell_type": "code",
   "execution_count": 41,
   "metadata": {},
   "outputs": [
    {
     "name": "stdout",
     "output_type": "stream",
     "text": [
      "X_train size = (58248, 40, 61, 1)\n",
      "X_test size = (6473, 40, 61, 1)\n"
     ]
    }
   ],
   "source": [
    "X_train = X_train.reshape((X_train.shape[0], X_train.shape[1], X_train.shape[2], 1))\n",
    "X_test = X_test.reshape((X_test.shape[0], X_test.shape[1], X_test.shape[2], 1))\n",
    "print(f'X_train size = {X_train.shape}')\n",
    "print(f'X_test size = {X_test.shape}')"
   ]
  },
  {
   "cell_type": "code",
   "execution_count": 42,
   "metadata": {},
   "outputs": [],
   "source": [
    "def DNN_model(input_shape, nclass):\n",
    "    \n",
    "    input_ = Input(input_shape)\n",
    "    \n",
    "    X = Dense(64, activation=\"relu\")(input_)\n",
    "    X = Dense(128, activation=\"relu\")(X)\n",
    "    \n",
    "    X = Flatten()(X)\n",
    "    \n",
    "    X = expand_dims(X, axis=-1)\n",
    "    X = MaxPool1D(pool_size=2, strides=2, data_format='channels_last')(X)\n",
    "    X = squeeze(X, axis=-1)\n",
    "    \n",
    "    X = Dropout(rate=0.1)(X)\n",
    "    X = Dense(128, activation=\"linear\")(X)\n",
    "    X = Dense(256, activation=\"relu\")(X)\n",
    "    \n",
    "    output_ = Dense(nclass, activation='softmax')(X)\n",
    "    \n",
    "    ret_model = Model(inputs = input_, outputs=output_)\n",
    "    \n",
    "    return ret_model"
   ]
  },
  {
   "cell_type": "code",
   "execution_count": 43,
   "metadata": {},
   "outputs": [],
   "source": [
    "model = DNN_model((40, 61, 1), len(lb.classes_))"
   ]
  },
  {
   "cell_type": "code",
   "execution_count": 44,
   "metadata": {},
   "outputs": [
    {
     "name": "stdout",
     "output_type": "stream",
     "text": [
      "Model: \"model_2\"\n",
      "_________________________________________________________________\n",
      "Layer (type)                 Output Shape              Param #   \n",
      "=================================================================\n",
      "input_4 (InputLayer)         [(None, 40, 61, 1)]       0         \n",
      "_________________________________________________________________\n",
      "dense_12 (Dense)             (None, 40, 61, 64)        128       \n",
      "_________________________________________________________________\n",
      "dense_13 (Dense)             (None, 40, 61, 128)       8320      \n",
      "_________________________________________________________________\n",
      "flatten_2 (Flatten)          (None, 312320)            0         \n",
      "_________________________________________________________________\n",
      "tf.expand_dims_3 (TFOpLambda (None, 312320, 1)         0         \n",
      "_________________________________________________________________\n",
      "max_pooling1d_3 (MaxPooling1 (None, 156160, 1)         0         \n",
      "_________________________________________________________________\n",
      "tf.compat.v1.squeeze_2 (TFOp (None, 156160)            0         \n",
      "_________________________________________________________________\n",
      "dropout_2 (Dropout)          (None, 156160)            0         \n",
      "_________________________________________________________________\n",
      "dense_14 (Dense)             (None, 128)               19988608  \n",
      "_________________________________________________________________\n",
      "dense_15 (Dense)             (None, 256)               33024     \n",
      "_________________________________________________________________\n",
      "dense_16 (Dense)             (None, 11)                2827      \n",
      "=================================================================\n",
      "Total params: 20,032,907\n",
      "Trainable params: 20,032,907\n",
      "Non-trainable params: 0\n",
      "_________________________________________________________________\n"
     ]
    }
   ],
   "source": [
    "model.summary()"
   ]
  },
  {
   "cell_type": "code",
   "execution_count": 45,
   "metadata": {},
   "outputs": [
    {
     "name": "stdout",
     "output_type": "stream",
     "text": [
      "Epoch 1/6\n",
      "3641/3641 [==============================] - 810s 222ms/step - loss: 0.1768 - accuracy: 0.6693 - val_loss: 0.1143 - val_accuracy: 0.7684\n",
      "Epoch 2/6\n",
      "3641/3641 [==============================] - 792s 217ms/step - loss: 0.0982 - accuracy: 0.8019 - val_loss: 0.1013 - val_accuracy: 0.7901\n",
      "Epoch 3/6\n",
      "3641/3641 [==============================] - 792s 217ms/step - loss: 0.0680 - accuracy: 0.8694 - val_loss: 0.1131 - val_accuracy: 0.7944\n",
      "Epoch 4/6\n",
      "3641/3641 [==============================] - 789s 217ms/step - loss: 0.0446 - accuracy: 0.9212 - val_loss: 0.1112 - val_accuracy: 0.7972\n",
      "Epoch 5/6\n",
      "3641/3641 [==============================] - 790s 217ms/step - loss: 0.0293 - accuracy: 0.9522 - val_loss: 0.1315 - val_accuracy: 0.7961\n",
      "Epoch 6/6\n",
      "3641/3641 [==============================] - 791s 217ms/step - loss: 0.0212 - accuracy: 0.9693 - val_loss: 0.1699 - val_accuracy: 0.7908\n"
     ]
    }
   ],
   "source": [
    "opt = optimizers.Adam(0.001)\n",
    "model.compile(optimizer = opt, loss = 'binary_crossentropy', metrics = [\"accuracy\"])\n",
    "\n",
    "model_history = model.fit(x = X_train, y = Y_train, epochs = 6, batch_size = 16, validation_data=(X_test, Y_test))"
   ]
  },
  {
   "cell_type": "code",
   "execution_count": 46,
   "metadata": {},
   "outputs": [
    {
     "name": "stdout",
     "output_type": "stream",
     "text": [
      "INFO:tensorflow:Assets written to: C:\\Users\\Mi Notebook\\Desktop\\Audio_project\\audio_project\\Spotter_recognition\\saved_models\\DNN\\assets\n",
      "Save model and weights at C:\\Users\\Mi Notebook\\Desktop\\Audio_project\\audio_project\\Spotter_recognition\\saved_models\\DNN \n"
     ]
    }
   ],
   "source": [
    "save_model(model, \"DNN\")"
   ]
  },
  {
   "cell_type": "code",
   "execution_count": 47,
   "metadata": {},
   "outputs": [
    {
     "data": {
      "image/png": "[encoded data removed]",
      "text/plain": [
       "<Figure size 576x576 with 1 Axes>"
      ]
     },
     "metadata": {
      "needs_background": "light"
     },
     "output_type": "display_data"
    }
   ],
   "source": [
    "plt.figure(figsize=(8,8))\n",
    "plt.plot(model_history.history['accuracy'], \n",
    "         color=\"red\")\n",
    "plt.plot(model_history.history['val_accuracy'], \n",
    "         color=\"black\", \n",
    "         linestyle=\"dashed\")\n",
    "plt.title('DNN accuracy')\n",
    "plt.ylabel('accuracy')\n",
    "plt.xlabel('epoch')\n",
    "plt.savefig(\"DNN\")\n",
    "plt.show()"
   ]
  },
  {
   "cell_type": "code",
   "execution_count": 48,
   "metadata": {},
   "outputs": [],
   "source": [
    "save_model_history(model_history.history, \"DNN\")"
   ]
  },
  {
   "cell_type": "code",
   "execution_count": 49,
   "metadata": {},
   "outputs": [
    {
     "name": "stdout",
     "output_type": "stream",
     "text": [
      "              precision    recall  f1-score   support\n",
      "\n",
      "        down       0.59      0.57      0.58       254\n",
      "          go       0.52      0.53      0.52       229\n",
      "        left       0.74      0.58      0.65       236\n",
      "          no       0.66      0.43      0.52       242\n",
      "         off       0.61      0.70      0.65       226\n",
      "          on       0.64      0.57      0.60       229\n",
      "       right       0.74      0.62      0.68       252\n",
      "        stop       0.80      0.66      0.72       235\n",
      "     unknown       0.85      0.90      0.87      4081\n",
      "          up       0.65      0.55      0.60       250\n",
      "         yes       0.90      0.78      0.84       239\n",
      "\n",
      "    accuracy                           0.79      6473\n",
      "   macro avg       0.70      0.63      0.66      6473\n",
      "weighted avg       0.79      0.79      0.79      6473\n",
      "\n"
     ]
    }
   ],
   "source": [
    "print(report(model, X_test, Y_test, lb.classes_))"
   ]
  },
  {
   "cell_type": "code",
   "execution_count": null,
   "metadata": {},
   "outputs": [],
   "source": []
  }
 ],
 "metadata": {
  "kernelspec": {
   "display_name": "Python 3",
   "language": "python",
   "name": "python3"
  },
  "language_info": {
   "codemirror_mode": {
    "name": "ipython",
    "version": 3
   },
   "file_extension": ".py",
   "mimetype": "text/x-python",
   "name": "python",
   "nbconvert_exporter": "python",
   "pygments_lexer": "ipython3",
   "version": "3.7.3"
  }
 },
 "nbformat": 4,
 "nbformat_minor": 4
}
