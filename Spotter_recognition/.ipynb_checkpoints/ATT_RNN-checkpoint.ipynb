{
 "cells": [
  {
   "cell_type": "code",
   "execution_count": 1,
   "metadata": {},
   "outputs": [],
   "source": [
    "import keras\n",
    "from keras import regularizers\n",
    "from keras.preprocessing import sequence\n",
    "from keras import optimizers\n",
    "from keras.preprocessing.text import Tokenizer\n",
    "from keras.preprocessing.sequence import pad_sequences\n",
    "from keras.models import Sequential, Model, model_from_json\n",
    "from keras.layers import Dense, Embedding, LSTM, GRU, TimeDistributed, Bidirectional\n",
    "from keras.layers import Dot, Softmax\n",
    "from keras.layers import Input, Flatten, Dropout, Activation, BatchNormalization\n",
    "from keras.layers import Convolution2D, MaxPooling2D, AveragePooling2D, ZeroPadding2D, Dropout, MaxPool2D\n",
    "from keras.utils import np_utils, to_categorical\n",
    "from keras.callbacks import ModelCheckpoint\n",
    "\n",
    "import sklearn\n",
    "from sklearn.metrics import confusion_matrix, accuracy_score, classification_report\n",
    "from sklearn.model_selection import train_test_split\n",
    "from sklearn.preprocessing import LabelEncoder\n",
    "\n",
    "import librosa\n",
    "import librosa.display\n",
    "import json\n",
    "import numpy as np\n",
    "import matplotlib.pyplot as plt\n",
    "import tensorflow as tf\n",
    "from matplotlib.pyplot import specgram\n",
    "import pandas as pd\n",
    "import seaborn as sns\n",
    "import glob \n",
    "import os\n",
    "import pickle\n",
    "import IPython.display as ipd\n",
    "import random"
   ]
  },
  {
   "cell_type": "code",
   "execution_count": 26,
   "metadata": {},
   "outputs": [],
   "source": [
    "df_target = pd.read_csv(os.path.abspath('Target_words_dataframe'))\n",
    "df_unknown = pd.read_csv(os.path.abspath('Unknown_words_dataframe'))\n",
    "df = pd.read_csv(os.path.abspath('full_df'))"
   ]
  },
  {
   "cell_type": "code",
   "execution_count": 27,
   "metadata": {},
   "outputs": [],
   "source": [
    "df_target = df_target.drop(columns=['Unnamed: 0'], axis=1)\n",
    "df_unknown = df_unknown.drop(columns=['Unnamed: 0'], axis=1)\n",
    "df = df.drop(columns=['Unnamed: 0'], axis=1)"
   ]
  },
  {
   "cell_type": "code",
   "execution_count": 5,
   "metadata": {},
   "outputs": [],
   "source": [
    "filename = os.path.abspath('../../Data_spotter_mfcc_40')\n",
    "outfile = open(filename,'rb')\n",
    "X = pickle.load(outfile)\n",
    "outfile.close()"
   ]
  },
  {
   "cell_type": "code",
   "execution_count": 6,
   "metadata": {},
   "outputs": [],
   "source": [
    "def save_model(Model, model_name):\n",
    "    save_dir = os.path.join(os.getcwd(), 'saved_models')\n",
    "\n",
    "    if not os.path.isdir(save_dir):\n",
    "        os.makedirs(save_dir)\n",
    "    model_path = os.path.join(save_dir, model_name)\n",
    "    Model.save(model_path)\n",
    "    print('Save model and weights at %s ' % model_path)\n",
    "\n",
    "    model_json = Model.to_json()\n",
    "    with open(\"model_json.json\", \"w\") as json_file:\n",
    "        json_file.write(model_json)"
   ]
  },
  {
   "cell_type": "code",
   "execution_count": 7,
   "metadata": {},
   "outputs": [],
   "source": [
    "def save_model_history(model_history, model_history_name):\n",
    "    filename = 'saved_models_history/' + model_history_name\n",
    "    outfile = open(filename,'wb')\n",
    "    pickle.dump(model_history, outfile)\n",
    "    outfile.close()"
   ]
  },
  {
   "cell_type": "code",
   "execution_count": 8,
   "metadata": {},
   "outputs": [],
   "source": [
    "def report(model, X, y, classes):\n",
    "    model_predictions = model.predict(X).argmax(axis=1)\n",
    "    true_predictions = y.argmax(axis=1)\n",
    "    return sklearn.metrics.classification_report(true_predictions, model_predictions, target_names=classes)"
   ]
  },
  {
   "cell_type": "code",
   "execution_count": 9,
   "metadata": {},
   "outputs": [],
   "source": [
    "X_train, X_test, Y_train, Y_test = train_test_split(X\n",
    "                                                    , df.word\n",
    "                                                    , test_size=6464\n",
    "                                                    , train_size = 58240\n",
    "                                                    , shuffle=True\n",
    "                                                    , random_state=42)"
   ]
  },
  {
   "cell_type": "code",
   "execution_count": 10,
   "metadata": {},
   "outputs": [
    {
     "name": "stdout",
     "output_type": "stream",
     "text": [
      "X_train size = (58240, 40, 61)\n",
      "Y_train size = (58240,)\n",
      "X_test size = (6464, 40, 61)\n",
      "Y_test size = (6464,)\n"
     ]
    }
   ],
   "source": [
    "print(f'X_train size = {X_train.shape}')\n",
    "print(f'Y_train size = {Y_train.shape}')\n",
    "print(f'X_test size = {X_test.shape}')\n",
    "print(f'Y_test size = {Y_test.shape}')"
   ]
  },
  {
   "cell_type": "code",
   "execution_count": 11,
   "metadata": {},
   "outputs": [],
   "source": [
    "mean = np.mean(X_train, axis=0)\n",
    "std = np.std(X_train, axis=0)\n",
    "\n",
    "X_train = (X_train - mean) / std\n",
    "X_test = (X_test - mean) / std"
   ]
  },
  {
   "cell_type": "code",
   "execution_count": 12,
   "metadata": {},
   "outputs": [],
   "source": [
    "X_train = np.array(X_train)\n",
    "Y_train = np.array(Y_train)\n",
    "X_test = np.array(X_test)\n",
    "Y_test = np.array(Y_test)"
   ]
  },
  {
   "cell_type": "code",
   "execution_count": 20,
   "metadata": {},
   "outputs": [],
   "source": [
    "df['word'] = 'unknown'"
   ]
  },
  {
   "cell_type": "code",
   "execution_count": 24,
   "metadata": {},
   "outputs": [
    {
     "data": {
      "text/html": [
       "<div>\n",
       "<style scoped>\n",
       "    .dataframe tbody tr th:only-of-type {\n",
       "        vertical-align: middle;\n",
       "    }\n",
       "\n",
       "    .dataframe tbody tr th {\n",
       "        vertical-align: top;\n",
       "    }\n",
       "\n",
       "    .dataframe thead th {\n",
       "        text-align: right;\n",
       "    }\n",
       "</style>\n",
       "<table border=\"1\" class=\"dataframe\">\n",
       "  <thead>\n",
       "    <tr style=\"text-align: right;\">\n",
       "      <th></th>\n",
       "      <th>Unnamed: 0</th>\n",
       "      <th>word</th>\n",
       "      <th>path</th>\n",
       "    </tr>\n",
       "  </thead>\n",
       "  <tbody>\n",
       "    <tr>\n",
       "      <th>0</th>\n",
       "      <td>0</td>\n",
       "      <td>yes</td>\n",
       "      <td>/Users/mbassalaev/Desktop/spotter_data/yes/988...</td>\n",
       "    </tr>\n",
       "    <tr>\n",
       "      <th>1</th>\n",
       "      <td>1</td>\n",
       "      <td>yes</td>\n",
       "      <td>/Users/mbassalaev/Desktop/spotter_data/yes/93e...</td>\n",
       "    </tr>\n",
       "    <tr>\n",
       "      <th>2</th>\n",
       "      <td>2</td>\n",
       "      <td>yes</td>\n",
       "      <td>/Users/mbassalaev/Desktop/spotter_data/yes/a75...</td>\n",
       "    </tr>\n",
       "    <tr>\n",
       "      <th>3</th>\n",
       "      <td>3</td>\n",
       "      <td>yes</td>\n",
       "      <td>/Users/mbassalaev/Desktop/spotter_data/yes/627...</td>\n",
       "    </tr>\n",
       "    <tr>\n",
       "      <th>4</th>\n",
       "      <td>4</td>\n",
       "      <td>yes</td>\n",
       "      <td>/Users/mbassalaev/Desktop/spotter_data/yes/439...</td>\n",
       "    </tr>\n",
       "    <tr>\n",
       "      <th>...</th>\n",
       "      <td>...</td>\n",
       "      <td>...</td>\n",
       "      <td>...</td>\n",
       "    </tr>\n",
       "    <tr>\n",
       "      <th>64716</th>\n",
       "      <td>41034</td>\n",
       "      <td>four</td>\n",
       "      <td>/Users/mbassalaev/Desktop/spotter_data/four/93...</td>\n",
       "    </tr>\n",
       "    <tr>\n",
       "      <th>64717</th>\n",
       "      <td>41035</td>\n",
       "      <td>four</td>\n",
       "      <td>/Users/mbassalaev/Desktop/spotter_data/four/0c...</td>\n",
       "    </tr>\n",
       "    <tr>\n",
       "      <th>64718</th>\n",
       "      <td>41036</td>\n",
       "      <td>four</td>\n",
       "      <td>/Users/mbassalaev/Desktop/spotter_data/four/23...</td>\n",
       "    </tr>\n",
       "    <tr>\n",
       "      <th>64719</th>\n",
       "      <td>41037</td>\n",
       "      <td>four</td>\n",
       "      <td>/Users/mbassalaev/Desktop/spotter_data/four/17...</td>\n",
       "    </tr>\n",
       "    <tr>\n",
       "      <th>64720</th>\n",
       "      <td>41038</td>\n",
       "      <td>four</td>\n",
       "      <td>/Users/mbassalaev/Desktop/spotter_data/four/c6...</td>\n",
       "    </tr>\n",
       "  </tbody>\n",
       "</table>\n",
       "<p>64721 rows × 3 columns</p>\n",
       "</div>"
      ],
      "text/plain": [
       "       Unnamed: 0  word                                               path\n",
       "0               0   yes  /Users/mbassalaev/Desktop/spotter_data/yes/988...\n",
       "1               1   yes  /Users/mbassalaev/Desktop/spotter_data/yes/93e...\n",
       "2               2   yes  /Users/mbassalaev/Desktop/spotter_data/yes/a75...\n",
       "3               3   yes  /Users/mbassalaev/Desktop/spotter_data/yes/627...\n",
       "4               4   yes  /Users/mbassalaev/Desktop/spotter_data/yes/439...\n",
       "...           ...   ...                                                ...\n",
       "64716       41034  four  /Users/mbassalaev/Desktop/spotter_data/four/93...\n",
       "64717       41035  four  /Users/mbassalaev/Desktop/spotter_data/four/0c...\n",
       "64718       41036  four  /Users/mbassalaev/Desktop/spotter_data/four/23...\n",
       "64719       41037  four  /Users/mbassalaev/Desktop/spotter_data/four/17...\n",
       "64720       41038  four  /Users/mbassalaev/Desktop/spotter_data/four/c6...\n",
       "\n",
       "[64721 rows x 3 columns]"
      ]
     },
     "execution_count": 24,
     "metadata": {},
     "output_type": "execute_result"
    }
   ],
   "source": [
    "df"
   ]
  },
  {
   "cell_type": "code",
   "execution_count": 13,
   "metadata": {},
   "outputs": [
    {
     "name": "stdout",
     "output_type": "stream",
     "text": [
      "['bed' 'bird' 'cat' 'dog' 'down' 'eight' 'five' 'four' 'go' 'happy'\n",
      " 'house' 'left' 'marvin' 'nine' 'no' 'off' 'on' 'one' 'right' 'seven'\n",
      " 'sheila' 'six' 'stop' 'three' 'tree' 'two' 'up' 'wow' 'yes' 'zero']\n"
     ]
    }
   ],
   "source": [
    "lb = LabelEncoder()\n",
    "Y_train = np_utils.to_categorical(lb.fit_transform(Y_train))\n",
    "Y_test = np_utils.to_categorical(lb.fit_transform(Y_test))\n",
    "print(lb.classes_)"
   ]
  },
  {
   "cell_type": "code",
   "execution_count": 14,
   "metadata": {},
   "outputs": [
    {
     "name": "stdout",
     "output_type": "stream",
     "text": [
      "X_train size = (58240, 40, 61, 1)\n",
      "X_test size = (6464, 40, 61, 1)\n"
     ]
    }
   ],
   "source": [
    "X_train = X_train.reshape((X_train.shape[0], X_train.shape[1], X_train.shape[2], 1))\n",
    "X_test = X_test.reshape((X_test.shape[0], X_test.shape[1], X_test.shape[2], 1))\n",
    "print(f'X_train size = {X_train.shape}')\n",
    "print(f'X_test size = {X_test.shape}')"
   ]
  },
  {
   "cell_type": "code",
   "execution_count": 14,
   "metadata": {},
   "outputs": [],
   "source": [
    "def ATT_RNN_model(input_shape, nclass):\n",
    "    \n",
    "    input_ = Input(input_shape)\n",
    "    \n",
    "    X = Convolution2D(10, (5, 1), activation=\"relu\", dilation_rate=(1, 1), strides=(1, 1))(input_)\n",
    "    X = BatchNormalization()(X)\n",
    "    X = Convolution2D(1, (5, 1), activation=\"relu\", dilation_rate=(1, 1), strides=(1, 1))(X)\n",
    "    X = BatchNormalization()(X)\n",
    "    shape = X.shape\n",
    "    X = tf.keras.layers.Reshape((-1, shape[2] * shape[3]))(X)\n",
    "    X = Bidirectional(GRU(units=128,  return_sequences=True, unroll=True))(X)\n",
    "    X = Bidirectional(GRU(units=128,  return_sequences=True, unroll=True))(X)\n",
    "    \n",
    "    feature_dim = X.shape[-1]\n",
    "    middle = X.shape[1] // 2\n",
    "    mid_feature = X[:, middle, :]\n",
    "    \n",
    "    query = Dense(feature_dim)(mid_feature)\n",
    "        \n",
    "    att_weights = Dot(axes=[1, 2])([query, X])\n",
    "    att_weights = Softmax(name='attSoftmax')(att_weights)\n",
    "    X = Dot(axes=[1, 1])([att_weights, X])\n",
    "    X = Dropout(rate=0.1)(X)\n",
    "    \n",
    "    X = Dense(64, activation=\"relu\")(X)\n",
    "    X = Dense(32, activation=\"linear\")(X)\n",
    "    \n",
    "    output_ = Dense(nclass, activation='softmax')(X)\n",
    "    \n",
    "    ret_model = Model(inputs = input_, outputs=output_)\n",
    "    \n",
    "    return ret_model"
   ]
  },
  {
   "cell_type": "code",
   "execution_count": 15,
   "metadata": {},
   "outputs": [],
   "source": [
    "model = ATT_RNN_model((40, 61, 1), len(lb.classes_))"
   ]
  },
  {
   "cell_type": "code",
   "execution_count": 16,
   "metadata": {},
   "outputs": [
    {
     "name": "stdout",
     "output_type": "stream",
     "text": [
      "Model: \"model\"\n",
      "_________________________________________________________________\n",
      "Layer (type)                 Output Shape              Param #   \n",
      "=================================================================\n",
      "input_1 (InputLayer)         [(None, 40, 61, 1)]       0         \n",
      "_________________________________________________________________\n",
      "conv2d (Conv2D)              (None, 40, 61, 64)        640       \n",
      "_________________________________________________________________\n",
      "conv2d_1 (Conv2D)            (None, 40, 61, 64)        61504     \n",
      "_________________________________________________________________\n",
      "conv2d_2 (Conv2D)            (None, 40, 61, 64)        61504     \n",
      "_________________________________________________________________\n",
      "conv2d_3 (Conv2D)            (None, 40, 61, 64)        61504     \n",
      "_________________________________________________________________\n",
      "conv2d_4 (Conv2D)            (None, 40, 61, 128)       82048     \n",
      "_________________________________________________________________\n",
      "conv2d_5 (Conv2D)            (None, 40, 61, 64)        41024     \n",
      "_________________________________________________________________\n",
      "conv2d_6 (Conv2D)            (None, 40, 61, 128)       82048     \n",
      "_________________________________________________________________\n",
      "flatten (Flatten)            (None, 312320)            0         \n",
      "_________________________________________________________________\n",
      "dropout (Dropout)            (None, 312320)            0         \n",
      "_________________________________________________________________\n",
      "dense (Dense)                (None, 128)               39977088  \n",
      "_________________________________________________________________\n",
      "dense_1 (Dense)              (None, 256)               33024     \n",
      "_________________________________________________________________\n",
      "dense_2 (Dense)              (None, 11)                2827      \n",
      "=================================================================\n",
      "Total params: 40,403,211\n",
      "Trainable params: 40,403,211\n",
      "Non-trainable params: 0\n",
      "_________________________________________________________________\n"
     ]
    }
   ],
   "source": [
    "model.summary()"
   ]
  },
  {
   "cell_type": "code",
   "execution_count": 17,
   "metadata": {},
   "outputs": [
    {
     "name": "stdout",
     "output_type": "stream",
     "text": [
      "Epoch 1/5\n",
      "3641/3641 [==============================] - 5264s 1s/step - loss: 0.1923 - accuracy: 0.6471 - val_loss: 0.0822 - val_accuracy: 0.8293\n",
      "Epoch 2/5\n",
      "3641/3641 [==============================] - 4593s 1s/step - loss: 0.0688 - accuracy: 0.8599 - val_loss: 0.0570 - val_accuracy: 0.8821\n",
      "Epoch 3/5\n",
      "3641/3641 [==============================] - 3792s 1s/step - loss: 0.0459 - accuracy: 0.9075 - val_loss: 0.0515 - val_accuracy: 0.8971\n",
      "Epoch 4/5\n",
      "3641/3641 [==============================] - 3794s 1s/step - loss: 0.0368 - accuracy: 0.9269 - val_loss: 0.0518 - val_accuracy: 0.9024\n",
      "Epoch 5/5\n",
      "3641/3641 [==============================] - 3791s 1s/step - loss: 0.0321 - accuracy: 0.9384 - val_loss: 0.0545 - val_accuracy: 0.8996\n"
     ]
    }
   ],
   "source": [
    "opt = optimizers.Adam(0.001)\n",
    "model.compile(optimizer = opt, loss = 'binary_crossentropy', metrics = [\"accuracy\"])\n",
    "\n",
    "model_history = model.fit(x = X_train, y = Y_train, epochs = 5, batch_size = 16, validation_data=(X_test, Y_test))"
   ]
  },
  {
   "cell_type": "code",
   "execution_count": 18,
   "metadata": {},
   "outputs": [
    {
     "name": "stdout",
     "output_type": "stream",
     "text": [
      "3641/3641 [==============================] - 3817s 1s/step - loss: 0.0297 - accuracy: 0.9427 - val_loss: 0.0536 - val_accuracy: 0.9089\n"
     ]
    }
   ],
   "source": [
    "model_history_1 = model.fit(x = X_train, y = Y_train, epochs = 1, batch_size = 16, validation_data=(X_test, Y_test))"
   ]
  },
  {
   "cell_type": "code",
   "execution_count": 19,
   "metadata": {},
   "outputs": [
    {
     "name": "stdout",
     "output_type": "stream",
     "text": [
      "INFO:tensorflow:Assets written to: C:\\Users\\Mi Notebook\\Desktop\\Audio_project\\audio_project\\Spotter_recognition\\saved_models\\AT_RNN\\assets\n",
      "Save model and weights at C:\\Users\\Mi Notebook\\Desktop\\Audio_project\\audio_project\\Spotter_recognition\\saved_models\\AT_RNN \n"
     ]
    }
   ],
   "source": [
    "save_model(model, \"AT_RNN\")"
   ]
  },
  {
   "cell_type": "code",
   "execution_count": 20,
   "metadata": {},
   "outputs": [
    {
     "data": {
      "image/png": "[encoded data removed]",
      "text/plain": [
       "<Figure size 576x576 with 1 Axes>"
      ]
     },
     "metadata": {
      "needs_background": "light"
     },
     "output_type": "display_data"
    }
   ],
   "source": [
    "plt.figure(figsize=(8,8))\n",
    "plt.plot(model_history.history['accuracy'] + model_history_1.history['accuracy'], \n",
    "         color=\"red\")\n",
    "plt.plot(model_history.history['val_accuracy'] + model_history_1.history['val_accuracy'], \n",
    "         color=\"black\", \n",
    "         linestyle=\"dashed\")\n",
    "plt.title('AT_RNN accuracy')\n",
    "plt.ylabel('accuracy')\n",
    "plt.xlabel('epoch')\n",
    "plt.savefig(\"AT_RNN\")\n",
    "plt.show()"
   ]
  },
  {
   "cell_type": "code",
   "execution_count": 23,
   "metadata": {},
   "outputs": [],
   "source": [
    "model_history.history['accuracy'] += model_history_1.history['accuracy']\n",
    "model_history.history['val_accuracy'] += model_history_1.history['val_accuracy']"
   ]
  },
  {
   "cell_type": "code",
   "execution_count": 25,
   "metadata": {},
   "outputs": [],
   "source": [
    "save_model_history(model_history.history, \"AT_RNN\")"
   ]
  },
  {
   "cell_type": "code",
   "execution_count": 26,
   "metadata": {},
   "outputs": [
    {
     "name": "stdout",
     "output_type": "stream",
     "text": [
      "              precision    recall  f1-score   support\n",
      "\n",
      "        down       0.92      0.72      0.81       254\n",
      "          go       0.85      0.78      0.81       229\n",
      "        left       0.83      0.84      0.84       236\n",
      "          no       0.87      0.84      0.86       242\n",
      "         off       0.73      0.89      0.80       226\n",
      "          on       0.89      0.74      0.81       229\n",
      "       right       0.91      0.81      0.86       252\n",
      "        stop       0.95      0.86      0.90       235\n",
      "     unknown       0.93      0.97      0.95      4081\n",
      "          up       0.85      0.78      0.81       250\n",
      "         yes       0.99      0.87      0.93       239\n",
      "\n",
      "    accuracy                           0.91      6473\n",
      "   macro avg       0.88      0.83      0.85      6473\n",
      "weighted avg       0.91      0.91      0.91      6473\n",
      "\n"
     ]
    }
   ],
   "source": [
    "print(report(model, X_test, Y_test, lb.classes_))"
   ]
  },
  {
   "cell_type": "code",
   "execution_count": null,
   "metadata": {},
   "outputs": [],
   "source": []
  }
 ],
 "metadata": {
  "kernelspec": {
   "display_name": "Python 3",
   "language": "python",
   "name": "python3"
  },
  "language_info": {
   "codemirror_mode": {
    "name": "ipython",
    "version": 3
   },
   "file_extension": ".py",
   "mimetype": "text/x-python",
   "name": "python",
   "nbconvert_exporter": "python",
   "pygments_lexer": "ipython3",
   "version": "3.7.10"
  }
 },
 "nbformat": 4,
 "nbformat_minor": 4
}
