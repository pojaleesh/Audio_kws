{
 "cells": [
  {
   "cell_type": "code",
   "execution_count": 216,
   "id": "f63bfb22-c5be-46fe-9136-5498337e82c4",
   "metadata": {},
   "outputs": [],
   "source": [
    "import librosa\n",
    "import librosa.display\n",
    "import json\n",
    "import numpy as np\n",
    "import matplotlib.pyplot as plt\n",
    "import tensorflow as tf\n",
    "from matplotlib.pyplot import specgram\n",
    "import pandas as pd\n",
    "import seaborn as sns\n",
    "from pathlib import Path\n",
    "import os\n",
    "import soundfile as sf\n",
    "import pickle\n",
    "from pydub import AudioSegment\n",
    "from pydub.playback import play\n",
    "import IPython.display as ipd\n",
    "from audiomentations import Compose, AddGaussianNoise, TimeStretch, PitchShift, Shift, ClippingDistortion\n",
    "import random"
   ]
  },
  {
   "cell_type": "code",
   "execution_count": 10,
   "id": "cdc0ff27-a08d-4a4f-91c6-9bc36906ea1e",
   "metadata": {},
   "outputs": [],
   "source": [
    "k = os.listdir(os.path.abspath('../../spotter_data/_background_noise_'))"
   ]
  },
  {
   "cell_type": "code",
   "execution_count": 11,
   "id": "0f3ca77a-7f76-45d4-943a-a9ef5b7b8b29",
   "metadata": {},
   "outputs": [
    {
     "data": {
      "text/plain": [
       "['pink_noise.wav',\n",
       " 'white_noise.wav',\n",
       " 'dude_miaowing.wav',\n",
       " 'doing_the_dishes.wav',\n",
       " 'exercise_bike.wav',\n",
       " 'running_tap.wav']"
      ]
     },
     "execution_count": 11,
     "metadata": {},
     "output_type": "execute_result"
    }
   ],
   "source": [
    "k"
   ]
  },
  {
   "cell_type": "code",
   "execution_count": 12,
   "id": "3b7ce667-4fb2-411d-adf1-d4b5bb33cea5",
   "metadata": {},
   "outputs": [
    {
     "name": "stdout",
     "output_type": "stream",
     "text": [
      "exercise_bike.wav\n"
     ]
    }
   ],
   "source": [
    "print(random.choice(k))"
   ]
  },
  {
   "cell_type": "code",
   "execution_count": 13,
   "id": "3d41f6d2-6fe6-49e1-9420-e2acd3abd0c7",
   "metadata": {},
   "outputs": [],
   "source": [
    "df_target = pd.read_csv(os.path.abspath('Target_words_dataframe'))\n",
    "df_unknown = pd.read_csv(os.path.abspath('Unknown_words_dataframe'))\n",
    "df = pd.read_csv(os.path.abspath('full_df'))"
   ]
  },
  {
   "cell_type": "code",
   "execution_count": 14,
   "id": "2230d17d-b22a-4fb8-9b7a-b9dca9d17b03",
   "metadata": {},
   "outputs": [],
   "source": [
    "df_target = df_target.drop(columns=['Unnamed: 0'], axis=1)\n",
    "df_unknown = df_unknown.drop(columns=['Unnamed: 0'], axis=1)"
   ]
  },
  {
   "cell_type": "code",
   "execution_count": 15,
   "id": "824f681c-cc10-4505-b935-b0b1e1795511",
   "metadata": {},
   "outputs": [],
   "source": [
    "def pick_background_folder(background_folder):\n",
    "    background_noises = os.listdir(background_folder)\n",
    "    return random.choice(background_noises)"
   ]
  },
  {
   "cell_type": "code",
   "execution_count": 16,
   "id": "64f71ff9-148d-4f20-805c-69a813c8d873",
   "metadata": {},
   "outputs": [],
   "source": [
    "def get_background_segment(background_data, noise_len):\n",
    "    start_ms = 0\n",
    "    while True:\n",
    "        ind = random.choice(range(0, len(background_data)))\n",
    "        if ind + noise_len < len(background_data):\n",
    "            return background_data[ind: ind + noise_len] "
   ]
  },
  {
   "cell_type": "code",
   "execution_count": 17,
   "id": "7c530fd5-0e72-43cb-9faa-ba85e5f07455",
   "metadata": {},
   "outputs": [],
   "source": [
    "def insert_background(background_folder, wav_data, len_data):\n",
    "    background_name = pick_background_folder(background_folder)\n",
    "    background_data = AudioSegment.from_wav(background_folder + '/' + background_name)\n",
    "    print(background_name, len(background_data))\n",
    "    noise = get_background_segment(background_data, len_data)\n",
    "    play(noise)\n",
    "    wav_data = wav_data.overlay(noise, position=0)\n",
    "    return wav_data"
   ]
  },
  {
   "cell_type": "code",
   "execution_count": 132,
   "id": "09119a27-413f-4156-b620-33095ef0662d",
   "metadata": {},
   "outputs": [],
   "source": [
    "wav_path_1 = df_target['path'][0]\n",
    "wav_path_2 = df_target['path'][1]\n",
    "wav_data = AudioSegment.from_wav(wav_path)"
   ]
  },
  {
   "cell_type": "code",
   "execution_count": 19,
   "id": "b1a40c60-0348-4ac8-bef7-6ffd016f10ec",
   "metadata": {},
   "outputs": [],
   "source": [
    "play(wav_data)"
   ]
  },
  {
   "cell_type": "code",
   "execution_count": 90,
   "id": "1c615b30-d99f-478d-badd-641c3af75fa1",
   "metadata": {},
   "outputs": [
    {
     "name": "stdout",
     "output_type": "stream",
     "text": [
      "dude_miaowing.wav 61806\n"
     ]
    }
   ],
   "source": [
    "wav_data = insert_background('../../spotter_data/_background_noise_', wav_data, 1000)"
   ]
  },
  {
   "cell_type": "code",
   "execution_count": 91,
   "id": "4b4ca2fc-9f1f-4ebf-8871-8d557e85ef2b",
   "metadata": {},
   "outputs": [],
   "source": [
    "play(wav_data)"
   ]
  },
  {
   "cell_type": "code",
   "execution_count": 92,
   "id": "5f901514-3a9a-4b61-b0a3-b58a69da8a78",
   "metadata": {},
   "outputs": [
    {
     "ename": "ParameterError",
     "evalue": "Audio data must be of type numpy.ndarray",
     "output_type": "error",
     "traceback": [
      "\u001b[0;31m---------------------------------------------------------------------------\u001b[0m",
      "\u001b[0;31mParameterError\u001b[0m                            Traceback (most recent call last)",
      "\u001b[0;32m<ipython-input-92-f737c8f9593b>\u001b[0m in \u001b[0;36m<module>\u001b[0;34m\u001b[0m\n\u001b[0;32m----> 1\u001b[0;31m \u001b[0mwav_data\u001b[0m \u001b[0;34m=\u001b[0m \u001b[0mlibrosa\u001b[0m\u001b[0;34m.\u001b[0m\u001b[0meffects\u001b[0m\u001b[0;34m.\u001b[0m\u001b[0mtime_stretch\u001b[0m\u001b[0;34m(\u001b[0m\u001b[0mwav_data\u001b[0m\u001b[0;34m,\u001b[0m\u001b[0;36m0.4\u001b[0m\u001b[0;34m)\u001b[0m\u001b[0;34m\u001b[0m\u001b[0;34m\u001b[0m\u001b[0m\n\u001b[0m",
      "\u001b[0;32m~/Desktop/audio_project/venv37/lib/python3.7/site-packages/librosa/effects.py\u001b[0m in \u001b[0;36mtime_stretch\u001b[0;34m(y, rate, **kwargs)\u001b[0m\n\u001b[1;32m    243\u001b[0m \u001b[0;34m\u001b[0m\u001b[0m\n\u001b[1;32m    244\u001b[0m     \u001b[0;31m# Construct the short-term Fourier transform (STFT)\u001b[0m\u001b[0;34m\u001b[0m\u001b[0;34m\u001b[0m\u001b[0;34m\u001b[0m\u001b[0m\n\u001b[0;32m--> 245\u001b[0;31m     \u001b[0mstft\u001b[0m \u001b[0;34m=\u001b[0m \u001b[0mcore\u001b[0m\u001b[0;34m.\u001b[0m\u001b[0mstft\u001b[0m\u001b[0;34m(\u001b[0m\u001b[0my\u001b[0m\u001b[0;34m,\u001b[0m \u001b[0;34m**\u001b[0m\u001b[0mkwargs\u001b[0m\u001b[0;34m)\u001b[0m\u001b[0;34m\u001b[0m\u001b[0;34m\u001b[0m\u001b[0m\n\u001b[0m\u001b[1;32m    246\u001b[0m \u001b[0;34m\u001b[0m\u001b[0m\n\u001b[1;32m    247\u001b[0m     \u001b[0;31m# Stretch by phase vocoding\u001b[0m\u001b[0;34m\u001b[0m\u001b[0;34m\u001b[0m\u001b[0;34m\u001b[0m\u001b[0m\n",
      "\u001b[0;32m~/Desktop/audio_project/venv37/lib/python3.7/site-packages/librosa/core/spectrum.py\u001b[0m in \u001b[0;36mstft\u001b[0;34m(y, n_fft, hop_length, win_length, window, center, dtype, pad_mode)\u001b[0m\n\u001b[1;32m    215\u001b[0m \u001b[0;34m\u001b[0m\u001b[0m\n\u001b[1;32m    216\u001b[0m     \u001b[0;31m# Check audio is valid\u001b[0m\u001b[0;34m\u001b[0m\u001b[0;34m\u001b[0m\u001b[0;34m\u001b[0m\u001b[0m\n\u001b[0;32m--> 217\u001b[0;31m     \u001b[0mutil\u001b[0m\u001b[0;34m.\u001b[0m\u001b[0mvalid_audio\u001b[0m\u001b[0;34m(\u001b[0m\u001b[0my\u001b[0m\u001b[0;34m)\u001b[0m\u001b[0;34m\u001b[0m\u001b[0;34m\u001b[0m\u001b[0m\n\u001b[0m\u001b[1;32m    218\u001b[0m \u001b[0;34m\u001b[0m\u001b[0m\n\u001b[1;32m    219\u001b[0m     \u001b[0;31m# Pad the time series so that frames are centered\u001b[0m\u001b[0;34m\u001b[0m\u001b[0;34m\u001b[0m\u001b[0;34m\u001b[0m\u001b[0m\n",
      "\u001b[0;32m~/Desktop/audio_project/venv37/lib/python3.7/site-packages/librosa/util/utils.py\u001b[0m in \u001b[0;36mvalid_audio\u001b[0;34m(y, mono)\u001b[0m\n\u001b[1;32m    285\u001b[0m \u001b[0;34m\u001b[0m\u001b[0m\n\u001b[1;32m    286\u001b[0m     \u001b[0;32mif\u001b[0m \u001b[0;32mnot\u001b[0m \u001b[0misinstance\u001b[0m\u001b[0;34m(\u001b[0m\u001b[0my\u001b[0m\u001b[0;34m,\u001b[0m \u001b[0mnp\u001b[0m\u001b[0;34m.\u001b[0m\u001b[0mndarray\u001b[0m\u001b[0;34m)\u001b[0m\u001b[0;34m:\u001b[0m\u001b[0;34m\u001b[0m\u001b[0;34m\u001b[0m\u001b[0m\n\u001b[0;32m--> 287\u001b[0;31m         \u001b[0;32mraise\u001b[0m \u001b[0mParameterError\u001b[0m\u001b[0;34m(\u001b[0m\u001b[0;34m\"Audio data must be of type numpy.ndarray\"\u001b[0m\u001b[0;34m)\u001b[0m\u001b[0;34m\u001b[0m\u001b[0;34m\u001b[0m\u001b[0m\n\u001b[0m\u001b[1;32m    288\u001b[0m \u001b[0;34m\u001b[0m\u001b[0m\n\u001b[1;32m    289\u001b[0m     \u001b[0;32mif\u001b[0m \u001b[0;32mnot\u001b[0m \u001b[0mnp\u001b[0m\u001b[0;34m.\u001b[0m\u001b[0missubdtype\u001b[0m\u001b[0;34m(\u001b[0m\u001b[0my\u001b[0m\u001b[0;34m.\u001b[0m\u001b[0mdtype\u001b[0m\u001b[0;34m,\u001b[0m \u001b[0mnp\u001b[0m\u001b[0;34m.\u001b[0m\u001b[0mfloating\u001b[0m\u001b[0;34m)\u001b[0m\u001b[0;34m:\u001b[0m\u001b[0;34m\u001b[0m\u001b[0;34m\u001b[0m\u001b[0m\n",
      "\u001b[0;31mParameterError\u001b[0m: Audio data must be of type numpy.ndarray"
     ]
    }
   ],
   "source": [
    "wav_data = librosa.effects.time_stretch(wav_data,0.4)"
   ]
  },
  {
   "cell_type": "code",
   "execution_count": 158,
   "id": "32140996-681d-4333-b9de-f2d8761e5134",
   "metadata": {},
   "outputs": [],
   "source": [
    "data_1, sr = librosa.load(wav_path_1)\n",
    "data_2, sr = librosa.load(wav_path_2)"
   ]
  },
  {
   "cell_type": "code",
   "execution_count": 159,
   "id": "87ea07ef-27aa-433e-bed6-fc898450510f",
   "metadata": {},
   "outputs": [
    {
     "data": {
      "text/plain": [
       "(22050, 22050)"
      ]
     },
     "execution_count": 159,
     "metadata": {},
     "output_type": "execute_result"
    }
   ],
   "source": [
    "len(data_1), len(data_2)"
   ]
  },
  {
   "cell_type": "code",
   "execution_count": 160,
   "id": "c40e4e7e-f92c-46c4-ba4d-91d1e7c710b0",
   "metadata": {},
   "outputs": [],
   "source": [
    "data_1 = np.expand_dims(data_1, 0)\n",
    "data_2 = np.expand_dims(data_2, 0)"
   ]
  },
  {
   "cell_type": "code",
   "execution_count": 161,
   "id": "486d680c-5167-42fe-b43d-355cf4aeda86",
   "metadata": {},
   "outputs": [
    {
     "data": {
      "text/plain": [
       "(1, 22050)"
      ]
     },
     "execution_count": 161,
     "metadata": {},
     "output_type": "execute_result"
    }
   ],
   "source": [
    "data_1.shape"
   ]
  },
  {
   "cell_type": "code",
   "execution_count": 162,
   "id": "c66d3264-0163-477f-b8be-f74466b2612f",
   "metadata": {},
   "outputs": [
    {
     "data": {
      "text/plain": [
       "(2, 22050)"
      ]
     },
     "execution_count": 162,
     "metadata": {},
     "output_type": "execute_result"
    }
   ],
   "source": [
    "data = np.concatenate((data_1, data_2), axis=0)\n",
    "data.shape"
   ]
  },
  {
   "cell_type": "code",
   "execution_count": 280,
   "id": "99e6b563-5ab6-44ec-93c2-efb2d9ec8a3d",
   "metadata": {},
   "outputs": [],
   "source": [
    "SAMPLE_RATE = 22050\n",
    "\n",
    "augment = Compose([\n",
    "    #AddGaussianNoise(min_amplitude=0.001, max_amplitude=0.015, p=0.5),\n",
    "    #TimeStretch(min_rate=0.8, max_rate=1.5, p=1),\n",
    "    #PitchShift(min_semitones=-6, max_semitones=6, p=1),\n",
    "    #Shift(min_fraction=-0.3, max_fraction=0.3, p=0.5),\n",
    "    ClippingDistortion(min_percentile_threshold=15, max_percentile_threshold=15, p=1)\n",
    "])"
   ]
  },
  {
   "cell_type": "code",
   "execution_count": 281,
   "id": "155f09ac-a4fb-4023-bcc0-4b2e77306884",
   "metadata": {},
   "outputs": [],
   "source": [
    "augmented_samples = augment(samples=data, sample_rate=SAMPLE_RATE)"
   ]
  },
  {
   "cell_type": "code",
   "execution_count": 282,
   "id": "d0f3937a-722e-4fdf-9792-93042d2596d3",
   "metadata": {},
   "outputs": [
    {
     "name": "stdout",
     "output_type": "stream",
     "text": [
      "(2, 22050)\n"
     ]
    },
    {
     "data": {
      "text/plain": [
       "(22050,)"
      ]
     },
     "execution_count": 282,
     "metadata": {},
     "output_type": "execute_result"
    }
   ],
   "source": [
    "print(augmented_samples.shape)\n",
    "augmented_samples[0].shape"
   ]
  },
  {
   "cell_type": "code",
   "execution_count": 283,
   "id": "da88e908-16a0-4e5c-9783-bda3330014e7",
   "metadata": {},
   "outputs": [],
   "source": [
    "sf.write('tone.wav', augmented_samples[1], SAMPLE_RATE)"
   ]
  },
  {
   "cell_type": "code",
   "execution_count": 284,
   "id": "fbe0e5ed-cee0-4a04-b2d1-60afaef3b382",
   "metadata": {},
   "outputs": [
    {
     "data": {
      "text/html": [
       "\n",
       "                <audio  controls=\"controls\" >\n",
       "                    <source src=\"data:audio/x-wav;base64,UklGRmisAABXQVZFZm10IBAAAAABAAEAIlYAAESsAAACABAAZGF0YUSsAADR/7X/rf+0/8P/zP/O/9H/zf/B/7r/uv/A/83/0//R/97/8P/3/wEAFAAcABcABQDi/8z/2f/e/8f/wP/V/+H/0v+t/4f/fP+G/4b/gf+G/4z/k/+c/5z/m/+2/9n/3//k////AADl/+P/6//g/+T/8//0/wcAIgAbABgALwAwACoAPQBAAC8AOQBVAGYAcgB7AIAAfQBuAGkAcgBxAG8AdQBsAGUAeAB6AGEAXgBtAG8AdwCFAHkAZQBcAFEAUwBvAIEAgACOAKEAlAB0AF8AVgBZAGgAdAByAHMAewBwAFYATABLAEAAQQBNAEQALwAiAA8A/f8CAAQA+//9//b/3v/e/+v/3P/L/+D//f/5/9v/v/+p/4r/bv90/5P/ov+S/3f/aP9n/2r/a/9p/2v/bf9l/1X/R/9B/1H/c/+X/7D/uP+w/6j/nf+A/3X/kP+h/5n/nf+e/3//XP9P/1b/bf+B/4n/i/+G/3z/hP+c/7v/3P/q/+P/5P/n/97/3P/o//n/EAArAEIAVgBhAGQAbQBzAHAAdgB+AH0AgQCPAJUAkwCWAJ4ApQCsALQAsgCjAJwAoQCcAJQAmQCdAKoAxAC+AJYAiQCUAIsAewB1AGkAWABYAFgAQQAoACkAMgAuAC4AMAAeAAoABQACAAoAHAAWAAMA///v/9D/xv/G/73/xf/b/9//1v/T/87/vP+n/53/mv+P/3v/bv9z/4D/iv+L/43/lP+T/47/lv+e/5f/k/+W/5P/n/+7/8D/sf+0/8H/v/+6/7n/vP/M/+L/9P8LAB0AFwALAAsAAADn/+D/5f/d/9r/7f/w/9//5f/2//P/+v8LAAUABgAmADkAMwA1ADYAKQAdABQABwD6//L/7v/k/9b/2//p/+v/7P/r/9j/0P/f/+X/7P8NACoALQAoACQAJQAwADUANAA+AEgASQBMAEwAQQA2ADEANgBIAE8AQQA0ACcAFgAdADEAMgAxADsAQAA/ADYAHwAbAC8AOQBHAGUAYwBCADcAOAAyAD0AVgBhAGIAZABdAEoAPABAAEUAQwBIAE0APAArACcAFgAIAA8ADgABAAEACQAJAPr/4//p/wEA8v/Y/+P/6P/Q/8T/wf+3/73/wP+e/3//fv+B/3j/cP96/5H/lf+R/5//nP+G/5H/pP+b/6L/t/+x/7b/z//F/7n/0P/U/8T/yv/I/6z/mf+U/5r/rv+3/7P/t/+4/7P/uv/D/8b/0//q/w4APABMADgAMwBCAEUARQBMAFMAWQBWAEoAPwA1ADIARgBYAE0APwA3ACEAGwA5AFIATwBLAFUAaQBxAHAAewCCAGwAXwBnAFkAPQAzACgAGwAiACQAGwAjAC8AJAAbAB4AHAAfADEAQABEAEsAWQBbAE4ASABEADkAPwBQAEMALAA1AD4AJwAVABgAEgAJAA0ACgDx/9X/z//d/+3/+f8AAPf/6P/s//H/3f/Y//H//f/x/+f/1/+7/7T/yf/f/+D/x/+q/5z/lv+Y/6D/lP+E/6T/zf/D/6v/p/+a/5L/pP+r/53/n/+m/6H/pv+3/8D/w/+6/6L/kP+H/37/eP94/3j/gP+N/47/kP+f/6//wv/e/+7/5v/Y/8//0f/f//H/BQAfAC4AJQATAA0AFwAyAFUAagBnAFkATQBMAFoAbQB5AIkApACqAJQAhgCFAIgAmwClAIsAfACKAHkARAAfABIAEwAcABcABwAFAAEA9f///xcAIwAxAEUATgBLAEUAQQBNAGAAXQBDACgAEwAFAAsAGwAcABUACQDx/9b/yv+8/6//s//D/9b/6f/o/9T/zv/Z/+7/DAARAPv/+P8EAP///f8CAPz///8FAPP/3//V/8H/tv+9/77/wP/F/7j/r//I/+P/8P/+/wQAAAD//wIABQAAAO//5//w/+r/2P/U/9H/w//B/9H/3v/b/9L/2P/n/+7/8//8//7/AAAOABEAAwD+/wAA9//2////+v/u/+f/3//U/8z/y//c//P/9//z//P/6P/d/+z/+P/o/+L/8f/6/wkAKgA6ADcAQgBKADEADgABAAcAFQAcABMACQAPABwAHQAVAB4AOQBCADsARgBTAEYAPwBNAF0AZABUADQAMwBKAEUALwAnAB0AEAAcACsAHQALAA4AEAAEAAAACAABAO//5//k/+D/4f/c/9L/zf/I/73/tv+x/7D/sv+p/5//of+e/5D/if98/23/ev+R/5b/of+//9D/y//E/8T/xf/C/8L/xv+7/6T/pP+6/7z/rP+n/6j/o/+k/6n/pv+o/67/qv+k/6X/qP+u/7j/tv+t/7X/zP/Y/9D/x//G/87/4f/u/+7/8//+//z//v8JAAoAEQAtADcAKwAwADwAOQBDAGAAewCSAJsAkgCIAIMAgwCKAIwAhACBAIAAfAB1AGoAZAB6AJgAowCgAI0AewCLAJwAjQCTALoAxAC3ALkAsACeAKYAtQCtAKAAlwCHAHUAYgBWAFcAXQBkAGUAUQA0ACcAHwAKAPj/8f/z////DAAUABcAEAAMAA8AAwDw/+z/5//S/7j/nf+O/5X/mP+M/4v/kv+U/5z/pv+s/7b/v//C/8T/wv+z/6b/ov+k/6z/qv+R/4H/hP99/3D/d/+D/4b/i/+G/3D/Zv9s/3D/fP+U/57/mv+Y/5j/l/+X/5X/lv+j/7j/yv/R/9f/5f/y//z/DgAeACQALgAjAPn/6f/+/wAAAAAiADYALAAwADIAGgATACYAOQBOAF8AWwBXAF0AWQBNAEAANgA6AEEAPgA6AC8AEwACAAQAAwAFABIAHAAjACUAJAAvADwAMwAnACcAIwAmADwATABHADcAJQAcACIAKwAoAB0AHAArADUANAAwACQAGgAbAAkA6f/t//z/6P/g/wEAFgASABQADAD0/+7/AwANAPb/0v/B/7//tP+e/47/lP+r/8T/zf+//6T/jP+A/4D/i/+c/7L/zv/g/9z/2f/b/87/yf/Q/8P/tv/E/7//nP+P/5D/hv+L/5n/lv+S/5P/m/+t/67/o/+y/8D/uP/E/9H/uf+9/+//CgAAAPL/5//z/wcAAQD+/xgALgBAAFMASAApACcAOQA3ADAATgB9AIgAcgBtAIAAlACsALkAqwCgALEAugCuAKsAqwCmAK0ArQCMAGwAbQBxAG4AcQBnAFQAZACLAJgAjACHAIoAgwB7AH8AhgCGAIsAiQB2AGcAXgBKAEoAaQBiACsAEQAZABMABAABAAEADQAlACgAGwAcABwADAALAB8AKQAkABoACgD0/93/yP/E/8r/yP/N/97/0v+o/4v/if+T/57/nP+P/47/nP+m/6X/nf+V/5D/jf+G/3n/aP9c/17/Zv94/4//if9r/2T/YP9E/zz/Uf9T/1b/bv9l/z//O/9H/0X/VP9y/37/hv+P/4r/iv+V/5X/mP+u/7b/sP+5/8f/xP/G/9T/4P/u////BwAQACIAJQAhADEASQBYAGEAVwA5AC0APQBNAFUAXQBjAGoAdwB5AG4AbwB9AIYAigCPAIYAcgBoAG4AegB9AHQAbABqAGUAYwBiAFAAPABGAFkAWgBSAEgAOQA0ADoAOgA0AC0AJwAfABMABgACAAgACgAEAAoAHAAaAAUABQAXABkACgD+//z/CgAfAB8ACwDx/9T/wf/K/9//4v/L/7j/v//Q/8b/rP+q/7j/rf+S/5H/n/+c/53/t//G/8D/wv/D/8D/y//G/5//lv+4/8H/sP+2/8X/zP/U/9L/0P/o//3/6f/N/8v/1f/Y/9n/3f/Y/8L/s//D/9T/z//T/+v/8P/m/+7/AgAZADoASAAvABgAGQAiADEATABfAGoAegB/AHEAaABkAGwAjwCwALAArwC2AK0AsADEALoAsADFAMIAsQDEAMEAjgCNAMEA1QDSANMAsAB1AFIAQgBAAEwARwAzADkAUABTADwAIwAoAEEANQAAAOT/8v8TADoAOgD7/83/4//+//L/0f+g/3v/k//Q//D/1v+S/2H/d/+a/4D/Vv9d/3X/ev+C/4P/aP9P/0n/Qv9J/1r/Qv8Z/yb/S/9Q/0f/Nv8Q/wT/Hv8q/yb/H/8D/+r+Bf8z/0//ZP9z/3D/a/9y/3z/jf+c/53/oP+3/8n/xP+1/6r/sP/N/+7/+//v/9b/w//D/8//7f8cAC0AEQAFABkAKQAsADMAPwBVAGcAZABhAHAAcQBpAHkAjQCKAIsAmACXAJwAsQCxAJ4AqQC2AJ0AkwCyAMAAuADJAOIA7AD0APAA1wDPANsA4QDaAM4AwwC/ALwAsgCiAIsAfACCAIMAZwA/ACgAKAAnABYAEAAnADMAIgASAAgA9f/1/wYA+P/b/93/5f/W/8r/vP+T/3L/eP9+/2b/SP9B/0j/Rf9E/1v/cP9q/3L/lP+i/5v/oP+l/5v/nP+p/67/t//K/8f/pv+N/47/mf+j/67/vP/D/7T/of+n/7z/yv/V/97/2//S/83/y//P/9n/5P/y/wEACAAIAAAA+f8EACAANQBCAEYANwAqADQAQwBCAD0AOQAtABkABgAGABQAEgAWAEAAXAA4AAoAAAAQADkAXgBTAEkAdgCdAI0AcABdAFQAZQCAAIsAlQCZAIcAfACGAIwAhAB0AFwARQA/AFYAgACKAFkAKQA0AGQAgABqADAABQAPACoAHwD1/8//t/+s/7D/rv+j/6P/pf+b/5z/tv/S/9//0/+3/7H/wf/G/8j/0f/L/8D/vf+r/5z/p/+h/4n/mf+u/5D/df+C/4r/fv93/4H/nP+5/7v/pv+P/37/hP+f/7z/1v/i/8n/qv+0/9D/0f+8/6P/if+G/6D/s/+x/6//q/+l/6v/uP+1/63/tf/H/9v/7//4//7/CwAPAAsAEwAcAB8AMwBPAFMAUQBRAD8AOgBiAHwAdQB7AH0AYQBYAHYAhAB1AGcAYQBmAHoAjQCYAJMAeQBaAEsAQwBFAFcAYwBcAFYASwA1AC0ALAAZAAsAGAAdABMAEwAfADIARABGAEIARgA2AAwA6//V/8r/1v/a/8D/tP/G/9j/5//y/+H/xf/H/9b/1v/T/9v/4v/t//X/5//Y/97/2f/K/9T/4P/N/8T/yf+2/6D/mf+D/2//hP+g/6P/qf+1/6//pP+t/8T/yv+z/5v/n/+1/8D/sP+C/1v/Zv+H/5D/jP+I/33/gf+Y/6P/p//B/+D/7/8AABsAIwAiADMAQQA3ADQATABdAF4AXwBbAFEASQA4ACcAMAA/ADsAPQBGAD4ATQCDAJMAbwBpAHgAYQBYAIIAlAB+AIIAjgB8AGkAVQAtABEACAD8//X/7f/c/+D/9P/4//j////6/+z/7f/8/xAAHwAjACEAFgAFAPz/9//p/+b/8f/0/+3/6f/t//X/7//Z/9P/5//6/wEA9//g/+L/BQAaABcAGwAqADYAPwA6ACYAFAAPABAACQD5//T/CAAiACMABQDi/9P/1//a/93/4v/l/+X/5P/Z/8H/q/+y/83/1P/I/8T/xP+4/67/qP+d/5j/l/+J/3T/af9o/2r/cP95/4b/mf+p/6j/ov+y/8j/0v/V/87/vv/J/+r/9f/6/w4ADQAAAAYA/f/s//z/DQALACAANgAmABUAHgAoACoAKwAuADkAQAA6ADUAQABdAH8AhABzAHQAfwB6AHoAkQCsALEAlwB2AHMAhQCOAIcAdgBpAHAAgQCIAIAAbwBnAHYAiACMAJkAqgCnAJwAlwCRAJMAmQCFAGgAXwBUAEMAPwA7ADcATgBeAD8AJwA2AEAAMwAlABQAAgD3/+z/1f+w/4H/Yv9d/2H/ZP9n/2X/Z/9x/3j/fP+A/3H/U/9E/1T/d/+T/5T/i/+P/4v/dP9p/3T/ev99/4r/j/+E/4b/oP+5/8v/3P/e/83/yf/Y/+D/6P/8/wEA+f8BAAkABAAOACAAJQAnAB8A/f/m//H/AQAPAB8AIQAkACwAFgD0/wEAIgAoACsAMgAaAPf/6f/e/9b/6f8HABUAHwArACUAGwAkADcAQwBJAEQANQAzAEAAQwA0ACQAKgA9AD8AOwBOAFsATwBHAEcAQABDAEcAPAA4ADcALwA0ADwALAAlAC0AKgAnAB0A9f/i/wAADwD5/+D/wf+w/8H/x/+t/57/oP+i/6j/pf+U/4X/dv9p/33/pf+5/7n/tv+w/6v/r/+3/7r/tv+3/8D/sv+F/2X/bP99/4j/k/+W/5H/j/+M/4n/k/+n/7H/qP+g/6n/tf+1/7r/zv/r/wIABgD2/+r/6//w//v/CAASABYACQDr/9v/6f8IACMAKQAlACgAJAAVABMAHQApAEkAbQBsAFYASgBHAEoAWABzAJEAnQCQAIIAfwB/AHsAawBVAFcAagBvAHUAhQB+AGgAbQCCAIwAjACDAHQAdgCKAJUAiQBuAFEASABXAGgAcAB3AIMAhQB2AF4ARQAzADgASwBUAFIARgAoAAYA/f8IAA8ACgDu/8v/yP/W/87/xv/V/+P/3v/K/6n/lP+a/5z/l/+c/5j/gv90/23/av+F/6T/l/99/3P/Yf9b/3v/mP+e/6v/uP+r/5T/fv90/4j/qP+0/7r/wv/C/77/u/+5/8P/zP++/7H/rf+Y/4n/qv/g//n/9P/r/+f/2f/B/7X/wP/d/wQAIwAsACgAGwAMABsARgBaAFAASAA/AC8AMQBGAFUAXABjAGAATgBDAEgATABLAFAAZgCDAIkAdAB0AIwAkwCeALwAugCmALsA0gC9AKwArwCiAI8AhwB6AG4AZwBVAEgAWwBtAFUAIgAFAA4AGwATAAEA8P/g/9f/0f/A/7b/zP/l/+L/2//W/7L/gf9w/2P/Qf8s/y3/Kf8o/zb/Rv9N/1D/V/9i/2H/Uf9F/0f/W/+F/6b/qv+z/8b/x//D/8v/x/+4/6//n/+H/4T/kP+X/6T/t//C/9T/7P/m/9T/3v/v//H/9//2/+n/9v8RABIAFgAsADUAMAAjAAwAEQAwADcAMQBEAFgAXwBnAG4AdwCJAJMAkQCaAKgApwCWAIYAjgCmAK0AqQC6AMcAtACnALMAsgCjAKgAsACqAKoAqgCnALIAtACZAIYAfgBuAG4AcABIACQAJQAWAAgAGgAVAPj/BgAWAP3/8//3/9z/1/8AAAIA1f+8/7v/vf/L/9f/y/+5/6n/kv+C/4j/lv+c/6P/qP+k/53/mv+X/5//r/+z/6z/pv+Z/43/mv+y/7b/sf+6/8r/2v/v//r/6//T/8v/yP+0/5z/j/+M/5//w//Z/9P/xP+0/67/vf/S/97/3v/P/73/wP/A/6b/jv+V/6z/t/+w/6b/p/+z/7z/vP/A/83/1f/R/9P/5f/0/wAAHAAuACAAGwAvACsADgAJABwAMQBHAFQAWABgAF0AQgAuACwALQAyADsASABeAGMAUwBcAG4AYABcAG0AXwBPAGUAbwBmAHMAhACKAJYAggBOADUAOQA1ACkAFwAGAAUAEAAkADcAKQANAAwAEwAWADEASgA5ACoANgA+ADQAHwAGAPj/7P/g/97/2f/B/7f/vf+2/7D/vf+7/6X/o/+u/6X/k/+S/5f/of+8/+P///8JAAYA+//4/wkAGQAYABoAIgAIAN3/3//6//f/7v/m/7b/hv99/2v/XP+D/6r/p/+w/8r/0v/O/9D/2v/z/wgAEQAXABAAAgAEAAAA7P/p/+3/5//3/x0AMgA+AFAAYQBwAHEAXwBeAH4AmwCfAJoAqAC3AKAAdwBvAIAAhgCIAI4AjwCSAJQAjwCIAIcAkACdAJkAhgB9AHAAUwBMAFkAVABUAGQARgD//+f/+P/1/+n/8//6/+r/zv+n/4T/f/+E/3L/Xf9f/2L/Rv8b/xD/KP8z/y7/Lf8g/wz/Cv8P/wb/BP8Q/yP/Mv8u/yv/Nv8t/xv/Nv9R/yz/9/7m/ur++P4X/zT/Rf9V/2L/aP9o/2r/cv+E/6v/3/8FAA8AFQA1AGcAgwB4AGcAYgBlAHMAegB6AJcAxQDRAM0A1wDOALgAyADqAPMA5QDaAOMA+gAQASYBSgF3AY4BegFjAW0BZQExARoBPAFeAXIBawErAesA7gD1AMkAogCiAI0ATQAmAC4AIADs/8b/tP+h/4//Yv8W/+z+8f7t/uT+4/65/nT+Wv5c/jr+BP7l/dr90P3G/cb9xv3G/cb9xv3G/cb9xv3G/cb9xv3q/Sz+P/5G/mD+fv6h/sr+7P4J/yX/Of9Y/4v/sv/J//X/PQCLAMIA0QDYAAEBRwGXAeUBIQJIAmcCfAKVArgCuAK4ArgCuAK4ArgCuAK4ArgCuAK4ArgCuAK4ArgCuAK4ArgCuAK4ArgCuAK4Ap4CdQJLAgMCxAGGAS4B2wCQACwA3P/C/5P/MP/n/r/+dP4Q/sb9xv3G/cb9xv3G/cb9xv3G/cb9xv3G/cb9xv3G/cb9xv3G/cb9xv3G/cb9xv3G/cb9xv3G/cb9xv3G/cb9xv3G/cb93P1C/sD+LP+f/ywAjgDTAE8B3QFBAqkCuAK4ArgCuAK4ArgCuAK4ArgCuAK4ArgCuAK4ArgCuAK4ArgCuAK4ArgCuAK4ArgCuAK4ArgCuAK4ArgCuAK4ArgCuAK4ArgCcgK7AREBcwDh/2j/2/4a/sb9xv3G/cb9xv3G/cb9xv3G/cb9xv3G/cb9xv3G/cb9xv3G/cb9xv3G/cb9xv3G/cb9xv3G/cb9xv3G/cb9xv3G/cb9xv3G/cb9xv3G/Tr+0/5B/6X/DABuAOoAiQEPAnkCuAK4ArgCuAK4ArgCuAK4ArgCuAK4ArgCuAK4ArgCuAK4ArgCuAK4ArgCuAK4ArgCuAK4ArgCuAK4ArgCuAK4ArgCuAK4ArgCuAK4ArgCuAKYAgACPAFKAIX/1v4H/sb9xv3G/cb9xv3G/cb9xv3G/cb9xv3G/cb9xv3G/cb9xv3G/cb9xv3G/cb9xv3G/cb9xv3G/cb9xv3G/cb9xv3G/cb9xv3G/cb9xv3G/cb9Lf6V/kH/GACnAP8AiAEgAlACTwK4ArgCuAK4ArgCuAK4ArgCuAK4ArgCuAK4ArgCuAK4ArgCuAK4ArgCuAK4ArgCuAK4ArgCuAK4ArgCuAK4ArgCuAK4ArgCuAK4ArgCuAK4ArgCuAK4ArgCuAK4ArgCIAL6ANMAXAFfAdkAaQDK/9D+BP7G/cb9xv3G/cb9xv3G/cb9xv3G/cb9xv3G/cb9xv3G/cb9xv3G/cb9xv3G/cb9xv3G/cb9xv3G/cb9xv3G/cb9xv3G/cb9xv3G/cb9xv3G/cz9Rv61/hD/hv8hAJwA2wAaAXoB1QEmApkCuAK4ArgCuAK4ArgCuAK4ArgCuAK4ArgCuAK4ArgCuAK4ArgCuAK4ArgCuAK4ArgCuAK4ArgCuAK4ArgCuAK4ArgCuAK4ArgCuAK4ArgCuAK4ArgCuAKqAsYB0gDR/9H+3/3G/cb9xv3G/cb9xv3G/cb9xv3G/cb9xv3G/cb9xv3G/cb9xv3G/cb9xv3G/cb9xv3G/cb9xv3G/cb9xv3G/cb9xv3G/cb9xv3G/cb9xv3G/cb9Lv5U/y4AlgDHAOIA8wBMARsCuAK4ArgCuAK4ArgCuAK4ArgCuAK4ArgCuAK4ArgCuAK4ArgCuAK4ArgCuAK4ArgCuAK4ArgCuAK4ArgCuAK4ArgCuAK4ArgCuAK4ArgCuAK4ArgCuAK4ArgCWAKsAMj/Sf/3/iz+xv3G/cb9xv3G/cb9xv3G/cb9xv3G/cb9xv3G/cb9xv3G/cb9xv3G/cb9xv3G/cb9xv3G/cb9xv3G/cb9xv3G/cb9xv3G/cb9xv0X/iD+7f0j/g7/TAAXAWQBvAEGAt0BxQF7ArgCuAK4ArgCuAK4ArgCuAK4ArgCuAK4ArgCuAK4ArgCuAK4ArgCuAK4ArgCuAK4ArgCuAK4ArgCuAK4ArgCuAK4ArgCuAK4ArgCuAK4ArgCuAK4ArgCuAK4ArgCtgCT/sb99/1G/sb9xv3G/cb9xv3G/cb9xv3G/cb9xv3G/cb9xv3G/cb9xv3G/cb9xv3G/cb9xv3G/cb9xv3G/cb9xv3G/cb9xv3G/cb9xv3G/Qn+kP4N/xL/zP40/14AhQFpArgCuAK4AoQCXgK4ArgCuAK4ArgCuAK4ArgCuAK4ArgCuAK4ArgCuAK4ArgCuAK4ArgCuAK4ArgCuAK4ArgCuAK4ArgCuAK4ArgCuAK4ArgCuAK4ArgCuAK4ArgCtAK4ArgCuAK4AgcCQ//G/cb9xv3G/cb9xv3G/cb9xv3G/cb9xv3G/cb9xv3G/cb9xv3G/cb9xv3G/cb9xv3G/cb9xv3G/cb9xv3G/cb9xv3G/cb9xv3G/cb96v10/o7+4f4X//v+HP+q/58ASAK4ArgCuAICAlQB8wG4ArgCuAK4ArgCuAK4ArgCuAK4ArgCuAK4ArgCuAK4ArgCuAK4ArgCuAK4ArgCuAK4ArgCuAK4ArgCuAK4ArgCuAK4ArgCuAK4ArgCuAK4AnkCuAK4ArgCuAK4AqMAxv3G/cb9xv3G/cb9xv3G/cb9xv3G/cb9xv3G/cb9xv3G/cb9xv3G/cb9xv3G/cb9xv3G/cb9xv3G/cb9xv3G/cb9xv3G/cb9xv3G/cb9iv5N/wQAXgDi/0H/VP8FABUBhwK4ArgCuAIaAiYBtAG4ArgCuAK4ArgCuAK4ArgCuAK4ArgCuAK4ArgCuAK4ArgCuAK4ArgCuAK4ArgCuAK4ArgCuAK4ArgCuAK4ArgCuAK4ArgCuAK4ArgCuAK4ArgC1QG4ArgCuAK4Atv+xv3G/cb9xv3G/cb9xv3G/cb9xv3G/cb9xv3G/cb9xv3G/cb9xv3G/cb9xv3G/cb9xv3G/cb9xv3G/cb9xv3G/fH9xv3G/cv9e/7c/o7/dABMAV8CuAK4ArgCBQIwAWoBuAK4ArgCuAKaAqEBRAK4ArgCuAK4ArgCcgKvAigCkwK4ArgCuAK4ArgCuAK4ArgCuAK4ArgCuAK4ArgCuAK4ArgCuAK4ArgCuAK4ArgCuAK4ArgCuAK4ArgCuAK1ArL/bAC4ArgCuAIp/sb9xv3G/cb9xv3G/cb9xv3G/cb9xv3G/cb9xv3G/cb9xv3G/cb9xv3G/cb9xv3G/cb9xv3G/cb9xv3G/cb9sgCyAmoBFf9D/uT+ZwB8ArgCuAK4ArgCcAIAAsABZAFfAX0CuAK4ArgCBgFC/wn/lQCOArgCuAKDAloBXwBeAHUBuAK4ArgCuAK4ArgCuAK4ArgCuAK4ArgCuAK4ArgCuAK4ArgCuAK4ArgCuAK4ArgCuAK4ArgCuAK4ArgCMgHG/cb9bwC4AgQBxv3G/cb9xv3G/cb9xv3G/cb9xv3G/cb9xv3G/cb9xv3G/cb9xv3G/cb9xv3G/cb9xv3G/cb9Uv7G/cb9xv3M/VcBuAK4ArgCIgIZAS8BSAK4ArgCuAK4AosC5wHVAOr/mP8iAGsBJgIrAVv/G/7G/cb9sf4JALAA4wCNAKv/nf/yAFACuAK4ArgCuAK4ArgCuAK4ArgCuAK4ArgCuAK4ArgCuAK4ArgCuAK4ArgCuAK4ArgCuAK4ArgCuAK4At7/xv3G/cb9y/7G/cb9xv3G/cb9xv3G/cb9xv3G/cb9xv3G/cb9xv3G/cb9xv3G/cb9xv3G/cb9xv3G/cb9Ff/PAIwBNgG1APIAZgK4ArgCuAK4ArgChAInArgCuAK4AtABigCY/9j+Pf7G/cb9xv3G/cb9xv3G/cb9xv3G/cb9xv3P/Yr+cv9yAJQBuAK4ArgCuAK4ArgCuAK4ArgCuAK4ArgCuAK4ArgCuAK4ArgCuAK4ArgCuAK4ArgCuAK4ArgCuAK4ArgCgv7G/cb9xv3G/cb9xv3G/cb9xv3G/cb9xv3G/cb9xv3G/cb9xv3G/cb9xv3G/cb9xv3G/cb9xv3G/cb9JgB6ArgCuAK4ArgCuAK4ArgCuAK4ArgCuAK4AtUA+v7W/cb9xv3G/cb9xv3G/cb9xv3G/cb9xv3G/cb9xv3G/cb9xv3G/cb9df41AOIBuAK4ArgCuAK4ArgCuAK4ArgCuAK4ArgCuAK4ArgCuAK4ArgCuAK4ArgCuAK4ArgCuAK4AggAuwG4ArgCuAJb/8b9xv3G/cb9xv3G/cb9xv3G/cb9xv3G/cb9xv3G/cb9xv3G/cb9xv3G/cb9xv3G/cEAuAK4ArgCuAK4ArgCuAK4ArgCuAK4ArgCuAJ0AXsBMwHn/zP+xv3G/cb9xv3G/cb9xv3G/cb9xv3G/cb9xv3G/cb9xv3G/cb9xv1z/3YBuAK4ArgCuAK4ArgCuAK4ArgCuAK4ArgCuAK4ArgCuAK4ArgCuAK4ArgCuAK4ArgCuAK4ArgCuAK4ArgCEf7G/cb9xv3wAFoAxv3G/cb9xv3G/cb9xv3G/cb9xv3G/cb9xv3G/cb9xv3G/cb9xv3G/TP+BP/q/rD+rP+EArgCuAK4ArgCuAK4ArgCsQK4ArgCuAKjAfn9xv3G/cb9xv3G/cb9xv3G/cb9xv3G/cb9xv3G/cb9xv3G/cb9xv3G/S3+fP6P/woCuAK4ArgCuAK4ArgCuAK4ArgCuAK4ArgCuAK4ArgCuAK4ArgCuAK4ArgCuAK4ArgCuAK4ArgCuAK4ArgCuAK4AhH/xv3G/cb92f4bAM7+xv3G/cb9xv3G/cb9xv3G/cb9xv3G/cb9xv3G/cb9xv3G/cb9e/5BAGYBFgFl/2D+mv+gArgCuAK4ArgCqwD6/sb9xv3G/cb9xv3G/cb9xv3G/cb9xv3G/cb9xv3G/cb9xv3G/cb9xv3G/cb9xv3G/bQAuAK4ArgCuAK4ArgCuAK4ArgCuAK4ArgCuAK4ArgCuAK4ArgCuAK4ArgCuAK4ArgCuAK4ArgCuAK4ArgCuAK4ArgCuAK4ArgCuAK4ArgCQQHG/cb9rgK4ArgCuAL5AMb9xv3G/cb9xv3G/cb9xv3G/cb9xv3G/cb9xv3G/cb9xv3G/cb9xv3G/cb9xv3G/TYBuAK4Aq8B//96/sb9xv3G/cb9+v3G/cb9xv3G/cb9xv3G/cb9xv3G/cb9xv3G/cb9xv3G/cb9xv3G/Ur/tAK4ArgCuAK4ArgCuAK4ArgCuAK4ArgCuAK4ArgCuAK4ArgCuAK4ArgCuAK4ArgCuAK4ArgCuAK4ArgCuAK4ArgCuAK4ArgCuAK4ArgCuAK4Asb9+v24ArgCuAK4AuYAxv3G/cb9xv3G/cb9xv3G/cb9xv3G/cb9xv3G/cb9xv3G/cb9xv3G/cb9xv3R/XT/zAG4ArgCuAJHAQIAE/94/gn+7v0t/sb9xv3G/cb9xv3G/cb9xv3G/cb9xv3G/cb9xv3G/cb9xv3G/cb9gf+4ArgCuAK4ArgCuAK4ArgCuAK4ArgCuAK4ArgCuAK4ArgCuAK4AoABDgK4ArgCuAK4ArgCngFlAbgCuAK4ArgCuAK4ArgCuAK4ArgCuAK4ArgCIgG0/7gCuAK4ArgCTgHG/cb9xv3G/cb9xv3G/cb9xv3G/cb9xv3G/cb9xv3G/cb9xv3G/cb9Bf5y/14AWACUAbgCuAK4ArgCIwIvAYwAwP9Y/8P/9v7G/cb9xv3G/cb9xv3G/cb9xv3G/cb9xv3G/cb9xv3G/cb9GP+q/w0BuAK4ArgCuAK4ArgCuAK4ArgCuAK4ArgCuAK4ArgCuAK4ArgC7gHQAI4AIQE/Ab4AqQDkANEA9QAWArgCuAK4ArgCuAK4ArgCuAK4ArgCuAK4ArgCEAGiALgCuAK4ArgCQ//G/cb9xv3G/cb9xv3G/cb9xv3G/cb9xv3G/cb9xv3G/cb9xv3G/ZMAuAK4ArgCuAK4ArgCuAK4ArgCuAK4AigB4f7G/cb9xv3G/cb9xv3G/cb9xv3G/cb9xv3G/cb9xv3G/cb9xv3G/cb9xv3G/aYBuAK4ArgCuAK4ArgCuAK4ArgCuAK4ArgCuAK4ArgCuAK4AuYBHwFuAN///v/rALMBKAGt/0L/GgG4ArgCuAK4ArgCuAK4ArgCuAK4ArgCuAK4ArgCnP5bAbgCuAJ2Auj+xv3G/cb9xv3G/cb9xv3G/cb9xv3G/cb9xv3G/cb9xv3G/cb9z/64ArgCuAK4ArgCuAK4ArgCuAK4ArgCuAKq/8b9xv3G/cb9xv3G/cb9xv3G/cb9xv3G/cb9xv3G/cb9xv3G/cb9xv3G/cb9f/7nAbgCuAK4ArgCuAK4ArgCuAK4ArgCuAK4ArgCuAK4ArgCuAIjAqr/0P3G/aH+y/9ZAIYASgDG/+r/ggG4ArgCuAK4ArgCuAK4ArgCuAK4ArgCuAK4ArgCuALG/Rz/uAJWAmv+xv3G/cb9xv3G/cb9xv3G/cb9xv3G/cb9xv3G/cb9xv3G/cb9egG4ArgCuAK4ArgCuAK4ArgCuAK4ArgCuAJiAYD/xv3G/cb9xv3G/cb9xv3G/cb9xv3G/cb9xv3G/cb9xv3G/cb9xv1w/jQAgwG4ArgCuAK4ArgCuAK4ArgCuAK4ArgCuAK4ArgCuAK4ArgCZALAAQIAxv3G/cb9xv3G/cb9xv3G/Uf+vv9XAbgCuAK4ArgCuAK4ArgCuAK4ArgCuAK4ArgCuAK4Asb9xv3k/yUCdf/G/cb9xv3G/cb9xv3G/cb9xv3G/cb9xv3G/cb9xv3G/cb9WP64ArgCuAK4ArgCuAK4ArgCuAK4ArgCuAIfAjUAmf7G/cb9xv3G/cb9xv3G/cb9xv3G/cb9xv3G/cb9xv3G/cb9xv3G/bUBuAK4ArgCuAK4ArgCuAK4ArgCuAK4ArgCuAK4ArgCuAK4AmICBwBe/7n/Uv/G/cb9xv3G/cb9xv3G/cb9xv0pAI8CuAK4ArgCuAK4ArgCuAK4ArgCuAK4ArgCuAK4ArgCbALG/cb9Yf/V/sb9xv3G/cb9xv3G/cb9xv3G/cb9xv3G/cb9xv3G/cb9xv3G/eEAuAK4ArgCuAK4ArgCuAK4ArgCuAK4AoYCeQC3/sb9xv3G/cb9xv3G/cb9xv3G/cb9xv3G/cb9xv3G/cb9xv3G/cb9+P64ArgCuAK4ArgCuAK4ArgCuAK4ArgCuAK4ArgCuAK4ArgCXgIv/8b9xv3G/cb9xv3G/cb9xv3G/cb9xv3G/Yz/twG4ArgCuAK4ArgCuAK4ArgCuAK4ArgCuAK4ArgCuAK4ArgCxv3G/cb9xv3G/cb9xv3G/cb9xv3G/cb9xv3G/cb9xv3G/cb9xv3G/cb9Ev+4ArgCuAK4ArgCuAK4ArgCuAK4ArgCuAJcAqj/xv3G/cb9xv3G/cb9xv3G/cb9xv3G/cb9xv3G/cb9xv3G/cb9xv3G/f39nAK4ArgCuAK4ArgCuAK4ArgCuAK4ArgCuAK4ArgCuAK4ArgCPwDG/cb9xv3G/cb9xv3G/cb9xv3G/cb9xv27/n8AuAK4ArgCuAK4ArgCuAK4ArgCuAK4ArgCuAK4ArgCuAK4ArgCxv3G/cb9xv3G/cb9xv3G/cb9xv3G/cb9xv3G/cb9xv3G/cb9xv0CALgCuAK4ArgCuAK4ArgCuAK4ArgCuAK4ArgCuAL4AYf+xv3G/cb9xv3G/cb9xv3G/cb9xv3G/cb9xv3G/cb9xv3G/cb9xv3G/UYCuAK4ArgCuAK4ArgCuAK4ArgCuAK4ArgCuAK4ArgCuAK4AloAxv3G/cb9xv3G/cb9xv3G/cb9xv3G/cb93v1eAK4CuAK4ArgCuAK4ArgCuAK4ArgCuAK4ArgCuAK4ArgCuAK4ArgChwDG/cb9xv3G/cb9xv3G/cb9xv3G/cb9xv3G/cb9xv3G/cb9xv2e/7gCuAK4ArgCuAK4ArgCuAK4ArgCuAK4ArgCuALiAMb9xv3G/cb9xv3G/cb9xv3G/cb9xv3G/cb9xv3G/cb9xv3G/cb9xv3j/coAuAK4ArgCuAK4ArgCuAK4ArgCuAK4ArgCuAK4ArgCuAK4AkkBYf7G/cb9xv3G/cb9xv3G/cb9xv3G/cb9xv1//7gCuAK4ArgCuAK4ArgCuAK4ArgCuAK4ArgCuAK4ArgCuAK4ArgCuAK4Asb9xv3G/cb9xv3G/cb9xv3G/cb9xv3G/cb9xv3G/cb9xv3G/doBuAK4ArgCuAK4ArgCuAK4ArgCuAK4ArgCuAK4AosBxv3G/cb9xv3G/cb9xv3G/cb9xv3G/cb9xv3G/cb9xv3G/cb9xv3G/VsCuAK4ArgCuAK4ArgCuAK4ArgCuAK4ArgCuAK4ArgCuAK4ArgC3f/G/cb9xv3G/cb9xv3G/cb9xv3G/cb9xv3G/cb9AgC4ArgCuAK4ArgCuAK4ArgCuAK4ArgCuAK4ArgCuAK4ArgCuAK4ArgCuALG/cb9xv3G/cb9xv3G/cb9xv3G/cb9xv3G/cb9xv3G/cb9xv3v/7gCuAK4ArgCuAK4ArgCuAK4ArgCuAK4ArgCuAIqAMb9xv3G/cb9xv3G/cb9xv3G/cb9xv3G/cb9xv3G/cb9xv3G/cb9AwG4ArgCuAK4ArgCuAK4ArgCuAK4ArgCuAK4ArgCuAK4ArgCZQLL/cb9xv3G/cb9xv3G/cb9xv3G/cb9xv3G/cb9xv2e/7UBuAK4ArgCuAK4ArgCuAK4ArgCuAK4ArgCuAK4ArgCuAK4ArgCuAK4ArgCuAIHAMb9xv3G/cb9xv3G/cb9xv3G/cb9xv3G/cb9xv3G/cb9xv2XALgCuAK4ArgCuAK4ArgCuAK4ArgCuAK4ArgCuAIO/sb9xv3G/cb9xv3G/cb9xv3G/cb9xv3G/cb9xv3G/cb9xv3G/WQAuAK4ArgCuAK4ArgCuAK4ArgCuAK4ArgCuAK4ArgCuAK4AsABbP/G/cb9xv3G/cb9xv3G/cb9xv3G/cb9xv3G/cb9+P+4ArgCuAK4ArgCuAK4ArgCuAK4ArgCuAK4ArgCuAK4ArgCuAK4ArgCuAK4ArgCuAK4AtT/xv3G/cb9xv3G/cb9xv3G/cb9xv3G/cb9xv3G/cb9xv1b/rgCuAK4ArgCuAK4ArgCuAK4ArgCuAK4ArgCuAKO/8b9xv3G/cb9xv3G/cb9xv3G/cb9xv3G/cb9xv3G/cb9xv3G/cb9Pf/w/8kBuAK4ArgCuAK4ArgCuAK4ArgCuAK4ArgCuAK4ArgCuALq/8b9xv3G/cb9xv3G/cb9xv3G/cb9xv3G/cb9xv1p/7gCuAK4ArgCuAK4ArgCuAK4ArgCuAK4ArgCuAK4ArgCuAK4ArgCuAK4ArgCuAK4ArgCuALG/cb9xv3G/cb9xv3G/cb9xv3G/cb9xv3G/cb9xv3G/cb9xv24ArgCuAK4ArgCuAK4ArgCuAK4ArgCuAK4At8Bxv3G/cb9xv3G/cb9xv3G/cb9xv3G/cb9xv3G/cb9xv3G/cb9xv3G/XICuAK4ArgCuAK4ArgCuAK4ArgCuAK4ArgCuAK4ArgCuALcACj+xv3G/cb9xv3G/cb9xv3G/cb9xv3G/cb9xv3Z/RgBuAK4ArgCuAK4ArgCuAK4ArgCuAK4ArgCuAK4ArgCuAK4ArgCuAK4ArgCuAK4ArgCuAK4ArgCuAK4Asb9xv3G/cb9xv3G/cb9xv3G/cb9xv3G/cb9xv3G/cb9xv3G/T0CuAK4ArgCuAK4ArgCuAK4ArgCuAK4Ah4Bxv3G/cb9xv3G/cb9xv3G/cb9xv3G/cb9xv3G/cb9xv3G/cb9xv16/xACuAK4ArgCuAK4ArgCuAK4ArgCuAK4ArgCuAK4ArgCIwJE/8b9xv3G/cb9xv3G/cb9xv3G/cb9xv3G/cb9xv17/kIBuAK4ArgCuAK4ArgCuAK4ArgCuAK4ArgCuAK4ArgCuAK4ArgCuAK4ArgCuAK4ArgCuAK4ArgCuAK4ArgCuALG/cb9xv3G/cb9xv3G/cb9xv3G/cb9xv3G/cb9xv3G/cb9xv3b/rgCuAK4ArgCuAKrAt4BlQH0AKAAIwF/AQEAxv3G/cb9xv3G/cb9xv3G/cb9xv3G/cb9xv3G/cb9xv3G/cb9Sv6z/xUBuAK4ArgCuAK4ArgCuAK4ArgCuAK4ArgCuAK4ArgCJ/7G/cb9Vf7b/cb9xv3G/cb9xv3G/Qf+4v3G/dj9gv71/5ACuAK4ArgCuAK4ArgCuAK4ArgCuAK4ArgCuAK4ArgCuAK4ArgCuAK4ArgCuAK4ArgCuAK4ArgCuAK4ArgCuALz/cb9xv3G/cb9xv3G/cb9xv3G/cb9xv3G/cb9xv3G/cb9xv3G/VYAuAK4ArgCuAK4ArgCuAK4ArgCuAKzARz/xv3G/cb9xv3G/cb9xv3G/cb9xv3G/cb9xv3G/cb9xv3G/cb9xv3G/9UBuAK4ArgCuAK4ArgCfgKiAI0BuAK4ArgCuAK4ArgCZgBo/hj/HwG4ArgCnwGj/3H+Yv7s/u3+xv3G/cb9xv02/m0BuAK4ArgCuAK4ArgCuAK4ArgCuAK4ArgCuAK4ArgCuAK4ArgCuAK4ArgCuAK4ArgCuAK4ArgCuAK4ArgCuAK4Asb9xv3G/cb9xv3G/cb9xv3G/cb9xv3G/cb9xv3G/cb9xv3G/cD+uAK4ArgCuAK4ArgCuAK4ArgCuAK4ArgCcgGY/sb9xv3G/cb9xv3G/cb9xv3G/cb9xv3G/cb9xv3G/cb9xv3G/Tj+5QC4ArgCuAK4ArgCuAK4ArgCuAK4ArgCuAK4ArgCuAK4ArgCuAK4ArgC8gGz/8b9xv3G/cb9xv3G/cb9xv3G/cb9vv/IAbgCuAK4ArgCuAK4ArgCuAK4ArgCuAK4ArgCuAK4ArgCuAK4ArgCuAK4ArgCuAK4ArgCuAK4ArgCuAK4ArgCtwLG/cb9xv3G/cb9xv3G/cb9xv3G/cb9xv3G/cb9xv3G/cb9xv3G/VwBuAK4ArgCHwLxAYECuAKuArgCuAK4ArgCfQAg/sb9xv3G/cb9xv3G/cb9xv3G/cb9xv3G/cb9xv3G/cb9xv3G/fD+yQC4ArgCuAK4ArgCuAK4ArgCuAK4ArgCuAK4ArgCuAK4AloCdwHG/8b9xv3G/cb9xv3G/cb9xv3G/cb9xv3G/YYAuAK4ArgCuAK4ArgCuAK4ArgCuAK4ArgCuAK4ArgCuAK4ArgCuAK4ArgCuAK4ArgCuAK4ArgCuAK4ArgCuAK4ArgCuAJL/sb9xv3G/cb9xv3G/cb9xv3G/cb9xv3G/cb9xv3G/cb9xv3G/Yv/uAK4AigCRgAMAbgCuAKFASgBqQK4ApQCrQACANP/Ef7G/cb9xv3G/cb9xv3G/cb9xv3G/cb9xv3G/cb9xv3G/Xb+bf9WAbgCuAK4ArgCuAK4ArgCuAK4ArgCuAK4ArgCuAKiAjkBDAC5/sb9xv3G/cb9xv3G/cb9xv3G/cb9J/4ZALgCuAK4ArgCuAK4ArgCuAK4ArgCuAK4ArgCuAK4ArgCuAK4ArgCuAK4ArgCuAK4ArgCuAK4ArgCuAK4ArgCuAK4ArgCuAK4AkL+xv3G/cb9xv3G/cb9xv3G/cb9xv3G/cb9xv3G/cb9xv3G/cb9Sf9bArgCuAIWAq0BrgHRAV8CuAK4ArgCuAK4ArgCqgDV/cb9xv3G/cb9xv3G/cb9xv3G/cb9xv3G/cb9xv3G/cb9pf+4ArgCuAK4ArgCuAK4ArgCuAK4ArgCuAK4ArgCuAJKAg8Agf7w/d/9xv3G/cb92f0+/kD+R/61/i3/Ff+2/jf/KQG4ArgCuAK4ArgCuAK4ArgCuAK4ArgCuAK4ArgCuAK4ArgCuAK4ArgCuAK4ArgCuAK4ArgCuAK4ArgCuAK4ArgCuAK4ArgCuAK4Agj+xv3G/cb9xv3G/cb9xv3G/cb9xv3G/cb9xv3G/cb9xv3G/cb9XAG4ArgCuAJUAoYCuAKJAhQCpAK4ArgCtgLWAB8AgP/G/cb9xv3G/cb9xv3G/cb9xv3G/cb9xv3G/cb9xv3G/Ub+O/+uALgCuAK4ArgCuAK4AvQBXAE8ArgCuAK4ArgCuAKFAsYBWwHcAEUAh/8C/0P/MQAkAWUBsQCJ/3L+xv3G/fj9iQC4ArgCuAK4ArgCuAK4ArgCuAK4ArgCuAK4ArgCuAK4ArgCuAK4ArgCuAK4ArgCuAK4ArgCuAK4ArgCuAK4ArgCuAK4ArgCuAKdAcb9xv3G/cb9xv3G/cb9xv3G/cb9xv3G/cb9xv3G/cb9xv3G/cb9egCXAUIARv7G/fb9gf6O/2oBuAK4ArgCuAJnAi4CowAC/sb9xv3G/cb9xv3G/cb9xv3G/cb9xv3G/cb9xv3G/cb9xv3M/YH/ngC/AJMAxAAXAR8BhQG4ArgCuAK4ArgCuAK4ArgCuAK4ArgCrQKFArgCqwLwAakARf94/nr+6f6y/9cArQGgAewARgBhAF0BdAK4ArgCswK4ArgCuAK4ArgCuAK4ArgCuAK4ArgCuAK4ArgCuAK4ArgCuAK4ArgCuAK4ArgCuAK4ArgCuAKkAsb9xv3G/cb9xv3G/cb9xv3G/cb9xv3G/cb9xv3G/cb9xv3G/cb9yQBaAkUBpP+d/yABuAK4ArgCuAK4ArgCuAJJAjkCdAFc/8b9xv3G/cb9xv3G/cb9xv3G/cb9xv3G/cb9xv3G/cb9xv3G/SH/ggAmAcMBeAK4ArgCuAK4ArgCuAK4ArgCuAK4ArgCuAK4ArgCGAKtAaUB0AG/ATABUwBn/0v+xv3G/cb9F/8YAEQAQgChACYBaAGgAUACuAK4ArgCuAK4ArgCuAK4ArgCuAK4ArgCuAK4ArgCuAK4ArgCuAK4ArgCuAK4ArgCuAK4ArgCuAK4ArgC1f3G/cb9xv3G/cb9xv3G/cb9xv3G/cb9xv3G/cb9xv3G/cb9xv03/tgAsQGkAKn/DgAdAc8BXAK4ArgCuAK4AjEBQwBq/+H9xv3G/cb9xv3G/cb9xv3G/cb9xv3G/cb9xv3G/cb9xv3G/Qz/WABjAc4BywE2ArgCuAK4ArgCuAK4ArgCuAK4ArgCuAK4ArgCuAK4AokCVgL9AVIBjQD2/6v/jf85/7f+yP6l/4sAEgGJAQICJgK8ARQB/gDCAX8CqQK4ArgCuAK4ArgCuAK4ArgCuAK4ArgCuAK4ArgCuAK4ArgCuAK4ArgCuAK4ArgCuAK4Ai4Cxv3G/cb9xv3G/cb9xv3G/cb9xv3G/cb9xv3G/cb9xv3G/cb9xv21/hwAyQAUAdAAGACe/+f/1gDYAYYCuAI6AisBLwAl/8b9xv3G/cb9xv3G/cb9xv3G/cb9xv3G/cb9xv3G/cb9xv0J/gUA5gFyAiMCVQK4ArgCuAK4ArgCuAK4ArgCuAK4ArgCuAK4AqYCuAK4AnoCHQIWAhoCvwEgAbAAgABCABoAjgBiAZkBAwGAAH0AmACMAGkAgQAVAZsBfgGFAY4CuAK4ArgCuAK4ArgCuAK4ArgCuAK4ArgCuAK4ArgCuAK4ArgCuAK4ArgCMgJiASoBRAGsAKX+xv3G/cb9xv3G/cb9xv3G/cb9xv3G/cb9xv3G/cb9xv3G/cb9xv3C/v/+3v4D/3L/0f/Y/5X/N//d/qf+cf7X/cb9xv3G/cb9xv3G/cb9xv3G/cb9xv3G/cb9xv3G/cb9xv1X/sD+Bv+S/2cAXAFwArgCuAK4ArgCuAKfArgCuAK4ArgCuAK4ArgCuAK4ArgCuAJkAv0BEQK4ArgCuAK4ApcCmAHYAHkAnAAbAXgBcwFVAWkBoAG3AX4BGwH1AC0BkwExArgCuAK4ArgCuAK4ArgCuAK4ArgCuAK4ArgCuAK4ArgCuAK4AqwBKQFSAMb9xv3G/cb9xv3G/cb9xv3G/cb9xv3G/cb9xv3G/cb9xv3G/cb9xv3X/cb9xv3G/T7+ZP44/r/+rv8mAB0Amv+A/sb9xv3G/cb9xv3G/cb9xv3G/cb9xv3G/cb9xv3G/cb9xv0S/nP+cv7Q/pv/LQBUAKkAaQErArgCuAK4ArgCuAK4ArgCuAK4ArgCuAK4ArgCuAK4ArgCuAK4AnMCRgIiAtoBoAGXAa8B0AG4AUMB3gDmAAQBwQBMAEMA0wBxAbkB5AEhAjYCBgLwAXYCuAK4ArgCuAK4ArgCuAK4ArgCuAK4ArgCuAK4ArgCNgJvAXUAqf8d/5b+Kf4K/vr9xv3G/cb9xv3G/cb9xv3G/cb9xv3G/cb9xv3G/cb9xv3G/cb9xv3G/QX++f3G/cb9xv3G/cb9xv3G/cb9xv3G/cb9xv3G/cb9xv3G/cb9xv3G/cb9xv3G/cb9Bf5z/lr+Rf7z/vv/TAAGABsAswAvASYB+gBkATsCpwKQAo4CuAK4ArgCrQK4ArgCuAK4ArgCuAK4ArgCuAK4ArgCuAK4ArgCuAK4ArgCegJ/AqkCpAKAAosCrAJtAsUBYQHSAa0CuAK4ArgCuAK4ArgCuAK4ArgCuAK4ArgCuAK4ArgCuAK4ArgCOAJsAGr+xv3G/cb9xv3G/cb9xv3G/cb9xv3G/cb9xv3G/cb9xv3G/cb9xv3G/cb9xv3G/cb9xv3G/cb9xv07/kz/M/+i/mX+GP7G/cb9xv3G/cb95P3G/cb9xv3G/cb9xv3G/cb9xv3G/cb9yf2T/gr/8/6f/ob+8/7h/9UAgwEyArgCuAK4ArgCuAK4ArgCuAK4ArgCuAK4ArgCuAK4AmMCZAK4ArgCuAK4ArgCuAKqAmUCHQLQAZ4BrQGwAXMBWgGOAa4BiwFgAWsBswEJAlsCuAK4ArgCuAK4ArgCuAK4ArgCuAK4ArgCuAK4ArgCuAJoApcBAAGJADgAIgDP/4v+xv3G/cb9xv3G/cb9xv3G/cb9xv3G/cb9xv3G/cb9xv3G/cb9xv0p/q7+af7G/cb9xv0W/kr+av5q/tn9xv3G/cb9BP7G/cb9xv3G/cb9xv3G/cb9xv3G/cb9xv3G/cr9ev7l/g7/N/+t/0oAvQD7AAsB8wDzAEQB3AGGArgCuAKqAiACrQGtARgChAK4ArgCpAKIApoCuAK4ArgCuAK4ArgCuAK4ArgCuAK4ArgCuAK4Aq0CcAJOAlQCcwJ2AkkCHQIbAkECVwIzAhkCdQK4ArgCuAK4ArgCuAJlAuoBywH1ARcC+QGjAVcBHwF5AB7/xv3G/cb9xv3G/cb9xv3G/cb9xv3G/cb9xv3G/cb9xv3G/cb9xv3J/cb9xv3G/cb9xv3G/cb9xv3G/cb9xv3v/Xj+mP7G/cb9xv3G/cb9xv37/WT+b/5F/jP+TP5h/mf+iv7A/uf+Lv+4/0oAmgCJADgA+v/+/y0AYgCBAKoADQFtAXMBXwGLAcwB3wHeAQwCeQK4ArgCuAK4ArgCuAK4ArgCuAK4ArgCuAK4ArgCuAK4AoIC8QGiAZMBlgGSAY0BaQEYAc4ArQCmAMEAAQFHAYgB1QFAArgCuAK4ArgCuAK4ArgCVALwAfIBIQJLAiYCtAE7AZEAmP/d/ov++P3G/cb9xv3G/cb9xv3G/cb9xv3G/cb9xv3G/cb9xv3G/cb9xv3G/cb9xv3G/cb9xv3G/RX+Uf6D/qr+wv6l/mj+YP5v/kr+NP5g/nj+Zf5u/nL+Ov7//Qb+J/4n/hP+G/5M/pL+wP6u/oD+k/7f/vz+Av92/0YA5AAwAWwBswEHAkgCJAKoAVkBaQGLAagB4wExAnICmQKSAmECSAJuAp4CoAKIAmoCSQI8AjkCGwL1AeABrgFTAR4BNAFqAZ0BwAG/AaUBpQHZARkCOgJaAp0CuAKfAigC6wEPAjUCDQK1AXIBVwFAAQoBwwCOAEkAxf9L/0L/c/9a//v+rv56/j/+Cv7v/en92/3G/cb9xv3G/RX+av5l/hD+xv3G/cb9xv3t/Sj+Vf6J/pX+gv6M/rj+vf5//lf+YP4+/hP+Vv6k/m7+Cv7z/RH+Lf5C/mT+nf7C/rT+uP4H/07/N//7/g7/U/9Q/xj/Pv/U/1QAbwA/AA0AEgAyACwAPAChAPYAAQE8AbMB1AGYAW4BcwGEAY0BkAGvAekB9QHKAbQByQHSAa8BiAGZAckBqwE3AfkANQF4AVUBDgEeAXgBpgGKAYYB0QEOAuEBlQGJAY8BZQErARcBQAGHAaEBhgF1AVgB8ABiAOv/g/8w/xz/VP+6/wEA9//N/7b/gf/p/i7+6/02/oD+mv7k/iz/9/6w/rj+e/7f/cb9/f3//dP9A/53/sn+vf5e/h/+Tv56/k/+TP7k/rD/CADd/6L/lP9//zD/8/4r/5n/u/+W/2v/O/8e/yv/EP+j/kb+KP4p/lv+yv5N/7//9v/v/+j/3/+1/7T/+f86AHsA3gAwAXEBsgGcASYBzwCiAG8AgwD+AG8BhQFVARcB/ADzAMkApwDHAOwA3wDQAPQANQFSASkB6gDeAOAAsgCVANEAIAEuARgBDAESARMB4QCSAIMArACxALMA/AAxAekAXwD5/8b/qP+F/2r/g/+9/+P/BAAuACYA4v+Z/zv/w/6q/ij/sP/W/9D/wv+C/xr/4v79/if/MP9P/6b/2/+8/5b/l/+D/yv/uf6R/vL+fP+i/3z/ZP9H/xz/Mv9x/3b/Wv9Z/0H/GP9U/97/JwAtAD0APAAlAEAAcABmAEMANwAmABYAMABYAFUALAABAOj/6f8RAE4AVAAEALv/s/+4/6H/mP/E/wUAFQDw/9f/5P8JAEcAewByAEsAMgAHAL//jv+Q/7r/8/8YAA0AzP9+/2n/lP/E//b/QgB8AI0ArQDUAMMAcwANAMj/3v8lAEcAVABhADIA+/8mAE4A7v+G/6P/2v+3/6H/FgDIABwB+wC2AH0AUwBEAFwAjQCrAK4AxgD0AOwAowBYADAAOABwAKMArQC8AOoA+QDDAKQA3QDsAFoAwf/T/yEAHAAWAHAArAAtAGn/Sf+b/5b/bf+N/3X/Ff9W/x8ATgDm/9//PwBJAP3/CACbABsB7wBJAM3/t//I/9v/9v/6/9z/3P/0/9f/uf/1/yMAvf8b/9v+GP97/6T/uP8ZAEoAnP/O/uj+XP9U/y//Nf/v/ov+v/48/zn/9v4b/1b/G//V/hX/lv/o/yEAPQDg/2j/qP8uANj/Qv+n/xQAYv/d/pr/WAAoAMf/tP+q/6z/7/9DAFIANwBAAEEAGAAqAHQAbgAuABUABQDw/w8AXwCpAKcAWwBbAMkA6QCyANEA5QBFAND/XwAGAekAxwAlAVEBEwHrAMkAfgBxAK4AvwCIAD0APACuAN0AUwDk/w0AJQAfAHgA2QDSAKYAgwBOAAAAqf+W/9//6v97/1X/yP8cABUACwDD//r+gP7t/o//8/9tAMgAnwBdADcA7f/E/9D/nP9O/0r/dP/p/6MA4gCXAFYA5f88/wX/Dv/l/vf+N/8q/0v/+/+NAH0A3v8S/67+q/6f/sD+F/8s/2L//P8CAHb/gP+1/xz/tP5k/woA3f/J/0kAkwBHAAYAIAAjANL/kf+6/x0APAArAHwAzABFAJ//zP8JAOD/AAAGAID/o/+1AEYBGAHZAEcAaf8W/3z/JQC8AAEBDAEfAQ4ByQC1AMwAmwBDAEQAlAD2AFgBbQH/AJkAowClAHoAnwDgAKoASgBIAHIAcwB1AKkArwASAEr/I/+C/87/5f/2/ysAdgB2ABgAz//d/w0ADQDC/6D/HQC3ALMARQDt/6r/hv/C/w0Ayf9B/2r/QQDMAJwAAwB8/2//lP9B/8X+5v5u/7//yf+5/5//TP/E/r/+S/9I/8r+Gv/r//z/fv9H/3r/s/+I/1H/mv+p/yL/Tf8dAOb/JP9Y/6b/Q/9p/xoA3v8r/17/+P8fAC8ATgAwAPz/yP+D/4f/8v9VAHoASQC3/2T/u/8MAP//AgDh/3//x/+7ADEBHgEcAcIAFQAIAIEAzwATASABkABRANwA5ABbAMIAdAGfADX/Nf8mALIA2gDIAEMA0P8zAA8BWAG1AMr/c//K/ykAUQCeAPgA1wBWAPj/6P8bAHQApACFADkAAQA/AMYA0QCTAK4AdACw/9b/vQCoAAkACQDa/1X/gP++/0n/DP9+/x8AeQDU/7b+1/61/8z/0f8GADz/dP4w/w4A2P+F/6P/2f/s/8L/2v9wAIIA+/8JAFMACgAqANUAcwB7/7r/XwDu/3r//P88AIv/9f4i/5j/zv/X/wcA/f87/8v+w/+pAN3/C//5/9QAFgC1/5EAlwDI/yIA4gB6APP/IgBVAGoAfABqAHwAgABNAIgArwAMAPD/oQBmAKX/tP/I/5z/+v86ANj/mf+a/7D/2f+W/2P/LADFAEMAIgDfADgBCAHCAGQAdgD7AOIAYQC6AHwBZgG5AEkAAgDH//T/VgBGAOT/zv/j/7D/dP92/3j/V/9L/2z/Zf8W/03/RwBKAAP/Df93ADcA8P6E/54AAAAD/yr/BgCVAOD/z/4d/6j/UP+V//b/5P5m/mz/d//Z/lD/W/+N/r/+LP+v/rz+af9P/w//SP8x/z//GABpAMT/qf8gAAEA3v9jAIYA1v9B/0T/sP8JAOb//P+OAGIAuf/f/+3/lf9rADUBFQBZ/2MA4gCAALwA8wCaAGkAQAAGADkAkACwALMApADaADwB/wCRAJwAbwAtAKIAyAAZAE0AiAG2AWwANP8w/1cAQAGiALL/EQDBAKwAlwB/AO//GwAfAREB//+W/wcA8QCUAa8Agf8SAM0AOgANAF8A1/+r/1oALQC9/1EAdgDI/5X/Uf/M/nH/UADP/2L/BwA1AJX/Of82/z7/UP9Z/1X/Nf8t/7P/HACR/yX/zP9sAAkAW/+i/50AfABl/47/TAC5/1j/6/+E/+3+pf/S/wj/D/9n/4L//P/o/zr/Pf8a/7n+pv8/AEb/mf8fAaoAgf/x/14ABwAXABkA4f+LAFQB5wBhAMAAuAAUAEMATgAG///+xAC9AKH/iAAiAe3/ov/a/4L/aQAuAVAAiQAXAeP/MQC7AWwAEv9IAHoABwAbARoBewCmAZ8B2//r/zQAEv+k/98AsP/9/lMAUABD/8L/JwAx/x3/DwD9/1v/sf+EAMAANQBW/yL/8/90AMb/Jf+P/xUACQAEAAcApf+W/xoADwCR/8n/NgD6/5D/ev+8//L/gP8Q/yr/3v6r/jj/sf7x/V3/2v8R/tf+2gAr//r9QQBiAIr+i/+tAMP/IQDVANv/5P+hAJ7/RP+qANgA8f/j/zsAnQCXAK//wP/LAAEA5v4eAMAAif/A/8cAMwDz/5wA/P9l/4QA7QDT/6P/WwBGAC4AEgFUATkA5v/hAO4AJgB9ABYBrAChACsBvwASAJYAHwFfAJr/IACxAEgAkwCeAbwAAv+p/7AAs/9P/0wAbwBhAMwAPQCq/z8ASgCt/8z/9v/E//3/OQBJAKcAtQBLAEgAhgBsAP3/iP+p/yQA/P/H/0IAOQB//6D/MQDC/xb/a/8NAPP/pf/e/+//Wv8T/1//cP92/9H/5v+6//j/VgA9AOb/mv9U/2H/LQAIAbEApf9//x8AQgDw/8X/nP9q/8H/RACd/5T+Zv+RAGj/dP7V/1QAeP8vAKwAQ/89/4cALgDV/6EASACp/04AOwCQ/0YAAgGuAKMApwAxADAAbgBPADMAEQBGAB0B7wDM/yoACgEdAG7/kgAwAX4ALABxAIIATwA0AEwAIgDq/3sAywDN/1v/GQD6/3//SwCFACv/1v7G/5P/Af/U/0IAU/80/7n/KP8r/4gAhABz//v/7ACUACwASABjAGkADgC8//v/+v/e/zQAz/8i/4n/df/l/uf/SgCZ/n/+6v9o/6v+cf9H/3n+EP+C/97+2P6O/+n/rf8i/1f/pgD+ALb/X/+BAIAAT/85/8v/mP/l/xMB2wBZ/y3/MgAyAEv/SP8jACgAWf+J/14AAAA8/3P/tv+K/8T/UACKAAwAKv9H/28A5gCCAEQAVwDoAIsBQQGYAFQAMQCQAC4BEQHYAJsA1v87AKUBWAGXAFcBOAE0AOoAiwEsAGz/PgBcAIf/fP9wANgAQQARAEkAsv9k/2kA9QBkADgAfQCCAJEAnwBwAEcADQC7/8H/4f+q/77/agBmAE3/7v7H/9b/9P4x/0AAIwA//zz/2P+k/73+z/65/4j/Cv8sAM0Aev9n/78A4/8k/pn+gv+o/y8AJACf/04AbQAY/0D/VQDH/zT/dP8P/xv/7v+x/0j/yf8TAEMACACx/rL+LQDF/wD/KgA3ADH/LgDhAJP/Yf9QADsA8//t/87/SQClABQAq/+j/8P/WABfALn/2v82ADgArABzAGL/zP+2ACgADAC1ACoA1f/cACABaQBMAIMAawAwACQATQATAAcAHAFpATwAhwC4AeoARAA7AegACgAPAZIBUwDc/4EA6QCbAJr/Xv8uAMr/K/91AOcAa/9f/1sAGQDq/ygAAgCHANkAx//M//kAUgAw/+7/jgDj/7z/agBgAE//+P5HANoAW//J/h0AAQB6/tj+NwC+/6r+/f5q/8D+MP6I/gP/QP+l/9f/N/+w/jD/ov9i/0f/Iv/n/pz/BAAQ/zr/fAAJAHb/VgD//yf/IwBBAPj+ff8nAA//OP9oANP/Vf9WAIoAxf+s/ycAmACWAEoAhwC0ACwAPQCyABEAzv/3AEIBZQChAE0BugBCANcA1gBFAAYBGwJCAQwAxACMAWkAa/9YAD4BkgBEAEoBJwHZ/6cA8AEDAJj+yQBlAYv/jgAMAhkAz/9ZAnYB0f7d/08BEQCr/88AtADa/x4AzQA4ABH/uv8VASwAFv8bAB0A7v7x/8QAz/4X/sL/BAAw/4L/xf9M/2P/9v/Q/+z+zP7Y//L/qv5//nn/n/+L/8r/RP/T/mT/Zv/d/mf/5/8+/xj/rf9m/yf/+P8GAPb+1f5s/1D/OP+a/3//+f7z/mH/Y//W/gP/8/+o/+7+CAC8AHn/t/8/ATUAwf7x/5cAgv/Z//EAdwADALcAyADu/+H/rQDCAPv/q/8KAD4AMgA9AF8AggBuADQAJgAKAP//gQDQAJQA3wA8AbgAeQDWANAA6ABCAQwB7gD5AGIAdQBtAUwBxgAtAfoAOgCKAOcAbAAgAGIAzACyAB8AigAIAdL/iP/6AHQAgP8ZASQBz/43//0AbwDV/xwA2v8tAJ0A2/+z/zIA3f/z/1gAmP8n/4P/SP9E/+D/zf9N/0b/1v9qAKj/ov5z//v/Ff+A/yIA//4c/3QAyP/w/rf/8P+S/3L/9v73/mr/Sf+h/93/sP57/oz/WP8c/7D/Yv+W/2UAGv///VL/q/+7/gv/SP/u/nb/+/8eADAAV/8J/zkAYwDT/1oAWwDM/xsACgDw/7cAbADn/80AhAB+/5gASwEjAOj/ZQCeABkBuQBZAGkBNQEZACsBjgHP/wcAXQHXAIoA5QBuAG0AlgAaAMsAfwFkAFQAfQHkAD0A8wCkADEAFQHyACoA4wAKAR0AqAAwARsAGgAyAeEANQBJABYA7/8QABYAqgCSAN/+6/7CAAQAc/7E/6MALP/u/un/nv8P/27/1P+Z/9/+m/5J/3r/2P4P/9H/eP/1/rD/LQAh/4L+ef/O//r+GP+b/+/+jP4h/y7/8v4t/wf/u/4p/6T/l/90/2L/Vv9e/3n/uP/L/2D/JP+K/93/7v8bAAkAwf/l/9X/PP9//1cADgCZ/xIAFADL/20AhwC2/9H/QADl/+f/agCEAE4AFgCFADoBXQCS/xIBVQFo//f/lAFNAKj/VAFWAU4AsADCADUAaQDZAGABfwE9ANf/PgFXAXAAQAEHAv0AIQAhAPn/IwD5AHoBEwFTACAAogAQAcUAJAAeAHEA//+6/7sA7gCv/7n/gADT/8b/+wCZALP/MwABAHz/dwBSAMz+Yv9gAE7/Lf9lAPH/Ev+G/6r/O/8c/wX/OP96/zf/sv+jABAAZf8VAPj/C/99/zMA1/+i/5v/Ev8T/8D/vv87/zf/K/+//gn/1v+i/y//y////zr/Pv+T//T+0/7R/zMAh/8d/7D/VwAPAPP/fgDo/wX/3P9sAK3/7f+VACIA2//V/8n/fgBjADz/kP8bAHv/GgDwAAkAEACxAJL/kf8xAewASQABAYMAxv/+AKEBswBbAKEAzQDUAI0AzwBKAZoAgQC2ARoBoP+EADgBIABEAOAACAAvAPwA9f99/8AA5QBDAGYAWQAtAB8A1/+BADYBRAAdACMBfAASAEcBsgA8/+H/WADH/zIAYwCW/3j/0P/D/23/EP94/+b/NP8//zkA0/+G/1QAk/+F/qb/RgBg/0r/bf/6/i//g/9U/3b/iv9U/6L/rP/B/oP+ZP9h/4r+Ev8gAJ//Lf+Z/9z+d/4NABMAh/5r/4AAB/+E/qb/bv/v/rX/LgCv/zD/cv/N/w3/s/4QAIAAmv8UAJkAjf+j/wQBtABt/9P/FgGWADD/BABaAev/Jf8uARkBKv9eAN8BKQAy/1cAegDd/xUAiwCEABgASADrAEEAtP8IAfkAJ//0/5MBYQDR/xEBewBz/14AswDx/wAAIgAEAH4AsABTAGgA6QBQAdAAhP+W/7sATAC5/6sAegBq/0wAKAFKAPP/MQDb/8r/zv/A/3EAgQCz/xsAfQB//4r/cADz/5j/YQCCABYAGQD5/6f/q//i//7/5//o//v/y//0/yYAbf9k/1UAn/+9/vT/GQDz/t//egAu/77/9wC7/yz/MQCp//f+9/9tAMH/iv8OAI4A+v8R/9H/jABU//b+JgDa/yD/JQCRAJT/h//s/3j/g/8oAO//hf/u/ywAzv/a/1YAMACD/4P/EQD+/7v/YQDeACwAwP9WAHQA6f8UAKUAVADk/5AA+AD//53/RQDg/27/eQCmAL3/RQDKAN7/y/93AHEAqACeANH/GQCgAOr/5f+FADkARgCUACsAmAD2ALn/uP/8AGIA4P/xAHYAKv/S/5gAMwACAPH/y//l/8L/yv8jAKn/SP8NAAcAKv+6/5gABQC9/1IA+/9K/6//CQCE/zz/ff+//xYAOQDy/wQAOgC+/3r/7//z/8v/HQDZ/2v/LgCbANf/8v+gALL/f/4f/+v/Yv9Y/4sAngB9/9j/vAC8/zH/jwB0ABP/3//oAMf/gv+yACsAHv8fAOEArf8e/xYAMABW/8H/yAAlADn/DQB3AEv/ef/jAGYAW/85AO8AJADJ/0QAKgBn/17/gwDgAN3/AQDCAKH/Hv+RAFkAU/9yAN0AqP/m/20A7/9GAFoAZf+1/0YAkv/R/7wAOgC0/x0AQwAuABoA+/8yAAUAdf/Z/04A3P8OALsAQQCo/w0ANwDH/8n/QABGAAgAWQBuAH//Rf8wABIAbv/z/wEAYf8ZAKoAzP/8/9sAGgCt/6kAkADj/4AAzgATAPD/NgAuAFcAYwAaACAAGQDL//j/LwAKAFsAZgB7/5n/wABHAEP/IwCvAJD/w/8PAU4AL/8iAHsAPf9+/68AHgBc/+L/7/96/7L/2//R//7/l/8i/57/7f/a/zMA+f9f/+P/NgCh/+z/TAB8/4j/cgDx/zX/0/8oALP/3f9KAO7/g//N/+D/bP/Y/6AA5P8n//P/BQA7/8T/CwBM/xMA0wBN/wL/ogAnAO7+GwDCAE3/L/+hAJoAm//b/7IApQA0AE0AWQCl/0r/IQCLAKj/pP/gALgAk//t/2kAmv+i/1EAtf+W/6sAWAC1/7cAqABn/0cAJgFh/9z+wgC1AC//4v8mAWgAvf+SALIAfv9t/6oAdwBE/wYAXgGAALv/9gAgAaj/5f/8AAwAMP9wAOUAjv+A/6QAFwDd/mr/EAAy/xH/PgALAAH/w/+qAK3/Qf88APb/JP8BAIMAYv96/+sAlQA6/7f/vwA3AKf/HAASAJ7/9v9HAA4AMAAuAJX/tP9NAN3/O/+H/7r/V/9V/8n/0f9u/3T/6v/8/7L/zf/5/6b/jf////H/df/A/1MACQCd/9b/AAAAAEoAXgAfAAkA2v+m//L/IADO/9P/PABTAFAAkQCfABwAuP8vAJ0ALQAjAOQAywALACwAhQBiAJoA4ACeAK8A8wCTAHsAFgEFAXMAuwATAXYAHACeAMEAWgBdAJIAXQAaADcAXgA1ABUAWQBzABAACwB+AGYACwA1ADMAuf/B/w4Ax/+Y/wQAGwCj/6H/FAD4/5P/y//k/zf/Hf/l/9X/KP9+/xwA0v94/6X/xP+g/4v/5f9iABAAd//U/x4AYv9L/yMADgCB/+j/MACS/zz/cP9t/zD/C/9S//T/DAC0/wMAUQC1/3P/+f/g/2z/rP/Z/2v/W//d/xYA0f+y//z/5/9P/1P/yv+P/1r/5f/n/03/f////9P/y/8mAPn/q/84AMUAWwAUAJMAmgAuAFwAXwAEAG4AkAC8/wcA5QAdAHz/RAASAC//yv+sAF4AAABKAJYAXAAKAEMARAC5/+P/OgCv/8j/hQAyAC8AEQF8AKP/xQBAAeD/xP8JAe8A2////98AkwDZ/48ANQEwAN3/3wB7AHH/IwDHAM//VP81AJMA0P+X/3sAnQCv/8f/eAD2/4v/KwBHAPP/UQCDAOv/fv+x/9r/hf9u/+b/yv9f/+L/DgBC/3L/+f87/yb/JQDG//D+eP+x/w//Ov/D/5H/R/9I/17/mf+i/3T/qf+0/xP/Ov81AOX/Af/E/4YAt/+r/7YAaAB5/8//YgAxAPP/KwCGAEsA0P9SAO0AYAAtAKgAMADc/8AA6AAnADsAswC4AJYAVgBLAJYAiAB0ALEAagAGAF0AngB+AH0AQQAmAKMAdQC5/xYAlQAFACsAPAHkAMr/EwCLANz/qv+OAL8ACAAXAPMA4gD//1AANgFLACv/WAANAW//IP+tAF4AI/8AAOQA3P9k/1UATQBW/37/EwCP/yL/nv+z/3X/zP/R/13/kf/F/1j/gP8FAJf/HP+v/zYA3f+g/wkAAwBK/0z/GQAhAKz//f9TANf/lP8GABwAmP+H//X/3f9v/3//kv9F/1P/qf+O/0X/T/+G/4v/Gv+f/r7+Of+A/2D/+/7s/kr/UP8x/3L/UP/u/n7/HgB+//L+mf/7/2P/R//R/4//HP/i/20Amv91/2oAOgA8/3P/LAAfAP//OQAeAMX/7/9NAAwAu/8lAGIA7P/y/3QATgAEAFEAVwD4/zoA7gD6AGYASwDRANMAYwDLAD4BjwBwAH8BfQGkAOoAOgGRAF4A0QDcAJkAcQCkAPIAlABjACYBCAH4/zAAxQB1ALkA+QAxAFgA/gBHADAAHQGnADgA/gB/AIL/PgClANP/7/+bAF8A0v/O/0wAXACW/5v/XADH/yP/CAAEAOH+U/8aAFP/+v6q/6z/YP+K/2P/6/7d/gr/E/8Y/yz/Kf8q/2P/Y/8M/zv/sv9y/0L/u/+8/3j/0f/K/0P/fv/e/6D/uP8oACEA+/8KAAsA7//A/9H/QQBrAD4AOwBOAGIAagBAAHUACAHtAIMAmwCsALQA6wCjAFYAkQBzAGgAEgH+AFgAtwD8AE0AHwBoAGEAjgCaADcAWACZAFwApQALAWgADQCtAKgAEgA5AIkAPQDk/+n/KgA+ANf/nf/9//f/Xv+i/5cAeACw//X/cAC+/0P/9/8yAKL/wP8wANf/Uf9+/wsA6/8Q/zP/SwDY/6z+a/8gAP3+r/6p/6z/Q/9H/xz/O/9h/9z+E//G/zP/3v6k/3L/4f5C/yP/0P5P/x3/oP5W/5P//f5j/7X/Gv81/77/lv9N/xr/SP/6/7b/3v5t/wgAUP8g/8L/xv+0////9f/B/7j/0f8gADAA1P+4/+r/IAByAJUAWgA/AGQAcwBfAGQAmwCGACAAWwDhAI4AUgD/AA4BQgBsAE8BHAFmANwAbQFxALn/4wBsAVQAgwC/ARsBHgD9AEYBEwBfAKEBCQFjAIgBmQEwAJ4AuAG5AB0ATgE6ARQAhQAiAVQA+/+SAHsA9P8aAI8AlQBCABgALgAiAOD/4P8sAC8A4v/Z/+b/oP+0/zQA6v9A/3z/sP85/1j/qv84/1b/DACd/xD/yP8BADH/PP+v/xj/1f7O/+n/uP7h/jYAyv+l/oD/QAAI/83+JADp/87+dv9RAHb/vf6D/xAAgP9X/8j/Yf///uz/SQBT/03/IADZ/0v/mv/R/5//uP/3/+L/o/+z/w4AJwDq/6j/hf/D/ygA/v/Q/0QAaQD4/+j/FwACABAAYgCgAGoA9f9dACkBkQDl/98AGAHe/y0ALwFxABIAFgEAAVIAxgDoADMALAB3AEwAbgDCAGUA7/9yACIBrQASAJMAqwDC//v/2wBaAP3/uACBAPL/mwCZAKf/GADLANn/VP85AEIAef8CAPUARQA7/5//LwDD/43/+//n/03/RP/U//j/l/+y/yEAy/88/2v/fP8j/3n/9P+C/z3/r/9Z/5j+If+6/wL/5/7P/2f/j/5l/xIAWv9F//D/sv8c/1v/7v/Q/y//U/8IALr/IP+a/+D/Xv9w/7H/Xf96/xoAHwCw/5H/yf/+/wQA9v/l/wMAeQCVABIAAwBuAH8AkQCqAFQASgB3ADgAbADIAFoAmgBUAZIARQCFAS8BAwAPAeABpAB4AKIBTgEzAJ4AggHXABUAGwGFARkAOQCfAdEA7P8wAWMBRQC3AEcBhABbANkApQAlAPr/QAC2AJMACQDd/+v/AQAkAAkA2f/u/x4AAACb/7//SADp/3f/IAASADT/0P91AJ//kf8XAJH/h//C/9z+3/6//y//Av8NAJr/4v7T/97/5/56/x8AQv/a/lf/Rf/v/h//Zf8x/+P+Rf/L/03/u/4w/3D/Df86/2P/2/4B/7b/aP/m/mT/4v+c/zr/Zf/c/7T/Tf/K/wkAXv/s/xkBPwBI/zwAgwCE/5f/JwD8/xoAkwCTAEsAHwBIAI4ATAAQAGUAaAA5AJIAoQBVAKAAlgDl/zoAEQG2AD8AqACsADcAZQDKAL8AuADcANYAwAC5AKYAqwDDAIsASQCPAKgAEwASAMQAdwCp/04AbwEnAWAAggDEADUAvf9HALYAFwDH/1EAHwBw/+j/qABbAO//8f+4/5f/9f8BALD///9tAM//Nf/h/00AhP9Y/wMAoP/n/pT/LQA1/43+U/+n/wD/LP/0/6v/K/+V/4b/0P4i/9n/nP9u/5X/Ev/c/o7/qv9i/9r/+v9m/3v/x/94/3f/9f9DAC4Arf+b/y8Asv/9/gYAQQDh/qT/GQHI/w7/hgB9AJn/LABVANr/NQBAAND/FgBQACAAVwC5ALkAXwAuAIEAZQDv/44AFQFrAHwA5wAaABkAMwH3AEQAXABgAMIAAQERAGAA+AFDAdz/0ABYATIASwBMAQ0BdwC2ABUB0gBRAHUA6gCfADIAhQC2AGgAegC6AHAAEgAoAFkASQAUAAEAFwAIAOz/AwABAN//9P/O/17/if/R/33/nv8PAIX/HP+u/7v/Qv9f/4j/Y/9k/4D/lP8t/6v+cv8fABD/3/78/zr/O/5u/6j/Vv69/qP///7F/oj/tf9I//L+F/9x//r+a/4T/63/S/9B/6j/ev8k/2X/zf+x/2T/kv+k/1L/2f+aAND/G/8EAEkAa/+q/24AEgDW/3oAjwAGADwA6ADNAFcAdACgAHAAhwDjANoAXQAHAJAANAGCAM//oQDpAAEAUQA7AboAQgDxAC8BcwAGAJEA6ABDAFAALQF3AJf/2QA9Acn////2AB0Asf+dALEAFQD1/y4ASwDQ/47/SwBNAHz/6/9TAGn/Zv81ANn/Yf+b/5D/nP/e/67/qv8DAP//2P/O/9n/+v+Q/yD/vP/j/yv/yP+CAE3/+f5lAAEAmv56/3gAUv/q/kYAMADB/kD/eAB7/7r+FwAyAMv+SP84AEj/z/6b/83/i/9L/wn/eP+S/8n+Wv98AIT/rP7L/wcARv/v/3cAgv9i/1QALgCP//X/ZAApAAgA//8ZAMIAvgDh/2AAQwEkAJf/JAElAcb/fQB3AY4AUwBiAYIB2AC+ABcBHwHOAOUAGAGvAJ8A5QBfAIsAoQHOALL/MQGoAYz/sf+vAeIAUv9UACsBMgD+/88AowD3/yAAjAB5ADQAMABrAGEABQAzAJwAHwCZ//D/4v97/+//GgBk/4H/EAC0/5P/8f+M/0T/vP91/8n+Hv9f/8/+1v6C/3T/+/4i/0//wP5p/vr+S//N/qP+BP/j/pr+Mv+k/+b+s/65/5r/gv74/qz/zv6y/rr/KP8c/g7/CgA+/6r+c//Z/y3/Q/9bAEcAWP/I/4QA3f9p/xYAkQBmAA4AHQC6AKsA3/9CAEUB8gBMAIYApgCGAMYA9wDiAOMA+AD2ANIAyQDuAL4AjQD8AAgBdwDFADYBhABiACkB2wA5AJMAtQCKANwAzgCMAMwAhgAXAMIADgFWAHUAFAHTAJoA5wDzAMYAhwBYAJoAkQD0/z0AAwF0AOH/2AAkAfX/7f/IABEAPv8tAKAAkf+G/7AAjQBZ/1n/KwDS//7+bP/e/xX/8v7h/7n//P56/w4Amf9g/9z/0f8P/xX/DAD//yv/qv8UAL3+Xf6+/8H/zf5p/zIAc//D/jT/oP9z/0//M//P/uP+l/+h/xf/S//V/73/kv/t/x4Asv+n/00A/f8L/6P/XgCI/33/XAC2/0f/aACAAND/TgC7AGEAEAC9/+r/cQAkABAAvQB2ABgA5AD2ADgAbQDHAKkA0gDNALkAEQHEAEcAywDRACEAogAiAVIAWwBCAdIAKwC3AOoAdwCGAJMAVABxAJgApADRAFoAv/99ACUBHABx/0gAiwDc/+3/dAA+AMn/4P8XAO7/uP/F/9z/xf+d/5//2//r/4X/QP+G/7D/Zv82/1H/Rf/2/uz+Tf9E/83+C/+R/zT///6T/2X/u/4H/0v/7f4l/4D/O/9B/2H/E/9y/xMAh/8n/+P/5v8p/1P/sP9f/3X/7//X/7//8v/V/wkAgQDZ/yv/AABNAF7/sv+zAEQA1f9PADoA+P9mAJQAWQAvAPv/HABwADgACABKADAA//90AOMAswB6AMAA/QB0AAwArAC5ALP/5v/aADcAn/+zAO4A0v8GAAEBqAAoALQA5gBgAHoAFAEZAcIAwQACARgBygCFANAAFgG3AHMAtQDGAKAAmwBsAEMAXwAXAKL//f91ABYA8/+NAG0Am/+4/zYArf84/8X/6f9N/0r/xv/E/1r/Mf+H/57/6/60/nD/Yf/O/mz/3v8H//X+2//G/0//ov+4/0f/Xv/E/6n/eP/I/wkAnP8o/23/zf+c/3z/2//0/4H/Sf9y/2z/Yf+b/4X/Kv9n/9P/m/92/8//w/+L//7/RgDs/wsAcQAIALT/IwD7/0P/hv88AB0A2v8hAF0ANQD8/yoAlQBsABgAlADrAG0AiQBQAVcBAgEHAeoAzwDsANcA8gBFAf8ArAANATQBwwCsAPYA8gC0ALwACQECAaoAwQAAAcgA1AAwAdcAZwCxALYAWABjAFIACQA4AEIA7P8NACQAyf/h//H/XP9t//b/cv8J/9j/7P/q/h7/BABh/5L+ZP/H/6r+if6D/zj/bP7m/lr/w/51/vv+Vv/+/sT+Vv9u/2L+Uf5j/wT/Hv72/pr/0f7L/n//Sv/9/lf/mv+f/33/Vf+S/7b/c/+X/+P/rv++/wEAnP9/////of/7/ov/8P9W/4r/UgAEALb/QgAdAI3/CwCaAEkALwB2AEwAEwBpAMcAggA0AKUA6wBpAF8A0gCUAG8A2wCnAE0AkgCXAJ0AHwEEAYwAsgDTANcA+QCsAKMACwF4AAYA+gAdAUwAyQBKAVsADgDWAOsAaQBvANkAuQAFAPb/cwAZANL/kwB+AH//xP+EADgA8f8OAOT/8v8vAA0AFABBAPP/wv/+/93/nf/+/14AIQDk/9H/fv9Y/5f/j/9q/6D/qf+o/+T/ff8W/9z//P/i/gv/zf8n/+D+sv+w/1v/v//G/0v/Dv8o/43/hv8J/4r/OgB+/xn/2P+S/77+Q//6/6j/SP+m/10AhwAMABkAeQDt/5f/XgBbAIz/IQDyADUA9f/1AMkA8P95APIAUQBhAO8AnQBkAKkAlADCABcBfgA7ABYBCQEqAIgAPAHdAKkAEgEAAdMAHwEkAd8AyQCOAHUA4wDiAHkAtgDJACwAKgBnAAAAJgCmAD8AHwCXADgACADaAMMA/v9SAKIA5/+c/ycASADj/9b/IwATAK//kP+e/4b/UP8z/4X/w/8t//r+rv9r/9H+pf+9/2n+of55/7H+c/48//n+v/4p/8b+v/57/+r+VP5M/4D/q/7f/lP/Hv8X/wj/6v5H/1v/G/9O/0//CP8t/yX/+f5h/3P/IP97/6T/Jv9P/63/af+M/xwABwC0/9v/OwBAAN3/9f90AAcAbv8WAIYA6//7/44AYgBMAKkAeQAeAFAAaQAtAEYAtwDqANEA0gDqANsArQByAFgAewCNAKoADAHsAHMA4gBRAawAmgBYARMBdACqAMcArADWANkA6wD/AH0AVgDDAH8AOwCuALkApQDhAHYATADyAJoACwDGALIApv8wAA8BSwDJ/3oAqQAEALv/IQBZAOL/nv/n/7v/WP/A/zsADADJ/6H/fP+e/8L/qf/G/+f/ef8b/3L/m/8s/0j/9v/A/97+1/5m/1H///5X/6//R/8R/4r/bf/c/lL/2P85/yb/6P+j/1T/QABPAEn/jP8+AKD/W/83AEsAk/+x/zUA5v99/x0A0wBMAKT/NQCjANv/mf+HALoA6v/j/44AcADh/yAAuQCIAAQALAB3ACsAGgCxALUAAAADAJMAUwDe/0kAtwCOAIoApABeAC0AXACPAJsAbQA8AHMApQBgAEUAkQC3AKYAgwBQAD4ASgBxALYAiQADAB8AYQD+//v/gQBfAA0AOgAcANP/AAALAN3/+f8EAOT//v8jADUAHQCv/5///P+N/9L+Nv/I/2j/F/94/7H/RP/1/mn/nP/c/sH+kv8//0v+o/4d/7T+yf5K/x7/8v5I/07/3/7D/ib/Pv/z/iP/e/85/0v/wf9F/7L+MP93/zf/gv/b/6z/fP+h/xkAQADN//b/hwD8/4j/PgBUAL7/EQB9AC8A/f8SACYAIwDz/yYAmwB7AFwAjgBZAFEAogBUAFsAGgHZAGsAQQFhAXwA0gBzAc0AjgBJAUQBmwC0AEABJwGwANcAQQEAAbcAHwEvAW0AZwB3AaYBnwCPAHoBJQFHAPIAhQFsAOT/xQDwAFwAgQDMAIwAaQBsAC8AFgBGADEA2P/L//H/3//f/xgA1v87/0j/dP/k/sf+qP/o/1L/Wf/P/6n/OP9D/77/r/+4/oH+hf+D/6T+Pv/5/xz/1f6a/0f/ov4K/1T/I/8X/wX/Nf+Q/0P/CP94/2v/4v4A/2v/Zf82/2L/zv+8/1n/xP9EALv/ff8CAML/SP/R/z0A+f8QAF4ANgDv//L/NgBRAA8AFwB5AFgAHgCOAMIAXgBmAKAAQgALAJMA5QCFAGUAzwC5AAwACACYAJ4AfgC3AJYATQCPAMEAmAC1AO0A1wCXAGkArgAYAccAfQD1ANAAFQCLAC4BaQD5/9YABAEqAAcAjgBrAOn/JwCYADIAxf85AIoAEADI/wkAJgDx/73/1v8bAPD/hf+j/9j/c/9W/wwAUgB8/+v+df/P/0f/M//g/9n/Nf87/3j/Gv/f/lH/s/9k/9j+6P5H/wn/0/54/7X/B/8c/9z/lf/5/mH/1v+H/zX/Q/9j/17/N/9O/5P/af87/5z/v/9+/8v/LADY/7j/JwApAOD/JACJAEEAwf/x/28ARADu/0wAkwBDAFYAwACUAGcAygDeAHcAawCgAJAAhQDUAB8B/AC0ANYAIAHqAJIA2gA7AfcAuwAfAUwB6ADVAAsBvQBtAM0AEgHJALQA7QD1AOkA7QDkAAMBLQH0AKEAjABrAEsAdACCAFAAbgCwAGQA9v8RADgA+f/N/93/1/+1/4//kf/P/7n/Ov8y/3v/RP/6/g3/Fv8o/1P/Pv8z/zj/9f4X/6b/a//W/iH/of9z/xH/D/9i/2v/+v7+/m//NP/H/h7/h/9a//L+0/4v/2L/G/8//4r/Ff/6/rz/3/90/2j/V/95//7/0f9Q/7D/EACv/3z/0v8EALz/d//Z/zUAyP+a/xcAHADf/ygAUwAlACUAQQBeAGQAIwAYAF4AYgBjAI0AbQBpAKoAigCCAPIA3wB8ALkA9wDLANcA9QC6AIwAsQDjALkAQQBNAPQA+QA9AB0AuADgAIIAiQDaAJ8AQwCjAPwAcAD3/0UAgAA9ABYAPwBhAEYAKABQAGoACwCu/93/HgDd/4f/w/8pAAIAp/++//T/u/9d/2z/sf+G/x//If9E/xv/J/+H/57/a/9T/2L/gv92/z//WP+C/0n/Tv+W/1D/B/9z/6r/Sf8o/17/g/+k/7j/sv+u/6z/z/8JAPL/u//F/63/cf+Y/7v/c/+D/wYA9P93/5L/2/+V/3z/8v/v/3L/nv8aAPb/uP/s/zEAcACPAEYAKQCQAKMAWACVAAMBxABtAMIAEgGlAEUAqwD2AHgAMAC2ABABzADEABwB+ACEAMoAYwEZAYkA2gA4Ad0AyAAwAQEBdQCIANoAvACGALAA/gDxAJwAlQDgAOYAqQCZALMApwBtAEkAaAByAC8AKACEAG4Auv90/+L/7/9a/1L/6f/V/03/ff+n//j+sv4//zL/s/4U/7P/YP/a/hn/ev9K/w3/Qf9s/z3/H/8v/yH/Cv8P/xf/MP9F/wn/w/7p/hL/3v7X/i//Q/8N/y7/eP9f/z//hv+//5D/af+e/9r/vf99/5D/4P/+//X/BAACANX/yv/q/+P/sP+e/8v////w/7L/uP8NACMA5v/1/zwAJgDv/wcADADy/zgAmACIAGgAigCRAG8AdACXAKcAmwCPAKEAsQCiAKoA0AC8AHgAXQB6AKsAxgCnAHwAfQB8AHwAtADFAHYAaADEALYAKQD6/1oAngBvAD4AcACnAHMANQBGAEAADAAUADIACQDl/wcAHgD1/7X/jP+Z/8//5v++/5//tP+6/5z/rP/U/7z/r//n/9n/d/9l/4H/Xf9T/3L/UP8i/0T/c/+G/5T/f/9P/1P/fv9v/zL/K/9X/1r/Tf93/57/lv+g/73/tv+g/6L/v//V/73/tP/n/+7/t/+6/9n/sP+P/7//3P+0/6r/9f8sAAsA9/8fADsAWgB3AEgALgB4AJEAbgCiAM4AowCzAO8AywCGAHYAdQB2AG4AUgBWAIUAsAC5AJcAeQCYAL0AqACRAJ0AogCcAKgAtQCjAJQAtAC+AH4AWwB4AG8AVQBtAFoAEAAiAHoAgABHAEAAXQBWADwAPwA0AAsAGgBkAGQADQDo/w8AGwDg/5v/df9w/5H/vP+y/4T/i//I/+L/sv9z/3//w//C/3n/Xf9x/3D/e/+X/3P/Jf8d/1T/WP8g/w7/Lf8p/xj/Pv9X/zv/Rv9z/17/Kv8o/0b/ZP96/4P/jP+E/2T/cv+m/5f/bf+V/8b/uv/G/wkANQA4ACoAEQAVAEYAXwBPAFQAYgBOAFUAhgB6AEoAZwCOAGQAQwBhAHoAegBmAD4APQBvAIIAbwBwAIQAlQCdAKYAygDzAOgA0gDzAAEByQCnAMgA3QDIAKwAkQCJAKMArgClAKYAkABeAEsAQAAlADkAawBoAE8ARwBCAF4AjQCGAGkAdACCAHQAXwBLADoALQAVAPv/5v/c/+H/0f+d/33/f/91/2v/cP9t/13/R/88/1j/hf+V/6P/w//R/8r/x/+3/5P/fv+J/4f/Uv8g/zP/VP9E/zf/Tf9X/1D/V/9e/2D/bf96/47/vP/X/7v/n/+q/6n/hP9r/3b/hv+C/3L/cf+Y/8//3v/M/8b/y//E/7X/sv/T/wAA+v/g//P/9v/U/+7/JQAXABMAVgB2AGIAdwCoALkAtgC2ALgAsgCpALcAxwCyAJcAnACtAL8A1gDoAOQAzgDKAOQA4ADGANwA8QDCAJ8AtACuAI8AlQCXAG0ATwBiAHUAYABKAFoAWwAsABwAOAAiAN7/xP/G/73/xP/Q/8D/v//S/8P/qP+e/4n/fv+N/37/W/9W/0b/MP9H/1f/Qv9G/0n/Nv9J/1n/Lf8k/1D/Uv9A/07/Uv9L/17/bf9n/2r/af9X/1j/d/+M/4j/g/+B/3//gv91/0j/Nf9Y/33/l/+8/8r/wP/P/97/1f/X/9b/x//Y//X/7v/0/xAAFwAsAFAARAA0AFYAbABkAHAAdwBmAGAAagCEAKQAmwCLAKsAwACqAK4AwACjAIwAqQC6AJkAegCDAJAAeQBmAHoAiwCGAI8AkAB1AHkAoACmAJYAkgB+AFoAUQBXAEoARABYAGwAcABuAHAAeQB+AGkASAA9ADwALgAnACwAIAAJAAYADgAWACkAKAAAAN//2//P/8T/0v/c/9z/7v8EAAsABgDw/+f//P/0/8X/uP/E/7b/o/+W/4D/f/+N/3n/Uv9C/z7/Q/9Y/2n/b/94/4//qv+m/4b/f/+U/5H/fP9//5X/o/+p/7n/zP/L/7//z//k/9P/u/+6/7f/q/+j/5z/nP+k/6n/tv/Q/87/vP/J/+b/9v8OACoALgAoAC4AMQAuADkATwBZAFYAYABwAGoAXQBtAIUAigCEAHgAbQB2AH4AewCPAKsAsAC6AM8AwwCnAJkAigCDAJEAgABUAFYAcABfAEAASABaAFgATABEADgAEwDn/+X/+f/n/8v/1v/l/9z/4P/v/+H/xP+//7//uP/F/93/4//l/+3/6f/j/+n/6//p/+v/3P+3/6H/nP+Q/4r/pf/B/7T/kf9+/3T/Zv9Y/0z/R/9L/0v/Uv9u/4T/iP+I/37/df+F/4X/X/9O/1X/Rv89/1D/V/9X/3L/gv99/4//tP/G/7r/nf+X/7z/2//o/xEAOgA1ADIARABCAEEAVwBVAD8ARQBYAG0AhQB7AGEAbgBxAEYAOABVAFcAVQCAAKgApACSAIsAhABvAF0AagB/AHcAYQBfAGsAdgByAFkATgBeAGIAUQBNAFEATwBUAGEAaQBtAHMAcwByAHUAbQBdAGYAgQCCAG8AbgBtAFMARQBOAEwATgBjAF0ARABJAFIARQBNAF8ATwBBAEcAMQALAAkAGwAYAPr/0P+0/7D/r/+l/5z/n/+p/63/p/+h/5r/iP97/3//iv+V/57/pf+f/4f/cP9v/2r/Uf9J/1D/Qv8z/z//U/9i/2z/dP9+/3f/Vf9B/0n/TP9S/2X/bf9u/33/kP+r/8P/vv+//9z/2//E/9X/6v/n//j/CgD5/+z/7f/p/+v/5f/S/+n/JQBAAD4AUABeAFMASwBOAEAAKwArAC8AHgAeAEUAXgBaAF8AZwBZAEgAPwA3ADkAPAA1ADYAPgA2ACMAGgAdACQAIwAoAEMAUgBOAGgAiQB9AG0AdgBmAEUAQgBDADoAOQAwACMANgBFAC0AEgAAAOb/1f/W/97/7v/5//H/5P/Z/87/0f/Q/77/v//c/+n/7f8CAPz/2//d/+r/xv+Y/5T/j/9w/2f/dv9y/2r/d/94/2f/bP9//4z/o/+9/8z/6P8EAPr/6f/q/+L/3P/i/9f/0v/g/9H/uP/G/9b/1f/l//D/5f/k//b/DwAsAEIAWABvAHIAdgCFAHcAXABeAF8AWwBqAHIAaQBnAFoASgBgAHoAdQBzAIgAoQCnAJoApQDEALoAoQCuALIAlgCJAIkAgACHAJAAhwCLAJkAkACCAHIAWABUAGMAWwBLAEkASABPAFcASAA8AEUARwA7ACYA/v/m//L//v8DABAAEAACAPn/4P+r/4P/fP+E/4T/eP96/4H/aP9R/2v/if+A/3b/gP+J/47/lv+b/5X/if+K/5r/mP+G/4f/kf+J/4T/jv+Q/4z/lv+l/67/sf+t/67/wv/Z/+D/5P/5/xMAHwAuAD0AKgADAPv/CQAKAA4AIgApABwACQD2//H/9v/x/+3/7//u//X/+f/o/+H/9v/+//n/AAACAPP/5//m/+f/5//g/97/5v/p/+D/4//t//D/+f8SACQAJQAuADUAHwAKABEAHAApAD8AQgBAAF4AeQBiAEAAQQBPAFYAYABsAGsAZQBwAIMAhQCEAIMAaABOAE4AQgAZAAAAAAABAAUACQD5/93/zf/D/7X/rv+1/7T/pP+e/67/uP+v/6n/qf+f/5X/kf98/2T/bf+G/5D/oP+//8j/uv+w/6v/ov+d/5L/fP9v/2X/Uf9I/07/Tf9W/3b/lf+u/8b/wP+r/7X/zv/i//7/FAAdADcATABAADgAQQA5ACcAFAD6/+//+f8GABkAKwAuADEAKAASAB0APQBCAEIATABBADgAQgA3AB4AHAAjACIAIwAoADYAQgAyACkARABYAFUAagCNAJgAmwCnAKkAmgCRAJUAjgB9AIQAjwB7AGsAeQB5AGIAVQBRAFQAWQBJAD8AVQBYAEYAWwBxAFUAMgAeAPv/3v/b/9b/0v/n/////f/k/87/yv/D/7b/u/+//7r/zv/m/9v/2P/v/+v/0v/S/87/tP+l/5//lP+X/6z/vf+6/6T/jf+C/3P/Z/9x/3//hP+R/6H/s//O/9//3//m//L/9v/6//v/9v/+/woACwAQABsAJQArACEABgDt/9P/uf+8/9D/3P/o//7/EgAaAA0AAAAUAC8ANgA/AEsARQA5ADcAQwBWAFYASQBNAEYAIgAWACIAFgAKABIAEQAdAEkAWgBKAE4AUwA+ACoAIAARAAgACgAPABEADwALAAAA6P/V/87/u/+n/67/vf/K/+H/4//D/7z/1//c/8r/z//q////BgACAAAA///5//z/BAD4/+H/3f/h/+D/4//Y/7b/nf+W/4r/f/+E/4j/gf99/33/hf+U/5v/kv+U/6b/q/+j/6L/qP+x/8f/5P/z//3/FQAnACYAIgAiACEAJAAqACMAGwAcABIAAgAJACAANABDAEcARwBYAGYAYQBnAHYAdAB+AJEAhwB/AJMAkAB6AIMAjwCBAHgAfQCDAIAAZwBRAF0AYQBLAEgAUgBIAEcAYwB+AI8AogCyALAApQCsAMAAuACaAIYAegBxAHYAdABrAH0AjwB0AFYATQArAP7/+/8BAOn/4//1//D/8/8WABgA9P/t//j/5//J/7X/q/+l/5n/mf+t/7H/pP+n/53/eP9o/2T/Rf8o/x3/Df8B/wX/CP8X/zP/O/8//1z/bf9h/1j/X/9p/3H/cf9y/3//if+M/5D/jf+A/3//jP+X/53/p/+u/7L/xf/m//j/+/8LACUANwBOAGoAcgB5AIYAeQBeAGEAbQBiAE8ATQBgAHQAfACAAIMAfQByAGEASQA8ADcALgAxADQAIQAZACwAKwAjAD8AXABXAE8ATQBAACoAFQANABkALgA5ADYAKgAeABkAEQAFAAYADAAEAP//CAALAAQA///x/+L/4//d/9H/0P/M/7r/tf+7/8D/yP/D/7L/uP/F/7H/m/+c/5H/f/+E/5L/mf+i/6H/kf+B/3r/ev96/3n/eP98/4D/gv+D/4P/jv+j/6//t//M/9v/1P/V/+f/7P/m/+f/7P/y/wsAKwA2ACkAHgAZAAwAAgAJABMADwATACoAPQA8ADIALQAsACoALgA7AEsAXABnAFwASwBQAGMAbABjAEYAIgAWACQALwAsADUAUgBgAE0ARQBbAGIASQAwACYAIwAtAD4ARQBJAE4ATgBPAFMASAA6AEEAUQBVAGEAeAB+AHMAcQB3AHEAZABdAFkAVABWAFMAOQAXAA0AIQA8AEEAMAAmAC8AMQAkAA4A8f/k/+r/4f/L/8v/zP+5/7L/tP+Z/3v/f/+K/3v/aP9w/4b/jf+K/5X/ov+a/4b/eP91/3z/hP9//3z/hf+O/5r/v//p//b/6//c/8z/wP/G/9r/7P/4/wMADwAWABMABwD5//P/8//w/+7/9P/3//T/9v/+/wMAAwAHAA0AEQAPAA0AEAAYACQAMwBCAEYAOAAdAAYA8//o/+P/1//Q/+f/+f/s/+z/+v/6/wIAFAAPAAgADgADAPb/AgALAA8AIwAyADIALQAcAAYAAgAFAP7//P8MACUAMgAtACcAJQAXAAMA/f/9//j//v8OABAAAgD3//P/6//f/9L/w/+2/7P/uf+//77/sv+p/7D/u/+1/6n/pv+f/4//if+P/5D/kf+k/7b/tP+0/8j/2v/e/97/5P/z/wUAFAAhAC4AMAAxADgAOgAyAC4AKgAjACsAPwBHAD4AOABAAE0AVgBcAF4AXwBiAGkAcgCDAJAAhwB9AH8AdwBwAHwAhAB8AH8AiQCRAKAAmwB8AHMAgAB0AF4AYQBlAFgAVwBiAGEAXQBkAFwAOgAhAB4AHgAXAA4ADAAQAA4ADQAXABcADgAYACQAIQAgAB0AFAAiADoAOAAqACgAKgAlABsAGAArADsAOwA5AC8AGAARABYACgD//wYABgD//wMA/P/i/9L/v/+W/37/hf9+/27/eP+A/3X/c/9t/1D/Q/9P/0r/Nv8z/z7/Rf9H/0r/Tv9O/07/WP9m/2z/cP91/3n/f/+R/6P/ov+d/57/mP+P/4z/ff9q/3H/hf+N/5j/qv+v/6v/sf+6/8P/1P/u/wMADAAQABcAIAAlACsANwBCAEIAOwBDAE8ASwBFAEIALQAMAAEABgAHAAwAFAAXABsAIgAXAAsAGwAuACUAHQAmACMAFgAWABcADwAUACQANQBGAEsAPAAsACUAJwAwADEAJwAqAEQAXQBiAFwAVABLADsAJQAbACAAJQAoACcAGQAHAP//AQAFAAIA9//0//b/7f/i/93/z//F/9L/3P/W/9T/1//S/8v/wf++/9T/7P/r/+r/9//2/+H/0//R/9H/2f/m/+v/5P/Y/83/xf/C/8X/0v/h/+T/3//l//D/8P/v//f/9//6/xEAJwApACIAHwAnADwAQgAuACQAKQApACkAKgAdAB4AOQBGADwAOgA4ACkAHgAcAB0AKQAyAC8AMwBBAEQAQgBCAEIAUwB2AH8AagBqAIoAnACSAIsAjwCPAIoAigCHAIAAgACCAHcAawBqAG8AeQCHAIcAdABkAE8AJwAKAAwACQABAAwAEwAGAAUAFQAYAAkA8P/T/7b/n/+P/4P/f/+F/5L/lv+Q/4r/jf+R/4r/gP+H/5X/nP+m/7r/yf/K/7r/q/+0/8j/yf+4/6r/of+W/4b/f/+G/4r/jf+c/6//vf/P/+H/5v/t//j/+f/3////AwD5/+3/4f/X/9b/2P/Q/9v/BAAgABcACgAFAP7/DgAwADgAKwAyAEAAQABAAEEAOwA+AE4AVwBcAGsAfACIAJEAiQB1AHQAgwCDAHkAagBKADUAPAA5ACkAMQA7AC8ALQA/AEkASABIAEcARwA+ADAALQArACMAKAAnABEABQAHAPj/4P/L/7L/pP+o/6T/nv+h/5r/jP+L/4P/Zv9Z/2//jv+e/6b/q/+q/7H/vv+4/6j/tP/J/8P/tv+3/7r/wf/E/7H/qP+9/8X/uf+7/7z/sf+//9b/0f/D/7r/sf+y/7b/sf+3/8P/uP+q/63/sP+5/9D/2//V/9H/zP/R/+T/4f/I/8v/5//9/xMAMAA6ADQAOQBIAFAAUwBdAGsAbwBpAGQAaQBuAGUAXwBxAIQAfwB3AH4AhQCGAIIAggCWAKgAoQCeALEAugCyAKwAngCYAJ0AkQCDAI0AiABwAHkAkgCQAIgAhwB3AF8ARAAuACkAJwAZAA0ABAD4//P/9//8/wcAFgAfACMAGQD//+3/5f/U/8X/w/+3/6b/pv+u/6b/lv+L/3//cv92/4P/ff9x/3X/e/92/3f/ef93/4D/hv91/2v/fv+P/5X/of+k/5X/jf+M/4L/df9v/3H/gf+Z/6n/sf++/9b/7//z/+n/8f8AAPn/8f/w/+j/7P8GAAoA+/8LACgAJgAQAAEA/P8BAAcABgAGAAoADwAZACIAIwApADIAKgAaAB0ALgA1ADAALAAsADQARQBNAEgARgBFAD0AOwA5AC0AIwARAPD/6/8AAPz/9P8HAAoA+v8IACQAKgAqACgAIQAnADIAKgAeACAAKgAuACEADgAOABAACQAOACAAJAAaAA0AAAD7//P/1v+7/7j/tf+l/6T/uf/H/8T/wf/B/7n/qv+k/6j/q/+z/8D/uv+p/6v/sf+x/7//0P/M/8b/0P/d/+j/5//Y/9v/+P8IAAYACQAUABsADgD2//j/EQAbABcAGQAVAA0ABgD3/+3/+f8EAAsAIAAyADEALwAvACIAEQALABYAMQBQAGEAZABdAFQAVwBiAGkAbgBwAGIATAA/ADkAMQApACAAIAArADAALgBBAFkAUgBAAEIAPQAsADcARAA8AEgAYQBUAEQAUgBFACIAJgA3ADAAJQAWAP7/9P/0/+7/8P/0/+n/4f/o/+7/8v/1//b/+//8//n/AAAMAAkA+P/o/97/2P/S/8//0v/O/7z/sv+4/7f/pf+T/5H/oP+p/6T/mf+I/3j/d/98/33/lf+3/67/jf+F/4f/hf+O/4//c/9h/2r/cv93/3z/eP96/4r/jv9//3//lf+o/6f/ov+t/7f/rP+d/57/of+q/8r/5v/r/+r/7P/t//H/9P/y//v/EQAkACoAJQAmADsAVQBnAHQAdABjAFYAXQBjAF4AXgBnAG4AcwB/AIMAdgB1AH8AeQB4AJEAmgCIAIAAfQBxAHQAdwBcAEcASgA6AB0AJgBFAEwAQQA1ACIAEAAOAB4AMwBCAFMAaQBwAGgAZABpAHYAfwBxAFYAUQBSAEMAOAA/AEUAQgA5ACgAGQAKAPb/7f/p/9j/zv/W/9P/xP/F/8n/v/+9/8r/xv+w/63/vP++/7X/tv+3/7D/rP+l/5P/if+I/3v/cP9+/47/kv+h/7r/v/+t/5v/l/+Z/5//qv+t/57/l/+o/7r/xP/Q/9L/0P/e/+f/2v/X/+H/6P/2//n/6v/q//X/8v8EACEAGQAQAB4AEwAFACgAUgBiAHgAlgCnAKsAoACSAJIAkwCNAI0AiwCCAH8AdABZAFEAXABaAFEATwBUAG8AkQCPAHwAgACMAJEAkQCEAH4AjQCOAIIAiQCGAGMATgBTAFMATQBHAD0AMQAeAAsAAQD5//b//f/w/9H/yP/P/8v/xf/E/77/tv+p/5P/hP99/3H/av9z/3b/cv96/4T/fP92/3T/Yf9Q/1P/Tv8+/0r/Yv9p/3v/kP+F/3X/fv9+/3H/dP+E/5D/lv+K/23/Wv9f/2z/df97/4H/hP+D/33/eP+E/6H/tf+0/7L/tf+3/8D/zP/N/9H/5//9/wIACAAWAB8AHAAbACEAJQAqADgARQBMAFYAXABbAF8AZgBkAF0AWQBVAFgAYQBrAHIAbABrAIMAnwCpAK8AsQCgAJIAkQCIAIoApgDAAMEArACUAIcAhQCHAIwAjACAAHsAewBmAE0AUABXAEgAOAA1ADAAJwAiABcACAAFAAYA/f/2//b/6f/X/9P/2v/i/+D/0v/M/9T/0//M/83/0P/O/83/xP+w/6b/pP+e/5T/jv+Q/5v/pf+m/6b/sv/L/9X/wf+o/6T/p/+s/73/zP/Q/9f/zv+u/6D/s/+6/6P/lP+X/5T/hf+A/47/kf+D/4P/m/+v/6//r/+5/8r/2v/l/+n/7//4//j/9P/3/wgAHwAyAEEAQwA/AE8AbwCDAJcAtQC6AKYAqAC0AKYAkQCEAHsAhACMAHQAWwBkAHUAewCHAJgAngCZAJUAmgCqAL8AxgC7ALUAwADIAMIAuAC0ALQArQCeAJwAnwCJAHIAdABrAE0AQgBEADIAHgAZABYACQDw/9f/zv/N/73/qf+f/5//o/+o/6//r/+f/5L/mf+g/5f/jv+J/4j/l/+f/4L/aP90/4T/eP9j/1z/Yv9q/2P/Tf8y/xn/FP8q/zv/NP8r/y3/Kv8m/yr/LP8m/yL/Jv8t/zD/Kv8d/xf/Hv8n/y//PP9J/1L/WP9i/3j/j/+Z/6D/q/+r/6f/q/+s/7b/0v/k/+7/BQATAAoAAQD7//f/AwAUACEAMwBCAE4AVwBMAEgAYABmAFgAZQBvAG0AiAChAJQAlQCrAKoAnACWAI8AiAB/AHIAdACFAI8AiwCCAIQAkwCZAKAAuwDHALYAtwDRANIAugCpAJ4AjwB+AHsAhwCIAHEAZQB1AHwAcgByAG4AXQBdAGMATwBFAFcAVwBQAFwAWgBJAEcAOgAeAB0AHAD8//D/AgD///X/+//t/9n/7f8BAOj/zP/F/7n/qf+l/5//k/+K/4X/h/+L/3v/Zf9g/13/Uf9V/2P/Yv9a/1n/Xf9h/2P/ZP9p/2r/aP95/5b/mP+M/5H/kv+G/5z/x//S/9P/5f/j/9j/6////wAADQAdABMADQAWABMAEgAlADEAMAA1ADYAKwAtAEYAVABPAEoASAA9ADEANwBLAGcAgQCOAI0AkQCbAKUArACuAKoAqACrALAAvQDPANYA1QDeAOYA0ACmAIgAfQB3AHIAcQBsAF0ARgA1ADEALQAnACkALgAnABwACgDj/8b/x//E/7//yf+4/4//i/+X/4v/h/+J/3P/Zv9v/2r/Yf9m/2b/Zf9v/27/Y/9T/0D/Qf9U/1j/Uf9I/zz/Qv9V/1b/YP+D/47/f/+B/4T/ev9+/4X/i/+m/7X/m/+C/4D/fP+A/5X/of+b/4r/ef+B/5n/pP+v/8H/xv/O/+H/3//S/+P/+f/1//X/AQD///T/9/8AAAoAFwAWAAQABAAWABUADAAhAEUAWABcAFwAWwBdAF4AVQBOAFUAZgBzAHoAggCNAJMAnwC+ANoA3gDWAMwAwAC7AL8AugCnAJsAnwCiAJIAdQBoAHYAgQB9AIEAiwCMAI4AjwCGAIQAiQCHAIgAhgB1AGkAZQBWAEcAPgAnABkALAA4AC4AJwAhABAAAgADAAkACgAJABQAHAAKAO7/4P/c/+f//f8HAAMAAADr/8T/t/+5/6P/iv+N/47/jP+l/7z/tP+s/6T/g/9k/1X/Qv9A/1//cv9u/3T/fv9u/1T/Vv9t/3T/aP9e/1r/XP9o/3L/dv+E/5b/mP+G/3X/gv+m/7f/sv+u/6n/rP++/77/sP+4/8T/yP/a/93/0f/o/wQA/P8KADMAPgBLAGYAYgBdAHgAcQBUAGcAgAB2AHwAkQCOAIUAgwCAAH0AcwBgAFYAVABYAGgAbQBjAGAAZABnAHIAfwB/AHoAcgBkAFsAVwBUAFQATQBAADsANAAiABUADAD///3////3/+7/5f/a/+n/BQAEAO//4f/O/8T/zf/J/6z/nv+h/5z/lf+j/7H/p/+b/6P/nf99/3T/jP+Y/5j/rP/H/9T/1//W/8//xv++/7P/pf+i/7D/sv+j/6X/uf/M/+H/6//b/83/yf+6/7v/1P/W/8v/1P/W/9D/4P/1/wYAJwA2ABwADwAnAEAARAA6AC8AJQAWAA0AGAAiAB4AGQAOAPr/8f/1/+//3f/N/9L/8P8NABIAEwAjADIAOgBFAEoAQwA9AD4APgA+AD8AQABLAGgAegBoAE4ASABEADIAJgAhABwAKAA/AEQAPwBDAEgASwBPAEkAOwA1ADsARgBHAD0AQABWAGIAXABNADkAPABaAF4AOwAjACAAGgAdACoAMAA3AEAAPgA8AEoAWwBeAF0AXgBYAEEALQA2AEMAKgABAO//6v/h/+L/5//c/8b/t/+y/7T/vP+8/7H/qv+q/6T/nv+o/67/p/+l/5z/h/9//3X/WP9b/4D/hf90/3H/Yv9S/2b/cP9V/0j/V/9l/3P/gf9//3P/av9t/3f/c/9r/33/oP+7/8z/2f/d/93/3v/b/9X/1f/k//z/CAABAP7/EAAiACMAIQAhABkAFAAdAC4AOwBAAD4APABKAGcAbwBaAFkAeAB/AG8AfACQAIkAgwB/AHAAcgB/AHYAcAB+AHoAXwBOAEoASQBOAFUAVwBIADYAOwBEADcAKgAtACMAEwAaACsAJAAWABQAEwAJAAcAEAANAAcAFAAiAB8AGQAWABAAEQATAAgA9P/j/9n/1P/Q/9H/1//N/7f/tf+5/6n/rP/G/8X/sv+q/53/j/+T/5n/oP+8/9H/0P/F/63/mf+j/7D/qf+s/7z/uv+n/5j/lP+R/4H/df98/4P/if+h/7b/t/+//9T/4P/r/wIAFgAfAB8AIQAtADQALgAsACkAGwAVAB0AIAAgACQAJAAnAC4ALQAmACAAIQA4AFoAZQBoAG4AZABgAHwAlQCfAKkAmgB1AGIAVgA3AB8AHAAaABcAHwAwADkAKAARAAoABQD//wIAAwD6//v/BgAHAAEAAwANAB0AKwAvADMAOAA5ADQAJQARAAkABwD9//X/9v/3//7/DgAZAB4AGwAJAPH/3f/U/+f/CQAVABQAFwARAA8AHwAgABcAHQAQAOT/zf/K/77/v//J/8D/vP/F/67/kf+h/7T/q/+t/8P/0P/P/8j/vv+4/7H/o/+f/6v/sv+r/57/l/+a/5z/nP+p/8b/3//r//P/8//y//T/9v/4/wYAGQAUAPr/8P8BABQAHgAfABMACwAQAAkA+P8BABUAGgAjADgASwBmAHQAWgA6ADYANQAwADcAMQAbAB8AOwBCADEAHQAFAO7/5//t//D/9f8HABoAGwAOAA4AFAATABkAKwAuACIAHAAVAAwAHQA2ADIAIQAiADEARABbAGwAcQBqAFwAVwBaAFAAQgBAAEEAPwBFAE8ATQA/ADQAOQBEAEAAOAA/AEcARwBCADIAKQA3AEYATwBVAD4AEQAIABoAHgAhADIAOgA1ACkAGQAOAAkAAAD3/+7/2f+8/6b/qP/C/9v/6f/1//z/7//e/9X/yP+4/6z/o/+h/6z/uf+//8z/3P/o/+n/1f+2/63/s/+y/7r/y//P/9T/3v/Z/9b/2v/D/6r/tv/D/7z/tf+m/5P/p//S/+v/8v/x/+r/6//x/+r/4f/c/9f/2P/b/9f/2P/a/9P/1//p/+z/3P/N/7//tv+7/8//6v/8//T/5f/p//X/9//3//n/+P/9/wQABQAKABgAHQAWAA8ACgD9//T/+/8DAAYAEgAoADUANQAuAB8ADAAFAAgA/v/q/+n//v8OABoALAA0AC8AMQA4ADAAIQATAA0AFAAYAA0AAwD4/+L/0f/V/+L/9v8JAAQA7//l/+z/+P/4/+r/4v/p/+j/3P/Z/93/6P/+/wkA/f/4//L/2P/L/9n/6P/0/wEA+v/u//T/+f/v/+b/4//w/xAAJgAhABEACAAQACEAFwD5//T//v/8/wMAFAAYABQAGAAbABoAFwAKAAAABAALAAoAAQDx/97/zv/M/+L/+//8//D/7//w/+n/3v/P/8T/z//n//D/8f/4//n/8f/0//z/+v/w/+v/6P/t//n/AgAFAA8AHAAfABwAGAAXABgAIAAsACcAEQATADMAQgA9AEYASgA8ADkAOgAxADwAUQBRAFUAZgBiAFUAUABLAFQAbABzAHEAcgBnAFgAWwBaAFEAVQBiAG8AdABjAE4ATwBOADcAKwAuACUAGQAdACsAOQBDAEsASgA5ACcAHwARAP3/+f/3/+7/+P8HAAAA+f/9/+7/3f/h/9f/uf+p/5n/h/+S/6n/pv+Y/5P/kv+d/63/p/+S/4f/iP+W/6L/ov+j/6//vP/K/9n/2f/R/9X/1//H/7L/qv+k/5//o/+j/5j/mv+x/7j/p/+h/63/sv+s/6n/tP/M/9v/3f/b/9X/zP/J/8b/wf/J/9z/4v/X/8z/zv/U/9T/4v/6//r/6f/n/+z/8v8DAAgAAAAMACUALwAsACoANABNAFgATwBJAEIANgA6AEwAWABpAHQAZQBPAEgAQwA6ADEAJgAdABwAEwAFAP7//f/9/wIABgAFAAMABwAaACwAIgAGAPz/+P/p/+n//f8IAAEA+//1/+7/6f/n/+////8IAAYAAAD+//7/+f/1/wAADAANABgALAAnABAAAgD2/+n/7f/y/+H/z//F/7f/t//J/8z/xP/O/97/4v/r//f/+f/7/wIAAAD1//H/7v/Y/8D/wf/K/7//t/++/7//uv/C/8r/yf/R/9v/1f/L/9T/5//s/+z/+P8IABQAGQALAPv/BAARAA0AFwAwADoAPwBGAEMAPAA4ACgAEgALABEAFQAWABoAHgAdACcAQABRAFkAZgBlAFUAVgBnAG8AbwBpAGIAcgCLAIUAbgBlAFwATgBUAGQAaABpAHEAewCAAHsAaABXAEkANwAxAEMAVgBVAD4AGwAPABoAEQDz/+T/2v/O/87/y//E/8//4P/d/9v/6//9/wIA+P/t/+r/2v/B/7r/t/+u/7j/y//I/7r/qP+P/3v/b/9m/3D/gv+E/4X/iv9+/23/bP9u/2j/Z/9p/2f/Z/9q/2r/ZP9g/17/Xv9f/2n/eP+C/4j/j/+O/3z/bP9//6T/uP/E/9H/xf+8/9j/7f/p//j/DgALAA0AFgAOAA4AHAAaABEAEgAYACQAMgAzADcAQgBBAEMAVwBkAF4AYQB1AIoAoAC2ALcAnQCJAIoAiwB/AHEAaQBjAGMAbwCGAJIAfQBWAEgAVwBeAFkAYABhAFIAWwB4AHwAcQBmAFUAXAB9AH4AZQBaAE4ARwBaAGAASgBFAEsAQAA2ADoARQBIADwALwAvACwAHgAGAOb/2P/n//T/CgA0AEYAMQAfABAA/P/4//b/5f/a/9z/1v/K/7v/qv+v/8j/0P/E/7L/mP9+/3n/f/+G/4//jP94/2n/dP+I/5L/jv+I/4j/jf+Y/63/tv+e/4X/mP+y/6f/lf+V/4b/d/+N/6f/pf+m/7L/sv+u/7D/tP/B/8//2f/x/wgA/v/m/+H/7P///xEAGQAiACoAHgAPABgALAA/AEgAPAAzAEwAZwBsAHEAdQBrAGcAcQB7AIoAmwCYAJQApwC8AMUAxwC0AJoAmwCoAKgAqACgAIkAewB5AGwAWwBJACoADwAJAAQA9v/r/+r/7f/u/+7/8P/q/9z/3v/r//H//v8TABEA/P/u/+H/0P/H/8H/sv+n/63/t/+5/7L/qv+n/7L/yP/d/+f/6P/q//L/9v/r/93/0f+8/63/s/+0/6j/pP+a/3f/Yv9s/2v/X/9q/3r/fP+H/5D/gv96/4n/iv96/3z/kv+e/5z/mv+l/7//0P/B/6b/oP+n/6//xf/l//n//v8DAAkACgAEAAMACwAQABMAHQApACwAHgACAPf/EgAzADgALwArAC0APgBTAFYAUQBZAGIAZwB3AIgAfABeAFQAZgB4AGgAOgAdACIAOABYAHwAhwCAAIIAggB2AHIAdQB8AJAAqQC1ALIAngCHAIIAgQB1AGsAbQBwAHMAdQBpAFwAWABOADIAGQAVABgAEQACAPv////9/+j/0f/X/+r/7P/p/+T/zP+7/8j/0v/G/8P/0f/j/+3/6P/Z/9P/2f/a/8z/uP+x/7X/sf+i/5L/h/+O/5X/g/92/4b/jP+I/5f/of+V/43/jf9//3D/bv9z/3r/hf+N/4X/c/91/4T/hv+J/5f/nP+i/73/z//U/+f//f8AAAIACAACAPf/9//6//b/6//j/+P/6f/x//3/9//V/7f/sf+0/7v/0v/r//z/EAAiAC0AOwA8ACUAHwA7AEoASgBbAGUAUwBNAGEAaQBeAFoAWwBcAGEAagBqAGAAXABwAJwAxwDUAMMApACEAG4AagBsAGAAUABOAFMAVABQAEUAMgAlAC4ASQBWAEYANAA8AE4AVwBZAE8AMAAMAP//BAADAPf/8//z/+r/4//Z/8L/tP+y/6n/o/+s/67/pv+e/5X/mf+n/5//kf+X/4n/Y/9Y/2v/e/+C/3f/Xv9Y/2L/Xf9P/0b/Pv9A/07/X/91/4z/mf+r/73/w//K/9f/0v/F/83/3v/l/+n/5v/X/9L/5v/+/wYABAACAP7/BwAqAEQAOAAjACAAKQBAAF4AZwBgAGAAWgBUAGEAcAB0AHsAfgB9AIEAdwBjAF0AUgBBAFIAbwBrAGUAdwCHAJIAnQCPAHUAdwCJAJYAowCpAKYAqACsAKIAkgCMAIwAiwCGAH4AcgBqAFsAQQAxADMAMwA1AEYASwA5ADEAMwAwADMAMgAYAPn/3P/F/8H/wf+3/8D/z/++/7H/uP+q/5v/pP+a/4z/o/+s/5v/pv+6/7b/vP/M/8z/0P/d/9//1f/I/73/vv/M/9j/1//K/8L/w//A/8P/1//c/9D/1P/b/9X/3f/m/9X/xv/I/77/sP+1/77/u/+7/7z/tv+o/5L/fP9z/3v/lv+y/7j/wf/Y/+L/4//8/xEADwARABsAJAA1ADMAEAAGACIALgA0AFAAWwBGAD4ATQBXAFUASwA6ACoAJgAsACwAJgAlACwALgAoABsADQAIAA8AHwAyAC4AEwD+/+//3f/j/wUAFwATABkAIgAXAAcABQAAAO3/6f///wwAAwD+//3/9f/x/+z/3f/a/+T/3v/b/+f/2v+//7//wv+3/7r/xf++/7n/wf+8/7D/rf+t/6r/qv+l/6H/rP+6/7n/q/+b/5f/pP+5/8j/yf+8/7L/u//N/9b/2P/S/8X/yf/d/9v/v/+2/8j/3v/2/xIAGQAMAAUABwANAB8AKgAUAAEACgARAAsAEgAeABsAIAAzADsALQAYAAcABAAQABcAGQAeACAAHAAmAD8AUQBVAE4ARgBKAF0AcQB2AGwAYwBhAF0AVQBPAEEAMAAwAEAATQBTAFEASgBOAF4AYABRAEcARQBFAFQAeACUAJUAjgCKAH0AawBlAGcAZwBkAF8AXQBcAFgAUgBSAFAAUgBZAFMAQwA3ACcAIgA5AD0AHwAPAAoA9v/0/wkACgABAAYAAwD3//r/BQAEAPD/0P+//8b/z//R/8r/uP+p/6r/rv+1/8D/vP+p/6D/pv+p/6D/lf+P/4n/iv+O/4T/cf9l/1v/W/9w/3b/X/9X/2D/Wv9V/1T/Q/83/0H/T/9n/4b/iv99/3r/eP96/4b/g/96/43/qP+1/8L/z//T/9P/0v/d/+7/6//e/97/2v/c//z/FAANABMAKAArADEASwBaAFIARABCAE0AWQBfAGsAcABkAGEAcQB0AGoAaQBfAEwATgBcAFsAUQBEADIANQBNAFMATQBcAGMAVQBjAH0AbwBZAFsATQAyADIAMgAkAC4APwA3ACoAKgA2AEQAQAAyAC8AKAAdACYALQAaAAsABgD7//z/AgDs/83/vf+5/8z/4f/R/7z/yP/U/8j/vf+4/7D/rP+m/53/nv+d/5b/of+4/8T/zf/P/7j/nf+a/6r/t/+1/67/sv+0/6//vv/Y/+H/6//7//T/4v/a/9H/1P/r//b/9f8AAAwABgD3//D/7//m/9L/z//a/9X/zf/U/9D/yv/X/+T/4f/l//P///8UACcAJAAXAB8AOwBQAFIASgBIAEoASQBJAEoAQgAwACIAJQA+AF0AbQBoAF8AXABdAFgASwBBAEIARQBIAEoARAA4ADAALAAyAEIASQBOAFwAXgBdAGwAbgBYAFcAZwBpAGUAYABWAFQAVQBQAFAARwAsABsAGwAaACgAOAAoAAoA/P/z/+X/5P/p/+n/6//r/+T/3//b/83/xv/Z/+X/0v/B/8X/wv+z/7H/uv+7/77/zP/W/8v/t/+y/7n/t/+r/6j/rv+3/8n/0/+8/6H/pf+0/7X/qv+Z/4v/jv+d/6v/vf/L/8X/tv+z/8D/zf/D/6b/mf+z/9j/5v/Z/8r/zP/b/+b/6f/l/9f/0v/q/wgAFQAcACcAKgAqADsAVwBtAHAAYgBUAFMAUwBEADgAPABLAFoAWwBJAD0ASgBeAGAASQAxADkATwBKAD4ATQBgAGsAdwBvAF8AXwBVAEQASgBIAC0AMABQAFgAUQBMAEEAPQBLAGIAcgBuAFUAPgA1ADYAPwBCADEAFwAJAAgABAD3/+n/3f/O/8T/xv/D/7j/uP+//7r/wv/l//T/3//R/9H/0v/n/wEA9v/p//P/8P/k//L//P/3//n/8v/d/+L/9P/u/+f/5v/V/8j/z//Q/8b/yv/d/+b/2f/D/7r/vf/H/9H/zP+4/6z/rf+t/63/r/+w/7P/wf/V/9v/xv+x/7n/zf/M/8P/wv/E/8b/1P/n//L/+P8FABUAEAACAA8AJgAiABEABwAAAAwAHgAUAAcADQANABMAIgAMAOX/6v/v/9b/2v/w/+3/AgA0AEAANQBKAF8AUABDAFAAWgBQAEYAQwA0ACYALgA2ACwAJAAUAOz/0//e//P/CwAqADkAMgAwADwAOwAeAPv/8v/9/wMABwANAAYA+//+//v/7//m/8v/mP9//4j/kf+X/5n/i/+I/6f/x//Q/8T/pf+N/43/jv+O/53/r/+7/8v/1v/K/7T/nv+J/3b/YP9T/1v/ZP9q/4D/mf+b/5b/kf+C/3j/gf+N/5r/tP/M/9X/4P/t//P//P8LAAwABAAEAAcAEgAoADgAQwBSAE8AOAA0ADkALQAqADkARQBbAH8AlACcAKcAsQDAANAAxwC8AL0ArgCgALUAugCcAI4AmACbAJ8AoQCXAIsAcwBQAEEAQQA2AC0AMQA3AEIATQBRAFYAXQBeAGcAbABRAC0AIwAmACQAIgAbAA8ABAD7//n/BAAMAAAA6v/e/+3/AgD7//P/EAArAB8ACgD4/+D/1f/V/8b/tP+u/6//vv/S/8z/u/+3/7H/pv+t/7b/sv+z/7z/xf/Q/9r/0/+8/63/sP+y/6r/rP++/8//3P/l/+T/4P/g/+L/3//W/8r/wP+t/6X/zf8=\" type=\"audio/x-wav\" />\n",
       "                    Your browser does not support the audio element.\n",
       "                </audio>\n",
       "              "
      ],
      "text/plain": [
       "<IPython.lib.display.Audio object>"
      ]
     },
     "execution_count": 284,
     "metadata": {},
     "output_type": "execute_result"
    }
   ],
   "source": [
    "ipd.Audio('tone.wav')"
   ]
  },
  {
   "cell_type": "code",
   "execution_count": 305,
   "id": "de4b3ca7-1067-41c7-b88c-2b3eb7fc9329",
   "metadata": {},
   "outputs": [],
   "source": [
    "def make_batch(df, lb, batch_size, wav_len):\n",
    "    words = df.sample(n=batch_size)\n",
    "    words_path = list(words['path'])\n",
    "    words_names = list(words['word'])\n",
    "    print(words_path, words_names)\n",
    "    X = np.array()\n",
    "    for word_path in words_path:\n",
    "         "
   ]
  },
  {
   "cell_type": "code",
   "execution_count": 306,
   "id": "d8b7f88d-e837-4210-8210-ef11c25a8724",
   "metadata": {},
   "outputs": [
    {
     "data": {
      "text/html": [
       "<div>\n",
       "<style scoped>\n",
       "    .dataframe tbody tr th:only-of-type {\n",
       "        vertical-align: middle;\n",
       "    }\n",
       "\n",
       "    .dataframe tbody tr th {\n",
       "        vertical-align: top;\n",
       "    }\n",
       "\n",
       "    .dataframe thead th {\n",
       "        text-align: right;\n",
       "    }\n",
       "</style>\n",
       "<table border=\"1\" class=\"dataframe\">\n",
       "  <thead>\n",
       "    <tr style=\"text-align: right;\">\n",
       "      <th></th>\n",
       "      <th>Unnamed: 0</th>\n",
       "      <th>word</th>\n",
       "      <th>path</th>\n",
       "    </tr>\n",
       "  </thead>\n",
       "  <tbody>\n",
       "    <tr>\n",
       "      <th>0</th>\n",
       "      <td>0</td>\n",
       "      <td>yes</td>\n",
       "      <td>/Users/mbassalaev/Desktop/spotter_data/yes/988...</td>\n",
       "    </tr>\n",
       "    <tr>\n",
       "      <th>1</th>\n",
       "      <td>1</td>\n",
       "      <td>yes</td>\n",
       "      <td>/Users/mbassalaev/Desktop/spotter_data/yes/93e...</td>\n",
       "    </tr>\n",
       "    <tr>\n",
       "      <th>2</th>\n",
       "      <td>2</td>\n",
       "      <td>yes</td>\n",
       "      <td>/Users/mbassalaev/Desktop/spotter_data/yes/a75...</td>\n",
       "    </tr>\n",
       "    <tr>\n",
       "      <th>3</th>\n",
       "      <td>3</td>\n",
       "      <td>yes</td>\n",
       "      <td>/Users/mbassalaev/Desktop/spotter_data/yes/627...</td>\n",
       "    </tr>\n",
       "    <tr>\n",
       "      <th>4</th>\n",
       "      <td>4</td>\n",
       "      <td>yes</td>\n",
       "      <td>/Users/mbassalaev/Desktop/spotter_data/yes/439...</td>\n",
       "    </tr>\n",
       "    <tr>\n",
       "      <th>...</th>\n",
       "      <td>...</td>\n",
       "      <td>...</td>\n",
       "      <td>...</td>\n",
       "    </tr>\n",
       "    <tr>\n",
       "      <th>64716</th>\n",
       "      <td>41034</td>\n",
       "      <td>unkown</td>\n",
       "      <td>/Users/mbassalaev/Desktop/spotter_data/four/93...</td>\n",
       "    </tr>\n",
       "    <tr>\n",
       "      <th>64717</th>\n",
       "      <td>41035</td>\n",
       "      <td>unkown</td>\n",
       "      <td>/Users/mbassalaev/Desktop/spotter_data/four/0c...</td>\n",
       "    </tr>\n",
       "    <tr>\n",
       "      <th>64718</th>\n",
       "      <td>41036</td>\n",
       "      <td>unkown</td>\n",
       "      <td>/Users/mbassalaev/Desktop/spotter_data/four/23...</td>\n",
       "    </tr>\n",
       "    <tr>\n",
       "      <th>64719</th>\n",
       "      <td>41037</td>\n",
       "      <td>unkown</td>\n",
       "      <td>/Users/mbassalaev/Desktop/spotter_data/four/17...</td>\n",
       "    </tr>\n",
       "    <tr>\n",
       "      <th>64720</th>\n",
       "      <td>41038</td>\n",
       "      <td>unkown</td>\n",
       "      <td>/Users/mbassalaev/Desktop/spotter_data/four/c6...</td>\n",
       "    </tr>\n",
       "  </tbody>\n",
       "</table>\n",
       "<p>64721 rows × 3 columns</p>\n",
       "</div>"
      ],
      "text/plain": [
       "       Unnamed: 0    word                                               path\n",
       "0               0     yes  /Users/mbassalaev/Desktop/spotter_data/yes/988...\n",
       "1               1     yes  /Users/mbassalaev/Desktop/spotter_data/yes/93e...\n",
       "2               2     yes  /Users/mbassalaev/Desktop/spotter_data/yes/a75...\n",
       "3               3     yes  /Users/mbassalaev/Desktop/spotter_data/yes/627...\n",
       "4               4     yes  /Users/mbassalaev/Desktop/spotter_data/yes/439...\n",
       "...           ...     ...                                                ...\n",
       "64716       41034  unkown  /Users/mbassalaev/Desktop/spotter_data/four/93...\n",
       "64717       41035  unkown  /Users/mbassalaev/Desktop/spotter_data/four/0c...\n",
       "64718       41036  unkown  /Users/mbassalaev/Desktop/spotter_data/four/23...\n",
       "64719       41037  unkown  /Users/mbassalaev/Desktop/spotter_data/four/17...\n",
       "64720       41038  unkown  /Users/mbassalaev/Desktop/spotter_data/four/c6...\n",
       "\n",
       "[64721 rows x 3 columns]"
      ]
     },
     "execution_count": 306,
     "metadata": {},
     "output_type": "execute_result"
    }
   ],
   "source": [
    "df"
   ]
  },
  {
   "cell_type": "code",
   "execution_count": 307,
   "id": "f54649dc-fbe4-4e81-9f79-7c5544f85c98",
   "metadata": {},
   "outputs": [
    {
     "name": "stdout",
     "output_type": "stream",
     "text": [
      "['/Users/mbassalaev/Desktop/spotter_data/right/3a33d3a4_nohash_2.wav', '/Users/mbassalaev/Desktop/spotter_data/six/2bfe70ef_nohash_1.wav', '/Users/mbassalaev/Desktop/spotter_data/no/8e05039f_nohash_0.wav'] ['right', 'unkown', 'no']\n"
     ]
    }
   ],
   "source": [
    "make_batch(df, None, 3)"
   ]
  },
  {
   "cell_type": "code",
   "execution_count": null,
   "id": "390c8a8a-a077-4d05-85e5-647db68ead20",
   "metadata": {},
   "outputs": [],
   "source": []
  },
  {
   "cell_type": "code",
   "execution_count": null,
   "id": "c068e664-e18e-475c-bfe9-181b0a1c0c1b",
   "metadata": {},
   "outputs": [],
   "source": []
  }
 ],
 "metadata": {
  "kernelspec": {
   "display_name": "Python 3",
   "language": "python",
   "name": "python3"
  },
  "language_info": {
   "codemirror_mode": {
    "name": "ipython",
    "version": 3
   },
   "file_extension": ".py",
   "mimetype": "text/x-python",
   "name": "python",
   "nbconvert_exporter": "python",
   "pygments_lexer": "ipython3",
   "version": "3.7.10"
  }
 },
 "nbformat": 4,
 "nbformat_minor": 5
}
