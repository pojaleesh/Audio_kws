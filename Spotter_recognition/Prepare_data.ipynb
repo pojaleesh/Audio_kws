{
 "cells": [
  {
   "cell_type": "code",
   "execution_count": 1,
   "metadata": {},
   "outputs": [],
   "source": [
    "import librosa\n",
    "import librosa.display\n",
    "import json\n",
    "import numpy as np\n",
    "import matplotlib.pyplot as plt\n",
    "import tensorflow as tf\n",
    "from matplotlib.pyplot import specgram\n",
    "import pandas as pd\n",
    "import seaborn as sns\n",
    "import glob \n",
    "import os\n",
    "import pickle\n",
    "import IPython.display as ipd \n",
    "from service.Mfcc import make_mfcc_data"
   ]
  },
  {
   "cell_type": "code",
   "execution_count": 7,
   "metadata": {},
   "outputs": [
    {
     "data": {
      "text/plain": [
       "'/Users/mbassalaev/Desktop/audio_project/Spotter_recognition'"
      ]
     },
     "execution_count": 7,
     "metadata": {},
     "output_type": "execute_result"
    }
   ],
   "source": [
    "pwd"
   ]
  },
  {
   "cell_type": "code",
   "execution_count": 8,
   "metadata": {},
   "outputs": [],
   "source": [
    "spotter_data = \"/Users/mbassalaev/Desktop/spotter_data/\""
   ]
  },
  {
   "cell_type": "code",
   "execution_count": 9,
   "metadata": {},
   "outputs": [],
   "source": [
    "dir_list = os.listdir(spotter_data)"
   ]
  },
  {
   "cell_type": "code",
   "execution_count": 10,
   "metadata": {},
   "outputs": [
    {
     "data": {
      "text/plain": [
       "['right',\n",
       " 'eight',\n",
       " 'cat',\n",
       " 'tree',\n",
       " 'bed',\n",
       " 'happy',\n",
       " 'go',\n",
       " '.DS_Store',\n",
       " 'dog',\n",
       " 'no',\n",
       " 'wow',\n",
       " 'nine',\n",
       " 'left',\n",
       " 'stop',\n",
       " 'three',\n",
       " '_background_noise_',\n",
       " 'sheila',\n",
       " 'one',\n",
       " 'bird',\n",
       " 'zero',\n",
       " 'seven',\n",
       " 'up',\n",
       " 'marvin',\n",
       " 'two',\n",
       " 'house',\n",
       " 'down',\n",
       " 'six',\n",
       " 'yes',\n",
       " 'on',\n",
       " 'five',\n",
       " 'off',\n",
       " 'four']"
      ]
     },
     "execution_count": 10,
     "metadata": {},
     "output_type": "execute_result"
    }
   ],
   "source": [
    "dir_list"
   ]
  },
  {
   "cell_type": "code",
   "execution_count": 15,
   "metadata": {},
   "outputs": [
    {
     "name": "stdout",
     "output_type": "stream",
     "text": [
      "target_list =  ['yes', 'no', 'up', 'down', 'left', 'right', 'on', 'off', 'stop', 'go']\n",
      "unknown_list =  ['eight', 'cat', 'tree', 'bed', 'happy', 'dog', 'wow', 'nine', 'three', 'sheila', 'one', 'bird', 'zero', 'seven', 'marvin', 'two', 'house', 'six', 'five', 'four']\n"
     ]
    }
   ],
   "source": [
    "target_list = ['yes', 'no', 'up', 'down', 'left', 'right', 'on', 'off', 'stop', 'go']\n",
    "unknown_list = []\n",
    "\n",
    "for label in dir_list:\n",
    "    if (label not in target_list) and (label != '_background_noise_') and (label != '.DS_Store'):\n",
    "        unknown_list.append(label)\n",
    "        \n",
    "print('target_list = ', target_list)\n",
    "print('unknown_list = ', unknown_list)"
   ]
  },
  {
   "cell_type": "code",
   "execution_count": 16,
   "metadata": {},
   "outputs": [],
   "source": [
    "df_target = pd.DataFrame(columns=['word', 'path'])\n",
    "df_unknown = pd.DataFrame(columns=['word', 'path'])"
   ]
  },
  {
   "cell_type": "code",
   "execution_count": 17,
   "metadata": {},
   "outputs": [
    {
     "data": {
      "text/html": [
       "<div>\n",
       "<style scoped>\n",
       "    .dataframe tbody tr th:only-of-type {\n",
       "        vertical-align: middle;\n",
       "    }\n",
       "\n",
       "    .dataframe tbody tr th {\n",
       "        vertical-align: top;\n",
       "    }\n",
       "\n",
       "    .dataframe thead th {\n",
       "        text-align: right;\n",
       "    }\n",
       "</style>\n",
       "<table border=\"1\" class=\"dataframe\">\n",
       "  <thead>\n",
       "    <tr style=\"text-align: right;\">\n",
       "      <th></th>\n",
       "      <th>word</th>\n",
       "      <th>path</th>\n",
       "    </tr>\n",
       "  </thead>\n",
       "  <tbody>\n",
       "    <tr>\n",
       "      <th>0</th>\n",
       "      <td>yes</td>\n",
       "      <td>/Users/mbassalaev/Desktop/spotter_data/yes/988...</td>\n",
       "    </tr>\n",
       "    <tr>\n",
       "      <th>1</th>\n",
       "      <td>yes</td>\n",
       "      <td>/Users/mbassalaev/Desktop/spotter_data/yes/93e...</td>\n",
       "    </tr>\n",
       "    <tr>\n",
       "      <th>2</th>\n",
       "      <td>yes</td>\n",
       "      <td>/Users/mbassalaev/Desktop/spotter_data/yes/a75...</td>\n",
       "    </tr>\n",
       "    <tr>\n",
       "      <th>3</th>\n",
       "      <td>yes</td>\n",
       "      <td>/Users/mbassalaev/Desktop/spotter_data/yes/627...</td>\n",
       "    </tr>\n",
       "    <tr>\n",
       "      <th>4</th>\n",
       "      <td>yes</td>\n",
       "      <td>/Users/mbassalaev/Desktop/spotter_data/yes/439...</td>\n",
       "    </tr>\n",
       "  </tbody>\n",
       "</table>\n",
       "</div>"
      ],
      "text/plain": [
       "  word                                               path\n",
       "0  yes  /Users/mbassalaev/Desktop/spotter_data/yes/988...\n",
       "1  yes  /Users/mbassalaev/Desktop/spotter_data/yes/93e...\n",
       "2  yes  /Users/mbassalaev/Desktop/spotter_data/yes/a75...\n",
       "3  yes  /Users/mbassalaev/Desktop/spotter_data/yes/627...\n",
       "4  yes  /Users/mbassalaev/Desktop/spotter_data/yes/439..."
      ]
     },
     "execution_count": 17,
     "metadata": {},
     "output_type": "execute_result"
    }
   ],
   "source": [
    "for word in target_list:\n",
    "    \n",
    "    cur_dir_list = os.listdir(spotter_data + '/' + word)\n",
    "    \n",
    "    for path in cur_dir_list:\n",
    "        \n",
    "        df_target = df_target.append({'word': word, 'path' : spotter_data + word + '/' + path}, ignore_index=True)\n",
    "\n",
    "df_target.head()"
   ]
  },
  {
   "cell_type": "code",
   "execution_count": 18,
   "metadata": {},
   "outputs": [
    {
     "data": {
      "text/html": [
       "<div>\n",
       "<style scoped>\n",
       "    .dataframe tbody tr th:only-of-type {\n",
       "        vertical-align: middle;\n",
       "    }\n",
       "\n",
       "    .dataframe tbody tr th {\n",
       "        vertical-align: top;\n",
       "    }\n",
       "\n",
       "    .dataframe thead th {\n",
       "        text-align: right;\n",
       "    }\n",
       "</style>\n",
       "<table border=\"1\" class=\"dataframe\">\n",
       "  <thead>\n",
       "    <tr style=\"text-align: right;\">\n",
       "      <th></th>\n",
       "      <th>word</th>\n",
       "      <th>path</th>\n",
       "    </tr>\n",
       "  </thead>\n",
       "  <tbody>\n",
       "    <tr>\n",
       "      <th>0</th>\n",
       "      <td>eight</td>\n",
       "      <td>/Users/mbassalaev/Desktop/spotter_data/eight/9...</td>\n",
       "    </tr>\n",
       "    <tr>\n",
       "      <th>1</th>\n",
       "      <td>eight</td>\n",
       "      <td>/Users/mbassalaev/Desktop/spotter_data/eight/4...</td>\n",
       "    </tr>\n",
       "    <tr>\n",
       "      <th>2</th>\n",
       "      <td>eight</td>\n",
       "      <td>/Users/mbassalaev/Desktop/spotter_data/eight/b...</td>\n",
       "    </tr>\n",
       "    <tr>\n",
       "      <th>3</th>\n",
       "      <td>eight</td>\n",
       "      <td>/Users/mbassalaev/Desktop/spotter_data/eight/9...</td>\n",
       "    </tr>\n",
       "    <tr>\n",
       "      <th>4</th>\n",
       "      <td>eight</td>\n",
       "      <td>/Users/mbassalaev/Desktop/spotter_data/eight/5...</td>\n",
       "    </tr>\n",
       "  </tbody>\n",
       "</table>\n",
       "</div>"
      ],
      "text/plain": [
       "    word                                               path\n",
       "0  eight  /Users/mbassalaev/Desktop/spotter_data/eight/9...\n",
       "1  eight  /Users/mbassalaev/Desktop/spotter_data/eight/4...\n",
       "2  eight  /Users/mbassalaev/Desktop/spotter_data/eight/b...\n",
       "3  eight  /Users/mbassalaev/Desktop/spotter_data/eight/9...\n",
       "4  eight  /Users/mbassalaev/Desktop/spotter_data/eight/5..."
      ]
     },
     "execution_count": 18,
     "metadata": {},
     "output_type": "execute_result"
    }
   ],
   "source": [
    "for word in unknown_list:\n",
    "    \n",
    "    cur_dir_list = os.listdir(spotter_data + '/' + word)\n",
    "    \n",
    "    for path in cur_dir_list:\n",
    "        \n",
    "        df_unknown = df_unknown.append({'word': word, 'path' : spotter_data + word + '/' + path}, ignore_index=True)\n",
    "\n",
    "df_unknown.head()"
   ]
  },
  {
   "cell_type": "code",
   "execution_count": 19,
   "metadata": {},
   "outputs": [
    {
     "name": "stdout",
     "output_type": "stream",
     "text": [
      "Target words dataframe size =  (23682, 2)\n",
      "Unknown words dataframe size =  (41039, 2)\n"
     ]
    }
   ],
   "source": [
    "print('Target words dataframe size = ', df_target.shape)\n",
    "print('Unknown words dataframe size = ', df_unknown.shape)"
   ]
  },
  {
   "cell_type": "code",
   "execution_count": 25,
   "metadata": {},
   "outputs": [],
   "source": [
    "df_target.to_csv('Target_words_dataframe')\n",
    "df_unknown.to_csv('Unknown_words_dataframe')\n",
    "df.to_csv('full_df')"
   ]
  },
  {
   "cell_type": "code",
   "execution_count": 21,
   "metadata": {},
   "outputs": [
    {
     "data": {
      "image/png": "[encoded data removed]",
      "text/plain": [
       "<Figure size 720x360 with 1 Axes>"
      ]
     },
     "metadata": {
      "needs_background": "light"
     },
     "output_type": "display_data"
    }
   ],
   "source": [
    "df_target.word.value_counts().plot(kind='bar', figsize=((10, 5)))\n",
    "plt.savefig(\"data_hist_1\", pad_inches=10)"
   ]
  },
  {
   "cell_type": "code",
   "execution_count": 22,
   "metadata": {},
   "outputs": [
    {
     "data": {
      "image/png": "[encoded data removed]",
      "text/plain": [
       "<Figure size 720x360 with 1 Axes>"
      ]
     },
     "metadata": {
      "needs_background": "light"
     },
     "output_type": "display_data"
    }
   ],
   "source": [
    "df_unknown.word.value_counts().plot(kind='bar', figsize=((10, 5)))\n",
    "plt.savefig(\"data_hist_2\", pad_inches=10)"
   ]
  },
  {
   "cell_type": "code",
   "execution_count": 2,
   "metadata": {},
   "outputs": [],
   "source": [
    "df_target = pd.read_csv('../../Target_words_dataframe')\n",
    "df_unknown = pd.read_csv('../../Unknown_words_dataframe')\n",
    "df = pd.read_csv('../../full_df')"
   ]
  },
  {
   "cell_type": "code",
   "execution_count": 3,
   "metadata": {},
   "outputs": [],
   "source": [
    "df_target = df_target.drop(columns=['Unnamed: 0'], axis=1)\n",
    "df_unknown = df_unknown.drop(columns=['Unnamed: 0'], axis=1)"
   ]
  }
 ],
 "metadata": {
  "kernelspec": {
   "display_name": "Python 3",
   "language": "python",
   "name": "python3"
  },
  "language_info": {
   "codemirror_mode": {
    "name": "ipython",
    "version": 3
   },
   "file_extension": ".py",
   "mimetype": "text/x-python",
   "name": "python",
   "nbconvert_exporter": "python",
   "pygments_lexer": "ipython3",
   "version": "3.7.10"
  }
 },
 "nbformat": 4,
 "nbformat_minor": 4
}
