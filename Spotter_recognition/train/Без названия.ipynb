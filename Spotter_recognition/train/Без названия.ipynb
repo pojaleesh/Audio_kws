{
 "cells": [
  {
   "cell_type": "code",
   "execution_count": 1,
   "id": "0b1001d5-beda-4cdc-928e-a767416445bf",
   "metadata": {},
   "outputs": [],
   "source": [
    "import sys\n",
    "import os\n",
    "sys.path.append('/Users/mbassalaev/Desktop/audio_project/Spotter_recognition/')\n",
    "\n",
    "import pandas as pd\n",
    "import pickle\n",
    "import numpy as np\n",
    "\n",
    "from keras import optimizers\n",
    "from tensorflow.keras.losses import CategoricalCrossentropy\n",
    "from sklearn.model_selection import train_test_split\n",
    "from sklearn.preprocessing import LabelEncoder\n",
    "\n",
    "from service.data_augmentation import make_batch, load_background\n",
    "from models.crnn import CRNN_model"
   ]
  },
  {
   "cell_type": "code",
   "execution_count": 17,
   "id": "b514f4c0-e3f6-4af6-a15e-bb6aea2b9fc7",
   "metadata": {},
   "outputs": [],
   "source": [
    "filename = os.path.abspath('../../../Data_spotter_mfcc_40')\n",
    "outfile = open(filename,'rb')\n",
    "X = pickle.load(outfile)\n",
    "outfile.close()"
   ]
  },
  {
   "cell_type": "code",
   "execution_count": 2,
   "id": "e2b93e75-bcb6-4431-a2c3-5ec3c033b236",
   "metadata": {},
   "outputs": [],
   "source": [
    "df = pd.read_csv(os.path.abspath('../full_df'))"
   ]
  },
  {
   "cell_type": "code",
   "execution_count": 13,
   "id": "a1b8376d-c455-419f-9f06-6e1d30a227e7",
   "metadata": {},
   "outputs": [],
   "source": [
    "df_train, df_test = train_test_split(df, shuffle=True, test_size=6464, train_size = 58240, random_state=42)"
   ]
  },
  {
   "cell_type": "code",
   "execution_count": null,
   "id": "58d53b92-5c7c-4ce7-83d5-9fc8f534b6d3",
   "metadata": {},
   "outputs": [],
   "source": [
    "_, X_test, _, Y_test = train_test_split(X\n",
    "                                                    , df.word\n",
    "                                                    , test_size=6464\n",
    "                                                    , train_size = 58240\n",
    "                                                    , shuffle=True\n",
    "                                                    , random_state=42)"
   ]
  },
  {
   "cell_type": "code",
   "execution_count": 4,
   "id": "4d7e1242-e297-4241-93e4-94f6bf5de819",
   "metadata": {},
   "outputs": [],
   "source": [
    "model = CRNN_model((40, 61, 1), 11)"
   ]
  },
  {
   "cell_type": "code",
   "execution_count": 5,
   "id": "5f08bd6d-8888-4a00-a122-7387896a7011",
   "metadata": {},
   "outputs": [
    {
     "name": "stdout",
     "output_type": "stream",
     "text": [
      "Model: \"model\"\n",
      "_________________________________________________________________\n",
      "Layer (type)                 Output Shape              Param #   \n",
      "=================================================================\n",
      "input_1 (InputLayer)         [(64, 40, 61, 1)]         0         \n",
      "_________________________________________________________________\n",
      "conv2d (Conv2D)              (64, 38, 59, 16)          160       \n",
      "_________________________________________________________________\n",
      "conv2d_1 (Conv2D)            (64, 34, 57, 16)          3856      \n",
      "_________________________________________________________________\n",
      "reshape (Reshape)            (64, 34, 912)             0         \n",
      "_________________________________________________________________\n",
      "gru (GRU)                    (64, 256)                 898560    \n",
      "_________________________________________________________________\n",
      "flatten (Flatten)            (64, 256)                 0         \n",
      "_________________________________________________________________\n",
      "dropout (Dropout)            (64, 256)                 0         \n",
      "_________________________________________________________________\n",
      "dense (Dense)                (64, 128)                 32896     \n",
      "_________________________________________________________________\n",
      "dense_1 (Dense)              (64, 256)                 33024     \n",
      "_________________________________________________________________\n",
      "dense_2 (Dense)              (64, 11)                  2827      \n",
      "=================================================================\n",
      "Total params: 971,323\n",
      "Trainable params: 971,323\n",
      "Non-trainable params: 0\n",
      "_________________________________________________________________\n"
     ]
    }
   ],
   "source": [
    "model.summary()"
   ]
  },
  {
   "cell_type": "code",
   "execution_count": 6,
   "id": "0b64bc3e-87a5-4931-a1e8-2da4163528df",
   "metadata": {},
   "outputs": [],
   "source": [
    "opt = optimizers.Adam(0.001)\n",
    "model.compile(optimizer = opt, loss=CategoricalCrossentropy(from_logits=True), metrics = [\"accuracy\"])"
   ]
  },
  {
   "cell_type": "code",
   "execution_count": 7,
   "id": "36df1447-e1b3-4cf0-8895-6b3c34a5c6e1",
   "metadata": {},
   "outputs": [],
   "source": [
    "filename = os.path.abspath('../../spotter_data_service/lb')\n",
    "outfile = open(filename,'rb')\n",
    "lb = pickle.load(outfile)\n",
    "outfile.close()"
   ]
  },
  {
   "cell_type": "code",
   "execution_count": 8,
   "id": "e0f1ab21-acd4-41cb-9588-ab12ee20a250",
   "metadata": {},
   "outputs": [],
   "source": [
    "background_folder = '/Users/mbassalaev/Desktop/spotter_data/_background_noise_/'"
   ]
  },
  {
   "cell_type": "code",
   "execution_count": 11,
   "id": "86aa7232-9326-4dda-8e32-763a6635d741",
   "metadata": {},
   "outputs": [],
   "source": [
    "train_metrics = []\n",
    "test_metrics = []\n",
    "\n",
    "noise_to_data = load_background(background_folder)\n",
    "\n",
    "p_aug = {\n",
    "    'gaussian': 1,\n",
    "    'stretch': 0.3,\n",
    "    'pitch_shift': 0.3,\n",
    "    'shift': 0.5,\n",
    "    'clipping': 0.3,\n",
    "}"
   ]
  },
  {
   "cell_type": "code",
   "execution_count": 12,
   "id": "273e5af2-0eb6-431d-9b26-68bc3e27a514",
   "metadata": {},
   "outputs": [
    {
     "name": "stdout",
     "output_type": "stream",
     "text": [
      "(64, 40, 61, 1) (64, 11)\n",
      "[2.018772602081299, 0.34375]\n"
     ]
    }
   ],
   "source": [
    "for step in range(0, 3000):\n",
    "    X, Y = make_batch(df_train, lb, background_folder, noise_to_data, 64, 22050, p_aug)\n",
    "    train_step_metric =  model.train_on_batch(X, Y)\n",
    "    if step > 0 && step % 50 == 0:\n",
    "        test_step_metric = model.evaluate(X_test, Y_test, batch_size=64)"
   ]
  },
  {
   "cell_type": "code",
   "execution_count": null,
   "id": "e75367ef-af02-4bb0-b0ee-33550f4bf514",
   "metadata": {},
   "outputs": [],
   "source": []
  }
 ],
 "metadata": {
  "kernelspec": {
   "display_name": "Python 3",
   "language": "python",
   "name": "python3"
  },
  "language_info": {
   "codemirror_mode": {
    "name": "ipython",
    "version": 3
   },
   "file_extension": ".py",
   "mimetype": "text/x-python",
   "name": "python",
   "nbconvert_exporter": "python",
   "pygments_lexer": "ipython3",
   "version": "3.7.10"
  }
 },
 "nbformat": 4,
 "nbformat_minor": 5
}
