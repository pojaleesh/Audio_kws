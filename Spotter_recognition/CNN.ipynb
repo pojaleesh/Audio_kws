{
 "cells": [
  {
   "cell_type": "code",
   "execution_count": 1,
   "metadata": {},
   "outputs": [],
   "source": [
    "import keras\n",
    "from keras import regularizers\n",
    "from keras.preprocessing import sequence\n",
    "from keras import optimizers\n",
    "import librosa.display\n",
    "import json\n",
    "import numpy as np\n",
    "import matplotlib.pyplot as plt\n",
    "import tensorflow as tf\n",
    "from matplotlib.pyplot import specgram\n",
    "import pandas as pd\n",
    "import seaborn as sns\n",
    "from pathlib import Path\n",
    "import os\n",
    "import pickle\n",
    "import IPython.display as ipd\n",
    "import random\n",
    "from keras.preprocessing.sequence import pad_sequences\n",
    "from keras.models import Sequential, Model, model_from_json\n",
    "from keras.layers import Dense, Embedding, LSTM, GRU, TimeDistributed\n",
    "from keras.layers import Input, Flatten, Dropout, Activation, BatchNormalization\n",
    "from keras.layers import Convolution2D, MaxPooling2D, AveragePooling2D, ZeroPadding2D, Dropout, MaxPool2D\n",
    "from keras.utils import np_utils, to_categorical\n",
    "from keras.callbacks import ModelCheckpoint\n",
    "from keras.callbacks import Callback\n",
    "\n",
    "import sklearn\n",
    "from sklearn.metrics import confusion_matrix, accuracy_score, classification_report\n",
    "from sklearn.model_selection import train_test_split\n",
    "from sklearn.preprocessing import LabelEncoder\n",
    "\n",
    "import librosa\n",
    "import librosa.display\n",
    "import json\n",
    "import numpy as np\n",
    "import matplotlib.pyplot as plt\n",
    "import tensorflow as tf\n",
    "from matplotlib.pyplot import specgram\n",
    "import pandas as pd\n",
    "import seaborn as sns\n",
    "from pathlib import Path\n",
    "import os\n",
    "import pickle\n",
    "import IPython.display as ipd\n",
    "import random\n",
    "from models.cnn import CNN_model"
   ]
  },
  {
   "cell_type": "code",
   "execution_count": 2,
   "metadata": {},
   "outputs": [],
   "source": [
    "df_target = pd.read_csv(os.path.abspath('Target_words_dataframe'))\n",
    "df_unknown = pd.read_csv(os.path.abspath('Unknown_words_dataframe'))\n",
    "df = pd.read_csv(os.path.abspath('full_df'))"
   ]
  },
  {
   "cell_type": "code",
   "execution_count": 3,
   "metadata": {},
   "outputs": [],
   "source": [
    "df_target = df_target.drop(columns=['Unnamed: 0'], axis=1)\n",
    "df_unknown = df_unknown.drop(columns=['Unnamed: 0'], axis=1)"
   ]
  },
  {
   "cell_type": "code",
   "execution_count": 4,
   "metadata": {},
   "outputs": [],
   "source": [
    "def get_mfcc(path):\n",
    "    X, sample_rate = librosa.load(path, res_type='kaiser_fast', duration=1, sr=44100, offset=0)\n",
    "    sample_rate = np.array(sample_rate)\n",
    "    mfccs = librosa.feature.mfcc(y=X, sr=sample_rate, n_mfcc=30)\n",
    "    if mfccs.shape[1] < 61:\n",
    "        b = np.zeros((30, 61 - mfccs.shape[1]))\n",
    "        mfccs = np.concatenate((mfccs, b), axis=1)\n",
    "    if mfccs.shape[1] > 61:\n",
    "        mfccs = mfccs[:, :61]\n",
    "    mfccs = np.expand_dims(mfccs, axis=0)\n",
    "    return mfccs"
   ]
  },
  {
   "cell_type": "code",
   "execution_count": 19,
   "metadata": {},
   "outputs": [],
   "source": [
    "filename = os.path.abspath('../../Data_spotter_mfcc')\n",
    "outfile = open(filename,'wb')\n",
    "pickle.dump(X,outfile)\n",
    "outfile.close()"
   ]
  },
  {
   "cell_type": "code",
   "execution_count": 5,
   "metadata": {},
   "outputs": [],
   "source": [
    "filename = os.path.abspath('../../Data_spotter_mfcc_40')\n",
    "outfile = open(filename,'rb')\n",
    "X = pickle.load(outfile)\n",
    "outfile.close()"
   ]
  },
  {
   "cell_type": "code",
   "execution_count": 6,
   "metadata": {},
   "outputs": [],
   "source": [
    "def save_model(Model, model_name):\n",
    "    save_dir = os.path.join(os.getcwd(), 'saved_models')\n",
    "\n",
    "    if not os.path.isdir(save_dir):\n",
    "        os.makedirs(save_dir)\n",
    "    model_path = os.path.join(save_dir, model_name)\n",
    "    Model.save(model_path)\n",
    "    print('Save model and weights at %s ' % model_path)\n",
    "\n",
    "    model_json = Model.to_json()\n",
    "    with open(\"model_json.json\", \"w\") as json_file:\n",
    "        json_file.write(model_json)"
   ]
  },
  {
   "cell_type": "code",
   "execution_count": 7,
   "metadata": {},
   "outputs": [],
   "source": [
    "def save_model_history(model_history, model_history_name):\n",
    "    filename = 'saved_models_history/' + model_history_name\n",
    "    outfile = open(filename,'wb')\n",
    "    pickle.dump(model_history, outfile)\n",
    "    outfile.close()"
   ]
  },
  {
   "cell_type": "code",
   "execution_count": 8,
   "metadata": {},
   "outputs": [],
   "source": [
    "class LoggerHistory(keras.callbacks.Callback):\n",
    "    def __init__(self):\n",
    "        self.test_loss = []\n",
    "        self.test_acc = []\n",
    "        self.train_loss = []\n",
    "        self.train_acc = []\n",
    "        \n",
    "    def on_train_batch_end(self, batch, logs=None):\n",
    "        if batch % 10 == 0 and batch > 0:\n",
    "            self.train_loss.append(logs['loss'])\n",
    "            self.train_acc.append(logs['accuracy'])\n",
    "        print(\"\\n For train batch {}, loss is {:7.2f}.\".format(batch, logs['loss']))\n",
    "        print(\"For train batch {}, accuracy is {:7.2f}.\".format(batch, logs['accuracy']))\n",
    "\n",
    "    def on_test_batch_end(self, batch, logs=None):\n",
    "        if batch % 10 == 0 and batch > 0:\n",
    "            self.test_loss.append(logs['loss'])\n",
    "            self.test_acc.append(logs['accuracy'])\n",
    "        print(\"\\n For test batch {}, loss is {:7.2f}.\".format(batch, logs['loss']))\n",
    "        print(\"For test batch {}, accuracy is {:7.2f}.\".format(batch, logs['accuracy']))"
   ]
  },
  {
   "cell_type": "code",
   "execution_count": 9,
   "metadata": {},
   "outputs": [],
   "source": [
    "def report(model, X, y, classes):\n",
    "    model_predictions = model.predict(X).argmax(axis=1)\n",
    "    true_predictions = y.argmax(axis=1)\n",
    "    return sklearn.metrics.classification_report(true_predictions, model_predictions, target_names=classes)"
   ]
  },
  {
   "cell_type": "code",
   "execution_count": 10,
   "metadata": {},
   "outputs": [],
   "source": [
    "X_train, X_test, Y_train, Y_test = train_test_split(X\n",
    "                                                    , df.word\n",
    "                                                    , test_size=0.1\n",
    "                                                    , shuffle=True\n",
    "                                                    , random_state=42)"
   ]
  },
  {
   "cell_type": "code",
   "execution_count": 11,
   "metadata": {},
   "outputs": [
    {
     "data": {
      "text/plain": [
       "unknown    0.634494\n",
       "stop       0.036825\n",
       "go         0.036791\n",
       "yes        0.036705\n",
       "on         0.036705\n",
       "no         0.036619\n",
       "off        0.036585\n",
       "up         0.036482\n",
       "left       0.036345\n",
       "right      0.036310\n",
       "down       0.036139\n",
       "Name: word, dtype: float64"
      ]
     },
     "execution_count": 11,
     "metadata": {},
     "output_type": "execute_result"
    }
   ],
   "source": [
    "Y_train.value_counts() / len(Y_train)"
   ]
  },
  {
   "cell_type": "code",
   "execution_count": 12,
   "metadata": {},
   "outputs": [
    {
     "data": {
      "text/plain": [
       "unknown    0.630465\n",
       "down       0.039240\n",
       "right      0.038931\n",
       "up         0.038622\n",
       "no         0.037386\n",
       "yes        0.036923\n",
       "left       0.036459\n",
       "stop       0.036305\n",
       "on         0.035378\n",
       "go         0.035378\n",
       "off        0.034914\n",
       "Name: word, dtype: float64"
      ]
     },
     "execution_count": 12,
     "metadata": {},
     "output_type": "execute_result"
    }
   ],
   "source": [
    "Y_test.value_counts() / len(Y_test)"
   ]
  },
  {
   "cell_type": "code",
   "execution_count": 11,
   "metadata": {},
   "outputs": [
    {
     "name": "stdout",
     "output_type": "stream",
     "text": [
      "X_train size = (58248, 40, 61)\n",
      "Y_train size = (58248,)\n",
      "X_test size = (6473, 40, 61)\n",
      "Y_test size = (6473,)\n"
     ]
    }
   ],
   "source": [
    "print(f'X_train size = {X_train.shape}')\n",
    "print(f'Y_train size = {Y_train.shape}')\n",
    "print(f'X_test size = {X_test.shape}')\n",
    "print(f'Y_test size = {Y_test.shape}')"
   ]
  },
  {
   "cell_type": "code",
   "execution_count": 14,
   "metadata": {},
   "outputs": [],
   "source": [
    "mean = np.mean(X_train, axis=0)\n",
    "std = np.std(X_train, axis=0)\n",
    "\n",
    "X_train = (X_train - mean) / std\n",
    "X_test = (X_test - mean) / std"
   ]
  },
  {
   "cell_type": "code",
   "execution_count": 16,
   "metadata": {},
   "outputs": [],
   "source": [
    "X_train = np.array(X_train)\n",
    "Y_train = np.array(Y_train)\n",
    "X_test = np.array(X_test)\n",
    "Y_test = np.array(Y_test)"
   ]
  },
  {
   "cell_type": "code",
   "execution_count": 16,
   "metadata": {},
   "outputs": [
    {
     "name": "stdout",
     "output_type": "stream",
     "text": [
      "['down' 'go' 'left' 'no' 'off' 'on' 'right' 'stop' 'unknown' 'up' 'yes']\n"
     ]
    }
   ],
   "source": [
    "lb = LabelEncoder()\n",
    "Y_train = np_utils.to_categorical(lb.fit_transform(Y_train))\n",
    "Y_test = np_utils.to_categorical(lb.fit_transform(Y_test))\n",
    "print(lb.classes_)"
   ]
  },
  {
   "cell_type": "code",
   "execution_count": 17,
   "metadata": {},
   "outputs": [
    {
     "name": "stdout",
     "output_type": "stream",
     "text": [
      "X_train size = (58248, 40, 61, 1)\n",
      "X_test size = (6473, 40, 61, 1)\n"
     ]
    }
   ],
   "source": [
    "X_train = X_train.reshape((X_train.shape[0], X_train.shape[1], X_train.shape[2], 1))\n",
    "X_test = X_test.reshape((X_test.shape[0], X_test.shape[1], X_test.shape[2], 1))\n",
    "print(f'X_train size = {X_train.shape}')\n",
    "print(f'X_test size = {X_test.shape}')"
   ]
  },
  {
   "cell_type": "code",
   "execution_count": 142,
   "metadata": {},
   "outputs": [],
   "source": [
    "model = CNN_model((40, 61, 1), len(lb.classes_))"
   ]
  },
  {
   "cell_type": "code",
   "execution_count": 143,
   "metadata": {},
   "outputs": [
    {
     "name": "stdout",
     "output_type": "stream",
     "text": [
      "Model: \"model_4\"\n",
      "_________________________________________________________________\n",
      "Layer (type)                 Output Shape              Param #   \n",
      "=================================================================\n",
      "input_5 (InputLayer)         [(None, 40, 61, 1)]       0         \n",
      "_________________________________________________________________\n",
      "conv2d_28 (Conv2D)           (None, 40, 61, 64)        640       \n",
      "_________________________________________________________________\n",
      "conv2d_29 (Conv2D)           (None, 40, 61, 64)        61504     \n",
      "_________________________________________________________________\n",
      "conv2d_30 (Conv2D)           (None, 40, 61, 64)        61504     \n",
      "_________________________________________________________________\n",
      "conv2d_31 (Conv2D)           (None, 40, 61, 64)        61504     \n",
      "_________________________________________________________________\n",
      "conv2d_32 (Conv2D)           (None, 40, 61, 128)       82048     \n",
      "_________________________________________________________________\n",
      "conv2d_33 (Conv2D)           (None, 40, 61, 64)        41024     \n",
      "_________________________________________________________________\n",
      "conv2d_34 (Conv2D)           (None, 40, 61, 128)       82048     \n",
      "_________________________________________________________________\n",
      "flatten_4 (Flatten)          (None, 312320)            0         \n",
      "_________________________________________________________________\n",
      "dropout_4 (Dropout)          (None, 312320)            0         \n",
      "_________________________________________________________________\n",
      "dense_12 (Dense)             (None, 128)               39977088  \n",
      "_________________________________________________________________\n",
      "dense_13 (Dense)             (None, 256)               33024     \n",
      "_________________________________________________________________\n",
      "dense_14 (Dense)             (None, 11)                2827      \n",
      "=================================================================\n",
      "Total params: 40,403,211\n",
      "Trainable params: 40,403,211\n",
      "Non-trainable params: 0\n",
      "_________________________________________________________________\n"
     ]
    }
   ],
   "source": [
    "model.summary()"
   ]
  },
  {
   "cell_type": "code",
   "execution_count": 144,
   "metadata": {},
   "outputs": [],
   "source": [
    "opt = optimizers.Adam(0.001)\n",
    "model.compile(optimizer = opt, loss='binary_crossentropy', metrics = [\"accuracy\"])"
   ]
  },
  {
   "cell_type": "code",
   "execution_count": 145,
   "metadata": {},
   "outputs": [],
   "source": [
    "batch_size = 64\n",
    "\n",
    "train_dataset = tf.data.Dataset.from_tensor_slices((X_train, Y_train))\n",
    "train_dataset = train_dataset.batch(batch_size)\n",
    "\n",
    "# Prepare the validation dataset.\n",
    "val_dataset = tf.data.Dataset.from_tensor_slices((X_test, Y_test))\n",
    "val_dataset = val_dataset.batch(batch_size)\n",
    "\n",
    "loss_fn = keras.losses.BinaryCrossentropy(from_logits=True)\n",
    "train_acc_metric = keras.metrics.BinaryAccuracy()"
   ]
  },
  {
   "cell_type": "code",
   "execution_count": 146,
   "metadata": {},
   "outputs": [
    {
     "name": "stdout",
     "output_type": "stream",
     "text": [
      "\n",
      "Start of epoch 0\n",
      "203/203 [==============================] - 54s 263ms/step - loss: 0.2010 - accuracy: 0.6424\n",
      "Current step: 50\n",
      "Test loss and acc: 0.2054 0.6305\n",
      "Training loss and acc: 0.2243 0.9350\n",
      "Seen so far: 3264 samples\n",
      "203/203 [==============================] - 52s 259ms/step - loss: 0.2048 - accuracy: 0.6305\n",
      "Current step: 100\n",
      "Test loss and acc: 0.2048 0.6305\n",
      "Training loss and acc: 0.2092 0.9351\n",
      "Seen so far: 6464 samples\n",
      "203/203 [==============================] - 53s 261ms/step - loss: 0.2085 - accuracy: 0.6305\n",
      "Current step: 150\n",
      "Test loss and acc: 0.2085 0.6305\n",
      "Training loss and acc: 0.1951 0.9350\n",
      "Seen so far: 9664 samples\n",
      "203/203 [==============================] - 51s 253ms/step - loss: 0.2061 - accuracy: 0.6305\n",
      "Current step: 200\n",
      "Test loss and acc: 0.2061 0.6305\n",
      "Training loss and acc: 0.1907 0.9342\n",
      "Seen so far: 12864 samples\n",
      "203/203 [==============================] - 52s 258ms/step - loss: 0.2062 - accuracy: 0.6305\n",
      "Current step: 250\n",
      "Test loss and acc: 0.2062 0.6305\n",
      "Training loss and acc: 0.2570 0.9339\n",
      "Seen so far: 16064 samples\n",
      "203/203 [==============================] - 52s 258ms/step - loss: 0.2059 - accuracy: 0.6305\n",
      "Current step: 300\n",
      "Test loss and acc: 0.2059 0.6305\n",
      "Training loss and acc: 0.2250 0.9337\n",
      "Seen so far: 19264 samples\n",
      "203/203 [==============================] - 50s 245ms/step - loss: 0.2043 - accuracy: 0.6305\n",
      "Current step: 350\n",
      "Test loss and acc: 0.2043 0.6305\n",
      "Training loss and acc: 0.2162 0.9336\n",
      "Seen so far: 22464 samples\n",
      "203/203 [==============================] - 50s 245ms/step - loss: 0.1943 - accuracy: 0.6305\n",
      "Current step: 400\n",
      "Test loss and acc: 0.1943 0.6305\n",
      "Training loss and acc: 0.1721 0.9338\n",
      "Seen so far: 25664 samples\n",
      "203/203 [==============================] - 49s 242ms/step - loss: 0.1828 - accuracy: 0.6343\n",
      "Current step: 450\n",
      "Test loss and acc: 0.1828 0.6343\n",
      "Training loss and acc: 0.1812 0.9342\n",
      "Seen so far: 28864 samples\n",
      "203/203 [==============================] - 49s 242ms/step - loss: 0.1766 - accuracy: 0.6340\n",
      "Current step: 500\n",
      "Test loss and acc: 0.1766 0.6340\n",
      "Training loss and acc: 0.1755 0.9345\n",
      "Seen so far: 32064 samples\n",
      "203/203 [==============================] - 49s 241ms/step - loss: 0.1693 - accuracy: 0.6388\n",
      "Current step: 550\n",
      "Test loss and acc: 0.1693 0.6388\n",
      "Training loss and acc: 0.1835 0.9347\n",
      "Seen so far: 35264 samples\n",
      "203/203 [==============================] - 49s 241ms/step - loss: 0.1626 - accuracy: 0.6501\n",
      "Current step: 600\n",
      "Test loss and acc: 0.1626 0.6501\n",
      "Training loss and acc: 0.1463 0.9350\n",
      "Seen so far: 38464 samples\n",
      "203/203 [==============================] - 49s 242ms/step - loss: 0.1545 - accuracy: 0.6652\n",
      "Current step: 650\n",
      "Test loss and acc: 0.1545 0.6652\n",
      "Training loss and acc: 0.1396 0.9354\n",
      "Seen so far: 41664 samples\n",
      "203/203 [==============================] - 49s 243ms/step - loss: 0.1432 - accuracy: 0.6915\n",
      "Current step: 700\n",
      "Test loss and acc: 0.1432 0.6915\n",
      "Training loss and acc: 0.1165 0.9360\n",
      "Seen so far: 44864 samples\n",
      "203/203 [==============================] - 49s 240ms/step - loss: 0.1314 - accuracy: 0.7102\n",
      "Current step: 750\n",
      "Test loss and acc: 0.1314 0.7102\n",
      "Training loss and acc: 0.1198 0.9368\n",
      "Seen so far: 48064 samples\n",
      "203/203 [==============================] - 49s 241ms/step - loss: 0.1209 - accuracy: 0.7344\n",
      "Current step: 800\n",
      "Test loss and acc: 0.1209 0.7344\n",
      "Training loss and acc: 0.0940 0.9378\n",
      "Seen so far: 51264 samples\n",
      "203/203 [==============================] - 49s 241ms/step - loss: 0.1131 - accuracy: 0.7554\n",
      "Current step: 850\n",
      "Test loss and acc: 0.1131 0.7554\n",
      "Training loss and acc: 0.1365 0.9387\n",
      "Seen so far: 54464 samples\n",
      "203/203 [==============================] - 49s 240ms/step - loss: 0.1136 - accuracy: 0.7596\n",
      "Current step: 900\n",
      "Test loss and acc: 0.1136 0.7596\n",
      "Training loss and acc: 0.1297 0.9398\n",
      "Seen so far: 57664 samples\n",
      "\n",
      "Start of epoch 1\n",
      "203/203 [==============================] - 49s 243ms/step - loss: 0.1031 - accuracy: 0.7854\n",
      "Current step: 50\n",
      "Test loss and acc: 0.1031 0.7854\n",
      "Training loss and acc: 0.1287 0.9642\n",
      "Seen so far: 3264 samples\n",
      "203/203 [==============================] - 49s 241ms/step - loss: 0.0909 - accuracy: 0.8083\n",
      "Current step: 100\n",
      "Test loss and acc: 0.0909 0.8083\n",
      "Training loss and acc: 0.0970 0.9647\n",
      "Seen so far: 6464 samples\n",
      "203/203 [==============================] - 49s 241ms/step - loss: 0.1087 - accuracy: 0.7690\n",
      "Current step: 150\n",
      "Test loss and acc: 0.1087 0.7690\n",
      "Training loss and acc: 0.0813 0.9656\n",
      "Seen so far: 9664 samples\n",
      "203/203 [==============================] - 49s 241ms/step - loss: 0.0837 - accuracy: 0.8298\n",
      "Current step: 200\n",
      "Test loss and acc: 0.0837 0.8298\n",
      "Training loss and acc: 0.0855 0.9665\n",
      "Seen so far: 12864 samples\n",
      "203/203 [==============================] - 53s 260ms/step - loss: 0.0772 - accuracy: 0.8488\n",
      "Current step: 250\n",
      "Test loss and acc: 0.0772 0.8488\n",
      "Training loss and acc: 0.1035 0.9672\n",
      "Seen so far: 16064 samples\n",
      "203/203 [==============================] - 53s 261ms/step - loss: 0.0876 - accuracy: 0.8364\n",
      "Current step: 300\n",
      "Test loss and acc: 0.0876 0.8364\n",
      "Training loss and acc: 0.0912 0.9678\n",
      "Seen so far: 19264 samples\n",
      "203/203 [==============================] - 51s 249ms/step - loss: 0.0681 - accuracy: 0.8599\n",
      "Current step: 350\n",
      "Test loss and acc: 0.0681 0.8599\n",
      "Training loss and acc: 0.0781 0.9685\n",
      "Seen so far: 22464 samples\n",
      "203/203 [==============================] - 55s 270ms/step - loss: 0.0662 - accuracy: 0.8611\n",
      "Current step: 400\n",
      "Test loss and acc: 0.0662 0.8611\n",
      "Training loss and acc: 0.0641 0.9693\n",
      "Seen so far: 25664 samples\n",
      "203/203 [==============================] - 60s 296ms/step - loss: 0.0641 - accuracy: 0.8673\n",
      "Current step: 450\n",
      "Test loss and acc: 0.0641 0.8673\n",
      "Training loss and acc: 0.0963 0.9702\n",
      "Seen so far: 28864 samples\n",
      "203/203 [==============================] - 54s 265ms/step - loss: 0.0580 - accuracy: 0.8855\n",
      "Current step: 500\n",
      "Test loss and acc: 0.0580 0.8855\n",
      "Training loss and acc: 0.0445 0.9709\n",
      "Seen so far: 32064 samples\n",
      "203/203 [==============================] - 61s 300ms/step - loss: 0.0596 - accuracy: 0.8829\n",
      "Current step: 550\n",
      "Test loss and acc: 0.0596 0.8829\n",
      "Training loss and acc: 0.0643 0.9718\n",
      "Seen so far: 35264 samples\n",
      "203/203 [==============================] - 51s 250ms/step - loss: 0.0597 - accuracy: 0.8803\n",
      "Current step: 600\n",
      "Test loss and acc: 0.0597 0.8803\n",
      "Training loss and acc: 0.0487 0.9725\n",
      "Seen so far: 38464 samples\n",
      "203/203 [==============================] - 50s 248ms/step - loss: 0.0554 - accuracy: 0.8911\n",
      "Current step: 650\n",
      "Test loss and acc: 0.0554 0.8911\n",
      "Training loss and acc: 0.0399 0.9730\n",
      "Seen so far: 41664 samples\n",
      "203/203 [==============================] - 54s 264ms/step - loss: 0.0567 - accuracy: 0.8891\n",
      "Current step: 700\n",
      "Test loss and acc: 0.0567 0.8891\n",
      "Training loss and acc: 0.0217 0.9736\n",
      "Seen so far: 44864 samples\n",
      "203/203 [==============================] - 61s 299ms/step - loss: 0.0563 - accuracy: 0.8899\n",
      "Current step: 750\n",
      "Test loss and acc: 0.0563 0.8899\n",
      "Training loss and acc: 0.0515 0.9741\n",
      "Seen so far: 48064 samples\n",
      "203/203 [==============================] - 58s 287ms/step - loss: 0.0558 - accuracy: 0.8912\n",
      "Current step: 800\n",
      "Test loss and acc: 0.0558 0.8912\n",
      "Training loss and acc: 0.0477 0.9745\n",
      "Seen so far: 51264 samples\n",
      "203/203 [==============================] - 55s 269ms/step - loss: 0.0502 - accuracy: 0.9007\n",
      "Current step: 850\n",
      "Test loss and acc: 0.0502 0.9007\n",
      "Training loss and acc: 0.0510 0.9749\n",
      "Seen so far: 54464 samples\n",
      "203/203 [==============================] - 53s 260ms/step - loss: 0.0584 - accuracy: 0.8852\n",
      "Current step: 900\n",
      "Test loss and acc: 0.0584 0.8852\n",
      "Training loss and acc: 0.0643 0.9754\n",
      "Seen so far: 57664 samples\n",
      "\n",
      "Start of epoch 2\n",
      "203/203 [==============================] - 61s 299ms/step - loss: 0.0534 - accuracy: 0.8957\n",
      "Current step: 50\n",
      "Test loss and acc: 0.0534 0.8957\n",
      "Training loss and acc: 0.0458 0.9838\n",
      "Seen so far: 3264 samples\n",
      "203/203 [==============================] - 58s 285ms/step - loss: 0.0561 - accuracy: 0.8903\n",
      "Current step: 100\n",
      "Test loss and acc: 0.0561 0.8903\n",
      "Training loss and acc: 0.0466 0.9846\n",
      "Seen so far: 6464 samples\n",
      "203/203 [==============================] - 55s 271ms/step - loss: 0.0546 - accuracy: 0.8929\n",
      "Current step: 150\n",
      "Test loss and acc: 0.0546 0.8929\n",
      "Training loss and acc: 0.0459 0.9849\n",
      "Seen so far: 9664 samples\n",
      "203/203 [==============================] - 60s 296ms/step - loss: 0.0551 - accuracy: 0.8895\n",
      "Current step: 200\n",
      "Test loss and acc: 0.0551 0.8895\n",
      "Training loss and acc: 0.0363 0.9851\n",
      "Seen so far: 12864 samples\n",
      "203/203 [==============================] - 57s 280ms/step - loss: 0.0492 - accuracy: 0.9036\n",
      "Current step: 250\n",
      "Test loss and acc: 0.0492 0.9036\n",
      "Training loss and acc: 0.0766 0.9847\n",
      "Seen so far: 16064 samples\n",
      "203/203 [==============================] - 59s 292ms/step - loss: 0.0519 - accuracy: 0.8999\n",
      "Current step: 300\n",
      "Test loss and acc: 0.0519 0.8999\n",
      "Training loss and acc: 0.0435 0.9847\n",
      "Seen so far: 19264 samples\n",
      "203/203 [==============================] - 59s 290ms/step - loss: 0.0466 - accuracy: 0.9070\n",
      "Current step: 350\n",
      "Test loss and acc: 0.0466 0.9070\n",
      "Training loss and acc: 0.0473 0.9847\n",
      "Seen so far: 22464 samples\n",
      "203/203 [==============================] - 56s 278ms/step - loss: 0.0518 - accuracy: 0.8973\n",
      "Current step: 400\n",
      "Test loss and acc: 0.0518 0.8973\n",
      "Training loss and acc: 0.0377 0.9849\n",
      "Seen so far: 25664 samples\n",
      "203/203 [==============================] - 62s 305ms/step - loss: 0.0524 - accuracy: 0.9056\n",
      "Current step: 450\n",
      "Test loss and acc: 0.0524 0.9056\n",
      "Training loss and acc: 0.0224 0.9851\n",
      "Seen so far: 28864 samples\n",
      "203/203 [==============================] - 61s 299ms/step - loss: 0.0491 - accuracy: 0.9039\n",
      "Current step: 500\n",
      "Test loss and acc: 0.0491 0.9039\n",
      "Training loss and acc: 0.0296 0.9851\n",
      "Seen so far: 32064 samples\n",
      "203/203 [==============================] - 62s 304ms/step - loss: 0.0490 - accuracy: 0.9030\n",
      "Current step: 550\n",
      "Test loss and acc: 0.0490 0.9030\n",
      "Training loss and acc: 0.0485 0.9855\n",
      "Seen so far: 35264 samples\n",
      "203/203 [==============================] - 55s 272ms/step - loss: 0.0540 - accuracy: 0.8966\n",
      "Current step: 600\n",
      "Test loss and acc: 0.0540 0.8966\n",
      "Training loss and acc: 0.0364 0.9857\n",
      "Seen so far: 38464 samples\n",
      "203/203 [==============================] - 54s 266ms/step - loss: 0.0495 - accuracy: 0.9039\n",
      "Current step: 650\n",
      "Test loss and acc: 0.0495 0.9039\n",
      "Training loss and acc: 0.0185 0.9857\n",
      "Seen so far: 41664 samples\n",
      "203/203 [==============================] - 55s 273ms/step - loss: 0.0565 - accuracy: 0.8923\n",
      "Current step: 700\n",
      "Test loss and acc: 0.0565 0.8923\n",
      "Training loss and acc: 0.0180 0.9858\n",
      "Seen so far: 44864 samples\n",
      "203/203 [==============================] - 59s 291ms/step - loss: 0.0548 - accuracy: 0.8922\n",
      "Current step: 750\n",
      "Test loss and acc: 0.0548 0.8922\n",
      "Training loss and acc: 0.0479 0.9859\n",
      "Seen so far: 48064 samples\n",
      "203/203 [==============================] - 60s 295ms/step - loss: 0.0521 - accuracy: 0.8982\n",
      "Current step: 800\n",
      "Test loss and acc: 0.0521 0.8982\n",
      "Training loss and acc: 0.0332 0.9860\n",
      "Seen so far: 51264 samples\n",
      "203/203 [==============================] - 59s 291ms/step - loss: 0.0467 - accuracy: 0.9116\n",
      "Current step: 850\n",
      "Test loss and acc: 0.0467 0.9116\n",
      "Training loss and acc: 0.0518 0.9861\n",
      "Seen so far: 54464 samples\n",
      "203/203 [==============================] - 57s 281ms/step - loss: 0.0483 - accuracy: 0.9076\n",
      "Current step: 900\n",
      "Test loss and acc: 0.0483 0.9076\n",
      "Training loss and acc: 0.0239 0.9863\n",
      "Seen so far: 57664 samples\n"
     ]
    }
   ],
   "source": [
    "epochs = 3\n",
    "\n",
    "test_loss = []\n",
    "test_acc = []\n",
    "train_loss = []\n",
    "train_acc = []\n",
    "\n",
    "for epoch in range(epochs):\n",
    "    print(\"\\nStart of epoch %d\" % (epoch,))\n",
    "\n",
    "    for step, (x_batch_train, y_batch_train) in enumerate(train_dataset):\n",
    "        \n",
    "        with tf.GradientTape() as tape:\n",
    "            logits = model(x_batch_train, training=True)\n",
    "            loss_value = loss_fn(y_batch_train, logits)\n",
    "        grads = tape.gradient(loss_value, model.trainable_weights)\n",
    "        opt.apply_gradients(zip(grads, model.trainable_weights))\n",
    "        \n",
    "        train_acc_metric.update_state(y_batch_train, logits)\n",
    "        # Log every 50 batches.\n",
    "        if step % 50 == 0 and step > 0:\n",
    "            test_loss_acc = model.evaluate(X_test, Y_test)\n",
    "            train_loss_acc = float(loss_value), float(train_acc_metric.result()) \n",
    "            test_loss.append(test_loss_acc[0])\n",
    "            test_acc.append(test_loss_acc[1])\n",
    "            train_loss.append(train_loss_acc[0])\n",
    "            train_acc.append(train_loss_acc[1])\n",
    "            print(\"Current step: %d\" % step)\n",
    "            print(\"Test loss and acc: %.4f %.4f\" % (test_loss_acc[0], test_loss_acc[1]))\n",
    "            print(\"Training loss and acc: %.4f %.4f\" % (float(train_loss_acc[0]), float(train_loss_acc[1])))\n",
    "            print(\"Seen so far: %s samples\" % ((step + 1) * batch_size))\n",
    "    train_acc_metric.reset_states()"
   ]
  },
  {
   "cell_type": "code",
   "execution_count": 149,
   "metadata": {},
   "outputs": [
    {
     "name": "stdout",
     "output_type": "stream",
     "text": [
      "INFO:tensorflow:Assets written to: /Users/mbassalaev/Desktop/audio_project/Spotter_recognition/saved_models/CNN_without_spec_auc/assets\n",
      "Save model and weights at /Users/mbassalaev/Desktop/audio_project/Spotter_recognition/saved_models/CNN_without_spec_auc \n"
     ]
    }
   ],
   "source": [
    "save_model(model, \"CNN_without_spec_auc\")"
   ]
  },
  {
   "cell_type": "code",
   "execution_count": 167,
   "metadata": {},
   "outputs": [],
   "source": [
    "save_model_history((train_loss, test_loss), \"CNN_without_spec_auc\")"
   ]
  },
  {
   "cell_type": "code",
   "execution_count": 22,
   "metadata": {},
   "outputs": [],
   "source": [
    "# classification report sklearn\n",
    "# посмотреть на чем обучают в kws_streaming\n",
    "# убрать оффсет\n",
    "# добавить аргументаций, дропауты?\n",
    "# посмотреть как ошибка распределена по классам, (сбалансировать X_test, Y_test)"
   ]
  },
  {
   "cell_type": "code",
   "execution_count": 166,
   "metadata": {},
   "outputs": [
    {
     "data": {
      "image/png": "[encoded data removed]",
      "text/plain": [
       "<Figure size 576x576 with 1 Axes>"
      ]
     },
     "metadata": {
      "needs_background": "light"
     },
     "output_type": "display_data"
    }
   ],
   "source": [
    "plt.figure(figsize=(8,8))\n",
    "train_plot = plt.plot(temp, train_loss, color='red', label='Train')\n",
    "test_plot = plt.plot(temp, test_loss, color='black', linestyle='dashed', label='Test')\n",
    "plt.title('CNN loss')\n",
    "plt.ylabel('binary_crossentropy loss')\n",
    "plt.xlabel('batch \\n (3 epoch)')\n",
    "plt.legend(loc='upper right')\n",
    "plt.savefig(\"CNN_withou_spec_auc\")\n",
    "plt.show()"
   ]
  },
  {
   "cell_type": "code",
   "execution_count": 79,
   "metadata": {},
   "outputs": [
    {
     "name": "stdout",
     "output_type": "stream",
     "text": [
      "              precision    recall  f1-score   support\n",
      "\n",
      "        down       0.94      0.73      0.82       254\n",
      "          go       0.90      0.78      0.84       229\n",
      "        left       0.93      0.81      0.86       236\n",
      "          no       0.78      0.87      0.83       242\n",
      "         off       0.85      0.82      0.83       226\n",
      "          on       0.94      0.73      0.82       229\n",
      "       right       0.96      0.78      0.86       252\n",
      "        stop       0.94      0.90      0.92       235\n",
      "     unknown       0.92      0.98      0.95      4081\n",
      "          up       0.82      0.78      0.80       250\n",
      "         yes       0.96      0.90      0.93       239\n",
      "\n",
      "    accuracy                           0.91      6473\n",
      "   macro avg       0.90      0.82      0.86      6473\n",
      "weighted avg       0.91      0.91      0.91      6473\n",
      "\n"
     ]
    }
   ],
   "source": [
    "print(report(model, X_test, Y_test, lb.classes_))"
   ]
  }
 ],
 "metadata": {
  "kernelspec": {
   "display_name": "Python 3",
   "language": "python",
   "name": "python3"
  },
  "language_info": {
   "codemirror_mode": {
    "name": "ipython",
    "version": 3
   },
   "file_extension": ".py",
   "mimetype": "text/x-python",
   "name": "python",
   "nbconvert_exporter": "python",
   "pygments_lexer": "ipython3",
   "version": "3.7.10"
  }
 },
 "nbformat": 4,
 "nbformat_minor": 4
}
