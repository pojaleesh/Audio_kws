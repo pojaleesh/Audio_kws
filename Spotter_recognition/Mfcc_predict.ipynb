{
 "cells": [
  {
   "cell_type": "code",
   "execution_count": 14,
   "metadata": {},
   "outputs": [],
   "source": [
    "from sklearn.model_selection import train_test_split\n",
    "\n",
    "import librosa\n",
    "import librosa.display\n",
    "import json\n",
    "import numpy as np\n",
    "import matplotlib.pyplot as plt\n",
    "from matplotlib.pyplot import specgram\n",
    "import pandas as pd\n",
    "import seaborn as sns\n",
    "import glob \n",
    "import os\n",
    "import pickle\n",
    "import tensorflow as tf\n",
    "import IPython.display as ipd\n",
    "import random\n",
    "from pydub import AudioSegment\n",
    "import import_ipynb\n",
    "from models.cnn import CNN_model\n",
    "from service.Mfcc import get_mfcc"
   ]
  },
  {
   "cell_type": "code",
   "execution_count": 7,
   "metadata": {},
   "outputs": [],
   "source": [
    "filename = 'labels_spotter'\n",
    "infile = open(filename,'rb')\n",
    "lb = pickle.load(infile)\n",
    "infile.close()"
   ]
  },
  {
   "cell_type": "code",
   "execution_count": 8,
   "metadata": {},
   "outputs": [],
   "source": [
    "model_cnn = tf.keras.models.load_model('saved_models/CNN')\n",
    "model_crnn = tf.keras.models.load_model('saved_models/CRNN')\n",
    "model_at_rnn = tf.keras.models.load_model('saved_models/AT_RNN')\n",
    "model_ds_cnn = tf.keras.models.load_model('saved_models/DS_CNN')\n",
    "#model_dnn = tf.keras.models.load_model(\"saved_models/DNN\")"
   ]
  },
  {
   "cell_type": "code",
   "execution_count": 36,
   "metadata": {},
   "outputs": [],
   "source": [
    "def mfcc_predict(flags, mfcc):\n",
    "    mfcc = (mfcc - flags['mean']) / flags['std']\n",
    "    mfcc = np.array(mfcc)\n",
    "    if flags['model'] == 'CNN':\n",
    "        prediction = model_cnn.predict(mfcc, batch_size=16, verbose=1)\n",
    "    elif flags['model'] == 'CRNN':\n",
    "        prediction = model_crnn.predict(mfcc, batch_size=16, verbose=1)\n",
    "    elif flags['model'] == 'AT_RNN':\n",
    "        prediction = model_at_rnn.predict(mfcc, batch_size=16, verbose=1)\n",
    "    elif flags['model'] == 'DNN':\n",
    "        prediction = model_dnn.predict(mfcc, batch_size=16, verbose=1)\n",
    "    elif flags['model'] == 'DS_CNN':\n",
    "        prediction = model_dc_cnn.predict(mfcc, batch_size=16, verbose=1)\n",
    "    max_p = prediction.max(axis=1)\n",
    "    max_index = prediction.argmax(axis=1)\n",
    "    return max_p, lb.classes_[max_index][0]"
   ]
  },
  {
   "cell_type": "code",
   "execution_count": 15,
   "metadata": {},
   "outputs": [],
   "source": [
    "filename = 'Data_spotter_mfcc_40'\n",
    "outfile = open(filename,'rb')\n",
    "X = pickle.load(outfile)\n",
    "outfile.close()"
   ]
  },
  {
   "cell_type": "code",
   "execution_count": 16,
   "metadata": {},
   "outputs": [],
   "source": [
    "df = pd.read_csv('../../full_df')"
   ]
  },
  {
   "cell_type": "code",
   "execution_count": 17,
   "metadata": {},
   "outputs": [],
   "source": [
    "X_train, X_test, Y_train, Y_test = train_test_split(X\n",
    "                                                    , df.word\n",
    "                                                    , test_size=0.1\n",
    "                                                    , shuffle=True\n",
    "                                                    , random_state=42)"
   ]
  },
  {
   "cell_type": "code",
   "execution_count": 18,
   "metadata": {},
   "outputs": [],
   "source": [
    "mean = np.mean(X_train, axis=0)\n",
    "std = np.std(X_train, axis=0)"
   ]
  },
  {
   "cell_type": "code",
   "execution_count": 19,
   "metadata": {},
   "outputs": [],
   "source": [
    "flags_1 = {\n",
    "    'mean': mean,\n",
    "    'std': std,\n",
    "    'model': 'AT_RNN'\n",
    "}"
   ]
  },
  {
   "cell_type": "code",
   "execution_count": 20,
   "metadata": {},
   "outputs": [],
   "source": [
    "flags_2 = {\n",
    "    'offset': 0,\n",
    "    'duration': 1,\n",
    "    'sample_rate': 44100,\n",
    "    'n_mfcc': 40,\n",
    "    'columns': 61\n",
    "}"
   ]
  },
  {
   "cell_type": "code",
   "execution_count": 54,
   "metadata": {},
   "outputs": [],
   "source": [
    "mfcc = get_mfcc('../../2/yes.oga', flags_2)"
   ]
  },
  {
   "cell_type": "code",
   "execution_count": 55,
   "metadata": {},
   "outputs": [
    {
     "name": "stdout",
     "output_type": "stream",
     "text": [
      "1/1 [==============================] - 0s 42ms/step\n"
     ]
    }
   ],
   "source": [
    "res = mfcc_predict(flags_1, mfcc)"
   ]
  },
  {
   "cell_type": "code",
   "execution_count": 56,
   "metadata": {},
   "outputs": [
    {
     "data": {
      "text/plain": [
       "(array([0.9998791], dtype=float32), 'yes')"
      ]
     },
     "execution_count": 56,
     "metadata": {},
     "output_type": "execute_result"
    }
   ],
   "source": [
    "res"
   ]
  },
  {
   "cell_type": "code",
   "execution_count": 1,
   "metadata": {},
   "outputs": [
    {
     "data": {
      "text/plain": [
       "'C:\\\\Users\\\\Mi Notebook\\\\Desktop\\\\Audio_project\\\\audio_project\\\\Spotter_recognition'"
      ]
     },
     "execution_count": 1,
     "metadata": {},
     "output_type": "execute_result"
    }
   ],
   "source": [
    "pwd"
   ]
  },
  {
   "cell_type": "code",
   "execution_count": 27,
   "metadata": {},
   "outputs": [
    {
     "data": {
      "text/plain": [
       "array(['down', 'go', 'left', 'no', 'off', 'on', 'right', 'stop',\n",
       "       'unknown', 'up', 'yes'], dtype=object)"
      ]
     },
     "execution_count": 27,
     "metadata": {},
     "output_type": "execute_result"
    }
   ],
   "source": [
    "lb.classes_"
   ]
  },
  {
   "cell_type": "code",
   "execution_count": null,
   "metadata": {},
   "outputs": [],
   "source": []
  }
 ],
 "metadata": {
  "kernelspec": {
   "display_name": "Python 3",
   "language": "python",
   "name": "python3"
  },
  "language_info": {
   "codemirror_mode": {
    "name": "ipython",
    "version": 3
   },
   "file_extension": ".py",
   "mimetype": "text/x-python",
   "name": "python",
   "nbconvert_exporter": "python",
   "pygments_lexer": "ipython3",
   "version": "3.7.3"
  }
 },
 "nbformat": 4,
 "nbformat_minor": 4
}
