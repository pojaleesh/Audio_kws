{
 "cells": [
  {
   "cell_type": "code",
   "execution_count": 15,
   "metadata": {},
   "outputs": [],
   "source": [
    "import keras\n",
    "from keras import regularizers\n",
    "from keras.preprocessing import sequence\n",
    "from keras import optimizers\n",
    "from keras.preprocessing.text import Tokenizer\n",
    "from keras.preprocessing.sequence import pad_sequences\n",
    "from keras.models import Sequential, Model, model_from_json\n",
    "from keras.layers import Dense, Embedding, LSTM, GRU, TimeDistributed\n",
    "from keras.layers import Input, Flatten, Dropout, Activation, BatchNormalization\n",
    "from keras.layers import Convolution2D, MaxPooling2D, AveragePooling2D, ZeroPadding2D, Dropout, MaxPool2D, DepthwiseConv2D\n",
    "from keras.utils import np_utils, to_categorical\n",
    "from keras.callbacks import ModelCheckpoint\n",
    "\n",
    "import sklearn\n",
    "from sklearn.metrics import confusion_matrix, accuracy_score, classification_report\n",
    "from sklearn.model_selection import train_test_split\n",
    "from sklearn.preprocessing import LabelEncoder\n",
    "\n",
    "import librosa\n",
    "import librosa.display\n",
    "import json\n",
    "import numpy as np\n",
    "import matplotlib.pyplot as plt\n",
    "import tensorflow as tf\n",
    "from matplotlib.pyplot import specgram\n",
    "import pandas as pd\n",
    "import seaborn as sns\n",
    "import glob \n",
    "import os\n",
    "import pickle\n",
    "import IPython.display as ipd\n",
    "import random\n",
    "import import_ipynb\n",
    "import Sample_making\n",
    "from models.cnn import CNN_model"
   ]
  },
  {
   "cell_type": "code",
   "execution_count": 2,
   "metadata": {},
   "outputs": [],
   "source": [
    "df_target = pd.read_csv('../../Target_words_dataframe')\n",
    "df_unknown = pd.read_csv('../../Unknown_words_dataframe')\n",
    "df = pd.read_csv('../../full_df')"
   ]
  },
  {
   "cell_type": "code",
   "execution_count": 3,
   "metadata": {},
   "outputs": [],
   "source": [
    "df_target = df_target.drop(columns=['Unnamed: 0'], axis=1)\n",
    "df_unknown = df_unknown.drop(columns=['Unnamed: 0'], axis=1)"
   ]
  },
  {
   "cell_type": "code",
   "execution_count": 4,
   "metadata": {},
   "outputs": [
    {
     "data": {
      "text/html": [
       "<div>\n",
       "<style scoped>\n",
       "    .dataframe tbody tr th:only-of-type {\n",
       "        vertical-align: middle;\n",
       "    }\n",
       "\n",
       "    .dataframe tbody tr th {\n",
       "        vertical-align: top;\n",
       "    }\n",
       "\n",
       "    .dataframe thead th {\n",
       "        text-align: right;\n",
       "    }\n",
       "</style>\n",
       "<table border=\"1\" class=\"dataframe\">\n",
       "  <thead>\n",
       "    <tr style=\"text-align: right;\">\n",
       "      <th></th>\n",
       "      <th>word</th>\n",
       "      <th>path</th>\n",
       "    </tr>\n",
       "  </thead>\n",
       "  <tbody>\n",
       "    <tr>\n",
       "      <th>0</th>\n",
       "      <td>yes</td>\n",
       "      <td>C:/Users/Mi Notebook/Desktop/PavlodarCapture/s...</td>\n",
       "    </tr>\n",
       "    <tr>\n",
       "      <th>1</th>\n",
       "      <td>yes</td>\n",
       "      <td>C:/Users/Mi Notebook/Desktop/PavlodarCapture/s...</td>\n",
       "    </tr>\n",
       "    <tr>\n",
       "      <th>2</th>\n",
       "      <td>yes</td>\n",
       "      <td>C:/Users/Mi Notebook/Desktop/PavlodarCapture/s...</td>\n",
       "    </tr>\n",
       "    <tr>\n",
       "      <th>3</th>\n",
       "      <td>yes</td>\n",
       "      <td>C:/Users/Mi Notebook/Desktop/PavlodarCapture/s...</td>\n",
       "    </tr>\n",
       "    <tr>\n",
       "      <th>4</th>\n",
       "      <td>yes</td>\n",
       "      <td>C:/Users/Mi Notebook/Desktop/PavlodarCapture/s...</td>\n",
       "    </tr>\n",
       "    <tr>\n",
       "      <th>...</th>\n",
       "      <td>...</td>\n",
       "      <td>...</td>\n",
       "    </tr>\n",
       "    <tr>\n",
       "      <th>64716</th>\n",
       "      <td>unknown</td>\n",
       "      <td>C:/Users/Mi Notebook/Desktop/PavlodarCapture/s...</td>\n",
       "    </tr>\n",
       "    <tr>\n",
       "      <th>64717</th>\n",
       "      <td>unknown</td>\n",
       "      <td>C:/Users/Mi Notebook/Desktop/PavlodarCapture/s...</td>\n",
       "    </tr>\n",
       "    <tr>\n",
       "      <th>64718</th>\n",
       "      <td>unknown</td>\n",
       "      <td>C:/Users/Mi Notebook/Desktop/PavlodarCapture/s...</td>\n",
       "    </tr>\n",
       "    <tr>\n",
       "      <th>64719</th>\n",
       "      <td>unknown</td>\n",
       "      <td>C:/Users/Mi Notebook/Desktop/PavlodarCapture/s...</td>\n",
       "    </tr>\n",
       "    <tr>\n",
       "      <th>64720</th>\n",
       "      <td>unknown</td>\n",
       "      <td>C:/Users/Mi Notebook/Desktop/PavlodarCapture/s...</td>\n",
       "    </tr>\n",
       "  </tbody>\n",
       "</table>\n",
       "<p>64721 rows × 2 columns</p>\n",
       "</div>"
      ],
      "text/plain": [
       "          word                                               path\n",
       "0          yes  C:/Users/Mi Notebook/Desktop/PavlodarCapture/s...\n",
       "1          yes  C:/Users/Mi Notebook/Desktop/PavlodarCapture/s...\n",
       "2          yes  C:/Users/Mi Notebook/Desktop/PavlodarCapture/s...\n",
       "3          yes  C:/Users/Mi Notebook/Desktop/PavlodarCapture/s...\n",
       "4          yes  C:/Users/Mi Notebook/Desktop/PavlodarCapture/s...\n",
       "...        ...                                                ...\n",
       "64716  unknown  C:/Users/Mi Notebook/Desktop/PavlodarCapture/s...\n",
       "64717  unknown  C:/Users/Mi Notebook/Desktop/PavlodarCapture/s...\n",
       "64718  unknown  C:/Users/Mi Notebook/Desktop/PavlodarCapture/s...\n",
       "64719  unknown  C:/Users/Mi Notebook/Desktop/PavlodarCapture/s...\n",
       "64720  unknown  C:/Users/Mi Notebook/Desktop/PavlodarCapture/s...\n",
       "\n",
       "[64721 rows x 2 columns]"
      ]
     },
     "execution_count": 4,
     "metadata": {},
     "output_type": "execute_result"
    }
   ],
   "source": [
    "df"
   ]
  },
  {
   "cell_type": "code",
   "execution_count": 46,
   "metadata": {},
   "outputs": [],
   "source": [
    "filename = 'Data_spotter_mfcc_40'\n",
    "outfile = open(filename,'rb')\n",
    "X = pickle.load(outfile)\n",
    "outfile.close()"
   ]
  },
  {
   "cell_type": "code",
   "execution_count": 6,
   "metadata": {},
   "outputs": [],
   "source": [
    "def save_model(Model, model_name):\n",
    "    save_dir = os.path.join(os.getcwd(), 'saved_models')\n",
    "\n",
    "    if not os.path.isdir(save_dir):\n",
    "        os.makedirs(save_dir)\n",
    "    model_path = os.path.join(save_dir, model_name)\n",
    "    Model.save(model_path)\n",
    "    print('Save model and weights at %s ' % model_path)\n",
    "\n",
    "    model_json = Model.to_json()\n",
    "    with open(\"model_json.json\", \"w\") as json_file:\n",
    "        json_file.write(model_json)"
   ]
  },
  {
   "cell_type": "code",
   "execution_count": 7,
   "metadata": {},
   "outputs": [],
   "source": [
    "def save_model_history(model_history, model_history_name):\n",
    "    filename = 'saved_models_history/' + model_history_name\n",
    "    outfile = open(filename,'wb')\n",
    "    pickle.dump(model_history, outfile)\n",
    "    outfile.close()"
   ]
  },
  {
   "cell_type": "code",
   "execution_count": 8,
   "metadata": {},
   "outputs": [],
   "source": [
    "def report(model, X, y, classes):\n",
    "    model_predictions = model.predict(X).argmax(axis=1)\n",
    "    true_predictions = y.argmax(axis=1)\n",
    "    return sklearn.metrics.classification_report(true_predictions, model_predictions, target_names=classes)"
   ]
  },
  {
   "cell_type": "code",
   "execution_count": 50,
   "metadata": {},
   "outputs": [],
   "source": [
    "X_train, X_test, Y_train, Y_test = train_test_split(X\n",
    "                                                    , df.word\n",
    "                                                    , test_size=0.1\n",
    "                                                    , shuffle=True\n",
    "                                                    , random_state=42)"
   ]
  },
  {
   "cell_type": "code",
   "execution_count": 51,
   "metadata": {},
   "outputs": [
    {
     "name": "stdout",
     "output_type": "stream",
     "text": [
      "X_train size = (58248, 40, 61)\n",
      "Y_train size = (58248,)\n",
      "X_test size = (6473, 40, 61)\n",
      "Y_test size = (6473,)\n"
     ]
    }
   ],
   "source": [
    "print(f'X_train size = {X_train.shape}')\n",
    "print(f'Y_train size = {Y_train.shape}')\n",
    "print(f'X_test size = {X_test.shape}')\n",
    "print(f'Y_test size = {Y_test.shape}')"
   ]
  },
  {
   "cell_type": "code",
   "execution_count": 52,
   "metadata": {},
   "outputs": [],
   "source": [
    "mean = np.mean(X_train, axis=0)\n",
    "std = np.std(X_train, axis=0)\n",
    "\n",
    "X_train = (X_train - mean) / std\n",
    "X_test = (X_test - mean) / std"
   ]
  },
  {
   "cell_type": "code",
   "execution_count": 53,
   "metadata": {},
   "outputs": [],
   "source": [
    "X_train = np.array(X_train)\n",
    "Y_train = np.array(Y_train)\n",
    "X_test = np.array(X_test)\n",
    "Y_test = np.array(Y_test)"
   ]
  },
  {
   "cell_type": "code",
   "execution_count": 54,
   "metadata": {},
   "outputs": [
    {
     "name": "stdout",
     "output_type": "stream",
     "text": [
      "['down' 'go' 'left' 'no' 'off' 'on' 'right' 'stop' 'unknown' 'up' 'yes']\n"
     ]
    }
   ],
   "source": [
    "lb = LabelEncoder()\n",
    "Y_train = np_utils.to_categorical(lb.fit_transform(Y_train))\n",
    "Y_test = np_utils.to_categorical(lb.fit_transform(Y_test))\n",
    "print(lb.classes_)"
   ]
  },
  {
   "cell_type": "code",
   "execution_count": 55,
   "metadata": {},
   "outputs": [
    {
     "name": "stdout",
     "output_type": "stream",
     "text": [
      "X_train size = (58248, 40, 61, 1)\n",
      "X_test size = (6473, 40, 61, 1)\n"
     ]
    }
   ],
   "source": [
    "X_train = X_train.reshape((X_train.shape[0], X_train.shape[1], X_train.shape[2], 1))\n",
    "X_test = X_test.reshape((X_test.shape[0], X_test.shape[1], X_test.shape[2], 1))\n",
    "print(f'X_train size = {X_train.shape}')\n",
    "print(f'X_test size = {X_test.shape}')"
   ]
  },
  {
   "cell_type": "code",
   "execution_count": 56,
   "metadata": {},
   "outputs": [],
   "source": [
    "def DS_CNN_model(input_shape, nclass):\n",
    "    \n",
    "    input_ = Input(input_shape)\n",
    "    \n",
    "    X = Convolution2D(300, (3, 3), activation=\"relu\", dilation_rate=(2, 1), strides=(1, 1), padding=\"valid\")(input_)\n",
    "    X = BatchNormalization(momentum=0.98, center=True, scale=False, renorm=False)(X)\n",
    "    X = Activation('relu')(X)\n",
    "    \n",
    "    X = DepthwiseConv2D(kernel_size=(3,3), strides=(1,1), dilation_rate=(1,1), padding='valid')(X)\n",
    "    X = BatchNormalization(momentum=0.98, center=True, scale=False, renorm=False)(X)\n",
    "    X = Activation('relu')(X)\n",
    "    X = Convolution2D(300, kernel_size=(1,1))(X)\n",
    "    X = BatchNormalization(momentum=0.98, center=True, scale=False, renorm=False)(X)\n",
    "    X = Activation('relu')(X)\n",
    "    \n",
    "    X = DepthwiseConv2D(kernel_size=(3,3), strides=(1,1), dilation_rate=(2,2), padding='valid')(X)\n",
    "    X = BatchNormalization(momentum=0.98, center=True, scale=False, renorm=False)(X)\n",
    "    X = Activation('relu')(X)\n",
    "    X = Convolution2D(300, kernel_size=(1,1))(X)\n",
    "    X = BatchNormalization(momentum=0.98, center=True, scale=False, renorm=False)(X)\n",
    "    X = Activation('relu')(X)\n",
    "    \n",
    "    X = DepthwiseConv2D(kernel_size=(10,3), strides=(1,1), dilation_rate=(1,1), padding='valid')(X)\n",
    "    X = BatchNormalization(momentum=0.98, center=True, scale=False, renorm=False)(X)\n",
    "    X = Activation('relu')(X)\n",
    "    X = Convolution2D(300, kernel_size=(1,1))(X)\n",
    "    X = BatchNormalization(momentum=0.98, center=True, scale=False, renorm=False)(X)\n",
    "    X = Activation('relu')(X)\n",
    "    \n",
    "    X = DepthwiseConv2D(kernel_size=(5,3), strides=(1,1), dilation_rate=(2, 2), padding='valid')(X)\n",
    "    X = BatchNormalization(momentum=0.98, center=True, scale=False, renorm=False)(X)\n",
    "    X = Activation('relu')(X)\n",
    "    X = Convolution2D(300, kernel_size=(1,1))(X)\n",
    "    X = BatchNormalization(momentum=0.98, center=True, scale=False, renorm=False)(X)\n",
    "    X = Activation('relu')(X)\n",
    "    \n",
    "    X = DepthwiseConv2D(kernel_size=(10,3), strides=(1,1), dilation_rate=(1,1), padding='valid')(X)\n",
    "    X = BatchNormalization(momentum=0.98, center=True, scale=False, renorm=False)(X)\n",
    "    X = Activation('relu')(X)\n",
    "    X = Convolution2D(300, kernel_size=(1,1))(X)\n",
    "    X = BatchNormalization(momentum=0.98, center=True, scale=False, renorm=False)(X)\n",
    "    X = Activation('relu')(X)\n",
    "    \n",
    "    X = AveragePooling2D(pool_size=(X.shape[1], X.shape[2]))(X)\n",
    "    \n",
    "    X = Flatten()(X)\n",
    "    X = Dropout(rate=0.2)(X)\n",
    "    output_ = Dense(nclass, activation='softmax')(X)\n",
    "    \n",
    "    ret_model = Model(inputs = input_, outputs=output_)\n",
    "    \n",
    "    return ret_model"
   ]
  },
  {
   "cell_type": "code",
   "execution_count": 57,
   "metadata": {},
   "outputs": [],
   "source": [
    "model = DS_CNN_model((40, 61, 1), len(lb.classes_))"
   ]
  },
  {
   "cell_type": "code",
   "execution_count": 58,
   "metadata": {},
   "outputs": [
    {
     "name": "stdout",
     "output_type": "stream",
     "text": [
      "Model: \"model_8\"\n",
      "_________________________________________________________________\n",
      "Layer (type)                 Output Shape              Param #   \n",
      "=================================================================\n",
      "input_23 (InputLayer)        [(None, 40, 61, 1)]       0         \n",
      "_________________________________________________________________\n",
      "conv2d_91 (Conv2D)           (None, 36, 59, 300)       3000      \n",
      "_________________________________________________________________\n",
      "batch_normalization_152 (Bat (None, 36, 59, 300)       900       \n",
      "_________________________________________________________________\n",
      "activation_146 (Activation)  (None, 36, 59, 300)       0         \n",
      "_________________________________________________________________\n",
      "depthwise_conv2d_76 (Depthwi (None, 34, 57, 300)       3000      \n",
      "_________________________________________________________________\n",
      "batch_normalization_153 (Bat (None, 34, 57, 300)       900       \n",
      "_________________________________________________________________\n",
      "activation_147 (Activation)  (None, 34, 57, 300)       0         \n",
      "_________________________________________________________________\n",
      "conv2d_92 (Conv2D)           (None, 34, 57, 300)       90300     \n",
      "_________________________________________________________________\n",
      "batch_normalization_154 (Bat (None, 34, 57, 300)       900       \n",
      "_________________________________________________________________\n",
      "activation_148 (Activation)  (None, 34, 57, 300)       0         \n",
      "_________________________________________________________________\n",
      "depthwise_conv2d_77 (Depthwi (None, 30, 53, 300)       3000      \n",
      "_________________________________________________________________\n",
      "batch_normalization_155 (Bat (None, 30, 53, 300)       900       \n",
      "_________________________________________________________________\n",
      "activation_149 (Activation)  (None, 30, 53, 300)       0         \n",
      "_________________________________________________________________\n",
      "conv2d_93 (Conv2D)           (None, 30, 53, 300)       90300     \n",
      "_________________________________________________________________\n",
      "batch_normalization_156 (Bat (None, 30, 53, 300)       900       \n",
      "_________________________________________________________________\n",
      "activation_150 (Activation)  (None, 30, 53, 300)       0         \n",
      "_________________________________________________________________\n",
      "depthwise_conv2d_78 (Depthwi (None, 21, 51, 300)       9300      \n",
      "_________________________________________________________________\n",
      "batch_normalization_157 (Bat (None, 21, 51, 300)       900       \n",
      "_________________________________________________________________\n",
      "activation_151 (Activation)  (None, 21, 51, 300)       0         \n",
      "_________________________________________________________________\n",
      "conv2d_94 (Conv2D)           (None, 21, 51, 300)       90300     \n",
      "_________________________________________________________________\n",
      "batch_normalization_158 (Bat (None, 21, 51, 300)       900       \n",
      "_________________________________________________________________\n",
      "activation_152 (Activation)  (None, 21, 51, 300)       0         \n",
      "_________________________________________________________________\n",
      "depthwise_conv2d_79 (Depthwi (None, 13, 47, 300)       4800      \n",
      "_________________________________________________________________\n",
      "batch_normalization_159 (Bat (None, 13, 47, 300)       900       \n",
      "_________________________________________________________________\n",
      "activation_153 (Activation)  (None, 13, 47, 300)       0         \n",
      "_________________________________________________________________\n",
      "conv2d_95 (Conv2D)           (None, 13, 47, 300)       90300     \n",
      "_________________________________________________________________\n",
      "batch_normalization_160 (Bat (None, 13, 47, 300)       900       \n",
      "_________________________________________________________________\n",
      "activation_154 (Activation)  (None, 13, 47, 300)       0         \n",
      "_________________________________________________________________\n",
      "depthwise_conv2d_80 (Depthwi (None, 4, 45, 300)        9300      \n",
      "_________________________________________________________________\n",
      "batch_normalization_161 (Bat (None, 4, 45, 300)        900       \n",
      "_________________________________________________________________\n",
      "activation_155 (Activation)  (None, 4, 45, 300)        0         \n",
      "_________________________________________________________________\n",
      "conv2d_96 (Conv2D)           (None, 4, 45, 300)        90300     \n",
      "_________________________________________________________________\n",
      "batch_normalization_162 (Bat (None, 4, 45, 300)        900       \n",
      "_________________________________________________________________\n",
      "activation_156 (Activation)  (None, 4, 45, 300)        0         \n",
      "_________________________________________________________________\n",
      "average_pooling2d_7 (Average (None, 1, 1, 300)         0         \n",
      "_________________________________________________________________\n",
      "flatten_8 (Flatten)          (None, 300)               0         \n",
      "_________________________________________________________________\n",
      "dropout_8 (Dropout)          (None, 300)               0         \n",
      "_________________________________________________________________\n",
      "dense_10 (Dense)             (None, 11)                3311      \n",
      "=================================================================\n",
      "Total params: 497,111\n",
      "Trainable params: 490,511\n",
      "Non-trainable params: 6,600\n",
      "_________________________________________________________________\n"
     ]
    }
   ],
   "source": [
    "model.summary()"
   ]
  },
  {
   "cell_type": "code",
   "execution_count": 60,
   "metadata": {},
   "outputs": [
    {
     "name": "stdout",
     "output_type": "stream",
     "text": [
      "Epoch 1/3\n",
      "3641/3641 [==============================] - 7739s 2s/step - loss: 0.1336 - accuracy: 0.7378 - val_loss: 0.0517 - val_accuracy: 0.9030\n",
      "Epoch 2/3\n",
      "3641/3641 [==============================] - 7710s 2s/step - loss: 0.0506 - accuracy: 0.9078 - val_loss: 0.0441 - val_accuracy: 0.9209\n",
      "Epoch 3/3\n",
      "3641/3641 [==============================] - 7760s 2s/step - loss: 0.0399 - accuracy: 0.9269 - val_loss: 0.0368 - val_accuracy: 0.9300\n"
     ]
    }
   ],
   "source": [
    "# Обучалось на mfcc (40, 61) лежит в Data_spotter_mfcc\n",
    "\n",
    "opt = optimizers.Adam(0.001)\n",
    "model.compile(optimizer = opt, loss = 'binary_crossentropy', metrics = [\"accuracy\"])\n",
    "\n",
    "model_history = model.fit(x = X_train, y = Y_train, epochs = 3, batch_size = 16, validation_data=(X_test, Y_test))"
   ]
  },
  {
   "cell_type": "code",
   "execution_count": 61,
   "metadata": {},
   "outputs": [
    {
     "name": "stdout",
     "output_type": "stream",
     "text": [
      "INFO:tensorflow:Assets written to: C:\\Users\\Mi Notebook\\Desktop\\Audio_project\\audio_project\\Spotter_recognition\\saved_models\\DS_CNN\\assets\n",
      "Save model and weights at C:\\Users\\Mi Notebook\\Desktop\\Audio_project\\audio_project\\Spotter_recognition\\saved_models\\DS_CNN \n"
     ]
    }
   ],
   "source": [
    "save_model(model, \"DS_CNN\")"
   ]
  },
  {
   "cell_type": "code",
   "execution_count": 62,
   "metadata": {},
   "outputs": [
    {
     "name": "stdout",
     "output_type": "stream",
     "text": [
      "3641/3641 [==============================] - 7799s 2s/step - loss: 0.0333 - accuracy: 0.9399 - val_loss: 0.0334 - val_accuracy: 0.9388\n"
     ]
    }
   ],
   "source": [
    "model_history_1 = model.fit(x = X_train, y = Y_train, epochs=1, batch_size=16, validation_data=(X_test, Y_test))"
   ]
  },
  {
   "cell_type": "code",
   "execution_count": 63,
   "metadata": {},
   "outputs": [
    {
     "name": "stdout",
     "output_type": "stream",
     "text": [
      "INFO:tensorflow:Assets written to: C:\\Users\\Mi Notebook\\Desktop\\Audio_project\\audio_project\\Spotter_recognition\\saved_models\\DS_CNN\\assets\n",
      "Save model and weights at C:\\Users\\Mi Notebook\\Desktop\\Audio_project\\audio_project\\Spotter_recognition\\saved_models\\DS_CNN \n"
     ]
    }
   ],
   "source": [
    "save_model(model, \"DS_CNN\")"
   ]
  },
  {
   "cell_type": "code",
   "execution_count": 65,
   "metadata": {},
   "outputs": [],
   "source": [
    "model_history.history['accuracy'] += model_history_1.history['accuracy']\n",
    "model_history.history['val_accuracy'] += model_history_1.history['val_accuracy']"
   ]
  },
  {
   "cell_type": "code",
   "execution_count": 67,
   "metadata": {},
   "outputs": [],
   "source": [
    "save_model_history(model_history.history, \"DS_CNN\")"
   ]
  },
  {
   "cell_type": "code",
   "execution_count": 69,
   "metadata": {},
   "outputs": [
    {
     "data": {
      "image/png": "[encoded data removed]",
      "text/plain": [
       "<Figure size 576x576 with 1 Axes>"
      ]
     },
     "metadata": {
      "needs_background": "light"
     },
     "output_type": "display_data"
    }
   ],
   "source": [
    "plt.figure(figsize=(8,8))\n",
    "plt.plot(model_history.history['accuracy'], \n",
    "         color=\"red\")\n",
    "plt.plot(model_history.history['val_accuracy'], \n",
    "         color=\"black\", \n",
    "         linestyle=\"dashed\")\n",
    "plt.title('DS_CNN accuracy')\n",
    "plt.ylabel('accuracy')\n",
    "plt.xlabel('epoch')\n",
    "plt.savefig(\"DS_CNN\")\n",
    "plt.show()"
   ]
  },
  {
   "cell_type": "code",
   "execution_count": null,
   "metadata": {},
   "outputs": [],
   "source": [
    "print(report(model, X_test, Y_test, lb.classes_))"
   ]
  },
  {
   "cell_type": "code",
   "execution_count": null,
   "metadata": {},
   "outputs": [],
   "source": []
  }
 ],
 "metadata": {
  "kernelspec": {
   "display_name": "Python 3",
   "language": "python",
   "name": "python3"
  },
  "language_info": {
   "codemirror_mode": {
    "name": "ipython",
    "version": 3
   },
   "file_extension": ".py",
   "mimetype": "text/x-python",
   "name": "python",
   "nbconvert_exporter": "python",
   "pygments_lexer": "ipython3",
   "version": "3.7.3"
  }
 },
 "nbformat": 4,
 "nbformat_minor": 4
}
