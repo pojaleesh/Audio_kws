{
 "cells": [
  {
   "cell_type": "code",
   "execution_count": null,
   "metadata": {
    "id": "Si-3Va08aRya"
   },
   "outputs": [],
   "source": [
    "# Keras\n",
    "import keras\n",
    "from keras import regularizers, optimizers\n",
    "from keras.preprocessing import sequence\n",
    "from keras.preprocessing.text import Tokenizer\n",
    "from keras.preprocessing.sequence import pad_sequences\n",
    "from keras.models import Sequential, Model, model_from_json\n",
    "from keras.layers import Dense, Embedding, LSTM\n",
    "from keras.layers import Input, Flatten, Dropout, Activation, BatchNormalization\n",
    "from keras.layers import Convolution2D, MaxPooling2D, AveragePooling2D, ZeroPadding2D, Dropout, MaxPool2D\n",
    "from keras import layers\n",
    "from keras.utils import np_utils, to_categorical\n",
    "from keras.callbacks import ModelCheckpoint\n",
    "\n",
    "# sklearn\n",
    "from sklearn.metrics import confusion_matrix, accuracy_score, classification_report\n",
    "from sklearn.model_selection import train_test_split\n",
    "from sklearn.preprocessing import LabelEncoder\n",
    "from keras.applications.imagenet_utils import preprocess_input\n",
    "\n",
    "# Other  \n",
    "import librosa\n",
    "import librosa.display\n",
    "import json\n",
    "import numpy as np\n",
    "import matplotlib.pyplot as plt\n",
    "import tensorflow as tf\n",
    "from matplotlib.pyplot import specgram\n",
    "import pandas as pd\n",
    "import seaborn as sns\n",
    "import glob \n",
    "import os\n",
    "import pickle\n",
    "import IPython.display as ipd "
   ]
  },
  {
   "cell_type": "code",
   "execution_count": null,
   "metadata": {
    "id": "oSGy6o1FaRyh"
   },
   "outputs": [],
   "source": [
    "df = pd.read_csv('data.csv')\n",
    "df = df.drop(columns=['Unnamed: 0'], axis=1)"
   ]
  },
  {
   "cell_type": "code",
   "execution_count": null,
   "metadata": {
    "id": "uDusl5ivaRyi"
   },
   "outputs": [],
   "source": [
    "temp = []\n",
    "\n",
    "counter=0\n",
    "for index,path in enumerate(df.path):\n",
    "    X, sample_rate = librosa.load(path, res_type='kaiser_fast', duration=2.5, sr=44100, offset=0.5)\n",
    "    sample_rate = np.array(sample_rate)\n",
    "    \n",
    "    mfccs = librosa.feature.mfcc(y=X, sr=sample_rate, n_mfcc=30)\n",
    "    if mfccs.shape[1] < 216:\n",
    "        b = np.zeros((30, 216 - mfccs.shape[1]))\n",
    "        mfccs = np.concatenate((mfccs, b), axis=1)\n",
    "    mfccs = np.expand_dims(mfccs, axis=0)\n",
    "    temp.append(mfccs)   \n"
   ]
  },
  {
   "cell_type": "code",
   "execution_count": null,
   "metadata": {
    "id": "FUizp8bMaRyj"
   },
   "outputs": [],
   "source": [
    "X = np.concatenate(temp, axis=0)"
   ]
  },
  {
   "cell_type": "code",
   "execution_count": null,
   "metadata": {
    "id": "HKrpW9-SaRyl"
   },
   "outputs": [],
   "source": [
    "filename = 'MfccData30'\n",
    "outfile = open(filename,'wb')\n",
    "pickle.dump(X,outfile)\n",
    "outfile.close()"
   ]
  },
  {
   "cell_type": "code",
   "execution_count": null,
   "metadata": {
    "id": "QeQDy5XKaRym"
   },
   "outputs": [],
   "source": [
    "filename = '/content/drive/MyDrive/Colab Notebooks/MfccData30'\n",
    "outfile = open(filename,'rb')\n",
    "X = pickle.load(outfile)\n",
    "outfile.close()"
   ]
  },
  {
   "cell_type": "code",
   "execution_count": null,
   "metadata": {
    "colab": {
     "base_uri": "https://localhost:8080/"
    },
    "id": "ygWwmsIAaRym",
    "outputId": "868b7053-3eb0-4479-8ea2-c27e4309c6e6"
   },
   "outputs": [
    {
     "data": {
      "text/plain": [
       "(12162, 30, 216)"
      ]
     },
     "execution_count": 5,
     "metadata": {
      "tags": []
     },
     "output_type": "execute_result"
    }
   ],
   "source": [
    "X.shape"
   ]
  },
  {
   "cell_type": "code",
   "execution_count": null,
   "metadata": {
    "id": "POrMkJzxaRyn"
   },
   "outputs": [],
   "source": [
    "def make_model_1(input_shape):\n",
    "    \n",
    "    nclass = 14\n",
    "    \n",
    "    inp = Input(input_shape)\n",
    "    \n",
    "    x = Convolution2D(32, (4,10), padding=\"same\")(inp)\n",
    "    x = BatchNormalization()(x)\n",
    "    x = Activation(\"relu\")(x)\n",
    "    x = MaxPool2D()(x)\n",
    "    x = Dropout(rate=0.2)(x)\n",
    "    \n",
    "    x = Convolution2D(32, (4,10), padding=\"same\")(x)\n",
    "    x = BatchNormalization()(x)\n",
    "    x = Activation(\"relu\")(x)\n",
    "    x = MaxPool2D()(x)\n",
    "    x = Dropout(rate=0.2)(x)\n",
    "    \n",
    "    x = Convolution2D(32, (4,10), padding=\"same\")(x)\n",
    "    x = BatchNormalization()(x)\n",
    "    x = Activation(\"relu\")(x)\n",
    "    x = MaxPool2D()(x)\n",
    "    x = Dropout(rate=0.2)(x)\n",
    "    \n",
    "    x = Convolution2D(32, (4,10), padding=\"same\")(x)\n",
    "    x = BatchNormalization()(x)\n",
    "    x = Activation(\"relu\")(x)\n",
    "    x = MaxPool2D()(x)\n",
    "    x = Dropout(rate=0.2)(x)\n",
    "    \n",
    "    x = Flatten()(x)\n",
    "    x = Dense(64)(x)\n",
    "    x = Dropout(rate=0.2)(x)\n",
    "    x = BatchNormalization()(x)\n",
    "    x = Activation(\"relu\")(x)\n",
    "    x = Dropout(rate=0.2)(x)\n",
    "    \n",
    "    out = Dense(nclass, activation='softmax')(x)\n",
    "\n",
    "    \n",
    "    ret_model = Model(inputs = inp, outputs=out)\n",
    "    \n",
    "    return ret_model"
   ]
  },
  {
   "cell_type": "code",
   "execution_count": null,
   "metadata": {
    "id": "UNzlPxFmaRyo"
   },
   "outputs": [],
   "source": [
    "def make_model_2(input_shape):\n",
    "    \n",
    "    nclass = 14\n",
    "    \n",
    "    inp = Input(input_shape)\n",
    "    \n",
    "    x = Convolution2D(32, (4,10), padding=\"same\")(inp)\n",
    "    x = BatchNormalization()(x)\n",
    "    x = Activation(\"relu\")(x)\n",
    "    x = MaxPooling2D()(x)\n",
    "    \n",
    "    x = Convolution2D(32, (4,10), padding=\"same\")(x)\n",
    "    x = BatchNormalization()(x)\n",
    "    x = Activation(\"relu\")(x)\n",
    "    x = MaxPooling2D()(x)\n",
    "    \n",
    "    x = Convolution2D(32, (4,10), padding=\"same\")(x)\n",
    "    x = BatchNormalization()(x)\n",
    "    x = Activation(\"relu\")(x)\n",
    "    x = MaxPooling2D()(x)\n",
    "    \n",
    "    x = Convolution2D(32, (4,10), padding=\"same\")(x)\n",
    "    x = BatchNormalization()(x)\n",
    "    x = Activation(\"relu\")(x)\n",
    "    x = MaxPooling2D()(x)\n",
    "    \n",
    "    x = Flatten()(x)\n",
    "    x = Dense(64)(x)\n",
    "    x = Dropout(rate=0.2)(x)\n",
    "    x = BatchNormalization()(x)\n",
    "    x = Activation(\"relu\")(x)\n",
    "    x = Dropout(rate=0.2)(x)\n",
    "    \n",
    "    out = Dense(nclass, activation='softmax')(x)\n",
    "\n",
    "    \n",
    "    ret_model = Model(inputs = inp, outputs=out)\n",
    "    \n",
    "    return ret_model"
   ]
  },
  {
   "cell_type": "code",
   "execution_count": null,
   "metadata": {
    "id": "7586j7ePaRyp"
   },
   "outputs": [],
   "source": [
    "def make_model_3(input_shape):\n",
    "    \n",
    "    nclass = 14\n",
    "    \n",
    "    inp = Input(input_shape)\n",
    "    \n",
    "    x = Convolution2D(32, (4,10), padding=\"same\")(inp)\n",
    "    x = BatchNormalization()(x)\n",
    "    x = Activation(\"relu\")(x)\n",
    "    x = MaxPooling2D()(x)\n",
    "    x = Dropout(rate=0.2)(x)\n",
    "    \n",
    "    x = Convolution2D(32, (4,10), padding=\"same\")(x)\n",
    "    x = BatchNormalization()(x)\n",
    "    x = Activation(\"relu\")(x)\n",
    "    x = MaxPooling2D()(x)\n",
    "    x = Dropout(rate=0.2)(x)\n",
    "    \n",
    "    x = Convolution2D(32, (4,10), padding=\"same\")(x)\n",
    "    x = BatchNormalization()(x)\n",
    "    x = Activation(\"relu\")(x)\n",
    "    x = MaxPooling2D()(x)\n",
    "    x = Dropout(rate=0.2)(x)\n",
    "    \n",
    "    x = Flatten()(x)\n",
    "    x = Dense(64)(x)\n",
    "    x = Dropout(rate=0.2)(x)\n",
    "    x = BatchNormalization()(x)\n",
    "    x = Activation(\"relu\")(x)\n",
    "    x = Dropout(rate=0.2)(x)\n",
    "    \n",
    "    out = Dense(nclass, activation='softmax')(x)\n",
    "\n",
    "    \n",
    "    ret_model = Model(inputs = inp, outputs=out)\n",
    "    \n",
    "    return ret_model"
   ]
  },
  {
   "cell_type": "code",
   "execution_count": null,
   "metadata": {
    "id": "6OziBOSnaRyq"
   },
   "outputs": [],
   "source": [
    "def make_model_4(input_shape):\n",
    "    \n",
    "    nclass = 14\n",
    "    \n",
    "    inp = Input(input_shape)\n",
    "    \n",
    "    x = Convolution2D(32, (4,10), padding=\"same\")(inp)\n",
    "    x = BatchNormalization()(x)\n",
    "    x = Activation(\"relu\")(x)\n",
    "    x = MaxPooling2D()(x)\n",
    "    \n",
    "    x = Convolution2D(32, (4,10), padding=\"same\")(x)\n",
    "    x = BatchNormalization()(x)\n",
    "    x = Activation(\"relu\")(x)\n",
    "    x = MaxPooling2D()(x)\n",
    "    \n",
    "    x = Convolution2D(32, (4,10), padding=\"same\")(x)\n",
    "    x = BatchNormalization()(x)\n",
    "    x = Activation(\"relu\")(x)\n",
    "    x = MaxPooling2D()(x)\n",
    "    \n",
    "    x = Flatten()(x)\n",
    "    x = Dense(64)(x)\n",
    "    x = Dropout(rate=0.2)(x)\n",
    "    x = BatchNormalization()(x)\n",
    "    x = Activation(\"relu\")(x)\n",
    "    x = Dropout(rate=0.2)(x)\n",
    "    \n",
    "    out = Dense(nclass, activation='softmax')(x)\n",
    "\n",
    "    \n",
    "    ret_model = Model(inputs = inp, outputs=out)\n",
    "    \n",
    "    return ret_model"
   ]
  },
  {
   "cell_type": "code",
   "execution_count": null,
   "metadata": {
    "id": "hDbWYEVRaRyr"
   },
   "outputs": [],
   "source": [
    "def make_model_5(input_shape):\n",
    "    \n",
    "    nclass = 14\n",
    "    \n",
    "    inp = Input(input_shape)\n",
    "    \n",
    "    x = Convolution2D(32, (4,10), padding=\"same\")(inp)\n",
    "    x = BatchNormalization()(x)\n",
    "    x = Activation(\"relu\")(x)\n",
    "    x = MaxPooling2D()(x)\n",
    "    x = Dropout(rate=0.2)(x)\n",
    "    \n",
    "    x = Convolution2D(32, (4,10), padding=\"same\")(x)\n",
    "    x = BatchNormalization()(x)\n",
    "    x = Activation(\"relu\")(x)\n",
    "    x = MaxPooling2D()(x)\n",
    "    x = Dropout(rate=0.2)(x)\n",
    "    \n",
    "    x = Flatten()(x)\n",
    "    x = Dense(64)(x)\n",
    "    x = Dropout(rate=0.2)(x)\n",
    "    x = BatchNormalization()(x)\n",
    "    x = Activation(\"relu\")(x)\n",
    "    x = Dropout(rate=0.2)(x)\n",
    "    \n",
    "    out = Dense(nclass, activation='softmax')(x)\n",
    "\n",
    "    \n",
    "    ret_model = Model(inputs = inp, outputs=out)\n",
    "    \n",
    "    return ret_model"
   ]
  },
  {
   "cell_type": "code",
   "execution_count": null,
   "metadata": {
    "id": "v-AgGYaraRys"
   },
   "outputs": [],
   "source": [
    "def make_model_6(input_shape):\n",
    "    \n",
    "    nclass = 14\n",
    "    \n",
    "    inp = Input(input_shape)\n",
    "    \n",
    "    x = Convolution2D(32, (4,10), padding=\"same\")(inp)\n",
    "    x = BatchNormalization()(x)\n",
    "    x = Activation(\"relu\")(x)\n",
    "    x = MaxPooling2D()(x)\n",
    "    \n",
    "    x = Convolution2D(32, (4,10), padding=\"same\")(x)\n",
    "    x = BatchNormalization()(x)\n",
    "    x = Activation(\"relu\")(x)\n",
    "    x = MaxPooling2D()(x)\n",
    "    \n",
    "    x = Flatten()(x)\n",
    "    x = Dense(64)(x)\n",
    "    x = Dropout(rate=0.2)(x)\n",
    "    x = BatchNormalization()(x)\n",
    "    x = Activation(\"relu\")(x)\n",
    "    x = Dropout(rate=0.2)(x)\n",
    "    \n",
    "    out = Dense(nclass, activation='softmax')(x)\n",
    "\n",
    "    \n",
    "    ret_model = Model(inputs = inp, outputs=out)\n",
    "    \n",
    "    return ret_model"
   ]
  },
  {
   "cell_type": "code",
   "execution_count": null,
   "metadata": {
    "id": "l02n1dyWaRyt"
   },
   "outputs": [],
   "source": [
    "def make_model_7(input_shape):\n",
    "    \n",
    "    nclass = 14\n",
    "    \n",
    "    inp = Input(input_shape)\n",
    "    \n",
    "    x = Convolution2D(32, (4,10), padding=\"same\")(inp)\n",
    "    x = BatchNormalization()(x)\n",
    "    x = Activation(\"relu\")(x)\n",
    "    x = MaxPooling2D()(x)\n",
    "    x = Dropout(rate=0.2)(x)\n",
    "    \n",
    "    x = Flatten()(x)\n",
    "    x = Dense(64)(x)\n",
    "    x = Dropout(rate=0.2)(x)\n",
    "    x = BatchNormalization()(x)\n",
    "    x = Activation(\"relu\")(x)\n",
    "    x = Dropout(rate=0.2)(x)\n",
    "    \n",
    "    out = Dense(nclass, activation='softmax')(x)\n",
    "\n",
    "    \n",
    "    ret_model = Model(inputs = inp, outputs=out)\n",
    "    \n",
    "    return ret_model"
   ]
  },
  {
   "cell_type": "code",
   "execution_count": null,
   "metadata": {
    "id": "rxd3arj3aRyt"
   },
   "outputs": [],
   "source": [
    "def make_model_8(input_shape):\n",
    "    \n",
    "    nclass = 14\n",
    "    \n",
    "    inp = Input(input_shape)\n",
    "    \n",
    "    x = Convolution2D(32, (4,10), padding=\"same\")(inp)\n",
    "    x = BatchNormalization()(x)\n",
    "    x = Activation(\"relu\")(x)\n",
    "    x = MaxPooling2D()(x)\n",
    "    \n",
    "    x = Flatten()(x)\n",
    "    x = Dense(64)(x)\n",
    "    x = Dropout(rate=0.2)(x)\n",
    "    x = BatchNormalization()(x)\n",
    "    x = Activation(\"relu\")(x)\n",
    "    x = Dropout(rate=0.2)(x)\n",
    "    \n",
    "    out = Dense(nclass, activation='softmax')(x)\n",
    "\n",
    "    \n",
    "    ret_model = Model(inputs = inp, outputs=out)\n",
    "    \n",
    "    return ret_model"
   ]
  },
  {
   "cell_type": "code",
   "execution_count": null,
   "metadata": {
    "id": "6yFE9bi-aRyv"
   },
   "outputs": [],
   "source": [
    "def make_model_9(input_shape):\n",
    "    \n",
    "    nclass = 14\n",
    "    \n",
    "    inp = Input(input_shape)\n",
    "    \n",
    "    x = Convolution2D(32, (4,10), padding=\"same\")(inp)\n",
    "    x = BatchNormalization()(x)\n",
    "    x = Activation(\"relu\")(x)\n",
    "    x = MaxPooling2D()(x)\n",
    "    x = Dropout(rate=0.2)(x)\n",
    "    \n",
    "    x = Convolution2D(32, (4,10), padding=\"same\")(x)\n",
    "    x = BatchNormalization()(x)\n",
    "    x = Activation(\"relu\")(x)\n",
    "    x = MaxPooling2D()(x)\n",
    "    x = Dropout(rate=0.2)(x)\n",
    "    \n",
    "    x = Convolution2D(32, (4,10), padding=\"same\")(x)\n",
    "    x = BatchNormalization()(x)\n",
    "    x = Activation(\"relu\")(x)\n",
    "    x = MaxPooling2D()(x)\n",
    "    x = Dropout(rate=0.2)(x)\n",
    "    \n",
    "    x = Convolution2D(32, (4,10), padding=\"same\")(x)\n",
    "    x = BatchNormalization()(x)\n",
    "    x = Activation(\"relu\")(x)\n",
    "    x = MaxPooling2D()(x)\n",
    "    x = Dropout(rate=0.2)(x)\n",
    "    \n",
    "    x = Flatten()(x)\n",
    "    x = Dense(64)(x)\n",
    "    x = Dropout(rate=0.2)(x)\n",
    "    x = BatchNormalization()(x)\n",
    "    x = Activation(\"relu\")(x)\n",
    "    x = Dropout(rate=0.5)(x)\n",
    "    \n",
    "    out = Dense(nclass, activation='softmax')(x)\n",
    "\n",
    "    \n",
    "    ret_model = Model(inputs = inp, outputs=out)\n",
    "    \n",
    "    return ret_model"
   ]
  },
  {
   "cell_type": "code",
   "execution_count": null,
   "metadata": {
    "id": "DjohQ88DaRyw"
   },
   "outputs": [],
   "source": [
    "def make_model_10(input_shape):\n",
    "    \n",
    "    nclass = 14\n",
    "    \n",
    "    inp = Input(input_shape)\n",
    "    \n",
    "    x = Convolution2D(32, (4,10), padding=\"same\")(inp)\n",
    "    x = BatchNormalization()(x)\n",
    "    x = Activation(\"relu\")(x)\n",
    "    x = MaxPooling2D()(x)\n",
    "    \n",
    "    x = Convolution2D(32, (4,10), padding=\"same\")(x)\n",
    "    x = BatchNormalization()(x)\n",
    "    x = Activation(\"relu\")(x)\n",
    "    x = MaxPooling2D()(x)\n",
    "    \n",
    "    x = Convolution2D(32, (4,10), padding=\"same\")(x)\n",
    "    x = BatchNormalization()(x)\n",
    "    x = Activation(\"relu\")(x)\n",
    "    x = MaxPooling2D()(x)\n",
    "    \n",
    "    x = Convolution2D(32, (4,10), padding=\"same\")(x)\n",
    "    x = BatchNormalization()(x)\n",
    "    x = Activation(\"relu\")(x)\n",
    "    x = MaxPooling2D()(x)\n",
    "    \n",
    "    x = Flatten()(x)\n",
    "    x = Dense(64)(x)\n",
    "    x = Dropout(rate=0.2)(x)\n",
    "    x = BatchNormalization()(x)\n",
    "    x = Activation(\"relu\")(x)\n",
    "    x = Dropout(rate=0.5)(x)\n",
    "    \n",
    "    out = Dense(nclass, activation='softmax')(x)\n",
    "    \n",
    "    ret_model = Model(inputs = inp, outputs=out)\n",
    "    \n",
    "    return ret_model"
   ]
  },
  {
   "cell_type": "code",
   "execution_count": null,
   "metadata": {
    "id": "QntCURcBaRyx"
   },
   "outputs": [],
   "source": [
    "def make_model_11(input_shape):\n",
    "    \n",
    "    nclass = 14\n",
    "    \n",
    "    inp = Input(input_shape)\n",
    "    \n",
    "    x = Convolution2D(32, (4,10), padding=\"same\")(inp)\n",
    "    x = BatchNormalization()(x)\n",
    "    x = Activation(\"relu\")(x)\n",
    "    x = MaxPooling2D()(x)\n",
    "    x = Dropout(rate=0.2)(x)\n",
    "    \n",
    "    x = Convolution2D(32, (4,10), padding=\"same\")(x)\n",
    "    x = BatchNormalization()(x)\n",
    "    x = Activation(\"relu\")(x)\n",
    "    x = MaxPooling2D()(x)\n",
    "    x = Dropout(rate=0.2)(x)\n",
    "    \n",
    "    x = Convolution2D(32, (4,10), padding=\"same\")(x)\n",
    "    x = BatchNormalization()(x)\n",
    "    x = Activation(\"relu\")(x)\n",
    "    x = MaxPooling2D()(x)\n",
    "    x = Dropout(rate=0.2)(x)\n",
    "    \n",
    "    x = Flatten()(x)\n",
    "    x = Dense(64)(x)\n",
    "    x = Dropout(rate=0.2)(x)\n",
    "    x = BatchNormalization()(x)\n",
    "    x = Activation(\"relu\")(x)\n",
    "    x = Dropout(rate=0.5)(x)\n",
    "    \n",
    "    out = Dense(nclass, activation='softmax')(x)\n",
    "\n",
    "    \n",
    "    ret_model = Model(inputs = inp, outputs=out)\n",
    "    \n",
    "    return ret_model"
   ]
  },
  {
   "cell_type": "code",
   "execution_count": null,
   "metadata": {
    "id": "OWg2OZm3aRyy"
   },
   "outputs": [],
   "source": [
    "def make_model_12(input_shape):\n",
    "    \n",
    "    nclass = 14\n",
    "    \n",
    "    inp = Input(input_shape)\n",
    "    \n",
    "    x = Convolution2D(32, (4,10), padding=\"same\")(inp)\n",
    "    x = BatchNormalization()(x)\n",
    "    x = Activation(\"relu\")(x)\n",
    "    x = MaxPooling2D()(x)\n",
    "    \n",
    "    x = Convolution2D(32, (4,10), padding=\"same\")(x)\n",
    "    x = BatchNormalization()(x)\n",
    "    x = Activation(\"relu\")(x)\n",
    "    x = MaxPooling2D()(x)\n",
    "    \n",
    "    x = Convolution2D(32, (4,10), padding=\"same\")(x)\n",
    "    x = BatchNormalization()(x)\n",
    "    x = Activation(\"relu\")(x)\n",
    "    x = MaxPooling2D()(x)\n",
    "    \n",
    "    x = Flatten()(x)\n",
    "    x = Dense(64)(x)\n",
    "    x = Dropout(rate=0.2)(x)\n",
    "    x = BatchNormalization()(x)\n",
    "    x = Activation(\"relu\")(x)\n",
    "    x = Dropout(rate=0.5)(x)\n",
    "    \n",
    "    out = Dense(nclass, activation='softmax')(x)\n",
    "\n",
    "    \n",
    "    ret_model = Model(inputs = inp, outputs=out)\n",
    "    \n",
    "    return ret_model"
   ]
  },
  {
   "cell_type": "code",
   "execution_count": null,
   "metadata": {
    "id": "3ibsNNJxaRyz"
   },
   "outputs": [],
   "source": [
    "def make_model_13(input_shape):\n",
    "    \n",
    "    nclass = 14\n",
    "    \n",
    "    inp = Input(input_shape)\n",
    "    \n",
    "    x = Convolution2D(32, (4,10), padding=\"same\")(inp)\n",
    "    x = BatchNormalization()(x)\n",
    "    x = Activation(\"relu\")(x)\n",
    "    x = MaxPooling2D()(x)\n",
    "    x = Dropout(rate=0.2)(x)\n",
    "    \n",
    "    x = Convolution2D(32, (4,10), padding=\"same\")(x)\n",
    "    x = BatchNormalization()(x)\n",
    "    x = Activation(\"relu\")(x)\n",
    "    x = MaxPooling2D()(x)\n",
    "    x = Dropout(rate=0.2)(x)\n",
    "    \n",
    "    x = Convolution2D(32, (4,10), padding=\"same\")(x)\n",
    "    x = BatchNormalization()(x)\n",
    "    x = Activation(\"relu\")(x)\n",
    "    x = MaxPooling2D()(x)\n",
    "    x = Dropout(rate=0.2)(x)\n",
    "    \n",
    "    x = Convolution2D(32, (4,10), padding=\"same\")(x)\n",
    "    x = BatchNormalization()(x)\n",
    "    x = Activation(\"relu\")(x)\n",
    "    x = MaxPooling2D()(x)\n",
    "    x = Dropout(rate=0.2)(x)\n",
    "    \n",
    "    x = Convolution2D(32, (4,10), padding=\"same\")(x)\n",
    "    x = BatchNormalization()(x)\n",
    "    x = Activation(\"relu\")(x)\n",
    "    x = Dropout(rate=0.2)(x)\n",
    "    \n",
    "    x = Flatten()(x)\n",
    "    x = Dense(64)(x)\n",
    "    x = Dropout(rate=0.2)(x)\n",
    "    x = BatchNormalization()(x)\n",
    "    x = Activation(\"relu\")(x)\n",
    "    x = Dropout(rate=0.5)(x)\n",
    "    \n",
    "    out = Dense(nclass, activation='softmax')(x)\n",
    "\n",
    "    \n",
    "    ret_model = Model(inputs = inp, outputs=out)\n",
    "    \n",
    "    return ret_model"
   ]
  },
  {
   "cell_type": "code",
   "execution_count": null,
   "metadata": {
    "id": "1AZsn-yeaRy0"
   },
   "outputs": [],
   "source": [
    "def make_model_14(input_shape):\n",
    "    \n",
    "    nclass = 14\n",
    "    \n",
    "    inp = Input(input_shape)\n",
    "    \n",
    "    x = Convolution2D(32, (4,10), padding=\"same\")(inp)\n",
    "    x = BatchNormalization()(x)\n",
    "    x = Activation(\"relu\")(x)\n",
    "    x = MaxPooling2D()(x)\n",
    "    x = Dropout(rate=0.2)(x)\n",
    "    \n",
    "    x = Convolution2D(32, (4,10), padding=\"same\")(x)\n",
    "    x = BatchNormalization()(x)\n",
    "    x = Activation(\"relu\")(x)\n",
    "    x = MaxPooling2D()(x)\n",
    "    x = Dropout(rate=0.2)(x)\n",
    "    \n",
    "    x = Convolution2D(32, (4,10), padding=\"same\")(x)\n",
    "    x = BatchNormalization()(x)\n",
    "    x = Activation(\"relu\")(x)\n",
    "    x = MaxPooling2D()(x)\n",
    "    x = Dropout(rate=0.2)(x)\n",
    "    \n",
    "    x = Convolution2D(32, (4,10), padding=\"same\")(x)\n",
    "    x = BatchNormalization()(x)\n",
    "    x = Activation(\"relu\")(x)\n",
    "    x = MaxPooling2D()(x)\n",
    "    x = Dropout(rate=0.2)(x)\n",
    "    \n",
    "    x = Convolution2D(32, (4,10), padding=\"same\")(x)\n",
    "    x = BatchNormalization()(x)\n",
    "    x = Activation(\"relu\")(x)\n",
    "    x = Dropout(rate=0.2)(x)\n",
    "    \n",
    "    x = Convolution2D(32, (4,10), padding=\"same\")(x)\n",
    "    x = BatchNormalization()(x)\n",
    "    x = Activation(\"relu\")(x)\n",
    "    x = Dropout(rate=0.2)(x)\n",
    "    \n",
    "    x = Flatten()(x)\n",
    "    x = Dense(64)(x)\n",
    "    x = Dropout(rate=0.2)(x)\n",
    "    x = BatchNormalization()(x)\n",
    "    x = Activation(\"relu\")(x)\n",
    "    x = Dropout(rate=0.5)(x)\n",
    "    \n",
    "    out = Dense(nclass, activation='softmax')(x)\n",
    "\n",
    "    \n",
    "    ret_model = Model(inputs = inp, outputs=out)\n",
    "    \n",
    "    return ret_model"
   ]
  },
  {
   "cell_type": "code",
   "execution_count": null,
   "metadata": {
    "id": "QkBD1ncAaRy1"
   },
   "outputs": [],
   "source": [
    "def make_model_15(input_shape):\n",
    "    \n",
    "    nclass = 14\n",
    "    \n",
    "    inp = Input(input_shape)\n",
    "    \n",
    "    x = Convolution2D(32, (4,10), padding=\"same\")(inp)\n",
    "    x = BatchNormalization()(x)\n",
    "    x = Activation(\"relu\")(x)\n",
    "    x = MaxPooling2D()(x)\n",
    "    x = Dropout(rate=0.2)(x)\n",
    "    \n",
    "    x = Convolution2D(32, (4,10), padding=\"same\")(x)\n",
    "    x = BatchNormalization()(x)\n",
    "    x = Activation(\"relu\")(x)\n",
    "    x = MaxPooling2D()(x)\n",
    "    x = Dropout(rate=0.2)(x)\n",
    "    \n",
    "    x = Convolution2D(32, (4,10), padding=\"same\")(x)\n",
    "    x = BatchNormalization()(x)\n",
    "    x = Activation(\"relu\")(x)\n",
    "    x = MaxPooling2D()(x)\n",
    "    x = Dropout(rate=0.2)(x)\n",
    "    \n",
    "    x = Convolution2D(32, (4,10), padding=\"same\")(x)\n",
    "    x = BatchNormalization()(x)\n",
    "    x = Activation(\"relu\")(x)\n",
    "    x = MaxPooling2D()(x)\n",
    "    x = Dropout(rate=0.2)(x)\n",
    "    \n",
    "    x = Convolution2D(32, (4,10), padding=\"same\")(x)\n",
    "    x = BatchNormalization()(x)\n",
    "    x = Activation(\"relu\")(x)\n",
    "    x = Dropout(rate=0.2)(x)\n",
    "    \n",
    "    x = Convolution2D(32, (4,10), padding=\"same\")(x)\n",
    "    x = BatchNormalization()(x)\n",
    "    x = Activation(\"relu\")(x)\n",
    "    x = Dropout(rate=0.2)(x)\n",
    "    \n",
    "    x = Convolution2D(32, (4,10), padding=\"same\")(x)\n",
    "    x = BatchNormalization()(x)\n",
    "    x = Activation(\"relu\")(x)\n",
    "    x = Dropout(rate=0.2)(x)\n",
    "    \n",
    "    x = Flatten()(x)\n",
    "    x = Dense(64)(x)\n",
    "    x = Dropout(rate=0.2)(x)\n",
    "    x = BatchNormalization()(x)\n",
    "    x = Activation(\"relu\")(x)\n",
    "    x = Dropout(rate=0.5)(x)\n",
    "    \n",
    "    out = Dense(nclass, activation='softmax')(x)\n",
    "\n",
    "    \n",
    "    ret_model = Model(inputs = inp, outputs=out)\n",
    "    \n",
    "    return ret_model"
   ]
  },
  {
   "cell_type": "code",
   "execution_count": null,
   "metadata": {
    "id": "FA2TY3_xaRy1"
   },
   "outputs": [],
   "source": [
    "def make_model_16(input_shape):\n",
    "    \n",
    "    nclass = 14\n",
    "    \n",
    "    inp = Input(input_shape)\n",
    "    \n",
    "    x = Convolution2D(32, (4,10), padding=\"same\")(inp)\n",
    "    x = BatchNormalization()(x)\n",
    "    x = Activation(\"relu\")(x)\n",
    "    x = Dropout(rate=0.2)(x)\n",
    "    \n",
    "    x = Convolution2D(32, (4,10), padding=\"same\")(x)\n",
    "    x = BatchNormalization()(x)\n",
    "    x = Activation(\"relu\")(x)\n",
    "    x = MaxPooling2D()(x)\n",
    "    x = Dropout(rate=0.2)(x)\n",
    "    \n",
    "    x = Convolution2D(32, (4,10), padding=\"same\")(x)\n",
    "    x = BatchNormalization()(x)\n",
    "    x = Activation(\"relu\")(x)\n",
    "    x = MaxPooling2D()(x)\n",
    "    x = Dropout(rate=0.2)(x)\n",
    "    \n",
    "    x = Convolution2D(32, (4,10), padding=\"same\")(x)\n",
    "    x = BatchNormalization()(x)\n",
    "    x = Activation(\"relu\")(x)\n",
    "    x = MaxPooling2D()(x)\n",
    "    x = Dropout(rate=0.2)(x)\n",
    "    \n",
    "    x = Convolution2D(32, (4,10), padding=\"same\")(x)\n",
    "    x = BatchNormalization()(x)\n",
    "    x = Activation(\"relu\")(x)\n",
    "    x = MaxPooling2D()(x)\n",
    "    x = Dropout(rate=0.2)(x)\n",
    "    \n",
    "    x = Flatten()(x)\n",
    "    x = Dense(64)(x)\n",
    "    x = Dropout(rate=0.2)(x)\n",
    "    x = BatchNormalization()(x)\n",
    "    x = Activation(\"relu\")(x)\n",
    "    x = Dropout(rate=0.5)(x)\n",
    "    \n",
    "    out = Dense(nclass, activation='softmax')(x)\n",
    "\n",
    "    \n",
    "    ret_model = Model(inputs = inp, outputs=out)\n",
    "    \n",
    "    return ret_model"
   ]
  },
  {
   "cell_type": "code",
   "execution_count": null,
   "metadata": {
    "id": "enDmfESgaRy2"
   },
   "outputs": [],
   "source": [
    "def make_model_17(input_shape):\n",
    "    \n",
    "    nclass = 14\n",
    "    \n",
    "    inp = Input(input_shape)\n",
    "    \n",
    "    x = Convolution2D(32, (4,10), padding=\"same\")(inp)\n",
    "    x = BatchNormalization()(x)\n",
    "    x = Activation(\"relu\")(x)\n",
    "    x = Dropout(rate=0.2)(x)\n",
    "    \n",
    "    x = Convolution2D(32, (4,10), padding=\"same\")(x)\n",
    "    x = BatchNormalization()(x)\n",
    "    x = Activation(\"relu\")(x)\n",
    "    x = Dropout(rate=0.2)(x)\n",
    "    \n",
    "    x = Convolution2D(32, (4,10), padding=\"same\")(x)\n",
    "    x = BatchNormalization()(x)\n",
    "    x = Activation(\"relu\")(x)\n",
    "    x = MaxPooling2D()(x)\n",
    "    x = Dropout(rate=0.2)(x)\n",
    "    \n",
    "    x = Convolution2D(32, (4,10), padding=\"same\")(x)\n",
    "    x = BatchNormalization()(x)\n",
    "    x = Activation(\"relu\")(x)\n",
    "    x = MaxPooling2D()(x)\n",
    "    x = Dropout(rate=0.2)(x)\n",
    "    \n",
    "    x = Convolution2D(32, (4,10), padding=\"same\")(x)\n",
    "    x = BatchNormalization()(x)\n",
    "    x = Activation(\"relu\")(x)\n",
    "    x = MaxPooling2D()(x)\n",
    "    x = Dropout(rate=0.2)(x)\n",
    "    \n",
    "    x = Convolution2D(32, (4,10), padding=\"same\")(x)\n",
    "    x = BatchNormalization()(x)\n",
    "    x = Activation(\"relu\")(x)\n",
    "    x = MaxPooling2D()(x)\n",
    "    x = Dropout(rate=0.2)(x)\n",
    "    \n",
    "    x = Flatten()(x)\n",
    "    x = Dense(64)(x)\n",
    "    x = Dropout(rate=0.2)(x)\n",
    "    x = BatchNormalization()(x)\n",
    "    x = Activation(\"relu\")(x)\n",
    "    x = Dropout(rate=0.5)(x)\n",
    "    \n",
    "    out = Dense(nclass, activation='softmax')(x)\n",
    "\n",
    "    \n",
    "    ret_model = Model(inputs = inp, outputs=out)\n",
    "    \n",
    "    return ret_model"
   ]
  },
  {
   "cell_type": "code",
   "execution_count": null,
   "metadata": {
    "id": "oXeD0e2KaRy2"
   },
   "outputs": [],
   "source": [
    "def make_model_18(input_shape):\n",
    "    \n",
    "    nclass = 14\n",
    "    \n",
    "    inp = Input(input_shape)\n",
    "    \n",
    "    x = Convolution2D(32, (4,10), padding=\"same\")(inp)\n",
    "    x = BatchNormalization()(x)\n",
    "    x = Activation(\"relu\")(x)\n",
    "    x = Dropout(rate=0.2)(x)\n",
    "    \n",
    "    x = Convolution2D(32, (4,10), padding=\"same\")(x)\n",
    "    x = BatchNormalization()(x)\n",
    "    x = Activation(\"relu\")(x)\n",
    "    x = Dropout(rate=0.2)(x)\n",
    "    \n",
    "    x = Convolution2D(32, (4,10), padding=\"same\")(x)\n",
    "    x = BatchNormalization()(x)\n",
    "    x = Activation(\"relu\")(x)\n",
    "    x = Dropout(rate=0.2)(x)\n",
    "    \n",
    "    x = Convolution2D(32, (4,10), padding=\"same\")(x)\n",
    "    x = BatchNormalization()(x)\n",
    "    x = Activation(\"relu\")(x)\n",
    "    x = MaxPooling2D()(x)\n",
    "    x = Dropout(rate=0.2)(x)\n",
    "    \n",
    "    x = Convolution2D(32, (4,10), padding=\"same\")(x)\n",
    "    x = BatchNormalization()(x)\n",
    "    x = Activation(\"relu\")(x)\n",
    "    x = MaxPooling2D()(x)\n",
    "    x = Dropout(rate=0.2)(x)\n",
    "    \n",
    "    x = Convolution2D(32, (4,10), padding=\"same\")(x)\n",
    "    x = BatchNormalization()(x)\n",
    "    x = Activation(\"relu\")(x)\n",
    "    x = MaxPooling2D()(x)\n",
    "    x = Dropout(rate=0.2)(x)\n",
    "    \n",
    "    x = Convolution2D(32, (4,10), padding=\"same\")(x)\n",
    "    x = BatchNormalization()(x)\n",
    "    x = Activation(\"relu\")(x)\n",
    "    x = MaxPooling2D()(x)\n",
    "    x = Dropout(rate=0.2)(x)\n",
    "    \n",
    "    x = Flatten()(x)\n",
    "    x = Dense(64)(x)\n",
    "    x = Dropout(rate=0.2)(x)\n",
    "    x = BatchNormalization()(x)\n",
    "    x = Activation(\"relu\")(x)\n",
    "    x = Dropout(rate=0.5)(x)\n",
    "    \n",
    "    out = Dense(nclass, activation='softmax')(x)\n",
    "\n",
    "    \n",
    "    ret_model = Model(inputs = inp, outputs=out)\n",
    "    \n",
    "    return ret_model"
   ]
  },
  {
   "cell_type": "code",
   "execution_count": null,
   "metadata": {
    "id": "hK1DrjnzaRy2"
   },
   "outputs": [],
   "source": [
    "def save_model(Model, model_name):\n",
    "    save_dir = os.path.join(os.getcwd(), 'saved_models')\n",
    "\n",
    "    if not os.path.isdir(save_dir):\n",
    "        os.makedirs(save_dir)\n",
    "    model_path = os.path.join(save_dir, model_name)\n",
    "    Model.save(model_path)\n",
    "    print('Save model and weights at %s ' % model_path)\n",
    "\n",
    "    model_json = Model.to_json()\n",
    "    with open(\"model_json.json\", \"w\") as json_file:\n",
    "        json_file.write(model_json)"
   ]
  },
  {
   "cell_type": "code",
   "execution_count": null,
   "metadata": {
    "id": "egLbqHVkaRy3"
   },
   "outputs": [],
   "source": [
    "X_train, X_test, Y_train, Y_test = train_test_split(X\n",
    "                                                    , df.labels\n",
    "                                                    , test_size=0.08\n",
    "                                                    , shuffle=True\n",
    "                                                    , random_state=42)"
   ]
  },
  {
   "cell_type": "code",
   "execution_count": null,
   "metadata": {
    "colab": {
     "base_uri": "https://localhost:8080/"
    },
    "id": "OuCMM6vVaRy3",
    "outputId": "9834ded8-f697-4ed0-e23b-a2353ece55a7"
   },
   "outputs": [
    {
     "name": "stdout",
     "output_type": "stream",
     "text": [
      "X_train size = (11189, 30, 216)\n",
      "Y_train size = (11189,)\n",
      "X_test size = (973, 30, 216)\n",
      "Y_test size = (973,)\n"
     ]
    }
   ],
   "source": [
    "print(f'X_train size = {X_train.shape}')\n",
    "print(f'Y_train size = {Y_train.shape}')\n",
    "print(f'X_test size = {X_test.shape}')\n",
    "print(f'Y_test size = {Y_test.shape}')"
   ]
  },
  {
   "cell_type": "code",
   "execution_count": null,
   "metadata": {
    "id": "mGCLeSvEaRy4"
   },
   "outputs": [],
   "source": [
    "mean = np.mean(X_train, axis=0)\n",
    "std = np.std(X_train, axis=0)\n",
    "\n",
    "X_train = (X_train - mean) / std\n",
    "X_test = (X_test - mean) / std"
   ]
  },
  {
   "cell_type": "code",
   "execution_count": null,
   "metadata": {
    "id": "NKJHLfrBaRy4"
   },
   "outputs": [],
   "source": [
    "X_train = np.array(X_train)\n",
    "Y_train = np.array(Y_train)\n",
    "X_test = np.array(X_test)\n",
    "Y_test = np.array(Y_test)"
   ]
  },
  {
   "cell_type": "code",
   "execution_count": null,
   "metadata": {
    "colab": {
     "base_uri": "https://localhost:8080/"
    },
    "id": "ePPCFpbOaRy5",
    "outputId": "97de0fa6-ad35-4da5-bdc0-b6a472c0c559"
   },
   "outputs": [
    {
     "name": "stdout",
     "output_type": "stream",
     "text": [
      "['female_angry' 'female_disgust' 'female_fear' 'female_happy'\n",
      " 'female_neutral' 'female_sad' 'female_surprise' 'male_angry'\n",
      " 'male_disgust' 'male_fear' 'male_happy' 'male_neutral' 'male_sad'\n",
      " 'male_surprise']\n"
     ]
    }
   ],
   "source": [
    "lb = LabelEncoder()\n",
    "Y_train = np_utils.to_categorical(lb.fit_transform(Y_train))\n",
    "Y_test = np_utils.to_categorical(lb.fit_transform(Y_test))\n",
    "print(lb.classes_)"
   ]
  },
  {
   "cell_type": "code",
   "execution_count": null,
   "metadata": {
    "colab": {
     "base_uri": "https://localhost:8080/"
    },
    "id": "CZXpcbMAaRy5",
    "outputId": "819fa9c2-8e44-4518-abb3-f26870427f15"
   },
   "outputs": [
    {
     "name": "stdout",
     "output_type": "stream",
     "text": [
      "Y_train size = (11189, 14)\n",
      "Y_test size = (973, 14)\n"
     ]
    }
   ],
   "source": [
    "print(f'Y_train size = {Y_train.shape}')\n",
    "print(f'Y_test size = {Y_test.shape}')"
   ]
  },
  {
   "cell_type": "code",
   "execution_count": null,
   "metadata": {
    "colab": {
     "base_uri": "https://localhost:8080/"
    },
    "id": "R6oxnSnQaRy6",
    "outputId": "bc68bfc6-4af0-408c-ed53-c3ff43f08a52"
   },
   "outputs": [
    {
     "name": "stdout",
     "output_type": "stream",
     "text": [
      "X_train size = (11189, 30, 216, 1)\n",
      "X_test size = (973, 30, 216, 1)\n"
     ]
    }
   ],
   "source": [
    "X_train = X_train.reshape((X_train.shape[0], X_train.shape[1], X_train.shape[2], 1))\n",
    "X_test = X_test.reshape((X_test.shape[0], X_test.shape[1], X_test.shape[2], 1))\n",
    "print(f'X_train size = {X_train.shape}')\n",
    "print(f'X_test size = {X_test.shape}')"
   ]
  },
  {
   "cell_type": "code",
   "execution_count": null,
   "metadata": {
    "colab": {
     "base_uri": "https://localhost:8080/"
    },
    "id": "lTaJN_cpaRy7",
    "outputId": "4a15ca46-9e13-4500-dd19-c06c51ee80c7"
   },
   "outputs": [
    {
     "name": "stdout",
     "output_type": "stream",
     "text": [
      "Epoch 1/20\n",
      "700/700 [==============================] - 305s 434ms/step - loss: 0.3602 - accuracy: 0.1734 - val_loss: 0.1825 - val_accuracy: 0.4296\n",
      "Epoch 2/20\n",
      "700/700 [==============================] - 300s 428ms/step - loss: 0.1813 - accuracy: 0.4323 - val_loss: 0.1454 - val_accuracy: 0.5252\n",
      "Epoch 3/20\n",
      "700/700 [==============================] - 301s 430ms/step - loss: 0.1582 - accuracy: 0.5076 - val_loss: 0.1438 - val_accuracy: 0.5560\n",
      "Epoch 4/20\n",
      "700/700 [==============================] - 298s 426ms/step - loss: 0.1471 - accuracy: 0.5410 - val_loss: 0.1342 - val_accuracy: 0.5714\n",
      "Epoch 5/20\n",
      "700/700 [==============================] - 302s 431ms/step - loss: 0.1402 - accuracy: 0.5621 - val_loss: 0.1281 - val_accuracy: 0.5910\n",
      "Epoch 6/20\n",
      "700/700 [==============================] - 298s 426ms/step - loss: 0.1374 - accuracy: 0.5706 - val_loss: 0.1228 - val_accuracy: 0.6043\n",
      "Epoch 7/20\n",
      "700/700 [==============================] - 299s 427ms/step - loss: 0.1284 - accuracy: 0.6081 - val_loss: 0.1210 - val_accuracy: 0.6002\n",
      "Epoch 8/20\n",
      "700/700 [==============================] - 297s 424ms/step - loss: 0.1240 - accuracy: 0.6188 - val_loss: 0.1196 - val_accuracy: 0.6249\n",
      "Epoch 9/20\n",
      "700/700 [==============================] - 299s 427ms/step - loss: 0.1222 - accuracy: 0.6301 - val_loss: 0.1257 - val_accuracy: 0.5889\n",
      "Epoch 10/20\n",
      "700/700 [==============================] - 296s 423ms/step - loss: 0.1170 - accuracy: 0.6460 - val_loss: 0.1181 - val_accuracy: 0.6125\n",
      "Epoch 11/20\n",
      "700/700 [==============================] - 297s 425ms/step - loss: 0.1151 - accuracy: 0.6542 - val_loss: 0.1169 - val_accuracy: 0.6187\n",
      "Epoch 12/20\n",
      "700/700 [==============================] - 299s 427ms/step - loss: 0.1138 - accuracy: 0.6570 - val_loss: 0.1118 - val_accuracy: 0.6403\n",
      "Epoch 13/20\n",
      "700/700 [==============================] - 296s 423ms/step - loss: 0.1109 - accuracy: 0.6623 - val_loss: 0.1188 - val_accuracy: 0.6166\n",
      "Epoch 14/20\n",
      "700/700 [==============================] - 299s 427ms/step - loss: 0.1091 - accuracy: 0.6755 - val_loss: 0.1111 - val_accuracy: 0.6526\n",
      "Epoch 15/20\n",
      "700/700 [==============================] - 296s 423ms/step - loss: 0.1078 - accuracy: 0.6762 - val_loss: 0.1161 - val_accuracy: 0.6228\n",
      "Epoch 16/20\n",
      "700/700 [==============================] - 299s 427ms/step - loss: 0.1052 - accuracy: 0.6878 - val_loss: 0.1100 - val_accuracy: 0.6608\n",
      "Epoch 17/20\n",
      "700/700 [==============================] - 296s 423ms/step - loss: 0.1026 - accuracy: 0.6984 - val_loss: 0.1051 - val_accuracy: 0.6598\n",
      "Epoch 18/20\n",
      "700/700 [==============================] - 298s 426ms/step - loss: 0.1045 - accuracy: 0.6904 - val_loss: 0.1049 - val_accuracy: 0.6793\n",
      "Epoch 19/20\n",
      "700/700 [==============================] - 296s 423ms/step - loss: 0.0982 - accuracy: 0.7105 - val_loss: 0.1052 - val_accuracy: 0.6763\n",
      "Epoch 20/20\n",
      "700/700 [==============================] - 300s 429ms/step - loss: 0.0985 - accuracy: 0.7092 - val_loss: 0.1117 - val_accuracy: 0.6650\n"
     ]
    }
   ],
   "source": [
    "# 4 layers with dropout, lr = 0.001\n",
    "\n",
    "Model_1 = make_model_1((30, 216, 1))\n",
    "opt = optimizers.Adam(0.001)\n",
    "Model_1.compile(optimizer = opt, loss = 'binary_crossentropy', metrics = [\"accuracy\"])\n",
    "\n",
    "model_history_1 = Model_1.fit(x = X_train, y = Y_train, epochs = 20, batch_size = 16, validation_data=(X_test, Y_test))"
   ]
  },
  {
   "cell_type": "code",
   "execution_count": null,
   "metadata": {
    "colab": {
     "base_uri": "https://localhost:8080/"
    },
    "id": "SQTkoAotaRy8",
    "outputId": "9ef5a443-3e1b-446b-c0e2-68358b5d3675"
   },
   "outputs": [
    {
     "name": "stdout",
     "output_type": "stream",
     "text": [
      "Epoch 1/20\n",
      "700/700 [==============================] - 299s 426ms/step - loss: 0.2518 - accuracy: 0.2269 - val_loss: 0.1647 - val_accuracy: 0.4522\n",
      "Epoch 2/20\n",
      "700/700 [==============================] - 301s 430ms/step - loss: 0.1675 - accuracy: 0.4566 - val_loss: 0.1448 - val_accuracy: 0.5252\n",
      "Epoch 3/20\n",
      "700/700 [==============================] - 297s 424ms/step - loss: 0.1512 - accuracy: 0.5172 - val_loss: 0.1350 - val_accuracy: 0.5529\n",
      "Epoch 4/20\n",
      "700/700 [==============================] - 301s 430ms/step - loss: 0.1466 - accuracy: 0.5284 - val_loss: 0.1501 - val_accuracy: 0.5375\n",
      "Epoch 5/20\n",
      "700/700 [==============================] - 298s 426ms/step - loss: 0.1401 - accuracy: 0.5533 - val_loss: 0.1435 - val_accuracy: 0.5211\n",
      "Epoch 6/20\n",
      "700/700 [==============================] - 301s 430ms/step - loss: 0.1357 - accuracy: 0.5695 - val_loss: 0.1260 - val_accuracy: 0.5786\n",
      "Epoch 7/20\n",
      "700/700 [==============================] - 299s 428ms/step - loss: 0.1314 - accuracy: 0.5868 - val_loss: 0.1239 - val_accuracy: 0.5776\n",
      "Epoch 8/20\n",
      "700/700 [==============================] - 301s 431ms/step - loss: 0.1266 - accuracy: 0.5968 - val_loss: 0.1219 - val_accuracy: 0.5930\n",
      "Epoch 9/20\n",
      "700/700 [==============================] - 297s 424ms/step - loss: 0.1254 - accuracy: 0.6033 - val_loss: 0.1181 - val_accuracy: 0.6238\n",
      "Epoch 10/20\n",
      "700/700 [==============================] - 301s 430ms/step - loss: 0.1243 - accuracy: 0.6102 - val_loss: 0.1174 - val_accuracy: 0.6064\n",
      "Epoch 11/20\n",
      "700/700 [==============================] - 298s 426ms/step - loss: 0.1233 - accuracy: 0.6067 - val_loss: 0.1150 - val_accuracy: 0.6197\n",
      "Epoch 12/20\n",
      "700/700 [==============================] - 301s 430ms/step - loss: 0.1187 - accuracy: 0.6334 - val_loss: 0.1133 - val_accuracy: 0.6321\n",
      "Epoch 13/20\n",
      "700/700 [==============================] - 299s 427ms/step - loss: 0.1168 - accuracy: 0.6465 - val_loss: 0.1135 - val_accuracy: 0.6259\n",
      "Epoch 14/20\n",
      "700/700 [==============================] - 301s 430ms/step - loss: 0.1185 - accuracy: 0.6336 - val_loss: 0.1151 - val_accuracy: 0.6444\n",
      "Epoch 15/20\n",
      "700/700 [==============================] - 300s 428ms/step - loss: 0.1127 - accuracy: 0.6555 - val_loss: 0.1125 - val_accuracy: 0.6249\n",
      "Epoch 16/20\n",
      "700/700 [==============================] - 303s 432ms/step - loss: 0.1129 - accuracy: 0.6574 - val_loss: 0.1182 - val_accuracy: 0.6125\n",
      "Epoch 17/20\n",
      "700/700 [==============================] - 299s 428ms/step - loss: 0.1101 - accuracy: 0.6644 - val_loss: 0.1134 - val_accuracy: 0.6423\n",
      "Epoch 18/20\n",
      "700/700 [==============================] - 303s 433ms/step - loss: 0.1087 - accuracy: 0.6692 - val_loss: 0.1123 - val_accuracy: 0.6372\n",
      "Epoch 19/20\n",
      "700/700 [==============================] - 300s 428ms/step - loss: 0.1074 - accuracy: 0.6762 - val_loss: 0.1079 - val_accuracy: 0.6526\n",
      "Epoch 20/20\n",
      "700/700 [==============================] - 303s 432ms/step - loss: 0.1073 - accuracy: 0.6781 - val_loss: 0.1091 - val_accuracy: 0.6475\n"
     ]
    }
   ],
   "source": [
    "# 4 layers with dropout, lr = 0.01\n",
    "\n",
    "_Model_1 = make_model_1((30, 216, 1))\n",
    "opt = optimizers.Adam(0.01)\n",
    "_Model_1.compile(optimizer = opt, loss = 'binary_crossentropy', metrics = [\"accuracy\"])\n",
    "\n",
    "_model_history_1 = _Model_1.fit(x = X_train, y = Y_train, epochs = 20, batch_size = 16, validation_data=(X_test, Y_test))"
   ]
  },
  {
   "cell_type": "code",
   "execution_count": null,
   "metadata": {
    "colab": {
     "base_uri": "https://localhost:8080/"
    },
    "id": "xU-4HMLQaRy8",
    "outputId": "ce7c01e9-f6c9-4555-d617-eb90431410b7"
   },
   "outputs": [
    {
     "name": "stdout",
     "output_type": "stream",
     "text": [
      "Epoch 1/20\n",
      "700/700 [==============================] - 292s 416ms/step - loss: 0.3448 - accuracy: 0.2257 - val_loss: 0.1709 - val_accuracy: 0.4430\n",
      "Epoch 2/20\n",
      "700/700 [==============================] - 295s 421ms/step - loss: 0.1639 - accuracy: 0.4857 - val_loss: 0.1496 - val_accuracy: 0.5324\n",
      "Epoch 3/20\n",
      "700/700 [==============================] - 290s 415ms/step - loss: 0.1464 - accuracy: 0.5409 - val_loss: 0.1310 - val_accuracy: 0.5848\n",
      "Epoch 4/20\n",
      "700/700 [==============================] - 294s 420ms/step - loss: 0.1299 - accuracy: 0.5982 - val_loss: 0.1334 - val_accuracy: 0.5540\n",
      "Epoch 5/20\n",
      "700/700 [==============================] - 289s 413ms/step - loss: 0.1246 - accuracy: 0.6125 - val_loss: 0.1364 - val_accuracy: 0.5385\n",
      "Epoch 6/20\n",
      "700/700 [==============================] - 294s 421ms/step - loss: 0.1175 - accuracy: 0.6418 - val_loss: 0.1306 - val_accuracy: 0.5797\n",
      "Epoch 7/20\n",
      "700/700 [==============================] - 291s 416ms/step - loss: 0.1134 - accuracy: 0.6603 - val_loss: 0.1311 - val_accuracy: 0.5694\n",
      "Epoch 8/20\n",
      "700/700 [==============================] - 293s 419ms/step - loss: 0.1043 - accuracy: 0.6885 - val_loss: 0.1374 - val_accuracy: 0.5858\n",
      "Epoch 9/20\n",
      "700/700 [==============================] - 293s 418ms/step - loss: 0.0986 - accuracy: 0.7205 - val_loss: 0.1485 - val_accuracy: 0.5560\n",
      "Epoch 10/20\n",
      "700/700 [==============================] - 293s 418ms/step - loss: 0.0939 - accuracy: 0.7334 - val_loss: 0.1381 - val_accuracy: 0.5601\n",
      "Epoch 11/20\n",
      "700/700 [==============================] - 291s 416ms/step - loss: 0.0857 - accuracy: 0.7613 - val_loss: 0.1263 - val_accuracy: 0.6023\n",
      "Epoch 12/20\n",
      "700/700 [==============================] - 292s 418ms/step - loss: 0.0791 - accuracy: 0.7795 - val_loss: 0.1303 - val_accuracy: 0.6023\n",
      "Epoch 13/20\n",
      "700/700 [==============================] - 292s 417ms/step - loss: 0.0763 - accuracy: 0.7981 - val_loss: 0.1197 - val_accuracy: 0.6362\n",
      "Epoch 14/20\n",
      "700/700 [==============================] - 290s 414ms/step - loss: 0.0702 - accuracy: 0.8142 - val_loss: 0.1297 - val_accuracy: 0.6166\n",
      "Epoch 15/20\n",
      "700/700 [==============================] - 293s 418ms/step - loss: 0.0637 - accuracy: 0.8396 - val_loss: 0.1439 - val_accuracy: 0.5940\n",
      "Epoch 16/20\n",
      "700/700 [==============================] - 291s 416ms/step - loss: 0.0582 - accuracy: 0.8564 - val_loss: 0.1345 - val_accuracy: 0.6208\n",
      "Epoch 17/20\n",
      "700/700 [==============================] - 294s 421ms/step - loss: 0.0534 - accuracy: 0.8755 - val_loss: 0.1477 - val_accuracy: 0.6259\n",
      "Epoch 18/20\n",
      "700/700 [==============================] - 290s 414ms/step - loss: 0.0515 - accuracy: 0.8778 - val_loss: 0.1578 - val_accuracy: 0.6187\n",
      "Epoch 19/20\n",
      "700/700 [==============================] - 293s 418ms/step - loss: 0.0449 - accuracy: 0.8982 - val_loss: 0.1644 - val_accuracy: 0.5817\n",
      "Epoch 20/20\n",
      "700/700 [==============================] - 290s 414ms/step - loss: 0.0420 - accuracy: 0.9060 - val_loss: 0.1474 - val_accuracy: 0.6187\n"
     ]
    }
   ],
   "source": [
    "# 4 layers without dropout, lr = 0.001\n",
    "\n",
    "Model2 = make_model_2((30, 216, 1))\n",
    "opt = optimizers.Adam(0.001)\n",
    "Model2.compile(optimizer = opt, loss = 'binary_crossentropy', metrics = [\"accuracy\"])\n",
    "\n",
    "model_history_2 = Model2.fit(x = X_train, y = Y_train, epochs = 20, batch_size = 16, validation_data=(X_test, Y_test))"
   ]
  },
  {
   "cell_type": "code",
   "execution_count": null,
   "metadata": {
    "id": "WIyWKU8-aRy8"
   },
   "outputs": [],
   "source": [
    "# 4 layers without dropout, lr = 0.01\n",
    "\n",
    "_Model2 = make_model_2((30, 216, 1))\n",
    "opt = optimizers.Adam(0.01)\n",
    "_Model2.compile(optimizer = opt, loss = 'binary_crossentropy', metrics = [\"accuracy\"])\n",
    "\n",
    "_model_history_2 = _Model2.fit(x = X_train, y = Y_train, epochs = 20, batch_size = 16, validation_data=(X_test, Y_test))"
   ]
  },
  {
   "cell_type": "code",
   "execution_count": null,
   "metadata": {
    "id": "pXjgjSUKaRy9"
   },
   "outputs": [],
   "source": [
    "# 3 layers with dropout, lr = 0.001\n",
    "\n",
    "Model3 = make_model_3((30, 216, 1))\n",
    "opt = optimizers.Adam(0.001)\n",
    "Model3.compile(optimizer = opt, loss = 'binary_crossentropy', metrics = [\"accuracy\"])\n",
    "\n",
    "model_history_3 = Model3.fit(x = X_train, y = Y_train, epochs = 20, batch_size = 16, validation_data=(X_test, Y_test))"
   ]
  },
  {
   "cell_type": "code",
   "execution_count": null,
   "metadata": {
    "id": "P8zqNBK2aRy9"
   },
   "outputs": [],
   "source": [
    "# 3 layers with dropout, lr = 0.01\n",
    "\n",
    "_Model3 = make_model_3((30, 216, 1))\n",
    "opt = optimizers.Adam(0.01)\n",
    "_Model3.compile(optimizer = opt, loss = 'binary_crossentropy', metrics = [\"accuracy\"])\n",
    "\n",
    "_model_history_3 = _Model3.fit(x = X_train, y = Y_train, epochs = 20, batch_size = 16, validation_data=(X_test, Y_test))"
   ]
  },
  {
   "cell_type": "code",
   "execution_count": null,
   "metadata": {
    "id": "LwyaCgZFaRy-"
   },
   "outputs": [],
   "source": [
    "# 3 layers without dropout, lr = 0.001\n",
    "\n",
    "Model4 = make_model_4((30, 216, 1))\n",
    "opt = optimizers.Adam(0.001)\n",
    "Model4.compile(optimizer = opt, loss = 'binary_crossentropy', metrics = [\"accuracy\"])\n",
    "\n",
    "model_history_4 = Model4.fit(x = X_train, y = Y_train, epochs = 20, batch_size = 16, validation_data=(X_test, Y_test))"
   ]
  },
  {
   "cell_type": "code",
   "execution_count": null,
   "metadata": {
    "id": "GoqzhGZPaRy-"
   },
   "outputs": [],
   "source": [
    "# 3 layers without dropout, lr = 0.01\n",
    "\n",
    "_Model4 = make_model_4((30, 216, 1))\n",
    "opt = optimizers.Adam(0.01)\n",
    "_Model4.compile(optimizer = opt, loss = 'binary_crossentropy', metrics = [\"accuracy\"])\n",
    "\n",
    "_model_history_4 = _Model4.fit(x = X_train, y = Y_train, epochs = 20, batch_size = 16, validation_data=(X_test, Y_test))"
   ]
  },
  {
   "cell_type": "code",
   "execution_count": null,
   "metadata": {
    "id": "rFGeLxRFaRy-"
   },
   "outputs": [],
   "source": [
    "# 2 layers with dropout, lr = 0.001\n",
    "\n",
    "Model5 = make_model_5((30, 216, 1))\n",
    "opt = optimizers.Adam(0.001)\n",
    "Model5.compile(optimizer = opt, loss = 'binary_crossentropy', metrics = [\"accuracy\"])\n",
    "\n",
    "model_history_5 = Model5.fit(x = X_train, y = Y_train, epochs = 20, batch_size = 16, validation_data=(X_test, Y_test), verbose = 1)"
   ]
  },
  {
   "cell_type": "code",
   "execution_count": null,
   "metadata": {
    "id": "sjc5YrfEaRy_"
   },
   "outputs": [],
   "source": [
    "# 2 layers with dropout, lr = 0.01\n",
    "\n",
    "_Model5 = make_model_5((30, 216, 1))\n",
    "opt = optimizers.Adam(0.01)\n",
    "_Model5.compile(optimizer = opt, loss = 'binary_crossentropy', metrics = [\"accuracy\"])\n",
    "\n",
    "_model_history_5 = _Model5.fit(x = X_train, y = Y_train, epochs = 20, batch_size = 16, validation_data=(X_test, Y_test))"
   ]
  },
  {
   "cell_type": "code",
   "execution_count": null,
   "metadata": {
    "id": "Xhyoa7hgaRy_"
   },
   "outputs": [],
   "source": [
    "# 2 layers without dropout, lr = 0.001\n",
    "\n",
    "Model6 = make_model_6((30, 216, 1))\n",
    "opt = optimizers.Adam(0.001)\n",
    "Model6.compile(optimizer = opt, loss = 'binary_crossentropy', metrics = [\"accuracy\"])\n",
    "\n",
    "model_history_6 = Model6.fit(x = X_train, y = Y_train, epochs = 20, batch_size = 16, validation_data=(X_test, Y_test))"
   ]
  },
  {
   "cell_type": "code",
   "execution_count": null,
   "metadata": {
    "id": "Rv9_l49haRy_"
   },
   "outputs": [],
   "source": [
    "# 2 layers without dropout, lr = 0.01\n",
    "\n",
    "_Model6 = make_model_6((30, 216, 1))\n",
    "opt = optimizers.Adam(0.01)\n",
    "_Model6.compile(optimizer = opt, loss = 'binary_crossentropy', metrics = [\"accuracy\"])\n",
    "\n",
    "_model_history_6 = _Model6.fit(x = X_train, y = Y_train, epochs = 20, batch_size = 16, validation_data=(X_test, Y_test))"
   ]
  },
  {
   "cell_type": "code",
   "execution_count": null,
   "metadata": {
    "id": "OLtLYM29aRzA"
   },
   "outputs": [],
   "source": [
    "# 1 layer with dropout, lr = 0.001\n",
    "\n",
    "Model7 = make_model_7((30, 216, 1))\n",
    "opt = optimizers.Adam(0.001)\n",
    "Model7.compile(optimizer = opt, loss = 'binary_crossentropy', metrics = [\"accuracy\"])\n",
    "\n",
    "model_history_7 = Model7.fit(x = X_train, y = Y_train, epochs = 20, batch_size = 16, validation_data=(X_test, Y_test))"
   ]
  },
  {
   "cell_type": "code",
   "execution_count": null,
   "metadata": {
    "id": "eM_4bF4OaRzA"
   },
   "outputs": [],
   "source": [
    "# 1 layer with dropout, lr = 0.01\n",
    "\n",
    "_Model7 = make_model_7((30, 216, 1))\n",
    "opt = optimizers.Adam(0.01)\n",
    "_Model7.compile(optimizer = opt, loss = 'binary_crossentropy', metrics = [\"accuracy\"])\n",
    "\n",
    "_model_history_7 = _Model7.fit(x = X_train, y = Y_train, epochs = 20, batch_size = 16, validation_data=(X_test, Y_test))"
   ]
  },
  {
   "cell_type": "code",
   "execution_count": null,
   "metadata": {
    "id": "ODE3xwsaaRzB"
   },
   "outputs": [],
   "source": [
    "# 1 layer without dropout, lr = 0.001\n",
    "\n",
    "Model8 = make_model_8((30, 216, 1))\n",
    "opt = optimizers.Adam(0.001)\n",
    "Model8.compile(optimizer = opt, loss = 'binary_crossentropy', metrics = [\"accuracy\"])\n",
    "\n",
    "model_history_8 = Model8.fit(x = X_train, y = Y_train, epochs = 20, batch_size = 16, validation_data=(X_test, Y_test))"
   ]
  },
  {
   "cell_type": "code",
   "execution_count": null,
   "metadata": {
    "id": "b2N77iTHaRzB"
   },
   "outputs": [],
   "source": [
    "# 1 layer without dropout, lr = 0.01\n",
    "\n",
    "_Model8 = make_model_8((30, 216, 1))\n",
    "opt = optimizers.Adam(0.01)\n",
    "_Model8.compile(optimizer = opt, loss = 'binary_crossentropy', metrics = [\"accuracy\"])\n",
    "\n",
    "_model_history_8 = _Model8.fit(x = X_train, y = Y_train, epochs = 20, batch_size = 16, validation_data=(X_test, Y_test))"
   ]
  },
  {
   "cell_type": "code",
   "execution_count": null,
   "metadata": {
    "id": "_CCbdwZ2aRzB"
   },
   "outputs": [],
   "source": [
    "# 4 layer with dropout, lr = 0.001, dropout 0.5 in the end\n",
    "\n",
    "Model9 = make_model_9((30, 216, 1))\n",
    "opt = optimizers.Adam(0.001)\n",
    "Model9.compile(optimizer = opt, loss = 'binary_crossentropy', metrics = [\"accuracy\"])\n",
    "\n",
    "model_history_9 = Model9.fit(x = X_train, y = Y_train, epochs = 20, batch_size = 16, validation_data=(X_test, Y_test))"
   ]
  },
  {
   "cell_type": "code",
   "execution_count": null,
   "metadata": {
    "id": "rNX5gDLoaRzC"
   },
   "outputs": [],
   "source": [
    "# 4 layer with dropout, lr = 0.01, dropout 0.5 in the end\n",
    "\n",
    "_Model9 = make_model_9((30, 216, 1))\n",
    "opt = optimizers.Adam(0.01)\n",
    "_Model9.compile(optimizer = opt, loss = 'binary_crossentropy', metrics = [\"accuracy\"])\n",
    "\n",
    "_model_history_9 = _Model9.fit(x = X_train, y = Y_train, epochs = 20, batch_size = 16, validation_data=(X_test, Y_test))"
   ]
  },
  {
   "cell_type": "code",
   "execution_count": null,
   "metadata": {
    "id": "b8qymfnTaRzC"
   },
   "outputs": [],
   "source": [
    "# 4 layer without dropout, lr = 0.001, dropout 0.5 in the end\n",
    "\n",
    "Model10 = make_model_10((30, 216, 1))\n",
    "opt = optimizers.Adam(0.001)\n",
    "Model10.compile(optimizer = opt, loss = 'binary_crossentropy', metrics = [\"accuracy\"])\n",
    "\n",
    "model_history_10 = Model10.fit(x = X_train, y = Y_train, epochs = 20, batch_size = 16, validation_data=(X_test, Y_test))"
   ]
  },
  {
   "cell_type": "code",
   "execution_count": null,
   "metadata": {
    "id": "rKhTRIGWaRzD"
   },
   "outputs": [],
   "source": [
    "# 4 layer without dropout, lr = 0.01, dropout 0.5 in the end\n",
    "\n",
    "_Model10 = make_model_10((30, 216, 1))\n",
    "opt = optimizers.Adam(0.01)\n",
    "_Model10.compile(optimizer = opt, loss = 'binary_crossentropy', metrics = [\"accuracy\"])\n",
    "\n",
    "_model_history_10 = _Model10.fit(x = X_train, y = Y_train, epochs = 20, batch_size = 16, validation_data=(X_test, Y_test))"
   ]
  },
  {
   "cell_type": "code",
   "execution_count": null,
   "metadata": {
    "id": "yJrQyvAEaRzD"
   },
   "outputs": [],
   "source": [
    "# 3 layer with dropout, lr = 0.001, dropout 0.5 in the end\n",
    "\n",
    "Model11 = make_model_11((30, 216, 1))\n",
    "opt = optimizers.Adam(0.001)\n",
    "Model11.compile(optimizer = opt, loss = 'binary_crossentropy', metrics = [\"accuracy\"])\n",
    "\n",
    "model_history_11 = Model11.fit(x = X_train, y = Y_train, epochs = 20, batch_size = 16, validation_data=(X_test, Y_test))"
   ]
  },
  {
   "cell_type": "code",
   "execution_count": null,
   "metadata": {
    "id": "T0vuxQUBaRzD"
   },
   "outputs": [],
   "source": [
    "# 3 layer with dropout, lr = 0.01, dropout 0.5 in the end\n",
    "\n",
    "_Model11 = make_model_11((30, 216, 1))\n",
    "opt = optimizers.Adam(0.01)\n",
    "_Model11.compile(optimizer = opt, loss = 'binary_crossentropy', metrics = [\"accuracy\"])\n",
    "\n",
    "_model_history_11 = _Model11.fit(x = X_train, y = Y_train, epochs = 20, batch_size = 16, validation_data=(X_test, Y_test))"
   ]
  },
  {
   "cell_type": "code",
   "execution_count": null,
   "metadata": {
    "id": "192yS0RDaRzE"
   },
   "outputs": [],
   "source": [
    "# 3 layer without dropout, lr = 0.001, dropout 0.5 in the end\n",
    "\n",
    "Model12 = make_model_12((30, 216, 1))\n",
    "opt = optimizers.Adam(0.001)\n",
    "Model12.compile(optimizer = opt, loss = 'binary_crossentropy', metrics = [\"accuracy\"])\n",
    "\n",
    "model_history_12 = Model12.fit(x = X_train, y = Y_train, epochs = 20, batch_size = 16, validation_data=(X_test, Y_test))"
   ]
  },
  {
   "cell_type": "code",
   "execution_count": null,
   "metadata": {
    "id": "MGsKcDvLaRzF"
   },
   "outputs": [],
   "source": [
    "# 3 layer without dropout, lr = 0.01, dropout 0.5 in the end\n",
    "\n",
    "_Model12 = make_model_12((30, 216, 1))\n",
    "opt = optimizers.Adam(0.01)\n",
    "_Model12.compile(optimizer = opt, loss = 'binary_crossentropy', metrics = [\"accuracy\"])\n",
    "\n",
    "_model_history_12 = _Model12.fit(x = X_train, y = Y_train, epochs = 20, batch_size = 16, validation_data=(X_test, Y_test))"
   ]
  },
  {
   "cell_type": "code",
   "execution_count": null,
   "metadata": {
    "id": "EFbYYvbTaRzF"
   },
   "outputs": [],
   "source": [
    "plt.figure(figsize=(20,30))\n",
    "plt.plot(model_history_9.history['accuracy'], color=\"red\")\n",
    "plt.plot(model_history_9_an.history['accuracy'], color=\"black\")\n",
    "plt.plot(model_history_10.history['accuracy'], color=\"blue\")\n",
    "plt.plot(model_history_10_an.history['accuracy'], color=\"green\")\n",
    "plt.plot(model_history_11.history['accuracy'], color=\"cyan\")\n",
    "plt.plot(model_history_11_an.history['accuracy'], color=\"magenta\")\n",
    "plt.plot(model_history_12.history['accuracy'], color=\"navy\")\n",
    "plt.plot(model_history_12_an.history['accuracy'], color=\"orange\")\n",
    "plt.plot(model_history_9.history['val_accuracy'], color=\"red\", linestyle=\"dashed\")\n",
    "plt.plot(model_history_9_an.history['val_accuracy'], color=\"black\", linestyle=\"dashed\")\n",
    "plt.plot(model_history_10.history['val_accuracy'], color=\"blue\", linestyle=\"dashed\")\n",
    "plt.plot(model_history_10_an.history['val_accuracy'], color=\"green\", linestyle=\"dashed\")\n",
    "plt.plot(model_history_11.history['val_accuracy'], color=\"cyan\", linestyle=\"dashed\")\n",
    "plt.plot(model_history_11_an.history['val_accuracy'], color=\"magenta\", linestyle=\"dashed\")\n",
    "plt.plot(model_history_12.history['val_accuracy'], color=\"navy\", linestyle=\"dashed\")\n",
    "plt.plot(model_history_12_an.history['val_accuracy'], color=\"orange\", linestyle=\"dashed\")\n",
    "plt.title('model accuracy train')\n",
    "plt.ylabel('accuracy')\n",
    "plt.xlabel('epoch')\n",
    "plt.legend(['4 layer with dropout, lr = 0.001', \n",
    "            '4 layer with dropout, lr = 0.01', \n",
    "            '4 layer without dropout, lr = 0.001', \n",
    "            '4 layer without dropout, lr = 0.01', \n",
    "            '3 layer with dropout, lr = 0.001', \n",
    "            '3 layer with dropout, lr = 0.01', \n",
    "            '3 layer without dropout, lr = 0.001', \n",
    "            '3 layer without dropout, lr = 0.01'], loc='upper left')\n",
    "plt.show()"
   ]
  },
  {
   "cell_type": "code",
   "execution_count": null,
   "metadata": {
    "id": "TDobkv-0aRzF"
   },
   "outputs": [],
   "source": [
    "# 5 layer with dropout, lr = 0.001, dropout 0.5 in the end\n",
    "\n",
    "Model13 = make_model_13((30, 216, 1))\n",
    "Model13\n",
    "opt = optimizers.Adam(0.001)\n",
    "Model13.compile(optimizer = opt, loss = 'binary_crossentropy', metrics = [\"accuracy\"])\n",
    "\n",
    "model_history_13 = Model13.fit(x = X_train, y = Y_train, epochs = 20, batch_size = 16, validation_data=(X_test, Y_test))"
   ]
  },
  {
   "cell_type": "code",
   "execution_count": null,
   "metadata": {
    "id": "HHGi0d8UaRzG"
   },
   "outputs": [],
   "source": [
    "# 6 layer with dropout, lr = 0.001, dropout 0.5 in the end\n",
    "\n",
    "Model14 = make_model_14((30, 216, 1))\n",
    "opt = optimizers.Adam(0.001)\n",
    "Model14.compile(optimizer = opt, loss = 'binary_crossentropy', metrics = [\"accuracy\"])\n",
    "\n",
    "model_history_14 = Model14.fit(x = X_train, y = Y_train, epochs = 20, batch_size = 16, validation_data=(X_test, Y_test))"
   ]
  },
  {
   "cell_type": "code",
   "execution_count": null,
   "metadata": {
    "id": "4JahaImSaRzG"
   },
   "outputs": [],
   "source": [
    "# 7 layer with dropout, lr = 0.001, dropout 0.5 in the end\n",
    "\n",
    "Model15 = make_model_15((30, 216, 1))\n",
    "opt = optimizers.Adam(0.001)\n",
    "Model15.compile(optimizer = opt, loss = 'binary_crossentropy', metrics = [\"accuracy\"])\n",
    "\n",
    "model_history_15 = Model15.fit(x = X_train, y = Y_train, epochs = 20, batch_size = 16, validation_data=(X_test, Y_test))"
   ]
  },
  {
   "cell_type": "code",
   "execution_count": null,
   "metadata": {
    "id": "qwzF4ueAaRzG"
   },
   "outputs": [],
   "source": [
    "plt.figure(figsize=(20,30))\n",
    "plt.plot(model_history_13.history['accuracy'], color=\"red\")\n",
    "plt.plot(model_history_14.history['accuracy'], color=\"black\")\n",
    "plt.plot(model_history_15.history['accuracy'], color=\"blue\")\n",
    "plt.plot(model_history_13.history['val_accuracy'], color=\"red\", linestyle=\"dashed\")\n",
    "plt.plot(model_history_14.history['val_accuracy'], color=\"black\", linestyle=\"dashed\")\n",
    "plt.plot(model_history_15.history['val_accuracy'], color=\"blue\", linestyle=\"dashed\")\n",
    "plt.title('model accuracy train')\n",
    "plt.ylabel('accuracy')\n",
    "plt.xlabel('epoch')\n",
    "plt.legend(['5 layer with dropout, lr = 0.001', \n",
    "            '6 layer with dropout, lr = 0.001', \n",
    "            '7 layer with dropout, lr = 0.001', ], loc='upper left')\n",
    "plt.show()"
   ]
  },
  {
   "cell_type": "code",
   "execution_count": null,
   "metadata": {
    "id": "xpKJgk4naRzH"
   },
   "outputs": [],
   "source": [
    "# 5 layer with dropout, lr = 0.001, dropout 0.5 in the end\n",
    "\n",
    "Model16 = make_model_16((30, 216, 1))\n",
    "opt = optimizers.Adam(0.001)\n",
    "Model16.compile(optimizer = opt, loss = 'binary_crossentropy', metrics = [\"accuracy\"])\n",
    "\n",
    "model_history_16 = Model16.fit(x = X_train, y = Y_train, epochs = 20, batch_size = 16, validation_data=(X_test, Y_test))"
   ]
  },
  {
   "cell_type": "code",
   "execution_count": null,
   "metadata": {
    "id": "7xZeABAiaRzH"
   },
   "outputs": [],
   "source": [
    "# 6 layer with dropout, lr = 0.001, dropout 0.5 in the end\n",
    "\n",
    "Model17 = make_model_17((30, 216, 1))\n",
    "opt = optimizers.Adam(0.001)\n",
    "Model17.compile(optimizer = opt, loss = 'binary_crossentropy', metrics = [\"accuracy\"])\n",
    "\n",
    "model_history_17 = Model17.fit(x = X_train, y = Y_train, epochs = 20, batch_size = 16, validation_data=(X_test, Y_test))"
   ]
  },
  {
   "cell_type": "code",
   "execution_count": null,
   "metadata": {
    "id": "6PUbooMEaRzH"
   },
   "outputs": [],
   "source": [
    "# 7 layer with dropout, lr = 0.001, dropout 0.5 in the end\n",
    "\n",
    "Model18 = make_model_18((30, 216, 1))\n",
    "opt = optimizers.Adam(0.001)\n",
    "Model18.compile(optimizer = opt, loss = 'binary_crossentropy', metrics = [\"accuracy\"])\n",
    "\n",
    "model_history_18 = Model18.fit(x = X_train, y = Y_train, epochs = 20, batch_size = 16, validation_data=(X_test, Y_test))"
   ]
  },
  {
   "cell_type": "code",
   "execution_count": null,
   "metadata": {
    "id": "f1nKYJauaRzH"
   },
   "outputs": [],
   "source": [
    "# 4 layer with dropout, lr = 0.001, dropout 0.2 in the end\n",
    "\n",
    "Model19 = make_model_1((30, 216, 1))\n",
    "opt = optimizers.Adam(0.001)\n",
    "Model19.compile(optimizer = opt, loss = 'binary_crossentropy', metrics = [\"accuracy\"])\n",
    "\n",
    "model_history_19 = Model19.fit(x = X_train, y = Y_train, epochs = 20, batch_size = 16, validation_data=(X_test, Y_test))"
   ]
  },
  {
   "cell_type": "code",
   "execution_count": null,
   "metadata": {
    "id": "B2TpzzTEaRzI"
   },
   "outputs": [],
   "source": [
    "plt.figure(figsize=(20,30))\n",
    "plt.plot(model_history_16.history['accuracy'], color=\"red\")\n",
    "plt.plot(model_history_17.history['accuracy'], color=\"black\")\n",
    "plt.plot(model_history_18.history['accuracy'], color=\"blue\")\n",
    "plt.plot(model_history_19.history['accuracy'], color=\"green\")\n",
    "plt.plot(model_history_16.history['val_accuracy'], color=\"red\", linestyle=\"dashed\")\n",
    "plt.plot(model_history_17.history['val_accuracy'], color=\"black\", linestyle=\"dashed\")\n",
    "plt.plot(model_history_18.history['val_accuracy'], color=\"blue\", linestyle=\"dashed\")\n",
    "plt.plot(model_history_19.history['val_accuracy'], color=\"green\", linestyle=\"dashed\")\n",
    "plt.title('model accuracy train')\n",
    "plt.ylabel('accuracy')\n",
    "plt.xlabel('epoch')\n",
    "plt.legend(['5 layer with dropout, lr = 0.001', \n",
    "            '6 layer with dropout, lr = 0.001', \n",
    "            '7 layer with dropout, lr = 0.001', \n",
    "            '4 layer with droupout, lr=0.001'], loc='upper left')\n",
    "plt.show()"
   ]
  },
  {
   "cell_type": "code",
   "execution_count": null,
   "metadata": {
    "colab": {
     "base_uri": "https://localhost:8080/"
    },
    "id": "qR5ACtzqaRzI",
    "outputId": "4e99368e-a977-417c-f721-a7bea1726531"
   },
   "outputs": [
    {
     "name": "stdout",
     "output_type": "stream",
     "text": [
      "Epoch 1/20\n",
      "700/700 [==============================] - 301s 428ms/step - loss: 0.3509 - accuracy: 0.1890 - val_loss: 0.1906 - val_accuracy: 0.4214\n",
      "Epoch 2/20\n",
      "700/700 [==============================] - 294s 420ms/step - loss: 0.1816 - accuracy: 0.4292 - val_loss: 0.1965 - val_accuracy: 0.3947\n",
      "Epoch 3/20\n",
      "700/700 [==============================] - 299s 427ms/step - loss: 0.1560 - accuracy: 0.5115 - val_loss: 0.1662 - val_accuracy: 0.4902\n",
      "Epoch 4/20\n",
      "700/700 [==============================] - 296s 423ms/step - loss: 0.1455 - accuracy: 0.5479 - val_loss: 0.1369 - val_accuracy: 0.5612\n",
      "Epoch 5/20\n",
      "700/700 [==============================] - 302s 431ms/step - loss: 0.1402 - accuracy: 0.5587 - val_loss: 0.1330 - val_accuracy: 0.5612\n",
      "Epoch 6/20\n",
      "700/700 [==============================] - 300s 428ms/step - loss: 0.1350 - accuracy: 0.5732 - val_loss: 0.1250 - val_accuracy: 0.5868\n",
      "Epoch 7/20\n",
      "700/700 [==============================] - 297s 424ms/step - loss: 0.1304 - accuracy: 0.5948 - val_loss: 0.1245 - val_accuracy: 0.6043\n",
      "Epoch 8/20\n",
      "700/700 [==============================] - 304s 434ms/step - loss: 0.1266 - accuracy: 0.6034 - val_loss: 0.1206 - val_accuracy: 0.6053\n",
      "Epoch 9/20\n",
      "700/700 [==============================] - 306s 437ms/step - loss: 0.1215 - accuracy: 0.6261 - val_loss: 0.1211 - val_accuracy: 0.6136\n",
      "Epoch 10/20\n",
      "700/700 [==============================] - 306s 437ms/step - loss: 0.1171 - accuracy: 0.6403 - val_loss: 0.1179 - val_accuracy: 0.6208\n",
      "Epoch 11/20\n",
      "700/700 [==============================] - 298s 426ms/step - loss: 0.1162 - accuracy: 0.6433 - val_loss: 0.1126 - val_accuracy: 0.6444\n",
      "Epoch 12/20\n",
      "700/700 [==============================] - 303s 433ms/step - loss: 0.1146 - accuracy: 0.6527 - val_loss: 0.1131 - val_accuracy: 0.6382\n",
      "Epoch 13/20\n",
      "700/700 [==============================] - 303s 432ms/step - loss: 0.1124 - accuracy: 0.6587 - val_loss: 0.1112 - val_accuracy: 0.6475\n",
      "Epoch 14/20\n",
      "700/700 [==============================] - 305s 435ms/step - loss: 0.1100 - accuracy: 0.6665 - val_loss: 0.1157 - val_accuracy: 0.6249\n",
      "Epoch 15/20\n",
      "700/700 [==============================] - 299s 427ms/step - loss: 0.1097 - accuracy: 0.6744 - val_loss: 0.1324 - val_accuracy: 0.5910\n",
      "Epoch 16/20\n",
      "700/700 [==============================] - 292s 417ms/step - loss: 0.1074 - accuracy: 0.6765 - val_loss: 0.1142 - val_accuracy: 0.6372\n",
      "Epoch 17/20\n",
      "700/700 [==============================] - 285s 407ms/step - loss: 0.1046 - accuracy: 0.6858 - val_loss: 0.1238 - val_accuracy: 0.6012\n",
      "Epoch 18/20\n",
      "700/700 [==============================] - 285s 407ms/step - loss: 0.1033 - accuracy: 0.6954 - val_loss: 0.1085 - val_accuracy: 0.6557\n",
      "Epoch 19/20\n",
      "700/700 [==============================] - 281s 402ms/step - loss: 0.1007 - accuracy: 0.6995 - val_loss: 0.1077 - val_accuracy: 0.6721\n",
      "Epoch 20/20\n",
      "700/700 [==============================] - 284s 406ms/step - loss: 0.1001 - accuracy: 0.7027 - val_loss: 0.1116 - val_accuracy: 0.6465\n",
      "4 layer with dropout, lr = 0.001, dropout 0.2 in the end\n"
     ]
    }
   ],
   "source": [
    "Main_model_1 = make_model_1((30, 216, 1))\n",
    "opt = optimizers.Adam(0.001)\n",
    "Main_model_1.compile(optimizer = opt, loss = 'binary_crossentropy', metrics = [\"accuracy\"])\n",
    "\n",
    "Main_model_history_1 = Main_model_1.fit(x = X_train, y = Y_train, epochs = 20, batch_size = 16, validation_data=(X_test, Y_test))\n",
    "\n",
    "print(\"4 layer with dropout, lr = 0.001, dropout 0.2 in the end\")"
   ]
  },
  {
   "cell_type": "code",
   "execution_count": null,
   "metadata": {
    "colab": {
     "base_uri": "https://localhost:8080/"
    },
    "id": "hI38XrgVaRzI",
    "outputId": "0e75ecf7-07e5-4f51-e92a-5220f86db9f5"
   },
   "outputs": [
    {
     "name": "stdout",
     "output_type": "stream",
     "text": [
      "Epoch 1/20\n",
      "700/700 [==============================] - 893s 1s/step - loss: 0.3662 - accuracy: 0.1444 - val_loss: 0.2056 - val_accuracy: 0.3535\n",
      "Epoch 2/20\n",
      "700/700 [==============================] - 884s 1s/step - loss: 0.2091 - accuracy: 0.3406 - val_loss: 0.1630 - val_accuracy: 0.4584\n",
      "Epoch 3/20\n",
      "700/700 [==============================] - 874s 1s/step - loss: 0.1778 - accuracy: 0.4424 - val_loss: 0.1579 - val_accuracy: 0.4892\n",
      "Epoch 4/20\n",
      "700/700 [==============================] - 864s 1s/step - loss: 0.1658 - accuracy: 0.4833 - val_loss: 0.1462 - val_accuracy: 0.5313\n",
      "Epoch 5/20\n",
      "700/700 [==============================] - 863s 1s/step - loss: 0.1572 - accuracy: 0.5104 - val_loss: 0.1343 - val_accuracy: 0.5591\n",
      "Epoch 6/20\n",
      "700/700 [==============================] - 859s 1s/step - loss: 0.1517 - accuracy: 0.5268 - val_loss: 0.1306 - val_accuracy: 0.5735\n",
      "Epoch 7/20\n",
      "700/700 [==============================] - 877s 1s/step - loss: 0.1461 - accuracy: 0.5429 - val_loss: 0.1256 - val_accuracy: 0.5899\n",
      "Epoch 8/20\n",
      "700/700 [==============================] - 882s 1s/step - loss: 0.1411 - accuracy: 0.5599 - val_loss: 0.1271 - val_accuracy: 0.5807\n",
      "Epoch 9/20\n",
      "700/700 [==============================] - 877s 1s/step - loss: 0.1361 - accuracy: 0.5743 - val_loss: 0.1218 - val_accuracy: 0.6023\n",
      "Epoch 10/20\n",
      "700/700 [==============================] - 854s 1s/step - loss: 0.1367 - accuracy: 0.5809 - val_loss: 0.1217 - val_accuracy: 0.6136\n",
      "Epoch 11/20\n",
      "700/700 [==============================] - 851s 1s/step - loss: 0.1340 - accuracy: 0.5891 - val_loss: 0.1187 - val_accuracy: 0.6362\n",
      "Epoch 12/20\n",
      "700/700 [==============================] - 854s 1s/step - loss: 0.1292 - accuracy: 0.5964 - val_loss: 0.1225 - val_accuracy: 0.5858\n",
      "Epoch 13/20\n",
      "700/700 [==============================] - 858s 1s/step - loss: 0.1294 - accuracy: 0.6137 - val_loss: 0.1162 - val_accuracy: 0.6218\n",
      "Epoch 14/20\n",
      "700/700 [==============================] - 857s 1s/step - loss: 0.1233 - accuracy: 0.6220 - val_loss: 0.1176 - val_accuracy: 0.6249\n",
      "Epoch 15/20\n",
      "700/700 [==============================] - 847s 1s/step - loss: 0.1236 - accuracy: 0.6235 - val_loss: 0.1169 - val_accuracy: 0.6084\n",
      "Epoch 16/20\n",
      "700/700 [==============================] - 848s 1s/step - loss: 0.1248 - accuracy: 0.6253 - val_loss: 0.1128 - val_accuracy: 0.6331\n",
      "Epoch 17/20\n",
      "700/700 [==============================] - 845s 1s/step - loss: 0.1198 - accuracy: 0.6430 - val_loss: 0.1150 - val_accuracy: 0.6310\n",
      "Epoch 18/20\n",
      "700/700 [==============================] - 842s 1s/step - loss: 0.1163 - accuracy: 0.6517 - val_loss: 0.1163 - val_accuracy: 0.6259\n",
      "Epoch 19/20\n",
      "700/700 [==============================] - 840s 1s/step - loss: 0.1183 - accuracy: 0.6448 - val_loss: 0.1168 - val_accuracy: 0.6321\n",
      "Epoch 20/20\n",
      "700/700 [==============================] - 844s 1s/step - loss: 0.1165 - accuracy: 0.6514 - val_loss: 0.1120 - val_accuracy: 0.6382\n",
      "5 layer with dropout, lr = 0.001, dropout 0.5 in the end\n"
     ]
    }
   ],
   "source": [
    "Main_model_2 = make_model_16((30, 216, 1))\n",
    "opt = optimizers.Adam(0.001)\n",
    "Main_model_2.compile(optimizer = opt, loss = 'binary_crossentropy', metrics = [\"accuracy\"])\n",
    "\n",
    "Main_model_history_2 = Main_model_2.fit(x = X_train, y = Y_train, epochs = 20, batch_size = 16, validation_data=(X_test, Y_test))\n",
    "\n",
    "print(\"5 layer with dropout, lr = 0.001, dropout 0.5 in the end\")"
   ]
  },
  {
   "cell_type": "code",
   "execution_count": null,
   "metadata": {
    "colab": {
     "base_uri": "https://localhost:8080/"
    },
    "id": "7xQSspuLaRzJ",
    "outputId": "d3cb8649-d29d-4bc3-9ad7-8049dbb096fb"
   },
   "outputs": [
    {
     "name": "stdout",
     "output_type": "stream",
     "text": [
      "Epoch 1/20\n",
      "700/700 [==============================] - 2236s 3s/step - loss: 0.4111 - accuracy: 0.1218 - val_loss: 0.2084 - val_accuracy: 0.3422\n",
      "Epoch 2/20\n",
      "700/700 [==============================] - 2234s 3s/step - loss: 0.2201 - accuracy: 0.2988 - val_loss: 0.1732 - val_accuracy: 0.4286\n",
      "Epoch 3/20\n",
      "700/700 [==============================] - 2241s 3s/step - loss: 0.1851 - accuracy: 0.4254 - val_loss: 0.1557 - val_accuracy: 0.4645\n",
      "Epoch 4/20\n",
      "700/700 [==============================] - 2231s 3s/step - loss: 0.1680 - accuracy: 0.4707 - val_loss: 0.1499 - val_accuracy: 0.4892\n",
      "Epoch 5/20\n",
      "700/700 [==============================] - 2228s 3s/step - loss: 0.1616 - accuracy: 0.4963 - val_loss: 0.1613 - val_accuracy: 0.4594\n",
      "Epoch 6/20\n",
      "700/700 [==============================] - 2239s 3s/step - loss: 0.1544 - accuracy: 0.5132 - val_loss: 0.1444 - val_accuracy: 0.5303\n",
      "Epoch 7/20\n",
      "700/700 [==============================] - 2237s 3s/step - loss: 0.1524 - accuracy: 0.5237 - val_loss: 0.1307 - val_accuracy: 0.5745\n",
      "Epoch 8/20\n",
      "700/700 [==============================] - 2242s 3s/step - loss: 0.1469 - accuracy: 0.5402 - val_loss: 0.1269 - val_accuracy: 0.5868\n",
      "Epoch 9/20\n",
      "700/700 [==============================] - 2250s 3s/step - loss: 0.1426 - accuracy: 0.5625 - val_loss: 0.1249 - val_accuracy: 0.5879\n",
      "Epoch 10/20\n",
      "700/700 [==============================] - 2248s 3s/step - loss: 0.1404 - accuracy: 0.5679 - val_loss: 0.1212 - val_accuracy: 0.6115\n",
      "Epoch 11/20\n",
      "700/700 [==============================] - 2269s 3s/step - loss: 0.1349 - accuracy: 0.5800 - val_loss: 0.1220 - val_accuracy: 0.5920\n",
      "Epoch 12/20\n",
      "700/700 [==============================] - 2259s 3s/step - loss: 0.1313 - accuracy: 0.5914 - val_loss: 0.1194 - val_accuracy: 0.6197\n",
      "Epoch 13/20\n",
      "700/700 [==============================] - 2264s 3s/step - loss: 0.1316 - accuracy: 0.5885 - val_loss: 0.1176 - val_accuracy: 0.6105\n",
      "Epoch 14/20\n",
      "700/700 [==============================] - 2282s 3s/step - loss: 0.1290 - accuracy: 0.6100 - val_loss: 0.1164 - val_accuracy: 0.6187\n",
      "Epoch 15/20\n",
      "700/700 [==============================] - 2278s 3s/step - loss: 0.1273 - accuracy: 0.6091 - val_loss: 0.1206 - val_accuracy: 0.6228\n",
      "Epoch 16/20\n",
      "700/700 [==============================] - 2266s 3s/step - loss: 0.1219 - accuracy: 0.6312 - val_loss: 0.1327 - val_accuracy: 0.5653\n",
      "Epoch 17/20\n",
      "700/700 [==============================] - 2258s 3s/step - loss: 0.1231 - accuracy: 0.6247 - val_loss: 0.1149 - val_accuracy: 0.6208\n",
      "Epoch 18/20\n",
      "700/700 [==============================] - 2255s 3s/step - loss: 0.1199 - accuracy: 0.6378 - val_loss: 0.1258 - val_accuracy: 0.5961\n",
      "Epoch 19/20\n",
      "700/700 [==============================] - 2281s 3s/step - loss: 0.1165 - accuracy: 0.6480 - val_loss: 0.1164 - val_accuracy: 0.6177\n",
      "Epoch 20/20\n",
      " 72/700 [==>...........................] - ETA: 33:42 - loss: 0.1207 - accuracy: 0.6434"
     ]
    }
   ],
   "source": [
    "Main_model_3 = make_model_18((30, 216, 1))\n",
    "opt = optimizers.Adam(0.001)\n",
    "Main_model_3.compile(optimizer = opt, loss = 'binary_crossentropy', metrics = [\"accuracy\"])\n",
    "\n",
    "Main_model_history_3 = Main_model_3.fit(x = X_train, y = Y_train, epochs = 20, batch_size = 16, validation_data=(X_test, Y_test))\n",
    "\n",
    "print(\"7 layer with dropout, lr = 0.001, dropout 0.5 in the end\")"
   ]
  },
  {
   "cell_type": "code",
   "execution_count": null,
   "metadata": {
    "id": "UJQmhLFiaRzK"
   },
   "outputs": [],
   "source": [
    "plt.figure(figsize=(20,30))\n",
    "plt.plot(Main_model_history_1.history['accuracy'], color=\"red\")\n",
    "plt.plot(Main_model_history_2.history['accuracy'], color=\"black\")\n",
    "plt.plot(Main_model_history_3.history['accuracy'], color=\"green\")\n",
    "plt.plot(Main_model_history_1.history['val_accuracy'], color=\"red\", linestyle=\"dashed\")\n",
    "plt.plot(Main_model_history_2.history['val_accuracy'], color=\"black\", linestyle=\"dashed\")\n",
    "plt.plot(Main_model_history_3.history['val_accuracy'], color=\"green\", linestyle=\"dashed\")\n",
    "plt.title('model accuracy train')\n",
    "plt.ylabel('accuracy')\n",
    "plt.xlabel('epoch')\n",
    "plt.legend(['4 layer with dropout, lr = 0.001', \n",
    "            '5 layer with dropout, lr = 0.001',\n",
    "            '7 layer with dropout, lr = 0.001',], loc='upper left')\n",
    "plt.show()"
   ]
  },
  {
   "cell_type": "code",
   "execution_count": null,
   "metadata": {
    "colab": {
     "base_uri": "https://localhost:8080/",
     "height": 513
    },
    "id": "p6t0TqicaRzM",
    "outputId": "857272f4-c98f-4b32-91ea-79ba5c84c3b2"
   },
   "outputs": [
    {
     "data": {
      "image/png": "[encoded data removed]",
      "text/plain": [
       "<Figure size 576x576 with 1 Axes>"
      ]
     },
     "metadata": {
      "needs_background": "light",
      "tags": []
     },
     "output_type": "display_data"
    }
   ],
   "source": [
    "plt.figure(figsize=(8,8))\n",
    "plt.plot(model_history_1.history['accuracy'], \n",
    "         color=\"red\")\n",
    "plt.plot(_model_history_1.history['accuracy'], \n",
    "         color=\"black\")\n",
    "plt.plot(model_history_2.history['accuracy'], \n",
    "         color=\"green\")\n",
    "plt.plot(model_history_1.history['val_accuracy'], \n",
    "         color=\"red\", \n",
    "         linestyle=\"dashed\")\n",
    "plt.plot(_model_history_1.history['val_accuracy'], \n",
    "         color=\"black\", \n",
    "         linestyle=\"dashed\")\n",
    "plt.plot(model_history_2.history['val_accuracy'], \n",
    "         color=\"green\", \n",
    "         linestyle=\"dashed\")\n",
    "plt.title('Model accuracy train and test')\n",
    "plt.ylabel('accuracy')\n",
    "plt.xlabel('epoch')\n",
    "plt.legend(['4 layer with dropout, lr = 0.001', \n",
    "            '4 layer with dropout, lr = 0.01',\n",
    "            '4 layer without dropout, lr = 0.001',], loc='upper left')\n",
    "plt.savefig(\"comparison_1\")\n",
    "plt.show()"
   ]
  },
  {
   "cell_type": "code",
   "execution_count": null,
   "metadata": {
    "colab": {
     "base_uri": "https://localhost:8080/",
     "height": 513
    },
    "id": "m_nqS7APaRzN",
    "outputId": "227e59bd-c2c3-48ed-92c7-b1a6da74fb0d"
   },
   "outputs": [
    {
     "data": {
      "image/png": "[encoded data removed]",
      "text/plain": [
       "<Figure size 576x576 with 1 Axes>"
      ]
     },
     "metadata": {
      "needs_background": "light",
      "tags": []
     },
     "output_type": "display_data"
    }
   ],
   "source": [
    "plt.figure(figsize=(8,8))\n",
    "plt.plot(Main_model_history_1.history['accuracy'], \n",
    "         color=\"red\")\n",
    "plt.plot(Main_model_history_1.history['val_accuracy'], \n",
    "         color=\"black\", \n",
    "         linestyle=\"dashed\")\n",
    "plt.title('Model accuracy train and test')\n",
    "plt.ylabel('accuracy')\n",
    "plt.xlabel('epoch')\n",
    "plt.legend(['4 layer with dropout, lr = 0.001, dropout 0.2 in the end',], loc='upper left')\n",
    "plt.savefig(\"Main_model_1\")\n",
    "plt.show()"
   ]
  },
  {
   "cell_type": "code",
   "execution_count": null,
   "metadata": {
    "colab": {
     "base_uri": "https://localhost:8080/",
     "height": 513
    },
    "id": "lad8fRc_NS2n",
    "outputId": "1612ff18-db23-45a9-bef6-f1e68982c7c4"
   },
   "outputs": [
    {
     "data": {
      "image/png": "[encoded data removed]",
      "text/plain": [
       "<Figure size 576x576 with 1 Axes>"
      ]
     },
     "metadata": {
      "needs_background": "light",
      "tags": []
     },
     "output_type": "display_data"
    }
   ],
   "source": [
    "plt.figure(figsize=(8,8))\n",
    "plt.plot(Main_model_history_2.history['accuracy'], \n",
    "         color=\"red\")\n",
    "plt.plot(Main_model_history_2.history['val_accuracy'], \n",
    "         color=\"black\", \n",
    "         linestyle=\"dashed\")\n",
    "plt.title('Model accuracy train and test')\n",
    "plt.ylabel('accuracy')\n",
    "plt.xlabel('epoch')\n",
    "plt.legend(['5 layer with dropout, lr = 0.001, dropout 0.5 in the end',], loc='upper left')\n",
    "plt.savefig(\"Main_model_2\")\n",
    "plt.show()"
   ]
  },
  {
   "cell_type": "code",
   "execution_count": null,
   "metadata": {
    "colab": {
     "base_uri": "https://localhost:8080/",
     "height": 513
    },
    "id": "Myvv2gz1PtRv",
    "outputId": "70df6258-33fa-4fb1-8cf1-eb2404b503d9"
   },
   "outputs": [
    {
     "data": {
      "image/png": "[encoded data removed]",
      "text/plain": [
       "<Figure size 576x576 with 1 Axes>"
      ]
     },
     "metadata": {
      "needs_background": "light",
      "tags": []
     },
     "output_type": "display_data"
    }
   ],
   "source": [
    "plt.figure(figsize=(8,8))\n",
    "plt.plot(Main_model_history_1.history['accuracy'], \n",
    "         color=\"red\")\n",
    "plt.plot(Main_model_history_2.history['accuracy'], \n",
    "         color=\"black\")\n",
    "plt.plot(Main_model_history_1.history['val_accuracy'], \n",
    "         color=\"red\", \n",
    "         linestyle=\"dashed\")\n",
    "plt.plot(Main_model_history_2.history['val_accuracy'], \n",
    "         color=\"black\", \n",
    "         linestyle=\"dashed\")\n",
    "plt.title('Model accuracy train and test')\n",
    "plt.ylabel('accuracy')\n",
    "plt.xlabel('epoch')\n",
    "plt.legend(['4 layer with dropout, lr = 0.001, dropout 0.2 in the end', \n",
    "            '5 layer with dropout, lr = 0.001, dropout 0.5 in the end',], loc='upper left')\n",
    "plt.savefig(\"comparison_2\")\n",
    "plt.show()"
   ]
  }
 ],
 "metadata": {
  "colab": {
   "name": "conv2dModel.ipynb",
   "provenance": []
  },
  "kernelspec": {
   "display_name": "Python 3",
   "language": "python",
   "name": "python3"
  },
  "language_info": {
   "codemirror_mode": {
    "name": "ipython",
    "version": 3
   },
   "file_extension": ".py",
   "mimetype": "text/x-python",
   "name": "python",
   "nbconvert_exporter": "python",
   "pygments_lexer": "ipython3",
   "version": "3.7.3"
  }
 },
 "nbformat": 4,
 "nbformat_minor": 1
}
