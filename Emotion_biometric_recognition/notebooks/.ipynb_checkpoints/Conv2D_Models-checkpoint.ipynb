{
 "cells": [
  {
   "cell_type": "code",
   "execution_count": 1,
   "metadata": {
    "id": "Si-3Va08aRya"
   },
   "outputs": [],
   "source": [
    "import keras\n",
    "from keras.optimizers import Adam\n",
    "from keras.models import Sequential, Model\n",
    "from keras.layers import (\n",
    "    Dense, Embedding, LSTM, GRU, Conv2D,\n",
    "    Input, Flatten, Dropout, Activation, BatchNormalization,\n",
    "    Convolution2D, MaxPooling2D, Dropout, MaxPool2D)\n",
    "from keras.utils import np_utils, to_categorical\n",
    "\n",
    "from sklearn.metrics import classification_report\n",
    "from sklearn.model_selection import train_test_split\n",
    "from sklearn.preprocessing import LabelEncoder\n",
    "from tensorflow.keras.losses import CategoricalCrossentropy\n",
    "from keras import backend as K\n",
    "\n",
    "import librosa\n",
    "import numpy as np\n",
    "import matplotlib.pyplot as plt\n",
    "import tensorflow as tf\n",
    "import pandas as pd\n",
    "import pickle\n",
    "from tensorflow.python.ops import gen_audio_ops as audio_ops\n",
    "from matplotlib.pyplot import specgram\n",
    "from tensorflow.python.ops import io_ops\n",
    "import tensorflow as tf\n",
    "import soundfile as sf\n",
    "import os"
   ]
  },
  {
   "cell_type": "code",
   "execution_count": 2,
   "metadata": {
    "id": "oSGy6o1FaRyh"
   },
   "outputs": [],
   "source": [
    "df = pd.read_csv('../data.csv')\n",
    "df = df.drop(columns=['Unnamed: 0'], axis=1)"
   ]
  },
  {
   "cell_type": "code",
   "execution_count": 50,
   "metadata": {},
   "outputs": [],
   "source": [
    "def cut_data(data, length):\n",
    "    if data.shape[0] > length:\n",
    "        data = data[:length]\n",
    "    elif data.shape[0] < length:\n",
    "        need_len = length - data.shape[0]\n",
    "        add_len = need_len // 2\n",
    "        data = np.concatenate([add_len * [0], data, (need_len - add_len) * [0]])\n",
    "    return data "
   ]
  },
  {
   "cell_type": "code",
   "execution_count": 55,
   "metadata": {
    "id": "uDusl5ivaRyi"
   },
   "outputs": [
    {
     "name": "stdout",
     "output_type": "stream",
     "text": [
      "50 (1, 355, 20)\n",
      "100 (1, 355, 20)\n",
      "150 (1, 355, 20)\n",
      "200 (1, 355, 20)\n",
      "250 (1, 355, 20)\n",
      "300 (1, 355, 20)\n",
      "350 (1, 355, 20)\n",
      "400 (1, 355, 20)\n",
      "450 (1, 355, 20)\n",
      "500 (1, 355, 20)\n",
      "550 (1, 355, 20)\n",
      "600 (1, 355, 20)\n",
      "650 (1, 355, 20)\n",
      "700 (1, 355, 20)\n",
      "750 (1, 355, 20)\n",
      "800 (1, 355, 20)\n",
      "850 (1, 355, 20)\n",
      "900 (1, 355, 20)\n",
      "950 (1, 355, 20)\n",
      "1000 (1, 355, 20)\n",
      "1050 (1, 355, 20)\n",
      "1100 (1, 355, 20)\n",
      "1150 (1, 355, 20)\n",
      "1200 (1, 355, 20)\n",
      "1250 (1, 355, 20)\n",
      "1300 (1, 355, 20)\n",
      "1350 (1, 355, 20)\n",
      "1400 (1, 355, 20)\n",
      "1450 (1, 355, 20)\n",
      "1500 (1, 355, 20)\n",
      "1550 (1, 355, 20)\n",
      "1600 (1, 355, 20)\n",
      "1650 (1, 355, 20)\n",
      "1700 (1, 355, 20)\n",
      "1750 (1, 355, 20)\n",
      "1800 (1, 355, 20)\n",
      "1850 (1, 355, 20)\n",
      "1900 (1, 355, 20)\n",
      "1950 (1, 355, 20)\n",
      "2000 (1, 355, 20)\n",
      "2050 (1, 355, 20)\n",
      "2100 (1, 355, 20)\n",
      "2150 (1, 355, 20)\n",
      "2200 (1, 355, 20)\n",
      "2250 (1, 355, 20)\n",
      "2300 (1, 355, 20)\n",
      "2350 (1, 355, 20)\n",
      "2400 (1, 355, 20)\n",
      "2450 (1, 355, 20)\n",
      "2500 (1, 355, 20)\n",
      "2550 (1, 355, 20)\n",
      "2600 (1, 355, 20)\n",
      "2650 (1, 355, 20)\n",
      "2700 (1, 355, 20)\n",
      "2750 (1, 355, 20)\n",
      "2800 (1, 355, 20)\n",
      "2850 (1, 355, 20)\n",
      "2900 (1, 355, 20)\n",
      "2950 (1, 355, 20)\n",
      "3000 (1, 355, 20)\n",
      "3050 (1, 355, 20)\n",
      "3100 (1, 355, 20)\n",
      "3150 (1, 355, 20)\n",
      "3200 (1, 355, 20)\n",
      "3250 (1, 355, 20)\n",
      "3300 (1, 355, 20)\n",
      "3350 (1, 355, 20)\n",
      "3400 (1, 355, 20)\n",
      "3450 (1, 355, 20)\n",
      "3500 (1, 355, 20)\n",
      "3550 (1, 355, 20)\n",
      "3600 (1, 355, 20)\n",
      "3650 (1, 355, 20)\n",
      "3700 (1, 355, 20)\n",
      "3750 (1, 355, 20)\n",
      "3800 (1, 355, 20)\n",
      "3850 (1, 355, 20)\n",
      "3900 (1, 355, 20)\n",
      "3950 (1, 355, 20)\n",
      "4000 (1, 355, 20)\n",
      "4050 (1, 355, 20)\n",
      "4100 (1, 355, 20)\n",
      "4150 (1, 355, 20)\n",
      "4200 (1, 355, 20)\n",
      "4250 (1, 355, 20)\n",
      "4300 (1, 355, 20)\n",
      "4350 (1, 355, 20)\n",
      "4400 (1, 355, 20)\n",
      "4450 (1, 355, 20)\n",
      "4500 (1, 355, 20)\n",
      "4550 (1, 355, 20)\n",
      "4600 (1, 355, 20)\n",
      "4650 (1, 355, 20)\n",
      "4700 (1, 355, 20)\n",
      "4750 (1, 355, 20)\n",
      "4800 (1, 355, 20)\n",
      "4850 (1, 355, 20)\n",
      "4900 (1, 355, 20)\n",
      "4950 (1, 355, 20)\n",
      "5000 (1, 355, 20)\n",
      "5050 (1, 355, 20)\n",
      "5100 (1, 355, 20)\n",
      "5150 (1, 355, 20)\n",
      "5200 (1, 355, 20)\n",
      "5250 (1, 355, 20)\n",
      "5300 (1, 355, 20)\n",
      "5350 (1, 355, 20)\n",
      "5400 (1, 355, 20)\n",
      "5450 (1, 355, 20)\n",
      "5500 (1, 355, 20)\n",
      "5550 (1, 355, 20)\n",
      "5600 (1, 355, 20)\n",
      "5650 (1, 355, 20)\n",
      "5700 (1, 355, 20)\n",
      "5750 (1, 355, 20)\n",
      "5800 (1, 355, 20)\n",
      "5850 (1, 355, 20)\n",
      "5900 (1, 355, 20)\n",
      "5950 (1, 355, 20)\n",
      "6000 (1, 355, 20)\n",
      "6050 (1, 355, 20)\n",
      "6100 (1, 355, 20)\n",
      "6150 (1, 355, 20)\n",
      "6200 (1, 355, 20)\n",
      "6250 (1, 355, 20)\n",
      "6300 (1, 355, 20)\n",
      "6350 (1, 355, 20)\n",
      "6400 (1, 355, 20)\n",
      "6450 (1, 355, 20)\n",
      "6500 (1, 355, 20)\n",
      "6550 (1, 355, 20)\n",
      "6600 (1, 355, 20)\n",
      "6650 (1, 355, 20)\n",
      "6700 (1, 355, 20)\n",
      "6750 (1, 355, 20)\n",
      "6800 (1, 355, 20)\n",
      "6850 (1, 355, 20)\n",
      "6900 (1, 355, 20)\n",
      "6950 (1, 355, 20)\n",
      "7000 (1, 355, 20)\n",
      "7050 (1, 355, 20)\n",
      "7100 (1, 355, 20)\n",
      "7150 (1, 355, 20)\n",
      "7200 (1, 355, 20)\n",
      "7250 (1, 355, 20)\n",
      "7300 (1, 355, 20)\n",
      "7350 (1, 355, 20)\n",
      "7400 (1, 355, 20)\n",
      "7450 (1, 355, 20)\n",
      "7500 (1, 355, 20)\n",
      "7550 (1, 355, 20)\n",
      "7600 (1, 355, 20)\n",
      "7650 (1, 355, 20)\n",
      "7700 (1, 355, 20)\n",
      "7750 (1, 355, 20)\n",
      "7800 (1, 355, 20)\n",
      "7850 (1, 355, 20)\n",
      "7900 (1, 355, 20)\n",
      "7950 (1, 355, 20)\n",
      "8000 (1, 355, 20)\n",
      "8050 (1, 355, 20)\n",
      "8100 (1, 355, 20)\n",
      "8150 (1, 355, 20)\n",
      "8200 (1, 355, 20)\n",
      "8250 (1, 355, 20)\n",
      "8300 (1, 355, 20)\n",
      "8350 (1, 355, 20)\n",
      "8400 (1, 355, 20)\n",
      "8450 (1, 355, 20)\n",
      "8500 (1, 355, 20)\n",
      "8550 (1, 355, 20)\n",
      "8600 (1, 355, 20)\n",
      "8650 (1, 355, 20)\n",
      "8700 (1, 355, 20)\n",
      "8750 (1, 355, 20)\n",
      "8800 (1, 355, 20)\n",
      "8850 (1, 355, 20)\n",
      "8900 (1, 355, 20)\n",
      "8950 (1, 355, 20)\n",
      "9000 (1, 355, 20)\n",
      "9050 (1, 355, 20)\n",
      "9100 (1, 355, 20)\n",
      "9150 (1, 355, 20)\n",
      "9200 (1, 355, 20)\n",
      "9250 (1, 355, 20)\n",
      "9300 (1, 355, 20)\n",
      "9350 (1, 355, 20)\n",
      "9400 (1, 355, 20)\n",
      "9450 (1, 355, 20)\n",
      "9500 (1, 355, 20)\n",
      "9550 (1, 355, 20)\n",
      "9600 (1, 355, 20)\n",
      "9650 (1, 355, 20)\n",
      "9700 (1, 355, 20)\n",
      "9750 (1, 355, 20)\n",
      "9800 (1, 355, 20)\n",
      "9850 (1, 355, 20)\n",
      "9900 (1, 355, 20)\n",
      "9950 (1, 355, 20)\n",
      "10000 (1, 355, 20)\n",
      "10050 (1, 355, 20)\n",
      "10100 (1, 355, 20)\n",
      "10150 (1, 355, 20)\n",
      "10200 (1, 355, 20)\n",
      "10250 (1, 355, 20)\n",
      "10300 (1, 355, 20)\n",
      "10350 (1, 355, 20)\n",
      "10400 (1, 355, 20)\n",
      "10450 (1, 355, 20)\n",
      "10500 (1, 355, 20)\n",
      "10550 (1, 355, 20)\n",
      "10600 (1, 355, 20)\n",
      "10650 (1, 355, 20)\n",
      "10700 (1, 355, 20)\n",
      "10750 (1, 355, 20)\n",
      "10800 (1, 355, 20)\n",
      "10850 (1, 355, 20)\n",
      "10900 (1, 355, 20)\n",
      "10950 (1, 355, 20)\n",
      "11000 (1, 355, 20)\n",
      "11050 (1, 355, 20)\n",
      "11100 (1, 355, 20)\n",
      "11150 (1, 355, 20)\n",
      "11200 (1, 355, 20)\n",
      "11250 (1, 355, 20)\n",
      "11300 (1, 355, 20)\n",
      "11350 (1, 355, 20)\n",
      "11400 (1, 355, 20)\n",
      "11450 (1, 355, 20)\n",
      "11500 (1, 355, 20)\n",
      "11550 (1, 355, 20)\n",
      "11600 (1, 355, 20)\n",
      "11650 (1, 355, 20)\n",
      "11700 (1, 355, 20)\n",
      "11750 (1, 355, 20)\n",
      "11800 (1, 355, 20)\n",
      "11850 (1, 355, 20)\n",
      "11900 (1, 355, 20)\n",
      "11950 (1, 355, 20)\n",
      "12000 (1, 355, 20)\n",
      "12050 (1, 355, 20)\n",
      "12100 (1, 355, 20)\n",
      "12150 (1, 355, 20)\n"
     ]
    }
   ],
   "source": [
    "temp = []\n",
    "\n",
    "counter=0\n",
    "max_len = 0\n",
    "for index,path in enumerate(df.path):\n",
    "    X, sr = librosa.load(path, sr=44100)\n",
    "    X = cut_data(X, 314818)\n",
    "    wav_path_for_convert = 'temp_for_convert.wav'\n",
    "    sf.write(wav_path_for_convert, X, sr)\n",
    "    wav_loader = io_ops.read_file(wav_path_for_convert)\n",
    "    waveform = audio_ops.decode_wav(wav_loader, desired_channels=1)    \n",
    "    spectrogram = audio_ops.audio_spectrogram(\n",
    "        waveform.audio, \n",
    "        window_size=int((44100 * 40) / 1000), \n",
    "        stride=int(44100 * 20 / 1000)\n",
    "    )\n",
    "    spectrogram = tf.cast(spectrogram, float)\n",
    "    mfcc = audio_ops.mfcc(\n",
    "        spectrogram=spectrogram,\n",
    "        sample_rate=44100,\n",
    "        upper_frequency_limit=7600,\n",
    "        lower_frequency_limit=20,\n",
    "        filterbank_channel_count=40,\n",
    "        dct_coefficient_count=20\n",
    "    )\n",
    "    mfcc = tf.squeeze(mfcc, axis=0)\n",
    "    mfcc = mfcc.numpy()\n",
    "    mfcc = np.expand_dims(mfcc, axis=0)\n",
    "    temp.append(mfcc)   \n",
    "    if counter > 0 and counter % 50 == 0:\n",
    "        print(counter, mfcc.shape)\n",
    "    counter += 1"
   ]
  },
  {
   "cell_type": "code",
   "execution_count": 12,
   "metadata": {},
   "outputs": [
    {
     "data": {
      "text/plain": [
       "'../../../emotion_data/ALL/JK_sa01.wav'"
      ]
     },
     "execution_count": 12,
     "metadata": {},
     "output_type": "execute_result"
    }
   ],
   "source": [
    "df.path[0]"
   ]
  },
  {
   "cell_type": "code",
   "execution_count": 18,
   "metadata": {},
   "outputs": [],
   "source": [
    "path = df.path[1001]\n",
    "wav_loader = io_ops.read_file(path)\n",
    "waveform = audio_ops.decode_wav(wav_loader, desired_channels=1)    \n",
    "spectrogram = audio_ops.audio_spectrogram(\n",
    "    waveform.audio, \n",
    "    window_size=int((44100 * 40) / 1000), \n",
    "    stride=int(44100 * 20 / 1000)\n",
    ")\n",
    "spectrogram = tf.cast(spectrogram, float)\n",
    "mfcc = audio_ops.mfcc(\n",
    "    spectrogram=spectrogram,\n",
    "    sample_rate=44100,\n",
    "    upper_frequency_limit=7600,\n",
    "    lower_frequency_limit=20,\n",
    "    filterbank_channel_count=40,\n",
    "    dct_coefficient_count=20\n",
    ")\n",
    "mfcc = tf.squeeze(mfcc, axis=0)\n",
    "mfcc = mfcc.numpy()\n",
    "mfcc = np.expand_dims(mfcc, axis=0)"
   ]
  },
  {
   "cell_type": "code",
   "execution_count": 19,
   "metadata": {},
   "outputs": [
    {
     "data": {
      "text/plain": [
       "(1, 215, 20)"
      ]
     },
     "execution_count": 19,
     "metadata": {},
     "output_type": "execute_result"
    }
   ],
   "source": [
    "mfcc.shape"
   ]
  },
  {
   "cell_type": "code",
   "execution_count": 56,
   "metadata": {
    "id": "FUizp8bMaRyj"
   },
   "outputs": [],
   "source": [
    "X = np.concatenate(temp, axis=0)"
   ]
  },
  {
   "cell_type": "code",
   "execution_count": 57,
   "metadata": {},
   "outputs": [
    {
     "data": {
      "text/plain": [
       "(12162, 355, 20)"
      ]
     },
     "execution_count": 57,
     "metadata": {},
     "output_type": "execute_result"
    }
   ],
   "source": [
    "X.shape"
   ]
  },
  {
   "cell_type": "code",
   "execution_count": 58,
   "metadata": {
    "id": "HKrpW9-SaRyl"
   },
   "outputs": [],
   "source": [
    "filename = 'MfccData30'\n",
    "outfile = open(filename,'wb')\n",
    "pickle.dump(X,outfile)\n",
    "outfile.close()"
   ]
  },
  {
   "cell_type": "code",
   "execution_count": 4,
   "metadata": {
    "id": "QeQDy5XKaRym"
   },
   "outputs": [],
   "source": [
    "filename = '../../../MfccData30'\n",
    "outfile = open(filename,'rb')\n",
    "X = pickle.load(outfile)\n",
    "outfile.close()"
   ]
  },
  {
   "cell_type": "code",
   "execution_count": 5,
   "metadata": {
    "colab": {
     "base_uri": "https://localhost:8080/"
    },
    "id": "ygWwmsIAaRym",
    "outputId": "868b7053-3eb0-4479-8ea2-c27e4309c6e6"
   },
   "outputs": [
    {
     "data": {
      "text/plain": [
       "(12162, 355, 20)"
      ]
     },
     "execution_count": 5,
     "metadata": {},
     "output_type": "execute_result"
    }
   ],
   "source": [
    "X.shape"
   ]
  },
  {
   "cell_type": "code",
   "execution_count": 17,
   "metadata": {
    "id": "POrMkJzxaRyn"
   },
   "outputs": [],
   "source": [
    "def make_model_1(input_shape):\n",
    "    \n",
    "    nclass = 14\n",
    "    \n",
    "    inp = Input(input_shape)\n",
    "    \n",
    "    x = Convolution2D(32, (4,10), padding=\"same\")(inp)\n",
    "    x = BatchNormalization()(x)\n",
    "    x = Activation(\"relu\")(x)\n",
    "    x = MaxPool2D()(x)\n",
    "    x = Dropout(rate=0.2)(x)\n",
    "    \n",
    "    x = Convolution2D(64, (4,10), padding=\"same\")(x)\n",
    "    x = BatchNormalization()(x)\n",
    "    x = Activation(\"relu\")(x)\n",
    "    x = MaxPool2D()(x)\n",
    "    x = Dropout(rate=0.2)(x)\n",
    "    \n",
    "    x = Convolution2D(128, (4,10), padding=\"same\")(x)\n",
    "    x = BatchNormalization()(x)\n",
    "    x = Activation(\"relu\")(x)\n",
    "    x = MaxPool2D()(x)\n",
    "    x = Dropout(rate=0.2)(x)\n",
    "    \n",
    "    x = Convolution2D(256, (4,10), padding=\"same\")(x)\n",
    "    x = BatchNormalization()(x)\n",
    "    x = Activation(\"relu\")(x)\n",
    "    x = MaxPool2D()(x)\n",
    "    x = Dropout(rate=0.2)(x)\n",
    "    \n",
    "    x = Flatten()(x)\n",
    "    x = Dense(64)(x)\n",
    "    x = Dropout(rate=0.2)(x)\n",
    "    x = BatchNormalization()(x)\n",
    "    x = Activation(\"relu\")(x)\n",
    "    x = Dropout(rate=0.2)(x)\n",
    "    \n",
    "    out = Dense(nclass, activation='softmax')(x)\n",
    "\n",
    "    \n",
    "    ret_model = Model(inputs = inp, outputs=out)\n",
    "    \n",
    "    return ret_model"
   ]
  },
  {
   "cell_type": "code",
   "execution_count": 14,
   "metadata": {},
   "outputs": [],
   "source": [
    "def CRNN_model(input_shape, nclass):\n",
    "    \n",
    "    input_ = Input(input_shape, batch_size=64)\n",
    "    \n",
    "    X = Conv2D(16, kernel_size=(3, 3), activation=\"relu\", dilation_rate=(1, 1), strides=(1, 1))(input_)\n",
    "    X = Conv2D(16, kernel_size=(5, 3), activation=\"relu\", dilation_rate=(1, 1), strides=(1, 1))(X)\n",
    "    \n",
    "    shape = X.shape\n",
    "    X = tf.keras.layers.Reshape((-1, shape[2] * shape[3]))(X)\n",
    "    \n",
    "    X = GRU(units = 256, return_sequences=0, stateful=1)(X)\n",
    "    \n",
    "    X = Flatten()(X)\n",
    "    X = Dropout(rate=0.1)(X)\n",
    "    \n",
    "    X = Dense(128, activation=\"linear\")(X)\n",
    "    X = Dense(256, activation=\"relu\")(X)\n",
    "    \n",
    "    output_ = Dense(nclass, activation='softmax')(X)\n",
    "    \n",
    "    ret_model = Model(inputs = input_, outputs=output_)\n",
    "    \n",
    "    return ret_model"
   ]
  },
  {
   "cell_type": "code",
   "execution_count": 18,
   "metadata": {
    "id": "hK1DrjnzaRy2"
   },
   "outputs": [],
   "source": [
    "def save_model(Model, model_name):\n",
    "    save_dir = os.path.join(os.getcwd(), 'saved_models')\n",
    "\n",
    "    if not os.path.isdir(save_dir):\n",
    "        os.makedirs(save_dir)\n",
    "    model_path = os.path.join(save_dir, model_name)\n",
    "    Model.save(model_path)\n",
    "    print('Save model and weights at %s ' % model_path)\n",
    "\n",
    "    model_json = Model.to_json()\n",
    "    with open(\"model_json.json\", \"w\") as json_file:\n",
    "        json_file.write(model_json)"
   ]
  },
  {
   "cell_type": "code",
   "execution_count": 7,
   "metadata": {
    "id": "egLbqHVkaRy3"
   },
   "outputs": [],
   "source": [
    "X_train, X_test, Y_train, Y_test = train_test_split(X\n",
    "                                                    , df.labels\n",
    "                                                    , test_size=0.08\n",
    "                                                    , shuffle=True\n",
    "                                                    , random_state=42)"
   ]
  },
  {
   "cell_type": "code",
   "execution_count": 8,
   "metadata": {
    "colab": {
     "base_uri": "https://localhost:8080/"
    },
    "id": "OuCMM6vVaRy3",
    "outputId": "9834ded8-f697-4ed0-e23b-a2353ece55a7"
   },
   "outputs": [
    {
     "name": "stdout",
     "output_type": "stream",
     "text": [
      "X_train size = (11189, 355, 20)\n",
      "Y_train size = (11189,)\n",
      "X_test size = (973, 355, 20)\n",
      "Y_test size = (973,)\n"
     ]
    }
   ],
   "source": [
    "print(f'X_train size = {X_train.shape}')\n",
    "print(f'Y_train size = {Y_train.shape}')\n",
    "print(f'X_test size = {X_test.shape}')\n",
    "print(f'Y_test size = {Y_test.shape}')"
   ]
  },
  {
   "cell_type": "code",
   "execution_count": 9,
   "metadata": {
    "id": "mGCLeSvEaRy4"
   },
   "outputs": [],
   "source": [
    "mean = np.mean(X_train, axis=0)\n",
    "std = np.std(X_train, axis=0)\n",
    "\n",
    "X_train = (X_train - mean) / std\n",
    "X_test = (X_test - mean) / std"
   ]
  },
  {
   "cell_type": "code",
   "execution_count": 10,
   "metadata": {
    "id": "NKJHLfrBaRy4"
   },
   "outputs": [],
   "source": [
    "X_train = np.array(X_train)\n",
    "Y_train = np.array(Y_train)\n",
    "X_test = np.array(X_test)\n",
    "Y_test = np.array(Y_test)"
   ]
  },
  {
   "cell_type": "code",
   "execution_count": 11,
   "metadata": {
    "colab": {
     "base_uri": "https://localhost:8080/"
    },
    "id": "ePPCFpbOaRy5",
    "outputId": "97de0fa6-ad35-4da5-bdc0-b6a472c0c559"
   },
   "outputs": [
    {
     "name": "stdout",
     "output_type": "stream",
     "text": [
      "['female_angry' 'female_disgust' 'female_fear' 'female_happy'\n",
      " 'female_neutral' 'female_sad' 'female_surprise' 'male_angry'\n",
      " 'male_disgust' 'male_fear' 'male_happy' 'male_neutral' 'male_sad'\n",
      " 'male_surprise']\n"
     ]
    }
   ],
   "source": [
    "lb = LabelEncoder()\n",
    "Y_train = np_utils.to_categorical(lb.fit_transform(Y_train))\n",
    "Y_test = np_utils.to_categorical(lb.fit_transform(Y_test))\n",
    "print(lb.classes_)"
   ]
  },
  {
   "cell_type": "code",
   "execution_count": 12,
   "metadata": {
    "colab": {
     "base_uri": "https://localhost:8080/"
    },
    "id": "CZXpcbMAaRy5",
    "outputId": "819fa9c2-8e44-4518-abb3-f26870427f15"
   },
   "outputs": [
    {
     "name": "stdout",
     "output_type": "stream",
     "text": [
      "Y_train size = (11189, 14)\n",
      "Y_test size = (973, 14)\n"
     ]
    }
   ],
   "source": [
    "print(f'Y_train size = {Y_train.shape}')\n",
    "print(f'Y_test size = {Y_test.shape}')"
   ]
  },
  {
   "cell_type": "code",
   "execution_count": 13,
   "metadata": {
    "colab": {
     "base_uri": "https://localhost:8080/"
    },
    "id": "R6oxnSnQaRy6",
    "outputId": "bc68bfc6-4af0-408c-ed53-c3ff43f08a52"
   },
   "outputs": [
    {
     "name": "stdout",
     "output_type": "stream",
     "text": [
      "X_train size = (11189, 355, 20, 1)\n",
      "X_test size = (973, 355, 20, 1)\n"
     ]
    }
   ],
   "source": [
    "X_train = X_train.reshape((X_train.shape[0], X_train.shape[1], X_train.shape[2], 1))\n",
    "X_test = X_test.reshape((X_test.shape[0], X_test.shape[1], X_test.shape[2], 1))\n",
    "print(f'X_train size = {X_train.shape}')\n",
    "print(f'X_test size = {X_test.shape}')"
   ]
  },
  {
   "cell_type": "code",
   "execution_count": 15,
   "metadata": {},
   "outputs": [
    {
     "ename": "NameError",
     "evalue": "name 'Conv2D' is not defined",
     "output_type": "error",
     "traceback": [
      "\u001b[0;31m---------------------------------------------------------------------------\u001b[0m",
      "\u001b[0;31mNameError\u001b[0m                                 Traceback (most recent call last)",
      "\u001b[0;32m<ipython-input-15-e5da77842bc2>\u001b[0m in \u001b[0;36m<module>\u001b[0;34m\u001b[0m\n\u001b[0;32m----> 1\u001b[0;31m \u001b[0mcrnn_model\u001b[0m \u001b[0;34m=\u001b[0m \u001b[0mCRNN_model\u001b[0m\u001b[0;34m(\u001b[0m\u001b[0;34m(\u001b[0m\u001b[0;36m355\u001b[0m\u001b[0;34m,\u001b[0m \u001b[0;36m20\u001b[0m\u001b[0;34m,\u001b[0m \u001b[0;36m1\u001b[0m\u001b[0;34m)\u001b[0m\u001b[0;34m,\u001b[0m \u001b[0;36m14\u001b[0m\u001b[0;34m)\u001b[0m\u001b[0;34m\u001b[0m\u001b[0;34m\u001b[0m\u001b[0m\n\u001b[0m\u001b[1;32m      2\u001b[0m \u001b[0mopt\u001b[0m \u001b[0;34m=\u001b[0m \u001b[0mAdam\u001b[0m\u001b[0;34m(\u001b[0m\u001b[0;36m0.001\u001b[0m\u001b[0;34m)\u001b[0m\u001b[0;34m\u001b[0m\u001b[0;34m\u001b[0m\u001b[0m\n\u001b[1;32m      3\u001b[0m \u001b[0mcrnn_model\u001b[0m\u001b[0;34m.\u001b[0m\u001b[0mcompile\u001b[0m\u001b[0;34m(\u001b[0m\u001b[0moptimizer\u001b[0m \u001b[0;34m=\u001b[0m \u001b[0mopt\u001b[0m\u001b[0;34m,\u001b[0m \u001b[0mloss\u001b[0m\u001b[0;34m=\u001b[0m\u001b[0mCategoricalCrossentropy\u001b[0m\u001b[0;34m(\u001b[0m\u001b[0mfrom_logits\u001b[0m\u001b[0;34m=\u001b[0m\u001b[0;32mTrue\u001b[0m\u001b[0;34m)\u001b[0m\u001b[0;34m,\u001b[0m \u001b[0mmetrics\u001b[0m \u001b[0;34m=\u001b[0m \u001b[0;34m[\u001b[0m\u001b[0;34m\"accuracy\"\u001b[0m\u001b[0;34m]\u001b[0m\u001b[0;34m)\u001b[0m\u001b[0;34m\u001b[0m\u001b[0;34m\u001b[0m\u001b[0m\n",
      "\u001b[0;32m<ipython-input-14-aad16294a1ab>\u001b[0m in \u001b[0;36mCRNN_model\u001b[0;34m(input_shape, nclass)\u001b[0m\n\u001b[1;32m      3\u001b[0m     \u001b[0minput_\u001b[0m \u001b[0;34m=\u001b[0m \u001b[0mInput\u001b[0m\u001b[0;34m(\u001b[0m\u001b[0minput_shape\u001b[0m\u001b[0;34m,\u001b[0m \u001b[0mbatch_size\u001b[0m\u001b[0;34m=\u001b[0m\u001b[0;36m64\u001b[0m\u001b[0;34m)\u001b[0m\u001b[0;34m\u001b[0m\u001b[0;34m\u001b[0m\u001b[0m\n\u001b[1;32m      4\u001b[0m \u001b[0;34m\u001b[0m\u001b[0m\n\u001b[0;32m----> 5\u001b[0;31m     \u001b[0mX\u001b[0m \u001b[0;34m=\u001b[0m \u001b[0mConv2D\u001b[0m\u001b[0;34m(\u001b[0m\u001b[0;36m16\u001b[0m\u001b[0;34m,\u001b[0m \u001b[0mkernel_size\u001b[0m\u001b[0;34m=\u001b[0m\u001b[0;34m(\u001b[0m\u001b[0;36m3\u001b[0m\u001b[0;34m,\u001b[0m \u001b[0;36m3\u001b[0m\u001b[0;34m)\u001b[0m\u001b[0;34m,\u001b[0m \u001b[0mactivation\u001b[0m\u001b[0;34m=\u001b[0m\u001b[0;34m\"relu\"\u001b[0m\u001b[0;34m,\u001b[0m \u001b[0mdilation_rate\u001b[0m\u001b[0;34m=\u001b[0m\u001b[0;34m(\u001b[0m\u001b[0;36m1\u001b[0m\u001b[0;34m,\u001b[0m \u001b[0;36m1\u001b[0m\u001b[0;34m)\u001b[0m\u001b[0;34m,\u001b[0m \u001b[0mstrides\u001b[0m\u001b[0;34m=\u001b[0m\u001b[0;34m(\u001b[0m\u001b[0;36m1\u001b[0m\u001b[0;34m,\u001b[0m \u001b[0;36m1\u001b[0m\u001b[0;34m)\u001b[0m\u001b[0;34m)\u001b[0m\u001b[0;34m(\u001b[0m\u001b[0minput_\u001b[0m\u001b[0;34m)\u001b[0m\u001b[0;34m\u001b[0m\u001b[0;34m\u001b[0m\u001b[0m\n\u001b[0m\u001b[1;32m      6\u001b[0m     \u001b[0mX\u001b[0m \u001b[0;34m=\u001b[0m \u001b[0mConv2D\u001b[0m\u001b[0;34m(\u001b[0m\u001b[0;36m16\u001b[0m\u001b[0;34m,\u001b[0m \u001b[0mkernel_size\u001b[0m\u001b[0;34m=\u001b[0m\u001b[0;34m(\u001b[0m\u001b[0;36m5\u001b[0m\u001b[0;34m,\u001b[0m \u001b[0;36m3\u001b[0m\u001b[0;34m)\u001b[0m\u001b[0;34m,\u001b[0m \u001b[0mactivation\u001b[0m\u001b[0;34m=\u001b[0m\u001b[0;34m\"relu\"\u001b[0m\u001b[0;34m,\u001b[0m \u001b[0mdilation_rate\u001b[0m\u001b[0;34m=\u001b[0m\u001b[0;34m(\u001b[0m\u001b[0;36m1\u001b[0m\u001b[0;34m,\u001b[0m \u001b[0;36m1\u001b[0m\u001b[0;34m)\u001b[0m\u001b[0;34m,\u001b[0m \u001b[0mstrides\u001b[0m\u001b[0;34m=\u001b[0m\u001b[0;34m(\u001b[0m\u001b[0;36m1\u001b[0m\u001b[0;34m,\u001b[0m \u001b[0;36m1\u001b[0m\u001b[0;34m)\u001b[0m\u001b[0;34m)\u001b[0m\u001b[0;34m(\u001b[0m\u001b[0mX\u001b[0m\u001b[0;34m)\u001b[0m\u001b[0;34m\u001b[0m\u001b[0;34m\u001b[0m\u001b[0m\n\u001b[1;32m      7\u001b[0m \u001b[0;34m\u001b[0m\u001b[0m\n",
      "\u001b[0;31mNameError\u001b[0m: name 'Conv2D' is not defined"
     ]
    }
   ],
   "source": [
    "crnn_model = CRNN_model((355, 20, 1), 14)\n",
    "opt = Adam(0.001)\n",
    "crnn_model.compile(optimizer = opt, loss=CategoricalCrossentropy(from_logits=True), metrics = [\"accuracy\"])"
   ]
  },
  {
   "cell_type": "code",
   "execution_count": 30,
   "metadata": {},
   "outputs": [
    {
     "name": "stdout",
     "output_type": "stream",
     "text": [
      "Model: \"model_2\"\n",
      "_________________________________________________________________\n",
      "Layer (type)                 Output Shape              Param #   \n",
      "=================================================================\n",
      "input_4 (InputLayer)         [(None, 355, 20, 1)]      0         \n",
      "_________________________________________________________________\n",
      "conv2d_12 (Conv2D)           (None, 355, 20, 32)       1312      \n",
      "_________________________________________________________________\n",
      "batch_normalization_15 (Batc (None, 355, 20, 32)       128       \n",
      "_________________________________________________________________\n",
      "activation_15 (Activation)   (None, 355, 20, 32)       0         \n",
      "_________________________________________________________________\n",
      "max_pooling2d_12 (MaxPooling (None, 177, 10, 32)       0         \n",
      "_________________________________________________________________\n",
      "dropout_18 (Dropout)         (None, 177, 10, 32)       0         \n",
      "_________________________________________________________________\n",
      "conv2d_13 (Conv2D)           (None, 177, 10, 64)       81984     \n",
      "_________________________________________________________________\n",
      "batch_normalization_16 (Batc (None, 177, 10, 64)       256       \n",
      "_________________________________________________________________\n",
      "activation_16 (Activation)   (None, 177, 10, 64)       0         \n",
      "_________________________________________________________________\n",
      "max_pooling2d_13 (MaxPooling (None, 88, 5, 64)         0         \n",
      "_________________________________________________________________\n",
      "dropout_19 (Dropout)         (None, 88, 5, 64)         0         \n",
      "_________________________________________________________________\n",
      "conv2d_14 (Conv2D)           (None, 88, 5, 128)        327808    \n",
      "_________________________________________________________________\n",
      "batch_normalization_17 (Batc (None, 88, 5, 128)        512       \n",
      "_________________________________________________________________\n",
      "activation_17 (Activation)   (None, 88, 5, 128)        0         \n",
      "_________________________________________________________________\n",
      "max_pooling2d_14 (MaxPooling (None, 44, 2, 128)        0         \n",
      "_________________________________________________________________\n",
      "dropout_20 (Dropout)         (None, 44, 2, 128)        0         \n",
      "_________________________________________________________________\n",
      "conv2d_15 (Conv2D)           (None, 44, 2, 256)        1310976   \n",
      "_________________________________________________________________\n",
      "batch_normalization_18 (Batc (None, 44, 2, 256)        1024      \n",
      "_________________________________________________________________\n",
      "activation_18 (Activation)   (None, 44, 2, 256)        0         \n",
      "_________________________________________________________________\n",
      "max_pooling2d_15 (MaxPooling (None, 22, 1, 256)        0         \n",
      "_________________________________________________________________\n",
      "dropout_21 (Dropout)         (None, 22, 1, 256)        0         \n",
      "_________________________________________________________________\n",
      "flatten_3 (Flatten)          (None, 5632)              0         \n",
      "_________________________________________________________________\n",
      "dense_6 (Dense)              (None, 64)                360512    \n",
      "_________________________________________________________________\n",
      "dropout_22 (Dropout)         (None, 64)                0         \n",
      "_________________________________________________________________\n",
      "batch_normalization_19 (Batc (None, 64)                256       \n",
      "_________________________________________________________________\n",
      "activation_19 (Activation)   (None, 64)                0         \n",
      "_________________________________________________________________\n",
      "dropout_23 (Dropout)         (None, 64)                0         \n",
      "_________________________________________________________________\n",
      "dense_7 (Dense)              (None, 14)                910       \n",
      "=================================================================\n",
      "Total params: 2,085,678\n",
      "Trainable params: 2,084,590\n",
      "Non-trainable params: 1,088\n",
      "_________________________________________________________________\n"
     ]
    }
   ],
   "source": [
    "crnn_model.summary()"
   ]
  },
  {
   "cell_type": "code",
   "execution_count": 31,
   "metadata": {},
   "outputs": [
    {
     "name": "stdout",
     "output_type": "stream",
     "text": [
      "Epoch 1/8\n",
      "175/175 [==============================] - 176s 1s/step - loss: 2.4263 - accuracy: 0.2129 - val_loss: 2.8094 - val_accuracy: 0.1490\n",
      "Epoch 2/8\n",
      "175/175 [==============================] - 177s 1s/step - loss: 1.6191 - accuracy: 0.4496 - val_loss: 1.4342 - val_accuracy: 0.5015\n",
      "Epoch 3/8\n",
      "175/175 [==============================] - 181s 1s/step - loss: 1.3131 - accuracy: 0.5366 - val_loss: 1.2827 - val_accuracy: 0.5416\n",
      "Epoch 4/8\n",
      "175/175 [==============================] - 172s 985ms/step - loss: 1.1850 - accuracy: 0.5773 - val_loss: 1.2709 - val_accuracy: 0.5170\n",
      "Epoch 5/8\n",
      "175/175 [==============================] - 169s 967ms/step - loss: 1.0998 - accuracy: 0.6029 - val_loss: 1.1015 - val_accuracy: 0.5889\n",
      "Epoch 6/8\n",
      "175/175 [==============================] - 169s 964ms/step - loss: 1.0248 - accuracy: 0.6315 - val_loss: 1.1263 - val_accuracy: 0.5714\n",
      "Epoch 7/8\n",
      "175/175 [==============================] - 168s 958ms/step - loss: 0.9698 - accuracy: 0.6422 - val_loss: 1.0960 - val_accuracy: 0.6115\n",
      "Epoch 8/8\n",
      "175/175 [==============================] - 168s 959ms/step - loss: 0.9283 - accuracy: 0.6606 - val_loss: 0.9894 - val_accuracy: 0.6444\n"
     ]
    }
   ],
   "source": [
    "model_history_1 = cnn_model.fit(x = X_train, y = Y_train, epochs = 8, batch_size = 64, validation_data=(X_test, Y_test))"
   ]
  },
  {
   "cell_type": "code",
   "execution_count": 32,
   "metadata": {},
   "outputs": [],
   "source": [
    "K.set_value(cnn_model.optimizer.learning_rate, 0.0001)"
   ]
  },
  {
   "cell_type": "code",
   "execution_count": 33,
   "metadata": {},
   "outputs": [
    {
     "name": "stdout",
     "output_type": "stream",
     "text": [
      "Epoch 1/20\n",
      "175/175 [==============================] - 168s 959ms/step - loss: 0.7991 - accuracy: 0.7151 - val_loss: 0.9434 - val_accuracy: 0.6506\n",
      "Epoch 2/20\n",
      "175/175 [==============================] - 168s 958ms/step - loss: 0.7547 - accuracy: 0.7352 - val_loss: 0.9228 - val_accuracy: 0.6711\n",
      "Epoch 3/20\n",
      "175/175 [==============================] - 167s 953ms/step - loss: 0.7407 - accuracy: 0.7333 - val_loss: 0.9399 - val_accuracy: 0.6619\n",
      "Epoch 4/20\n",
      "175/175 [==============================] - 165s 943ms/step - loss: 0.7118 - accuracy: 0.7447 - val_loss: 0.8782 - val_accuracy: 0.6845\n",
      "Epoch 5/20\n",
      "175/175 [==============================] - 164s 937ms/step - loss: 0.6874 - accuracy: 0.7540 - val_loss: 0.8996 - val_accuracy: 0.6732\n",
      "Epoch 6/20\n",
      "175/175 [==============================] - 164s 935ms/step - loss: 0.6884 - accuracy: 0.7553 - val_loss: 0.9309 - val_accuracy: 0.6536\n",
      "Epoch 7/20\n",
      "175/175 [==============================] - 164s 937ms/step - loss: 0.6619 - accuracy: 0.7650 - val_loss: 0.9442 - val_accuracy: 0.6495\n",
      "Epoch 8/20\n",
      "175/175 [==============================] - 164s 936ms/step - loss: 0.6443 - accuracy: 0.7717 - val_loss: 0.8683 - val_accuracy: 0.6937\n",
      "Epoch 9/20\n",
      "175/175 [==============================] - 164s 937ms/step - loss: 0.6385 - accuracy: 0.7757 - val_loss: 0.9742 - val_accuracy: 0.6444\n",
      "Epoch 10/20\n",
      "175/175 [==============================] - 164s 939ms/step - loss: 0.6212 - accuracy: 0.7790 - val_loss: 0.8444 - val_accuracy: 0.6906\n",
      "Epoch 11/20\n",
      "175/175 [==============================] - 163s 933ms/step - loss: 0.6069 - accuracy: 0.7849 - val_loss: 0.8545 - val_accuracy: 0.6927\n",
      "Epoch 12/20\n",
      "175/175 [==============================] - 164s 940ms/step - loss: 0.5940 - accuracy: 0.7914 - val_loss: 0.8746 - val_accuracy: 0.6845\n",
      "Epoch 13/20\n",
      "175/175 [==============================] - 177s 1s/step - loss: 0.5795 - accuracy: 0.7933 - val_loss: 0.8554 - val_accuracy: 0.7020\n",
      "Epoch 14/20\n",
      "175/175 [==============================] - 175s 999ms/step - loss: 0.5714 - accuracy: 0.8012 - val_loss: 0.9227 - val_accuracy: 0.6721\n",
      "Epoch 15/20\n",
      "175/175 [==============================] - 173s 991ms/step - loss: 0.5558 - accuracy: 0.8071 - val_loss: 0.8849 - val_accuracy: 0.6824\n",
      "Epoch 16/20\n",
      "175/175 [==============================] - 181s 1s/step - loss: 0.5364 - accuracy: 0.8133 - val_loss: 0.8709 - val_accuracy: 0.6917\n",
      "Epoch 17/20\n",
      "175/175 [==============================] - 181s 1s/step - loss: 0.5224 - accuracy: 0.8186 - val_loss: 0.8791 - val_accuracy: 0.6886\n",
      "Epoch 18/20\n",
      "175/175 [==============================] - 188s 1s/step - loss: 0.5143 - accuracy: 0.8252 - val_loss: 1.0100 - val_accuracy: 0.6454\n",
      "Epoch 19/20\n",
      "175/175 [==============================] - 180s 1s/step - loss: 0.4919 - accuracy: 0.8277 - val_loss: 0.8935 - val_accuracy: 0.6896\n",
      "Epoch 20/20\n",
      "175/175 [==============================] - 171s 977ms/step - loss: 0.4925 - accuracy: 0.8272 - val_loss: 0.8701 - val_accuracy: 0.7061\n"
     ]
    }
   ],
   "source": [
    "model_history_2 = cnn_model.fit(x = X_train, y = Y_train, epochs = 20, batch_size = 64, validation_data=(X_test, Y_test))"
   ]
  },
  {
   "cell_type": "code",
   "execution_count": 34,
   "metadata": {},
   "outputs": [],
   "source": [
    "K.set_value(cnn_model.optimizer.learning_rate, 0.00001)"
   ]
  },
  {
   "cell_type": "code",
   "execution_count": 35,
   "metadata": {},
   "outputs": [
    {
     "name": "stdout",
     "output_type": "stream",
     "text": [
      "Epoch 1/10\n",
      "175/175 [==============================] - 186s 1s/step - loss: 0.4538 - accuracy: 0.8438 - val_loss: 0.9002 - val_accuracy: 0.6865\n",
      "Epoch 2/10\n",
      "175/175 [==============================] - 179s 1s/step - loss: 0.4559 - accuracy: 0.8414 - val_loss: 0.8787 - val_accuracy: 0.6906\n",
      "Epoch 3/10\n",
      "175/175 [==============================] - 174s 996ms/step - loss: 0.4600 - accuracy: 0.8409 - val_loss: 0.8670 - val_accuracy: 0.6978\n",
      "Epoch 4/10\n",
      "175/175 [==============================] - 175s 1s/step - loss: 0.4550 - accuracy: 0.8453 - val_loss: 0.8724 - val_accuracy: 0.6948\n",
      "Epoch 5/10\n",
      "175/175 [==============================] - 182s 1s/step - loss: 0.4454 - accuracy: 0.8497 - val_loss: 0.8710 - val_accuracy: 0.6917\n",
      "Epoch 6/10\n",
      "175/175 [==============================] - 166s 951ms/step - loss: 0.4447 - accuracy: 0.8521 - val_loss: 0.8706 - val_accuracy: 0.6927\n",
      "Epoch 7/10\n",
      "175/175 [==============================] - 181s 1s/step - loss: 0.4489 - accuracy: 0.8478 - val_loss: 0.8829 - val_accuracy: 0.6896\n",
      "Epoch 8/10\n",
      "175/175 [==============================] - 186s 1s/step - loss: 0.4431 - accuracy: 0.8505 - val_loss: 0.9034 - val_accuracy: 0.6845\n",
      "Epoch 9/10\n",
      "175/175 [==============================] - 190s 1s/step - loss: 0.4528 - accuracy: 0.8446 - val_loss: 0.8981 - val_accuracy: 0.6865\n",
      "Epoch 10/10\n",
      "175/175 [==============================] - 195s 1s/step - loss: 0.4390 - accuracy: 0.8505 - val_loss: 0.8824 - val_accuracy: 0.6989\n"
     ]
    }
   ],
   "source": [
    "model_history_3 = cnn_model.fit(x = X_train, y = Y_train, epochs = 10, batch_size = 64, validation_data=(X_test, Y_test))"
   ]
  },
  {
   "cell_type": "code",
   "execution_count": 36,
   "metadata": {},
   "outputs": [
    {
     "name": "stdout",
     "output_type": "stream",
     "text": [
      "Epoch 1/10\n",
      "175/175 [==============================] - 172s 982ms/step - loss: 0.4333 - accuracy: 0.8536 - val_loss: 0.8790 - val_accuracy: 0.6989\n",
      "Epoch 2/10\n",
      "175/175 [==============================] - 166s 949ms/step - loss: 0.4472 - accuracy: 0.8458 - val_loss: 0.8713 - val_accuracy: 0.6978\n",
      "Epoch 3/10\n",
      "175/175 [==============================] - 166s 946ms/step - loss: 0.4292 - accuracy: 0.8550 - val_loss: 0.8739 - val_accuracy: 0.6937\n",
      "Epoch 4/10\n",
      "175/175 [==============================] - 165s 946ms/step - loss: 0.4395 - accuracy: 0.8473 - val_loss: 0.8739 - val_accuracy: 0.6978\n",
      "Epoch 5/10\n",
      "175/175 [==============================] - 165s 944ms/step - loss: 0.4331 - accuracy: 0.8538 - val_loss: 0.8799 - val_accuracy: 0.6958\n",
      "Epoch 6/10\n",
      "175/175 [==============================] - 165s 944ms/step - loss: 0.4364 - accuracy: 0.8536 - val_loss: 0.8857 - val_accuracy: 0.6958\n",
      "Epoch 7/10\n",
      "175/175 [==============================] - 165s 942ms/step - loss: 0.4435 - accuracy: 0.8516 - val_loss: 0.8718 - val_accuracy: 0.6958\n",
      "Epoch 8/10\n",
      "175/175 [==============================] - 165s 941ms/step - loss: 0.4401 - accuracy: 0.8508 - val_loss: 0.9003 - val_accuracy: 0.6896\n",
      "Epoch 9/10\n",
      "175/175 [==============================] - 163s 933ms/step - loss: 0.4386 - accuracy: 0.8523 - val_loss: 0.8759 - val_accuracy: 0.6978\n",
      "Epoch 10/10\n",
      "175/175 [==============================] - 163s 931ms/step - loss: 0.4337 - accuracy: 0.8511 - val_loss: 0.8784 - val_accuracy: 0.6978\n"
     ]
    }
   ],
   "source": [
    "K.set_value(cnn_model.optimizer.learning_rate, 0.000001)\n",
    "model_history_4 = cnn_model.fit(x = X_train, y = Y_train, epochs = 10, batch_size = 64, validation_data=(X_test, Y_test))"
   ]
  },
  {
   "cell_type": "code",
   "execution_count": 42,
   "metadata": {
    "id": "qwzF4ueAaRzG"
   },
   "outputs": [
    {
     "data": {
      "image/png": "[encoded data removed]",
      "text/plain": [
       "<Figure size 504x504 with 1 Axes>"
      ]
     },
     "metadata": {
      "needs_background": "light"
     },
     "output_type": "display_data"
    }
   ],
   "source": [
    "model_history_acc = model_history_1.history['accuracy']\n",
    "model_history_acc += model_history_2.history['accuracy']\n",
    "model_history_acc += model_history_3.history['accuracy']\n",
    "model_history_acc += model_history_4.history['accuracy']\n",
    "\n",
    "model_history_val_acc = model_history_1.history['val_accuracy']\n",
    "model_history_val_acc += model_history_2.history['val_accuracy']\n",
    "model_history_val_acc += model_history_3.history['val_accuracy']\n",
    "model_history_val_acc += model_history_4.history['val_accuracy']\n",
    "\n",
    "plt.figure(figsize=(7,7))\n",
    "plt.plot(model_history_acc, color=\"red\", label='train')\n",
    "plt.plot(model_history_val_acc, color=\"black\", linestyle=\"dashed\")\n",
    "plt.title('CNN accuracy')\n",
    "plt.ylabel('accuracy')\n",
    "plt.xlabel('epoch')\n",
    "plt.legend(loc='upper right')\n",
    "plt.show()"
   ]
  },
  {
   "cell_type": "code",
   "execution_count": 72,
   "metadata": {},
   "outputs": [
    {
     "data": {
      "text/plain": [
       "248"
      ]
     },
     "execution_count": 72,
     "metadata": {},
     "output_type": "execute_result"
    }
   ],
   "source": [
    "len(model_history_1.history['val_accuracy'])"
   ]
  },
  {
   "cell_type": "code",
   "execution_count": 81,
   "metadata": {},
   "outputs": [
    {
     "data": {
      "image/png": "[encoded data removed]",
      "text/plain": [
       "<Figure size 504x504 with 1 Axes>"
      ]
     },
     "metadata": {
      "needs_background": "light"
     },
     "output_type": "display_data"
    }
   ],
   "source": [
    "model_history_acc = [0.2129, 0.4496, 0.5366, 0.5773, 0.6029, 0.6315, 0.6422, 0.6606]\n",
    "model_history_val_acc = [0.1490, 0.5015, 0.5416, 0.5170, 0.5889, 0.5714, 0.6115, 0.6444]\n",
    "\n",
    "model_history_acc += model_history_2.history['accuracy']\n",
    "model_history_acc += model_history_3.history['accuracy']\n",
    "model_history_acc += model_history_4.history['accuracy']\n",
    "\n",
    "model_history_val_acc += model_history_2.history['val_accuracy']\n",
    "model_history_val_acc += model_history_3.history['val_accuracy']\n",
    "model_history_val_acc += model_history_4.history['val_accuracy']\n",
    "\n",
    "fig = plt.figure(figsize=(7,7))\n",
    "plt.plot(model_history_acc, color=\"red\", label='train')\n",
    "plt.plot(model_history_val_acc, color=\"black\", label='test', linestyle=\"dashed\")\n",
    "plt.title('CNN accuracy')\n",
    "plt.ylabel('accuracy')\n",
    "plt.xlabel('epoch')\n",
    "plt.legend(loc='upper right')\n",
    "plt.savefig(\"CNN_emotion_accuracy.jpg\", facecolor=fig.get_facecolor(), transparent=True)\n",
    "plt.show()"
   ]
  },
  {
   "cell_type": "code",
   "execution_count": null,
   "metadata": {},
   "outputs": [],
   "source": [
    "model_history_acc = [0.2129, 0.4496, 0.5366, 0.5773, 0.6029, 0.6315, 0.6422, 0.6606]\n",
    "model_history_val_acc = [0.1490, 0.5015, 0.5416, 0.5170, 0.5889, 0.5714, 0.6115, 0.6444]\n",
    "\n",
    "model_history_acc += model_history_2.history['accuracy']\n",
    "model_history_acc += model_history_3.history['accuracy']\n",
    "model_history_acc += model_history_4.history['accuracy']\n",
    "\n",
    "model_history_val_acc += model_history_2.history['val_accuracy']\n",
    "model_history_val_acc += model_history_3.history['val_accuracy']\n",
    "model_history_val_acc += model_history_4.history['val_accuracy']\n",
    "\n",
    "fig = plt.figure(figsize=(7,7))\n",
    "plt.plot(model_history_acc, color=\"red\", label='train')\n",
    "plt.plot(model_history_val_acc, color=\"black\", label='test', linestyle=\"dashed\")\n",
    "plt.title('CNN accuracy')\n",
    "plt.ylabel('accuracy')\n",
    "plt.xlabel('epoch')\n",
    "plt.legend(loc='upper right')\n",
    "plt.savefig(\"CNN_emotion_accuracy.jpg\", facecolor=fig.get_facecolor(), transparent=True)\n",
    "plt.show()"
   ]
  },
  {
   "cell_type": "code",
   "execution_count": 87,
   "metadata": {},
   "outputs": [
    {
     "data": {
      "image/png": "[encoded data removed]",
      "text/plain": [
       "<Figure size 504x504 with 1 Axes>"
      ]
     },
     "metadata": {
      "needs_background": "light"
     },
     "output_type": "display_data"
    }
   ],
   "source": [
    "model_history_acc = []\n",
    "model_history_val_acc = []\n",
    "\n",
    "model_history_acc += model_history_1.history['loss']\n",
    "model_history_acc += model_history_2.history['loss']\n",
    "model_history_acc += model_history_3.history['loss']\n",
    "model_history_acc += model_history_4.history['loss']\n",
    "\n",
    "model_history_val_acc += model_history_1.history['val_loss']\n",
    "model_history_val_acc += model_history_2.history['val_loss']\n",
    "model_history_val_acc += model_history_3.history['val_loss']\n",
    "model_history_val_acc += model_history_4.history['val_loss']\n",
    "\n",
    "fig = plt.figure(figsize=(7,7))\n",
    "plt.plot(model_history_acc, color=\"red\", label='train')\n",
    "plt.plot(model_history_val_acc, color=\"black\", label='test', linestyle=\"dashed\")\n",
    "plt.title('CNN loss')\n",
    "plt.ylabel('loss')\n",
    "plt.xlabel('epoch')\n",
    "plt.legend(loc='upper right')\n",
    "plt.savefig(\"CNN_emotion_loss.jpg\", facecolor=fig.get_facecolor(), transparent=True)\n",
    "plt.show()"
   ]
  },
  {
   "cell_type": "code",
   "execution_count": 75,
   "metadata": {},
   "outputs": [],
   "source": [
    "def report(model, X, y, classes):\n",
    "    model_predictions = model.predict(X, batch_size=64).argmax(axis=1)\n",
    "    true_predictions = y.argmax(axis=1)\n",
    "    return classification_report(true_predictions, model_predictions, target_names=classes)"
   ]
  },
  {
   "cell_type": "code",
   "execution_count": 76,
   "metadata": {},
   "outputs": [
    {
     "name": "stdout",
     "output_type": "stream",
     "text": [
      "                 precision    recall  f1-score   support\n",
      "\n",
      "   female_angry       0.89      0.77      0.83        87\n",
      " female_disgust       0.91      0.68      0.78       104\n",
      "    female_fear       0.69      0.81      0.75        85\n",
      "   female_happy       0.80      0.75      0.78        92\n",
      " female_neutral       0.75      0.83      0.79        66\n",
      "     female_sad       0.67      0.88      0.76        77\n",
      "female_surprise       1.00      1.00      1.00        41\n",
      "     male_angry       0.81      0.55      0.66        78\n",
      "   male_disgust       0.56      0.56      0.56        61\n",
      "      male_fear       0.43      0.63      0.51        67\n",
      "     male_happy       0.64      0.42      0.51        69\n",
      "   male_neutral       0.63      0.58      0.60        64\n",
      "       male_sad       0.53      0.67      0.59        72\n",
      "  male_surprise       0.46      0.60      0.52        10\n",
      "\n",
      "       accuracy                           0.70       973\n",
      "      macro avg       0.70      0.70      0.69       973\n",
      "   weighted avg       0.72      0.70      0.70       973\n",
      "\n"
     ]
    }
   ],
   "source": [
    "print(report(cnn_model, X_test, Y_test, lb.classes_))"
   ]
  },
  {
   "cell_type": "code",
   "execution_count": 79,
   "metadata": {},
   "outputs": [],
   "source": [
    "cnn_model.save(os.path.join(os.getcwd(), 'CNN_emotion.h5'), save_format=\"h5\")"
   ]
  },
  {
   "cell_type": "code",
   "execution_count": 86,
   "metadata": {},
   "outputs": [
    {
     "data": {
      "text/plain": [
       "8"
      ]
     },
     "execution_count": 86,
     "metadata": {},
     "output_type": "execute_result"
    }
   ],
   "source": [
    "len(model_history_1.history['val_loss'])"
   ]
  },
  {
   "cell_type": "code",
   "execution_count": null,
   "metadata": {},
   "outputs": [],
   "source": []
  }
 ],
 "metadata": {
  "colab": {
   "name": "conv2dModel.ipynb",
   "provenance": []
  },
  "kernelspec": {
   "display_name": "Python 3",
   "language": "python",
   "name": "python3"
  },
  "language_info": {
   "codemirror_mode": {
    "name": "ipython",
    "version": 3
   },
   "file_extension": ".py",
   "mimetype": "text/x-python",
   "name": "python",
   "nbconvert_exporter": "python",
   "pygments_lexer": "ipython3",
   "version": "3.7.10"
  }
 },
 "nbformat": 4,
 "nbformat_minor": 4
}
