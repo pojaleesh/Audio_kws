{
 "cells": [
  {
   "cell_type": "code",
   "execution_count": 1,
   "metadata": {
    "id": "Si-3Va08aRya"
   },
   "outputs": [],
   "source": [
    "import keras\n",
    "from keras.optimizers import Adam\n",
    "from keras.models import Sequential, Model\n",
    "from keras.layers import (\n",
    "    Dense, Embedding, LSTM, GRU, Conv2D,\n",
    "    Input, Flatten, Dropout, Activation, BatchNormalization,\n",
    "    Convolution2D, MaxPooling2D, Dropout, MaxPool2D)\n",
    "from keras.utils import np_utils, to_categorical\n",
    "\n",
    "from sklearn.metrics import classification_report\n",
    "from sklearn.model_selection import train_test_split\n",
    "from sklearn.preprocessing import LabelEncoder\n",
    "from tensorflow.keras.losses import CategoricalCrossentropy\n",
    "from keras import backend as K\n",
    "\n",
    "import librosa\n",
    "import numpy as np\n",
    "import matplotlib.pyplot as plt\n",
    "import tensorflow as tf\n",
    "import pandas as pd\n",
    "import pickle\n",
    "from tensorflow.python.ops import gen_audio_ops as audio_ops\n",
    "from matplotlib.pyplot import specgram\n",
    "from tensorflow.python.ops import io_ops\n",
    "import tensorflow as tf\n",
    "import soundfile as sf\n",
    "import os"
   ]
  },
  {
   "cell_type": "code",
   "execution_count": 2,
   "metadata": {
    "id": "oSGy6o1FaRyh"
   },
   "outputs": [],
   "source": [
    "df = pd.read_csv('../data/data.csv')\n",
    "df = df.drop(columns=['Unnamed: 0'], axis=1)"
   ]
  },
  {
   "cell_type": "code",
   "execution_count": 3,
   "metadata": {},
   "outputs": [],
   "source": [
    "def cut_data(data, length):\n",
    "    if data.shape[0] > length:\n",
    "        data = data[:length]\n",
    "    elif data.shape[0] < length:\n",
    "        need_len = length - data.shape[0]\n",
    "        add_len = need_len // 2\n",
    "        data = np.concatenate([add_len * [0], data, (need_len - add_len) * [0]])\n",
    "    return data "
   ]
  },
  {
   "cell_type": "code",
   "execution_count": 4,
   "metadata": {
    "id": "uDusl5ivaRyi"
   },
   "outputs": [
    {
     "name": "stdout",
     "output_type": "stream",
     "text": [
      "250 (1, 355, 20)\n",
      "500 (1, 355, 20)\n",
      "750 (1, 355, 20)\n",
      "1000 (1, 355, 20)\n",
      "1250 (1, 355, 20)\n",
      "1500 (1, 355, 20)\n",
      "1750 (1, 355, 20)\n",
      "2000 (1, 355, 20)\n",
      "2250 (1, 355, 20)\n",
      "2500 (1, 355, 20)\n",
      "2750 (1, 355, 20)\n",
      "3000 (1, 355, 20)\n",
      "3250 (1, 355, 20)\n",
      "3500 (1, 355, 20)\n",
      "3750 (1, 355, 20)\n",
      "4000 (1, 355, 20)\n",
      "4250 (1, 355, 20)\n",
      "4500 (1, 355, 20)\n",
      "4750 (1, 355, 20)\n",
      "5000 (1, 355, 20)\n",
      "5250 (1, 355, 20)\n",
      "5500 (1, 355, 20)\n",
      "5750 (1, 355, 20)\n",
      "6000 (1, 355, 20)\n",
      "6250 (1, 355, 20)\n",
      "6500 (1, 355, 20)\n",
      "6750 (1, 355, 20)\n",
      "7000 (1, 355, 20)\n",
      "7250 (1, 355, 20)\n",
      "7500 (1, 355, 20)\n",
      "7750 (1, 355, 20)\n",
      "8000 (1, 355, 20)\n",
      "8250 (1, 355, 20)\n",
      "8500 (1, 355, 20)\n",
      "8750 (1, 355, 20)\n",
      "9000 (1, 355, 20)\n",
      "9250 (1, 355, 20)\n",
      "9500 (1, 355, 20)\n",
      "9750 (1, 355, 20)\n",
      "10000 (1, 355, 20)\n",
      "10250 (1, 355, 20)\n",
      "10500 (1, 355, 20)\n",
      "10750 (1, 355, 20)\n",
      "11000 (1, 355, 20)\n",
      "11250 (1, 355, 20)\n",
      "11500 (1, 355, 20)\n",
      "11750 (1, 355, 20)\n",
      "12000 (1, 355, 20)\n"
     ]
    }
   ],
   "source": [
    "temp = []\n",
    "\n",
    "counter=0\n",
    "max_len = 0\n",
    "for index,path in enumerate(df.path):\n",
    "    X, sr = librosa.load(path, sr=44100)\n",
    "    X = cut_data(X, 314818)\n",
    "    wav_path_for_convert = 'temp_for_convert.wav'\n",
    "    sf.write(wav_path_for_convert, X, sr)\n",
    "    wav_loader = io_ops.read_file(wav_path_for_convert)\n",
    "    waveform = audio_ops.decode_wav(wav_loader, desired_channels=1)    \n",
    "    spectrogram = audio_ops.audio_spectrogram(\n",
    "        waveform.audio, \n",
    "        window_size=int((44100 * 40) / 1000), \n",
    "        stride=int(44100 * 20 / 1000)\n",
    "    )\n",
    "    spectrogram = tf.cast(spectrogram, float)\n",
    "    mfcc = audio_ops.mfcc(\n",
    "        spectrogram=spectrogram,\n",
    "        sample_rate=44100,\n",
    "        upper_frequency_limit=7600,\n",
    "        lower_frequency_limit=20,\n",
    "        filterbank_channel_count=40,\n",
    "        dct_coefficient_count=20\n",
    "    )\n",
    "    mfcc = tf.squeeze(mfcc, axis=0)\n",
    "    mfcc = mfcc.numpy()\n",
    "    mfcc = np.expand_dims(mfcc, axis=0)\n",
    "    temp.append(mfcc)   \n",
    "    if counter > 0 and counter % 250 == 0:\n",
    "        print(counter, mfcc.shape)\n",
    "    counter += 1"
   ]
  },
  {
   "cell_type": "code",
   "execution_count": 18,
   "metadata": {},
   "outputs": [],
   "source": [
    "path = df.path[1001]\n",
    "wav_loader = io_ops.read_file(path)\n",
    "waveform = audio_ops.decode_wav(wav_loader, desired_channels=1)    \n",
    "spectrogram = audio_ops.audio_spectrogram(\n",
    "    waveform.audio, \n",
    "    window_size=int((44100 * 40) / 1000), \n",
    "    stride=int(44100 * 20 / 1000)\n",
    ")\n",
    "spectrogram = tf.cast(spectrogram, float)\n",
    "mfcc = audio_ops.mfcc(\n",
    "    spectrogram=spectrogram,\n",
    "    sample_rate=44100,\n",
    "    upper_frequency_limit=7600,\n",
    "    lower_frequency_limit=20,\n",
    "    filterbank_channel_count=40,\n",
    "    dct_coefficient_count=20\n",
    ")\n",
    "mfcc = tf.squeeze(mfcc, axis=0)\n",
    "mfcc = mfcc.numpy()\n",
    "mfcc = np.expand_dims(mfcc, axis=0)"
   ]
  },
  {
   "cell_type": "code",
   "execution_count": 19,
   "metadata": {},
   "outputs": [
    {
     "data": {
      "text/plain": [
       "(1, 215, 20)"
      ]
     },
     "execution_count": 19,
     "metadata": {},
     "output_type": "execute_result"
    }
   ],
   "source": [
    "mfcc.shape"
   ]
  },
  {
   "cell_type": "code",
   "execution_count": 5,
   "metadata": {
    "id": "FUizp8bMaRyj"
   },
   "outputs": [],
   "source": [
    "X = np.concatenate(temp, axis=0)"
   ]
  },
  {
   "cell_type": "code",
   "execution_count": 6,
   "metadata": {},
   "outputs": [
    {
     "data": {
      "text/plain": [
       "(12162, 355, 20)"
      ]
     },
     "execution_count": 6,
     "metadata": {},
     "output_type": "execute_result"
    }
   ],
   "source": [
    "X.shape"
   ]
  },
  {
   "cell_type": "code",
   "execution_count": 7,
   "metadata": {
    "id": "HKrpW9-SaRyl"
   },
   "outputs": [],
   "source": [
    "filename = 'MfccData30'\n",
    "outfile = open(filename,'wb')\n",
    "pickle.dump(X,outfile)\n",
    "outfile.close()"
   ]
  },
  {
   "cell_type": "code",
   "execution_count": 3,
   "metadata": {
    "id": "QeQDy5XKaRym"
   },
   "outputs": [],
   "source": [
    "filename = '../../../MfccData30'\n",
    "outfile = open(filename,'rb')\n",
    "X = pickle.load(outfile)\n",
    "outfile.close()"
   ]
  },
  {
   "cell_type": "code",
   "execution_count": 4,
   "metadata": {
    "colab": {
     "base_uri": "https://localhost:8080/"
    },
    "id": "ygWwmsIAaRym",
    "outputId": "868b7053-3eb0-4479-8ea2-c27e4309c6e6"
   },
   "outputs": [
    {
     "data": {
      "text/plain": [
       "(12162, 355, 20)"
      ]
     },
     "execution_count": 4,
     "metadata": {},
     "output_type": "execute_result"
    }
   ],
   "source": [
    "X.shape"
   ]
  },
  {
   "cell_type": "code",
   "execution_count": 36,
   "metadata": {},
   "outputs": [],
   "source": [
    "def CNN_model(input_shape, nclass):\n",
    "    \n",
    "    inp = Input(input_shape)\n",
    "    \n",
    "    x = Convolution2D(32, (3, 5), padding=\"same\")(inp)\n",
    "    x = BatchNormalization()(x)\n",
    "    x = Activation(\"relu\")(x)\n",
    "    x = MaxPool2D()(x)\n",
    "    x = Dropout(rate=0.2)(x)\n",
    "    \n",
    "    x = Convolution2D(64, (3, 5), padding=\"same\")(x)\n",
    "    x = BatchNormalization()(x)\n",
    "    x = Activation(\"relu\")(x)\n",
    "    x = MaxPool2D()(x)\n",
    "    x = Dropout(rate=0.2)(x)\n",
    "    \n",
    "    x = Convolution2D(128, (3, 5), padding=\"same\")(x)\n",
    "    x = BatchNormalization()(x)\n",
    "    x = Activation(\"relu\")(x)\n",
    "    x = MaxPool2D()(x)\n",
    "    x = Dropout(rate=0.2)(x)\n",
    "    \n",
    "    x = Convolution2D(256, (3, 5), padding=\"same\")(x)\n",
    "    x = BatchNormalization()(x)\n",
    "    x = Activation(\"relu\")(x)\n",
    "    x = MaxPool2D()(x)\n",
    "    x = Dropout(rate=0.2)(x)\n",
    "    \n",
    "    x = Flatten()(x)\n",
    "    x = Dense(128)(x)\n",
    "    x = Dense(256)(x)\n",
    "    x = Dropout(rate=0.2)(x)\n",
    "    x = BatchNormalization()(x)\n",
    "    x = Activation(\"relu\")(x)\n",
    "    x = Dropout(rate=0.2)(x)\n",
    "    \n",
    "    out = Dense(nclass, activation='softmax')(x)\n",
    "    \n",
    "    ret_model = Model(inputs = inp, outputs=out)\n",
    "    \n",
    "    return ret_model"
   ]
  },
  {
   "cell_type": "code",
   "execution_count": 18,
   "metadata": {
    "id": "hK1DrjnzaRy2"
   },
   "outputs": [],
   "source": [
    "def save_model(Model, model_name):\n",
    "    save_dir = os.path.join(os.getcwd(), 'saved_models')\n",
    "\n",
    "    if not os.path.isdir(save_dir):\n",
    "        os.makedirs(save_dir)\n",
    "    model_path = os.path.join(save_dir, model_name)\n",
    "    Model.save(model_path)\n",
    "    print('Save model and weights at %s ' % model_path)\n",
    "\n",
    "    model_json = Model.to_json()\n",
    "    with open(\"model_json.json\", \"w\") as json_file:\n",
    "        json_file.write(model_json)"
   ]
  },
  {
   "cell_type": "code",
   "execution_count": 6,
   "metadata": {
    "id": "egLbqHVkaRy3"
   },
   "outputs": [],
   "source": [
    "X_train, X_test, Y_train, Y_test = train_test_split(X\n",
    "                                                    , df.labels\n",
    "                                                    , test_size=0.08\n",
    "                                                    , shuffle=True\n",
    "                                                    , random_state=42)"
   ]
  },
  {
   "cell_type": "code",
   "execution_count": 7,
   "metadata": {
    "colab": {
     "base_uri": "https://localhost:8080/"
    },
    "id": "OuCMM6vVaRy3",
    "outputId": "9834ded8-f697-4ed0-e23b-a2353ece55a7"
   },
   "outputs": [
    {
     "name": "stdout",
     "output_type": "stream",
     "text": [
      "X_train size = (11189, 355, 20)\n",
      "Y_train size = (11189,)\n",
      "X_test size = (973, 355, 20)\n",
      "Y_test size = (973,)\n"
     ]
    }
   ],
   "source": [
    "print(f'X_train size = {X_train.shape}')\n",
    "print(f'Y_train size = {Y_train.shape}')\n",
    "print(f'X_test size = {X_test.shape}')\n",
    "print(f'Y_test size = {Y_test.shape}')"
   ]
  },
  {
   "cell_type": "code",
   "execution_count": 8,
   "metadata": {
    "id": "mGCLeSvEaRy4"
   },
   "outputs": [],
   "source": [
    "mean = np.mean(X_train, axis=0)\n",
    "std = np.std(X_train, axis=0)\n",
    "\n",
    "X_train = (X_train - mean) / std\n",
    "X_test = (X_test - mean) / std"
   ]
  },
  {
   "cell_type": "code",
   "execution_count": 9,
   "metadata": {
    "id": "NKJHLfrBaRy4"
   },
   "outputs": [],
   "source": [
    "X_train = np.array(X_train)\n",
    "Y_train = np.array(Y_train)\n",
    "X_test = np.array(X_test)\n",
    "Y_test = np.array(Y_test)"
   ]
  },
  {
   "cell_type": "code",
   "execution_count": 10,
   "metadata": {
    "colab": {
     "base_uri": "https://localhost:8080/"
    },
    "id": "ePPCFpbOaRy5",
    "outputId": "97de0fa6-ad35-4da5-bdc0-b6a472c0c559"
   },
   "outputs": [
    {
     "name": "stdout",
     "output_type": "stream",
     "text": [
      "['female_angry' 'female_disgust' 'female_fear' 'female_happy'\n",
      " 'female_neutral' 'female_sad' 'female_surprise' 'male_angry'\n",
      " 'male_disgust' 'male_fear' 'male_happy' 'male_neutral' 'male_sad'\n",
      " 'male_surprise']\n"
     ]
    }
   ],
   "source": [
    "lb = LabelEncoder()\n",
    "Y_train = np_utils.to_categorical(lb.fit_transform(Y_train))\n",
    "Y_test = np_utils.to_categorical(lb.fit_transform(Y_test))\n",
    "print(lb.classes_)"
   ]
  },
  {
   "cell_type": "code",
   "execution_count": 11,
   "metadata": {
    "colab": {
     "base_uri": "https://localhost:8080/"
    },
    "id": "CZXpcbMAaRy5",
    "outputId": "819fa9c2-8e44-4518-abb3-f26870427f15"
   },
   "outputs": [
    {
     "name": "stdout",
     "output_type": "stream",
     "text": [
      "Y_train size = (11189, 14)\n",
      "Y_test size = (973, 14)\n"
     ]
    }
   ],
   "source": [
    "print(f'Y_train size = {Y_train.shape}')\n",
    "print(f'Y_test size = {Y_test.shape}')"
   ]
  },
  {
   "cell_type": "code",
   "execution_count": 12,
   "metadata": {
    "colab": {
     "base_uri": "https://localhost:8080/"
    },
    "id": "R6oxnSnQaRy6",
    "outputId": "bc68bfc6-4af0-408c-ed53-c3ff43f08a52"
   },
   "outputs": [
    {
     "name": "stdout",
     "output_type": "stream",
     "text": [
      "X_train size = (11189, 355, 20, 1)\n",
      "X_test size = (973, 355, 20, 1)\n"
     ]
    }
   ],
   "source": [
    "X_train = X_train.reshape((X_train.shape[0], X_train.shape[1], X_train.shape[2], 1))\n",
    "X_test = X_test.reshape((X_test.shape[0], X_test.shape[1], X_test.shape[2], 1))\n",
    "print(f'X_train size = {X_train.shape}')\n",
    "print(f'X_test size = {X_test.shape}')"
   ]
  },
  {
   "cell_type": "code",
   "execution_count": 37,
   "metadata": {},
   "outputs": [],
   "source": [
    "cnn_model = CNN_model((355, 20, 1), 14)\n",
    "opt = Adam(0.001)\n",
    "cnn_model.compile(optimizer = opt, loss=CategoricalCrossentropy(from_logits=True), metrics = [\"accuracy\"])"
   ]
  },
  {
   "cell_type": "code",
   "execution_count": 38,
   "metadata": {},
   "outputs": [
    {
     "name": "stdout",
     "output_type": "stream",
     "text": [
      "Model: \"model_7\"\n",
      "_________________________________________________________________\n",
      "Layer (type)                 Output Shape              Param #   \n",
      "=================================================================\n",
      "input_9 (InputLayer)         [(None, 355, 20, 1)]      0         \n",
      "_________________________________________________________________\n",
      "conv2d_32 (Conv2D)           (None, 355, 20, 32)       512       \n",
      "_________________________________________________________________\n",
      "batch_normalization_39 (Batc (None, 355, 20, 32)       128       \n",
      "_________________________________________________________________\n",
      "activation_39 (Activation)   (None, 355, 20, 32)       0         \n",
      "_________________________________________________________________\n",
      "max_pooling2d_32 (MaxPooling (None, 177, 10, 32)       0         \n",
      "_________________________________________________________________\n",
      "dropout_46 (Dropout)         (None, 177, 10, 32)       0         \n",
      "_________________________________________________________________\n",
      "conv2d_33 (Conv2D)           (None, 177, 10, 64)       30784     \n",
      "_________________________________________________________________\n",
      "batch_normalization_40 (Batc (None, 177, 10, 64)       256       \n",
      "_________________________________________________________________\n",
      "activation_40 (Activation)   (None, 177, 10, 64)       0         \n",
      "_________________________________________________________________\n",
      "max_pooling2d_33 (MaxPooling (None, 88, 5, 64)         0         \n",
      "_________________________________________________________________\n",
      "dropout_47 (Dropout)         (None, 88, 5, 64)         0         \n",
      "_________________________________________________________________\n",
      "conv2d_34 (Conv2D)           (None, 88, 5, 128)        123008    \n",
      "_________________________________________________________________\n",
      "batch_normalization_41 (Batc (None, 88, 5, 128)        512       \n",
      "_________________________________________________________________\n",
      "activation_41 (Activation)   (None, 88, 5, 128)        0         \n",
      "_________________________________________________________________\n",
      "max_pooling2d_34 (MaxPooling (None, 44, 2, 128)        0         \n",
      "_________________________________________________________________\n",
      "dropout_48 (Dropout)         (None, 44, 2, 128)        0         \n",
      "_________________________________________________________________\n",
      "conv2d_35 (Conv2D)           (None, 44, 2, 256)        491776    \n",
      "_________________________________________________________________\n",
      "batch_normalization_42 (Batc (None, 44, 2, 256)        1024      \n",
      "_________________________________________________________________\n",
      "activation_42 (Activation)   (None, 44, 2, 256)        0         \n",
      "_________________________________________________________________\n",
      "max_pooling2d_35 (MaxPooling (None, 22, 1, 256)        0         \n",
      "_________________________________________________________________\n",
      "dropout_49 (Dropout)         (None, 22, 1, 256)        0         \n",
      "_________________________________________________________________\n",
      "flatten_8 (Flatten)          (None, 5632)              0         \n",
      "_________________________________________________________________\n",
      "dense_21 (Dense)             (None, 128)               721024    \n",
      "_________________________________________________________________\n",
      "dense_22 (Dense)             (None, 256)               33024     \n",
      "_________________________________________________________________\n",
      "dropout_50 (Dropout)         (None, 256)               0         \n",
      "_________________________________________________________________\n",
      "batch_normalization_43 (Batc (None, 256)               1024      \n",
      "_________________________________________________________________\n",
      "activation_43 (Activation)   (None, 256)               0         \n",
      "_________________________________________________________________\n",
      "dropout_51 (Dropout)         (None, 256)               0         \n",
      "_________________________________________________________________\n",
      "dense_23 (Dense)             (None, 14)                3598      \n",
      "=================================================================\n",
      "Total params: 1,406,670\n",
      "Trainable params: 1,405,198\n",
      "Non-trainable params: 1,472\n",
      "_________________________________________________________________\n"
     ]
    }
   ],
   "source": [
    "cnn_model.summary()"
   ]
  },
  {
   "cell_type": "code",
   "execution_count": 39,
   "metadata": {},
   "outputs": [
    {
     "name": "stdout",
     "output_type": "stream",
     "text": [
      "Epoch 1/10\n",
      "175/175 [==============================] - 97s 547ms/step - loss: 2.3790 - accuracy: 0.2241 - val_loss: 2.8898 - val_accuracy: 0.1336\n",
      "Epoch 2/10\n",
      "175/175 [==============================] - 96s 548ms/step - loss: 1.4419 - accuracy: 0.4905 - val_loss: 1.5546 - val_accuracy: 0.4553\n",
      "Epoch 3/10\n",
      "175/175 [==============================] - 90s 514ms/step - loss: 1.2181 - accuracy: 0.5591 - val_loss: 1.3589 - val_accuracy: 0.5498\n",
      "Epoch 4/10\n",
      "175/175 [==============================] - 90s 512ms/step - loss: 1.1276 - accuracy: 0.5881 - val_loss: 1.2857 - val_accuracy: 0.5519\n",
      "Epoch 5/10\n",
      "175/175 [==============================] - 90s 513ms/step - loss: 1.0108 - accuracy: 0.6206 - val_loss: 1.5812 - val_accuracy: 0.4923\n",
      "Epoch 6/10\n",
      "175/175 [==============================] - 89s 510ms/step - loss: 0.9869 - accuracy: 0.6364 - val_loss: 1.1601 - val_accuracy: 0.5766\n",
      "Epoch 7/10\n",
      "175/175 [==============================] - 90s 512ms/step - loss: 0.9160 - accuracy: 0.6608 - val_loss: 1.0828 - val_accuracy: 0.6228\n",
      "Epoch 8/10\n",
      "175/175 [==============================] - 90s 516ms/step - loss: 0.8427 - accuracy: 0.6815 - val_loss: 1.1777 - val_accuracy: 0.6105\n",
      "Epoch 9/10\n",
      "175/175 [==============================] - 93s 532ms/step - loss: 0.8050 - accuracy: 0.7035 - val_loss: 1.0413 - val_accuracy: 0.6516\n",
      "Epoch 10/10\n",
      "175/175 [==============================] - 92s 524ms/step - loss: 0.7510 - accuracy: 0.7276 - val_loss: 1.1340 - val_accuracy: 0.5971\n"
     ]
    }
   ],
   "source": [
    "model_history_1 = cnn_model.fit(x = X_train, y = Y_train, epochs = 10, batch_size = 64, validation_data=(X_test, Y_test))"
   ]
  },
  {
   "cell_type": "code",
   "execution_count": 41,
   "metadata": {},
   "outputs": [],
   "source": [
    "K.set_value(cnn_model.optimizer.learning_rate, 0.0001)"
   ]
  },
  {
   "cell_type": "code",
   "execution_count": 42,
   "metadata": {},
   "outputs": [
    {
     "name": "stdout",
     "output_type": "stream",
     "text": [
      "Epoch 1/20\n",
      "175/175 [==============================] - 93s 533ms/step - loss: 0.6521 - accuracy: 0.7599 - val_loss: 0.9483 - val_accuracy: 0.6732\n",
      "Epoch 2/20\n",
      "175/175 [==============================] - 90s 514ms/step - loss: 0.6164 - accuracy: 0.7739 - val_loss: 1.0394 - val_accuracy: 0.6423\n",
      "Epoch 3/20\n",
      "175/175 [==============================] - 91s 521ms/step - loss: 0.5940 - accuracy: 0.7893 - val_loss: 0.9877 - val_accuracy: 0.6629\n",
      "Epoch 4/20\n",
      "175/175 [==============================] - 88s 502ms/step - loss: 0.5814 - accuracy: 0.7822 - val_loss: 1.0369 - val_accuracy: 0.6506\n",
      "Epoch 5/20\n",
      "175/175 [==============================] - 88s 505ms/step - loss: 0.5562 - accuracy: 0.8007 - val_loss: 0.9697 - val_accuracy: 0.6701\n",
      "Epoch 6/20\n",
      "175/175 [==============================] - 88s 504ms/step - loss: 0.5388 - accuracy: 0.8025 - val_loss: 0.9443 - val_accuracy: 0.6691\n",
      "Epoch 7/20\n",
      "175/175 [==============================] - 88s 504ms/step - loss: 0.5385 - accuracy: 0.8045 - val_loss: 0.9787 - val_accuracy: 0.6598\n",
      "Epoch 8/20\n",
      "175/175 [==============================] - 89s 506ms/step - loss: 0.5211 - accuracy: 0.8100 - val_loss: 1.1618 - val_accuracy: 0.6177\n",
      "Epoch 9/20\n",
      "175/175 [==============================] - 90s 516ms/step - loss: 0.5051 - accuracy: 0.8163 - val_loss: 1.0732 - val_accuracy: 0.6465\n",
      "Epoch 10/20\n",
      "175/175 [==============================] - 90s 513ms/step - loss: 0.4970 - accuracy: 0.8198 - val_loss: 0.9749 - val_accuracy: 0.6701\n",
      "Epoch 11/20\n",
      "175/175 [==============================] - 88s 500ms/step - loss: 0.4917 - accuracy: 0.8265 - val_loss: 0.9694 - val_accuracy: 0.6752\n",
      "Epoch 12/20\n",
      "175/175 [==============================] - 89s 507ms/step - loss: 0.4813 - accuracy: 0.8267 - val_loss: 1.0548 - val_accuracy: 0.6506\n",
      "Epoch 13/20\n",
      "175/175 [==============================] - 89s 506ms/step - loss: 0.4682 - accuracy: 0.8323 - val_loss: 1.0472 - val_accuracy: 0.6516\n",
      "Epoch 14/20\n",
      "175/175 [==============================] - 92s 524ms/step - loss: 0.4685 - accuracy: 0.8298 - val_loss: 1.1854 - val_accuracy: 0.6166\n",
      "Epoch 15/20\n",
      "175/175 [==============================] - 89s 509ms/step - loss: 0.4584 - accuracy: 0.8356 - val_loss: 0.9678 - val_accuracy: 0.6763\n",
      "Epoch 16/20\n",
      "175/175 [==============================] - 90s 512ms/step - loss: 0.4423 - accuracy: 0.8397 - val_loss: 1.0470 - val_accuracy: 0.6454\n",
      "Epoch 17/20\n",
      "175/175 [==============================] - 89s 511ms/step - loss: 0.4322 - accuracy: 0.8441 - val_loss: 1.1801 - val_accuracy: 0.6331\n",
      "Epoch 18/20\n",
      "175/175 [==============================] - 88s 501ms/step - loss: 0.4244 - accuracy: 0.8507 - val_loss: 1.0151 - val_accuracy: 0.6721\n",
      "Epoch 19/20\n",
      "175/175 [==============================] - 88s 502ms/step - loss: 0.4183 - accuracy: 0.8543 - val_loss: 1.0345 - val_accuracy: 0.6752\n",
      "Epoch 20/20\n",
      "175/175 [==============================] - 87s 500ms/step - loss: 0.4106 - accuracy: 0.8519 - val_loss: 1.0820 - val_accuracy: 0.6506\n"
     ]
    }
   ],
   "source": [
    "model_history_2 = cnn_model.fit(x = X_train, y = Y_train, epochs = 20, batch_size = 64, validation_data=(X_test, Y_test))"
   ]
  },
  {
   "cell_type": "code",
   "execution_count": 43,
   "metadata": {},
   "outputs": [],
   "source": [
    "K.set_value(cnn_model.optimizer.learning_rate, 0.00001)"
   ]
  },
  {
   "cell_type": "code",
   "execution_count": 44,
   "metadata": {},
   "outputs": [
    {
     "name": "stdout",
     "output_type": "stream",
     "text": [
      "Epoch 1/10\n",
      "175/175 [==============================] - 88s 503ms/step - loss: 0.3925 - accuracy: 0.8623 - val_loss: 1.0465 - val_accuracy: 0.6629\n",
      "Epoch 2/10\n",
      "175/175 [==============================] - 88s 501ms/step - loss: 0.3872 - accuracy: 0.8599 - val_loss: 1.0390 - val_accuracy: 0.6701\n",
      "Epoch 3/10\n",
      "175/175 [==============================] - 88s 501ms/step - loss: 0.3903 - accuracy: 0.8589 - val_loss: 1.0185 - val_accuracy: 0.6773\n",
      "Epoch 4/10\n",
      "175/175 [==============================] - 88s 500ms/step - loss: 0.3826 - accuracy: 0.8626 - val_loss: 1.0181 - val_accuracy: 0.6783\n",
      "Epoch 5/10\n",
      "175/175 [==============================] - 88s 500ms/step - loss: 0.3771 - accuracy: 0.8682 - val_loss: 1.0476 - val_accuracy: 0.6670\n",
      "Epoch 6/10\n",
      "175/175 [==============================] - 88s 501ms/step - loss: 0.3742 - accuracy: 0.8654 - val_loss: 1.0342 - val_accuracy: 0.6732\n",
      "Epoch 7/10\n",
      "175/175 [==============================] - 87s 497ms/step - loss: 0.3786 - accuracy: 0.8642 - val_loss: 1.0521 - val_accuracy: 0.6660\n",
      "Epoch 8/10\n",
      "175/175 [==============================] - 88s 501ms/step - loss: 0.3876 - accuracy: 0.8604 - val_loss: 1.0267 - val_accuracy: 0.6752\n",
      "Epoch 9/10\n",
      "175/175 [==============================] - 87s 497ms/step - loss: 0.3707 - accuracy: 0.8690 - val_loss: 1.0418 - val_accuracy: 0.6691\n",
      "Epoch 10/10\n",
      "175/175 [==============================] - 87s 497ms/step - loss: 0.3812 - accuracy: 0.8682 - val_loss: 1.0458 - val_accuracy: 0.6732\n"
     ]
    }
   ],
   "source": [
    "model_history_3 = cnn_model.fit(x = X_train, y = Y_train, epochs = 10, batch_size = 64, validation_data=(X_test, Y_test))"
   ]
  },
  {
   "cell_type": "code",
   "execution_count": 45,
   "metadata": {},
   "outputs": [
    {
     "name": "stdout",
     "output_type": "stream",
     "text": [
      "Epoch 1/10\n",
      "175/175 [==============================] - 87s 496ms/step - loss: 0.3737 - accuracy: 0.8687 - val_loss: 1.0668 - val_accuracy: 0.6608\n",
      "Epoch 2/10\n",
      "175/175 [==============================] - 87s 494ms/step - loss: 0.3781 - accuracy: 0.8647 - val_loss: 1.0453 - val_accuracy: 0.6711\n",
      "Epoch 3/10\n",
      "175/175 [==============================] - 87s 495ms/step - loss: 0.3833 - accuracy: 0.8676 - val_loss: 1.0522 - val_accuracy: 0.6660\n",
      "Epoch 4/10\n",
      "175/175 [==============================] - 87s 496ms/step - loss: 0.3881 - accuracy: 0.8616 - val_loss: 1.0529 - val_accuracy: 0.6670\n",
      "Epoch 5/10\n",
      "175/175 [==============================] - 87s 494ms/step - loss: 0.3794 - accuracy: 0.8663 - val_loss: 1.0491 - val_accuracy: 0.6701\n",
      "Epoch 6/10\n",
      "175/175 [==============================] - 87s 495ms/step - loss: 0.3780 - accuracy: 0.8642 - val_loss: 1.0308 - val_accuracy: 0.6742\n",
      "Epoch 7/10\n",
      "175/175 [==============================] - 87s 495ms/step - loss: 0.3753 - accuracy: 0.8653 - val_loss: 1.0597 - val_accuracy: 0.6660\n",
      "Epoch 8/10\n",
      "175/175 [==============================] - 87s 496ms/step - loss: 0.3732 - accuracy: 0.8647 - val_loss: 1.0355 - val_accuracy: 0.6732\n",
      "Epoch 9/10\n",
      "175/175 [==============================] - 87s 496ms/step - loss: 0.3735 - accuracy: 0.8673 - val_loss: 1.0316 - val_accuracy: 0.6732\n",
      "Epoch 10/10\n",
      "175/175 [==============================] - 87s 495ms/step - loss: 0.3838 - accuracy: 0.8620 - val_loss: 1.0354 - val_accuracy: 0.6701\n"
     ]
    }
   ],
   "source": [
    "K.set_value(cnn_model.optimizer.learning_rate, 0.000001)\n",
    "model_history_4 = cnn_model.fit(x = X_train, y = Y_train, epochs = 10, batch_size = 64, validation_data=(X_test, Y_test))"
   ]
  },
  {
   "cell_type": "code",
   "execution_count": 50,
   "metadata": {
    "id": "qwzF4ueAaRzG"
   },
   "outputs": [
    {
     "data": {
      "image/png": "[encoded data removed]",
      "text/plain": [
       "<Figure size 504x504 with 1 Axes>"
      ]
     },
     "metadata": {
      "needs_background": "light"
     },
     "output_type": "display_data"
    }
   ],
   "source": [
    "model_history_acc = []\n",
    "model_history_val_acc = []\n",
    "\n",
    "model_history_acc += model_history_1.history['accuracy']\n",
    "model_history_acc += model_history_2.history['accuracy']\n",
    "model_history_acc += model_history_3.history['accuracy']\n",
    "model_history_acc += model_history_4.history['accuracy']\n",
    "\n",
    "model_history_val_acc += model_history_1.history['val_accuracy']\n",
    "model_history_val_acc += model_history_2.history['val_accuracy']\n",
    "model_history_val_acc += model_history_3.history['val_accuracy']\n",
    "model_history_val_acc += model_history_4.history['val_accuracy']\n",
    "\n",
    "fig = plt.figure(figsize=(7,7))\n",
    "plt.plot(model_history_acc, color=\"red\", label='train')\n",
    "plt.plot(model_history_val_acc, color=\"black\", label='test', linestyle=\"dashed\")\n",
    "plt.title('CNN accuracy')\n",
    "plt.ylabel('accuracy')\n",
    "plt.xlabel('epoch')\n",
    "plt.legend(loc='upper right')\n",
    "plt.savefig(\"CNN2_emotion_accuracy.jpg\", facecolor=fig.get_facecolor(), transparent=True)\n",
    "plt.show()"
   ]
  },
  {
   "cell_type": "code",
   "execution_count": 54,
   "metadata": {},
   "outputs": [
    {
     "data": {
      "image/png": "[encoded data removed]",
      "text/plain": [
       "<Figure size 504x504 with 1 Axes>"
      ]
     },
     "metadata": {
      "needs_background": "light"
     },
     "output_type": "display_data"
    }
   ],
   "source": [
    "model_history_acc = []\n",
    "model_history_val_acc = []\n",
    "\n",
    "model_history_acc += model_history_1.history['loss']\n",
    "model_history_acc += model_history_2.history['loss']\n",
    "model_history_acc += model_history_3.history['loss']\n",
    "model_history_acc += model_history_4.history['loss']\n",
    "\n",
    "model_history_val_acc += model_history_1.history['val_loss']\n",
    "model_history_val_acc += model_history_2.history['val_loss']\n",
    "model_history_val_acc += model_history_3.history['val_loss']\n",
    "model_history_val_acc += model_history_4.history['val_loss']\n",
    "\n",
    "fig = plt.figure(figsize=(7,7))\n",
    "plt.plot(model_history_acc, color=\"red\", label='train')\n",
    "plt.plot(model_history_val_acc, color=\"black\", label='test', linestyle=\"dashed\")\n",
    "plt.title('CNN loss')\n",
    "plt.ylabel('loss')\n",
    "plt.xlabel('epoch')\n",
    "plt.legend(loc='upper right')\n",
    "plt.savefig(\"CNN2_emotion_loss.jpg\", facecolor=fig.get_facecolor(), transparent=True)\n",
    "plt.show()"
   ]
  },
  {
   "cell_type": "code",
   "execution_count": 48,
   "metadata": {},
   "outputs": [],
   "source": [
    "def report(model, X, y, classes):\n",
    "    model_predictions = model.predict(X, batch_size=64).argmax(axis=1)\n",
    "    true_predictions = y.argmax(axis=1)\n",
    "    return classification_report(true_predictions, model_predictions, target_names=classes)"
   ]
  },
  {
   "cell_type": "code",
   "execution_count": 49,
   "metadata": {},
   "outputs": [
    {
     "name": "stdout",
     "output_type": "stream",
     "text": [
      "                 precision    recall  f1-score   support\n",
      "\n",
      "   female_angry       0.86      0.72      0.79        87\n",
      " female_disgust       0.87      0.65      0.75       104\n",
      "    female_fear       0.66      0.79      0.72        85\n",
      "   female_happy       0.78      0.72      0.75        92\n",
      " female_neutral       0.71      0.82      0.76        66\n",
      "     female_sad       0.68      0.87      0.76        77\n",
      "female_surprise       1.00      1.00      1.00        41\n",
      "     male_angry       0.89      0.44      0.59        78\n",
      "   male_disgust       0.56      0.56      0.56        61\n",
      "      male_fear       0.43      0.57      0.49        67\n",
      "     male_happy       0.57      0.33      0.42        69\n",
      "   male_neutral       0.61      0.61      0.61        64\n",
      "       male_sad       0.45      0.74      0.56        72\n",
      "  male_surprise       0.45      0.50      0.48        10\n",
      "\n",
      "       accuracy                           0.67       973\n",
      "      macro avg       0.68      0.67      0.66       973\n",
      "   weighted avg       0.70      0.67      0.67       973\n",
      "\n"
     ]
    }
   ],
   "source": [
    "print(report(cnn_model, X_test, Y_test, lb.classes_))"
   ]
  },
  {
   "cell_type": "code",
   "execution_count": 53,
   "metadata": {},
   "outputs": [],
   "source": [
    "cnn_model.save(os.path.join(os.getcwd(), 'CNN2_emotion.h5'), save_format=\"h5\")"
   ]
  },
  {
   "cell_type": "code",
   "execution_count": 86,
   "metadata": {},
   "outputs": [
    {
     "data": {
      "text/plain": [
       "8"
      ]
     },
     "execution_count": 86,
     "metadata": {},
     "output_type": "execute_result"
    }
   ],
   "source": [
    "len(model_history_1.history['val_loss'])"
   ]
  },
  {
   "cell_type": "code",
   "execution_count": 55,
   "metadata": {},
   "outputs": [
    {
     "name": "stdout",
     "output_type": "stream",
     "text": [
      "a kk\n",
      "b gg\n",
      "c hh\n"
     ]
    }
   ],
   "source": [
    "val_1 = ['a', 'b', 'c']\n",
    "val_2 = ['kk', 'gg', 'hh']\n",
    "\n",
    "for in1, in2 in zip(val_1, val_2):\n",
    "    print(in1, in2)"
   ]
  },
  {
   "cell_type": "code",
   "execution_count": null,
   "metadata": {},
   "outputs": [],
   "source": []
  }
 ],
 "metadata": {
  "colab": {
   "name": "conv2dModel.ipynb",
   "provenance": []
  },
  "kernelspec": {
   "display_name": "Python 3",
   "language": "python",
   "name": "python3"
  },
  "language_info": {
   "codemirror_mode": {
    "name": "ipython",
    "version": 3
   },
   "file_extension": ".py",
   "mimetype": "text/x-python",
   "name": "python",
   "nbconvert_exporter": "python",
   "pygments_lexer": "ipython3",
   "version": "3.7.10"
  }
 },
 "nbformat": 4,
 "nbformat_minor": 4
}
