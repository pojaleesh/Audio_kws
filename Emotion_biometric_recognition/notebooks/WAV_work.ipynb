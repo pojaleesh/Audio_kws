{
 "cells": [
  {
   "cell_type": "code",
   "execution_count": 2,
   "metadata": {},
   "outputs": [],
   "source": [
    "import telebot\n",
    "from scipy import signal\n",
    "from scipy.fft import fftshift\n",
    "import matplotlib.pyplot as plt\n",
    "import matplotlib.image as mpimg\n",
    "import numpy as np\n",
    "from scipy.io import wavfile\n",
    "import soundfile as sf\n",
    "import requests\n",
    "import urllib\n",
    "import wave\n",
    "import pymorphy2\n",
    "import subprocess\n",
    "import os\n",
    "import scipy.io"
   ]
  },
  {
   "cell_type": "code",
   "execution_count": 3,
   "metadata": {},
   "outputs": [],
   "source": [
    "def build():\n",
    "    \n",
    "    src_filename = '1.oga'\n",
    "    dest_filename = 'temp.ogg'\n",
    "\n",
    "    process = subprocess.call(['ffmpeg', '-i', src_filename, dest_filename], shell=True)\n",
    "    \n",
    "    src_filename = 'temp.ogg'\n",
    "    dest_filename = 'temp.wav'\n",
    "\n",
    "    process = subprocess.call(['ffmpeg', '-i', src_filename, dest_filename], shell=True)"
   ]
  },
  {
   "cell_type": "code",
   "execution_count": 4,
   "metadata": {},
   "outputs": [],
   "source": [
    "def delete():\n",
    "    \n",
    "    src_filename = 'temp.wav'\n",
    "    \n",
    "    process = subprocess.call(['del', src_filename], shell=True)\n",
    "    \n",
    "    src_filename = 'temp.ogg'\n",
    "    \n",
    "    process = subprocess.call(['del', src_filename], shell=True)"
   ]
  },
  {
   "cell_type": "code",
   "execution_count": 5,
   "metadata": {},
   "outputs": [],
   "source": [
    "def read():\n",
    "    \n",
    "    samplerate, data = wavfile.read('temp.wav')\n",
    "    \n",
    "    return (samplerate, data)"
   ]
  },
  {
   "cell_type": "code",
   "execution_count": 6,
   "metadata": {},
   "outputs": [],
   "source": [
    "def get_lentgh(samplerate, data):\n",
    "    \n",
    "    return len(data) / samplerate"
   ]
  },
  {
   "cell_type": "code",
   "execution_count": 7,
   "metadata": {},
   "outputs": [],
   "source": [
    "def get_average_amplitude(data):\n",
    "    \n",
    "    return np.average(np.abs(data))"
   ]
  },
  {
   "cell_type": "code",
   "execution_count": 8,
   "metadata": {},
   "outputs": [],
   "source": [
    "def plot_1(samplerate, data, length):\n",
    "    \n",
    "    time = np.linspace(0., length, len(data))\n",
    "    plt.plot(time, data, label=\"Left channel\")\n",
    "    plt.legend()\n",
    "    plt.xlabel(\"Time [s]\")\n",
    "    plt.ylabel(\"Amplitude\")\n",
    "    plt.savefig('plot1.png', dpi=300, bbox_inches='tight')\n",
    "    plt.clf()"
   ]
  },
  {
   "cell_type": "code",
   "execution_count": 9,
   "metadata": {},
   "outputs": [],
   "source": [
    "def plot_2(samplerate, data):\n",
    "    \n",
    "    spec = plt.specgram(data, NFFT=int(samplerate*0.005), Fs=samplerate, cmap=None, pad_to=256, noverlap=int(samplerate*0.0025))\n",
    "    \n",
    "    plt.xlabel(\"Time [s]\")\n",
    "    plt.ylabel(\"Frequency\")\n",
    "    plt.savefig('plot2.png', dpi=300, bbox_inches='tight')\n",
    "    plt.clf()"
   ]
  },
  {
   "cell_type": "code",
   "execution_count": 10,
   "metadata": {},
   "outputs": [],
   "source": [
    "def solve():\n",
    "    build()\n",
    "    samplerate, data = read()\n",
    "    length = get_lentgh(samplerate, data)\n",
    "    average_amplitude = get_average_amplitude(data)\n",
    "    plot_1(samplerate, data, length)\n",
    "    plot_2(samplerate, data)\n",
    "    return average_amplitude"
   ]
  }
 ],
 "metadata": {
  "kernelspec": {
   "display_name": "Python 3",
   "language": "python",
   "name": "python3"
  },
  "language_info": {
   "codemirror_mode": {
    "name": "ipython",
    "version": 3
   },
   "file_extension": ".py",
   "mimetype": "text/x-python",
   "name": "python",
   "nbconvert_exporter": "python",
   "pygments_lexer": "ipython3",
   "version": "3.7.3"
  }
 },
 "nbformat": 4,
 "nbformat_minor": 4
}
